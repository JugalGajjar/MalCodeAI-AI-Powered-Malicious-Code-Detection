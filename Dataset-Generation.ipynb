{
 "cells": [
  {
   "cell_type": "code",
   "execution_count": 1,
   "metadata": {},
   "outputs": [],
   "source": [
    "from transformers import AutoTokenizer, AutoModelForCausalLM\n",
    "import torch\n",
    "import json"
   ]
  },
  {
   "cell_type": "code",
   "execution_count": 2,
   "metadata": {},
   "outputs": [],
   "source": [
    "# Check if MPS is available\n",
    "device = \"mps\" if torch.backends.mps.is_available() else \"cpu\"\n",
    "\n",
    "# Check if CUDA is available\n",
    "# device = \"cuda\" if torch.cuda.is_available() else \"cpu\""
   ]
  },
  {
   "cell_type": "code",
   "execution_count": 3,
   "metadata": {},
   "outputs": [
    {
     "name": "stdout",
     "output_type": "stream",
     "text": [
      "Running on: mps\n"
     ]
    }
   ],
   "source": [
    "tokenizer = AutoTokenizer.from_pretrained(\"deepseek-ai/deepseek-coder-1.3b-instruct\", trust_remote_code=True)\n",
    "model = AutoModelForCausalLM.from_pretrained(\n",
    "    \"deepseek-ai/deepseek-coder-1.3b-instruct\",\n",
    "    trust_remote_code=True,\n",
    "    torch_dtype=torch.float16  # MPS prefers float16 instead of bfloat16\n",
    ").to(device)\n",
    "\n",
    "# If you are using CUDA, you can use bfloat16 instead of float16\n",
    "# model = AutoModelForCausalLM.from_pretrained(\n",
    "#     \"deepseek-ai/deepseek-coder-1.3b-instruct\",\n",
    "#     trust_remote_code=True,\n",
    "#     torch_dtype=torch.bfloat16\n",
    "# ).to(device)\n",
    "\n",
    "print(\"Running on:\", device)"
   ]
  },
  {
   "cell_type": "code",
   "execution_count": 4,
   "metadata": {},
   "outputs": [],
   "source": [
    "def generate_output(messages):\n",
    "    inputs = tokenizer.apply_chat_template(messages, add_generation_prompt=True, return_tensors=\"pt\").to(model.device)\n",
    "    # tokenizer.eos_token_id is the id of <|EOT|> token\n",
    "    outputs = model.generate(inputs, max_new_tokens=2048, do_sample=False, top_k=50, top_p=0.95, num_return_sequences=1, eos_token_id=tokenizer.eos_token_id)\n",
    "    description = tokenizer.decode(outputs[0][len(inputs[0]):], skip_special_tokens=True)\n",
    "    return description"
   ]
  },
  {
   "cell_type": "code",
   "execution_count": 5,
   "metadata": {},
   "outputs": [],
   "source": [
    "def string_to_json(input_string):\n",
    "    try:\n",
    "        data = json.loads(input_string)\n",
    "        return data, None  # Return parsed data and no error\n",
    "    except json.JSONDecodeError as e:\n",
    "        return None, str(e) # Return None and the error message"
   ]
  },
  {
   "cell_type": "code",
   "execution_count": 18,
   "metadata": {},
   "outputs": [],
   "source": [
    "def dictionary_to_json(data_dict, filepath, indent=4):\n",
    "    try:\n",
    "        with open(filepath, 'r') as f:\n",
    "            try:\n",
    "                existing_data = json.load(f)\n",
    "                if isinstance(existing_data, list):\n",
    "                    existing_data.append(data_dict)\n",
    "                else:\n",
    "                    existing_data = [existing_data, data_dict] # if the first insertion was not a list, turn it into a list.\n",
    "            except json.JSONDecodeError:\n",
    "                existing_data = [data_dict] # handles empty file\n",
    "    except FileNotFoundError:\n",
    "        existing_data = [data_dict]  # File doesn't exist, create it\n",
    "\n",
    "    with open(filepath, 'w') as f:\n",
    "        json.dump(existing_data, f, indent=4) # indent makes the json file human readable"
   ]
  },
  {
   "cell_type": "code",
   "execution_count": 7,
   "metadata": {},
   "outputs": [],
   "source": [
    "def read_code_from_file(file_path):\n",
    "    with open(file_path, \"r\", encoding=\"utf-8\") as file:\n",
    "        return file.read()"
   ]
  },
  {
   "cell_type": "code",
   "execution_count": 8,
   "metadata": {},
   "outputs": [],
   "source": [
    "file_path = \"Code-Files/FactorialRecursive.java\"\n",
    "code_snippet = read_code_from_file(file_path)"
   ]
  },
  {
   "cell_type": "code",
   "execution_count": 9,
   "metadata": {},
   "outputs": [],
   "source": [
    "prompt = \"\"\"\n",
    "You are an expert code analyst. Your task is to dissect a given code snippet and provide a structured JSON response detailing its components and overall functionality. You must strictly adhere to the following JSON format:\n",
    "{\n",
    "  \"output\": {\n",
    "    \"components\": [\n",
    "      {\n",
    "        \"component_type\": \"<TYPE_OF_CODE_COMPONENT (e.g., CLASS, FUNCTION, GLOBAL_CODE)>\",\n",
    "        \"component_name\": \"<NAME_OF_COMPONENT>\",\n",
    "        \"component_code\": \"<THE_ACTUAL_CODE_OF_THE_COMPONENT>\",\n",
    "        \"component_description\": \"<DETAILED_DESCRIPTION_OF_COMPONENT_FUNCTIONALITY>\"\n",
    "      },\n",
    "      { /* ... more components ... */ }\n",
    "    ],\n",
    "    \"overall_description\": \"<SUMMARY_OF_THE_ENTIRE_CODE_FUNCTIONALITY>\"\n",
    "  }\n",
    "}\n",
    "\n",
    "**Instructions:**\n",
    "1.  **Strict JSON Output:** Your entire response must be a valid JSON object. No extraneous text or explanations outside the JSON structure are allowed.\n",
    "2.  **Component Types:** Accurately identify the type of each component (e.g., CLASS, FUNCTION, GLOBAL_CODE, etc.).\n",
    "3.  **Component Names:** Provide the correct name of each component (e.g., class name, function name, etc.).\n",
    "4.  **Component Code:** provide the actual code of the component.\n",
    "5.  **Component Descriptions:** For each component, provide a detailed description of its purpose and functionality.\n",
    "6.  **Overall Description:** Provide a summary of the entire code snippet, explaining its overall purpose and how the components work together.\n",
    "\n",
    "**Example:**\n",
    "{\n",
    "  \"output\": {\n",
    "    \"components\": [\n",
    "      {\n",
    "        \"component_type\": \"CLASS\",\n",
    "        \"component_name\": \"Person\",\n",
    "        \"component_code\": \"class Person:\\n    def __init__(self, name, age):\\n        self.name = name\\n        self.age = age\\n\\n    def greet(self):\\n        print(f'Hello, my name is {self.name} and I am {self.age} years old.)\",\n",
    "        \"component_description\": \"Defines the Person class with attributes for name and age and a method for greeting.\"\n",
    "      },\n",
    "      {\n",
    "        \"component_type\": \"FUNCTION\",\n",
    "        \"component_name\": \"__init__\",\n",
    "        \"component_code\": \"def __init__(self, name, age):\\n        self.name = name\\n        self.age = age\",\n",
    "        \"component_description\": \"Constructor to initialize a Person object with name and age.\"\n",
    "      },\n",
    "      {\n",
    "        \"component_type\": \"FUNCTION\",\n",
    "        \"component_name\": \"greet\",\n",
    "        \"component_code\": \"def greet(self):\\n        print(f'Hello, my name is {self.name} and I am {self.age} years old.')\",\n",
    "        \"component_description\": \"Greets the user with the name and age stored in the Person object.\"\n",
    "      },\n",
    "      {\n",
    "        \"component_type\": \"GLOBAL_CODE\",\n",
    "        \"component_name\": \"__main__ block\",\n",
    "        \"component_code\": \"if __name__ == '__main__':\\n    p = Person('John', 30)\\n    p.greet()\",\n",
    "        \"component_description\": \"Creates a Person object and calls the greet method to display the greeting.\"\n",
    "      }\n",
    "    ],\n",
    "    \"overall_description\": \"This Python code defines a class called Person with methods for initializing the object and greeting the user. It demonstrates object-oriented programming by creating a Person object and calling its methods.\"\n",
    "  }\n",
    "}\n",
    "\n",
    "Now analyze the following code snippet and provide the JSON response:\\n\n",
    "\"\"\""
   ]
  },
  {
   "cell_type": "code",
   "execution_count": 10,
   "metadata": {},
   "outputs": [],
   "source": [
    "messages=[\n",
    "    { 'role': 'user', 'content': prompt+code_snippet}\n",
    "]"
   ]
  },
  {
   "cell_type": "code",
   "execution_count": 11,
   "metadata": {},
   "outputs": [
    {
     "name": "stderr",
     "output_type": "stream",
     "text": [
      "/opt/miniconda3/envs/malcodeai/lib/python3.11/site-packages/transformers/generation/configuration_utils.py:634: UserWarning: `do_sample` is set to `False`. However, `top_p` is set to `0.95` -- this flag is only used in sample-based generation modes. You should set `do_sample=True` or unset `top_p`.\n",
      "  warnings.warn(\n",
      "The attention mask and the pad token id were not set. As a consequence, you may observe unexpected behavior. Please pass your input's `attention_mask` to obtain reliable results.\n",
      "Setting `pad_token_id` to `eos_token_id`:32021 for open-end generation.\n",
      "The attention mask is not set and cannot be inferred from input because pad token is same as eos token. As a consequence, you may observe unexpected behavior. Please pass your input's `attention_mask` to obtain reliable results.\n"
     ]
    }
   ],
   "source": [
    "output = generate_output(messages)"
   ]
  },
  {
   "cell_type": "code",
   "execution_count": 12,
   "metadata": {},
   "outputs": [
    {
     "name": "stdout",
     "output_type": "stream",
     "text": [
      "{\n",
      "  \"output\": {\n",
      "    \"components\": [\n",
      "      {\n",
      "        \"component_type\": \"CLASS\",\n",
      "        \"component_name\": \"FactorialRecursive\",\n",
      "        \"component_code\": \"public class FactorialRecursive {\\n\\n    public static int factorial(int n) {\\n        // Base case: factorial of 0 is 1\\n        if (n == 0) {\\n            return 1;\\n        } else {\\n            // Recursive step: n! = n * (n-1)!\\n            return n * factorial(n - 1);\\n        }\\n    }\\n\\n    public static void main(String[] args) {\\n        int num = 5;  // Example: Calculate factorial of 5\\n        int result = factorial(num);\\n        System.out.println(\\\"Factorial of \\\" + num + \\\" is: \\\" + result);\\n\\n        //Demonstrating potential issues with large numbers\\n        num = 20;\\n        result = factorial(num);\\n        System.out.println(\\\"Factorial of \\\" + num + \\\" is: \\\" + result);\\n\\n        num = 25; //Factorial of 25 is a very large number that will exceed int's maximum.\\n        result = factorial(num);\\n        System.out.println(\\\"Factorial of \\\" + num + \\\" is: \\\" + result); //Observe the negative result.  This is overflow.\\n\\n        //Handling potential overflow with BigInteger (for very large numbers) \\n        java.math.BigInteger bigNum = java.math.BigInteger.valueOf(25);\\n        java.math.BigInteger bigResult = factorialBig(bigNum);\\n        System.out.println(\\\"Factorial of \\\" + bigNum + \\\" is: \\\" + bigResult);\\n    }\\n\\n    //Factorial using BigInteger to handle larger numbers and avoid overflow.\\n    public static java.math.BigInteger factorialBig(java.math.BigInteger n) {\\n        java.math.BigInteger one = java.math.BigInteger.ONE;\\n        if (n.equals(java.math.BigInteger.ZERO)) {\\n            return one;\\n        } else {\\n            return n.multiply(factorialBig(n.subtract(one)));\\n        }\\n    }\\n}\",\n",
      "        \"component_description\": \"Defines the FactorialRecursive class with a recursive method for calculating factorials.\"\n",
      "      },\n",
      "      {\n",
      "        \"component_type\": \"FUNCTION\",\n",
      "        \"component_name\": \"factorial\",\n",
      "        \"component_code\": \"public static int factorial(int n) {\\n        // Base case: factorial of 0 is 1\\n        if (n == 0) {\\n            return 1;\\n        } else {\\n            // Recursive step: n! = n * (n-1)!\\n            return n * factorial(n - 1);\\n        }\\n    }\",\n",
      "        \"component_description\": \"Recursively calculates the factorial of a number.\"\n",
      "      },\n",
      "      {\n",
      "        \"component_type\": \"FUNCTION\",\n",
      "        \"component_name\": \"main\",\n",
      "        \"component_code\": \"public static void main(String[] args) {\\n        int num = 5;  // Example: Calculate factorial of 5\\n        int result = factorial(num);\\n        System.out.println(\\\"Factorial of \\\" + num + \\\" is: \\\" + result);\\n\\n        //Demonstrating potential issues with large numbers\\n        num = 20;\\n        result = factorial(num);\\n        System.out.println(\\\"Factorial of \\\" + num + \\\" is: \\\" + result);\\n\\n        num = 25; //Factorial of 25 is a very large number that will exceed int's maximum.\\n        result = factorial(num);\\n        System.out.println(\\\"Factorial of \\\" + num + \\\" is: \\\" + result); //Observe the negative result.  This is overflow.\\n\\n        //Handling potential overflow with BigInteger (for very large numbers) \\n        java.math.BigInteger bigNum = java.math.BigInteger.valueOf(25);\\n        java.math.BigInteger bigResult = factorialBig(bigNum);\\n        System.out.println(\\\"Factorial of \\\" + bigNum + \\\" is: \\\" + bigResult);\\n    }\\n\",\n",
      "        \"component_description\": \"The main function of the program. It demonstrates the use of the factorial function and handles potential issues with large numbers.\"\n",
      "      },\n",
      "      {\n",
      "        \"component_type\": \"FUNCTION\",\n",
      "        \"component_name\": \"factorialBig\",\n",
      "        \"component_code\": \"public static java.math.BigInteger factorialBig(java.math.BigInteger n) {\\n        java.math.BigInteger one = java.math.BigInteger.ONE;\\n        if (n.equals(java.math.BigInteger.ZERO)) {\\n            return one;\\n        } else {\\n            return n.multiply(factorialBig(n.subtract(one)));\\n        }\\n    }\",\n",
      "        \"component_description\": \"Calculates the factorial of a BigInteger without overflowing.\"\n",
      "      }\n",
      "    ],\n",
      "    \"overall_description\": \"This Java code defines a class called FactorialRecursive with a recursive method for calculating factorials. It also demonstrates the use of BigInteger to handle very large numbers and avoid overflow. The main function demonstrates the use of the factorial function and handles potential issues with large numbers.\"\n",
      "  }\n",
      "}\n",
      "\n"
     ]
    }
   ],
   "source": [
    "print(output)"
   ]
  },
  {
   "cell_type": "code",
   "execution_count": 13,
   "metadata": {},
   "outputs": [
    {
     "name": "stdout",
     "output_type": "stream",
     "text": [
      "Valid JSON:\n",
      "{'output': {'components': [{'component_type': 'CLASS', 'component_name': 'FactorialRecursive', 'component_code': 'public class FactorialRecursive {\\n\\n    public static int factorial(int n) {\\n        // Base case: factorial of 0 is 1\\n        if (n == 0) {\\n            return 1;\\n        } else {\\n            // Recursive step: n! = n * (n-1)!\\n            return n * factorial(n - 1);\\n        }\\n    }\\n\\n    public static void main(String[] args) {\\n        int num = 5;  // Example: Calculate factorial of 5\\n        int result = factorial(num);\\n        System.out.println(\"Factorial of \" + num + \" is: \" + result);\\n\\n        //Demonstrating potential issues with large numbers\\n        num = 20;\\n        result = factorial(num);\\n        System.out.println(\"Factorial of \" + num + \" is: \" + result);\\n\\n        num = 25; //Factorial of 25 is a very large number that will exceed int\\'s maximum.\\n        result = factorial(num);\\n        System.out.println(\"Factorial of \" + num + \" is: \" + result); //Observe the negative result.  This is overflow.\\n\\n        //Handling potential overflow with BigInteger (for very large numbers) \\n        java.math.BigInteger bigNum = java.math.BigInteger.valueOf(25);\\n        java.math.BigInteger bigResult = factorialBig(bigNum);\\n        System.out.println(\"Factorial of \" + bigNum + \" is: \" + bigResult);\\n    }\\n\\n    //Factorial using BigInteger to handle larger numbers and avoid overflow.\\n    public static java.math.BigInteger factorialBig(java.math.BigInteger n) {\\n        java.math.BigInteger one = java.math.BigInteger.ONE;\\n        if (n.equals(java.math.BigInteger.ZERO)) {\\n            return one;\\n        } else {\\n            return n.multiply(factorialBig(n.subtract(one)));\\n        }\\n    }\\n}', 'component_description': 'Defines the FactorialRecursive class with a recursive method for calculating factorials.'}, {'component_type': 'FUNCTION', 'component_name': 'factorial', 'component_code': 'public static int factorial(int n) {\\n        // Base case: factorial of 0 is 1\\n        if (n == 0) {\\n            return 1;\\n        } else {\\n            // Recursive step: n! = n * (n-1)!\\n            return n * factorial(n - 1);\\n        }\\n    }', 'component_description': 'Recursively calculates the factorial of a number.'}, {'component_type': 'FUNCTION', 'component_name': 'main', 'component_code': 'public static void main(String[] args) {\\n        int num = 5;  // Example: Calculate factorial of 5\\n        int result = factorial(num);\\n        System.out.println(\"Factorial of \" + num + \" is: \" + result);\\n\\n        //Demonstrating potential issues with large numbers\\n        num = 20;\\n        result = factorial(num);\\n        System.out.println(\"Factorial of \" + num + \" is: \" + result);\\n\\n        num = 25; //Factorial of 25 is a very large number that will exceed int\\'s maximum.\\n        result = factorial(num);\\n        System.out.println(\"Factorial of \" + num + \" is: \" + result); //Observe the negative result.  This is overflow.\\n\\n        //Handling potential overflow with BigInteger (for very large numbers) \\n        java.math.BigInteger bigNum = java.math.BigInteger.valueOf(25);\\n        java.math.BigInteger bigResult = factorialBig(bigNum);\\n        System.out.println(\"Factorial of \" + bigNum + \" is: \" + bigResult);\\n    }\\n', 'component_description': 'The main function of the program. It demonstrates the use of the factorial function and handles potential issues with large numbers.'}, {'component_type': 'FUNCTION', 'component_name': 'factorialBig', 'component_code': 'public static java.math.BigInteger factorialBig(java.math.BigInteger n) {\\n        java.math.BigInteger one = java.math.BigInteger.ONE;\\n        if (n.equals(java.math.BigInteger.ZERO)) {\\n            return one;\\n        } else {\\n            return n.multiply(factorialBig(n.subtract(one)));\\n        }\\n    }', 'component_description': 'Calculates the factorial of a BigInteger without overflowing.'}], 'overall_description': 'This Java code defines a class called FactorialRecursive with a recursive method for calculating factorials. It also demonstrates the use of BigInteger to handle very large numbers and avoid overflow. The main function demonstrates the use of the factorial function and handles potential issues with large numbers.'}}\n"
     ]
    }
   ],
   "source": [
    "parsed_data, error = string_to_json(output)\n",
    "\n",
    "if parsed_data:\n",
    "    print(\"Valid JSON:\")\n",
    "    print(parsed_data)\n",
    "else:\n",
    "    print(\"Invalid JSON:\", error)"
   ]
  },
  {
   "cell_type": "code",
   "execution_count": 14,
   "metadata": {},
   "outputs": [],
   "source": [
    "parsed_data['input'] = code_snippet"
   ]
  },
  {
   "cell_type": "code",
   "execution_count": 16,
   "metadata": {},
   "outputs": [
    {
     "data": {
      "text/plain": [
       "dict_keys(['output', 'input'])"
      ]
     },
     "execution_count": 16,
     "metadata": {},
     "output_type": "execute_result"
    }
   ],
   "source": [
    "parsed_data.keys()"
   ]
  },
  {
   "cell_type": "code",
   "execution_count": 20,
   "metadata": {},
   "outputs": [],
   "source": [
    "sorted_keys = sorted(parsed_data.keys())\n",
    "final_data = {key: parsed_data[key] for key in sorted_keys}"
   ]
  },
  {
   "cell_type": "code",
   "execution_count": 21,
   "metadata": {},
   "outputs": [],
   "source": [
    "dictionary_to_json(final_data, \"Sample-JSON.json\", indent=4)"
   ]
  },
  {
   "cell_type": "code",
   "execution_count": null,
   "metadata": {},
   "outputs": [],
   "source": []
  }
 ],
 "metadata": {
  "kernelspec": {
   "display_name": "malcodeai",
   "language": "python",
   "name": "python3"
  },
  "language_info": {
   "codemirror_mode": {
    "name": "ipython",
    "version": 3
   },
   "file_extension": ".py",
   "mimetype": "text/x-python",
   "name": "python",
   "nbconvert_exporter": "python",
   "pygments_lexer": "ipython3",
   "version": "3.11.11"
  }
 },
 "nbformat": 4,
 "nbformat_minor": 2
}
