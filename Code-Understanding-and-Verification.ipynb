{
 "cells": [
  {
   "cell_type": "code",
   "execution_count": 1,
   "metadata": {},
   "outputs": [],
   "source": [
    "from transformers import AutoTokenizer, AutoModelForCausalLM\n",
    "import torch"
   ]
  },
  {
   "cell_type": "code",
   "execution_count": 2,
   "metadata": {},
   "outputs": [],
   "source": [
    "# Check if MPS is available\n",
    "device = \"mps\" if torch.backends.mps.is_available() else \"cpu\"\n",
    "\n",
    "# Check if CUDA is available\n",
    "# device = \"cuda\" if torch.cuda.is_available() else \"cpu\""
   ]
  },
  {
   "cell_type": "code",
   "execution_count": 3,
   "metadata": {},
   "outputs": [
    {
     "name": "stdout",
     "output_type": "stream",
     "text": [
      "Running on: mps\n"
     ]
    }
   ],
   "source": [
    "tokenizer = AutoTokenizer.from_pretrained(\"deepseek-ai/deepseek-coder-1.3b-instruct\", trust_remote_code=True)\n",
    "model = AutoModelForCausalLM.from_pretrained(\n",
    "    \"deepseek-ai/deepseek-coder-1.3b-instruct\",\n",
    "    trust_remote_code=True,\n",
    "    torch_dtype=torch.float16  # MPS prefers float16 instead of bfloat16\n",
    ").to(device)\n",
    "\n",
    "# If you are using CUDA, you can use bfloat16 instead of float16\n",
    "# model = AutoModelForCausalLM.from_pretrained(\n",
    "#     \"deepseek-ai/deepseek-coder-1.3b-instruct\",\n",
    "#     trust_remote_code=True,\n",
    "#     torch_dtype=torch.bfloat16\n",
    "# ).to(device)\n",
    "\n",
    "print(\"Running on:\", device)"
   ]
  },
  {
   "cell_type": "code",
   "execution_count": 4,
   "metadata": {},
   "outputs": [],
   "source": [
    "from sentence_transformers import SentenceTransformer, util"
   ]
  },
  {
   "cell_type": "code",
   "execution_count": 5,
   "metadata": {},
   "outputs": [],
   "source": [
    "# Load a sentence similarity model\n",
    "similarity_model = SentenceTransformer('sentence-transformers/gtr-t5-large')"
   ]
  },
  {
   "cell_type": "code",
   "execution_count": 6,
   "metadata": {},
   "outputs": [],
   "source": [
    "def generate_code_description(messages):\n",
    "    inputs = tokenizer.apply_chat_template(messages, add_generation_prompt=True, return_tensors=\"pt\").to(model.device)\n",
    "    # tokenizer.eos_token_id is the id of <|EOT|> token\n",
    "    outputs = model.generate(inputs, max_new_tokens=512, do_sample=False, top_k=50, top_p=0.95, num_return_sequences=1, eos_token_id=tokenizer.eos_token_id)\n",
    "    description = tokenizer.decode(outputs[0][len(inputs[0]):], skip_special_tokens=True)\n",
    "    return description"
   ]
  },
  {
   "cell_type": "code",
   "execution_count": 7,
   "metadata": {},
   "outputs": [],
   "source": [
    "def compare_descriptions(generated_desc, user_desc):\n",
    "    embeddings = similarity_model.encode([generated_desc, user_desc], convert_to_tensor=True)\n",
    "    similarity_score = util.pytorch_cos_sim(embeddings[0], embeddings[1]).item()\n",
    "    return similarity_score"
   ]
  },
  {
   "cell_type": "code",
   "execution_count": 8,
   "metadata": {},
   "outputs": [],
   "source": [
    "def initial_code_verification(messages, user_description, threshold=0.8):\n",
    "    generated_description = generate_code_description(messages)\n",
    "    similarity_score = compare_descriptions(generated_description, user_description)\n",
    "\n",
    "    result = {\n",
    "        \"generated_description\": generated_description,\n",
    "        \"similarity_score\": similarity_score,\n",
    "        \"matches_expectation\": similarity_score >= threshold\n",
    "    }\n",
    "\n",
    "    return result"
   ]
  },
  {
   "cell_type": "code",
   "execution_count": 9,
   "metadata": {},
   "outputs": [],
   "source": [
    "def read_code_from_file(file_path):\n",
    "    with open(file_path, \"r\", encoding=\"utf-8\") as file:\n",
    "        return file.read()"
   ]
  },
  {
   "cell_type": "markdown",
   "metadata": {},
   "source": [
    "#### Checking for Python Code"
   ]
  },
  {
   "cell_type": "code",
   "execution_count": 10,
   "metadata": {},
   "outputs": [],
   "source": [
    "prefix = \"Write a short summary for the following code: \"\n",
    "\n",
    "file_path = \"Code-Files/factorial.py\"\n",
    "code_snippet = read_code_from_file(file_path)"
   ]
  },
  {
   "cell_type": "code",
   "execution_count": 11,
   "metadata": {},
   "outputs": [],
   "source": [
    "messages=[\n",
    "    { 'role': 'user', 'content': prefix+code_snippet}\n",
    "]"
   ]
  },
  {
   "cell_type": "code",
   "execution_count": 12,
   "metadata": {},
   "outputs": [],
   "source": [
    "user_description = \"This function calculates the factorial of a given number recursively.\""
   ]
  },
  {
   "cell_type": "code",
   "execution_count": 13,
   "metadata": {},
   "outputs": [
    {
     "name": "stderr",
     "output_type": "stream",
     "text": [
      "/opt/miniconda3/envs/malcodeai/lib/python3.11/site-packages/transformers/generation/configuration_utils.py:634: UserWarning: `do_sample` is set to `False`. However, `top_p` is set to `0.95` -- this flag is only used in sample-based generation modes. You should set `do_sample=True` or unset `top_p`.\n",
      "  warnings.warn(\n",
      "The attention mask and the pad token id were not set. As a consequence, you may observe unexpected behavior. Please pass your input's `attention_mask` to obtain reliable results.\n",
      "Setting `pad_token_id` to `eos_token_id`:32021 for open-end generation.\n",
      "The attention mask is not set and cannot be inferred from input because pad token is same as eos token. As a consequence, you may observe unexpected behavior. Please pass your input's `attention_mask` to obtain reliable results.\n"
     ]
    }
   ],
   "source": [
    "result = initial_code_verification(messages, user_description)"
   ]
  },
  {
   "cell_type": "code",
   "execution_count": 14,
   "metadata": {},
   "outputs": [
    {
     "name": "stdout",
     "output_type": "stream",
     "text": [
      "User Description: This function calculates the factorial of a given number recursively.\n"
     ]
    }
   ],
   "source": [
    "print(\"User Description:\", user_description)"
   ]
  },
  {
   "cell_type": "code",
   "execution_count": 15,
   "metadata": {},
   "outputs": [
    {
     "name": "stdout",
     "output_type": "stream",
     "text": [
      "Generated Description: This Python function calculates the factorial of a given number `n`. The factorial of a number is the product of all positive integers less than or equal to that number. For example, the factorial of 5 is 5*4*3*2*1 = 120.\n",
      "\n",
      "The function uses recursion to calculate the factorial. It starts by checking if `n` is 0, in which case it returns 1 (since the factorial of 0 is 1). If `n` is not 0, the function calls itself with `n-1` and multiplies the result by `n`. This continues until `n` is 0, at which point it returns 1. The result is the factorial of the original number.\n",
      "\n"
     ]
    }
   ],
   "source": [
    "print(\"Generated Description:\", result[\"generated_description\"])"
   ]
  },
  {
   "cell_type": "code",
   "execution_count": 16,
   "metadata": {},
   "outputs": [
    {
     "name": "stdout",
     "output_type": "stream",
     "text": [
      "Similarity Score: 0.8649032115936279\n"
     ]
    }
   ],
   "source": [
    "print(\"Similarity Score:\", result[\"similarity_score\"])"
   ]
  },
  {
   "cell_type": "code",
   "execution_count": 17,
   "metadata": {},
   "outputs": [
    {
     "name": "stdout",
     "output_type": "stream",
     "text": [
      "Matches Expectation: True\n"
     ]
    }
   ],
   "source": [
    "print(\"Matches Expectation:\", result[\"matches_expectation\"])"
   ]
  },
  {
   "cell_type": "markdown",
   "metadata": {},
   "source": [
    "#### Checking for Java Code"
   ]
  },
  {
   "cell_type": "code",
   "execution_count": null,
   "metadata": {},
   "outputs": [],
   "source": [
    "prefix = \"Write a short summary for the following code: \"\n",
    "\n",
    "file_path = \"Code-Files/FactorialRecursive.java\"\n",
    "code_snippet = read_code_from_file(file_path)"
   ]
  },
  {
   "cell_type": "code",
   "execution_count": 19,
   "metadata": {},
   "outputs": [],
   "source": [
    "messages=[\n",
    "    { 'role': 'user', 'content': prefix+code_snippet}\n",
    "]"
   ]
  },
  {
   "cell_type": "code",
   "execution_count": 20,
   "metadata": {},
   "outputs": [],
   "source": [
    "user_description = \"The FactorialRecursive class calculates factorials of non-negative integers, demonstrating both int (prone to overflow) and BigInteger (handles large numbers) recursive approaches.  factorial(int n) calculates factorials for smaller integers, while factorialBig(BigInteger n) uses BigInteger to prevent overflow for larger numbers. The main method showcases both, highlighting the overflow issue with int and the correct results with BigInteger.\""
   ]
  },
  {
   "cell_type": "code",
   "execution_count": 21,
   "metadata": {},
   "outputs": [
    {
     "name": "stderr",
     "output_type": "stream",
     "text": [
      "The attention mask and the pad token id were not set. As a consequence, you may observe unexpected behavior. Please pass your input's `attention_mask` to obtain reliable results.\n",
      "Setting `pad_token_id` to `eos_token_id`:32021 for open-end generation.\n"
     ]
    }
   ],
   "source": [
    "result = initial_code_verification(messages, user_description)"
   ]
  },
  {
   "cell_type": "code",
   "execution_count": 22,
   "metadata": {},
   "outputs": [
    {
     "name": "stdout",
     "output_type": "stream",
     "text": [
      "User Description: The FactorialRecursive class calculates factorials of non-negative integers, demonstrating both int (prone to overflow) and BigInteger (handles large numbers) recursive approaches.  factorial(int n) calculates factorials for smaller integers, while factorialBig(BigInteger n) uses BigInteger to prevent overflow for larger numbers. The main method showcases both, highlighting the overflow issue with int and the correct results with BigInteger.\n"
     ]
    }
   ],
   "source": [
    "print(\"User Description:\", user_description)"
   ]
  },
  {
   "cell_type": "code",
   "execution_count": 23,
   "metadata": {},
   "outputs": [
    {
     "name": "stdout",
     "output_type": "stream",
     "text": [
      "Generated Description: This code is a simple implementation of a recursive function to calculate the factorial of a number. The factorial of a number is the product of all positive integers less than or equal to that number. For example, the factorial of 5 (5!) is 5*4*3*2*1 = 120.\n",
      "\n",
      "The `factorial` method is a recursive function that calculates the factorial of a given number. It uses a base case to handle the case where the number is 0, in which case it returns 1. For all other numbers, it recursively calls itself with the number decremented by 1 and multiplies the result with the current number.\n",
      "\n",
      "The `main` method demonstrates the use of the `factorial` method with different inputs to illustrate its functionality. It also demonstrates how the method can handle large numbers and potential overflow issues.\n",
      "\n",
      "The `factorialBig` method is a more advanced version of the `factorial` method that uses the `BigInteger` class to handle larger numbers and avoid overflow. It uses the same recursive approach as the `factorial` method, but it uses the `multiply` and `subtract` methods of the `BigInteger` class to perform the multiplication and subtraction operations.\n",
      "\n"
     ]
    }
   ],
   "source": [
    "print(\"Generated Description:\", result[\"generated_description\"])"
   ]
  },
  {
   "cell_type": "code",
   "execution_count": 24,
   "metadata": {},
   "outputs": [
    {
     "name": "stdout",
     "output_type": "stream",
     "text": [
      "Similarity Score: 0.9296317100524902\n"
     ]
    }
   ],
   "source": [
    "print(\"Similarity Score:\", result[\"similarity_score\"])"
   ]
  },
  {
   "cell_type": "code",
   "execution_count": 25,
   "metadata": {},
   "outputs": [
    {
     "name": "stdout",
     "output_type": "stream",
     "text": [
      "Matches Expectation: True\n"
     ]
    }
   ],
   "source": [
    "print(\"Matches Expectation:\", result[\"matches_expectation\"])"
   ]
  },
  {
   "cell_type": "markdown",
   "metadata": {},
   "source": [
    "#### After checking with both Python and Java, we can notice that the model works well to generate descriptions of files having code in various problems."
   ]
  },
  {
   "cell_type": "markdown",
   "metadata": {},
   "source": [
    "#### DeepSeek Coder: Pretrained on 2 Trillion tokens over more than 80 programming languages."
   ]
  },
  {
   "cell_type": "code",
   "execution_count": 26,
   "metadata": {},
   "outputs": [],
   "source": [
    "wrong_user_description = \"The BinarySearch class implements a binary search algorithm to efficiently find a target value within a sorted array of integers. The binarySearch(int[] arr, int target) method takes the sorted array and the target value as input, returning the index of the target if found, and -1 otherwise. It repeatedly divides the search interval in half, eliminating the portion that cannot contain the target.\""
   ]
  },
  {
   "cell_type": "code",
   "execution_count": 27,
   "metadata": {},
   "outputs": [
    {
     "name": "stderr",
     "output_type": "stream",
     "text": [
      "The attention mask and the pad token id were not set. As a consequence, you may observe unexpected behavior. Please pass your input's `attention_mask` to obtain reliable results.\n",
      "Setting `pad_token_id` to `eos_token_id`:32021 for open-end generation.\n"
     ]
    }
   ],
   "source": [
    "result = initial_code_verification(messages, wrong_user_description)"
   ]
  },
  {
   "cell_type": "code",
   "execution_count": 28,
   "metadata": {},
   "outputs": [
    {
     "name": "stdout",
     "output_type": "stream",
     "text": [
      "User Description: The BinarySearch class implements a binary search algorithm to efficiently find a target value within a sorted array of integers. The binarySearch(int[] arr, int target) method takes the sorted array and the target value as input, returning the index of the target if found, and -1 otherwise. It repeatedly divides the search interval in half, eliminating the portion that cannot contain the target.\n"
     ]
    }
   ],
   "source": [
    "print(\"User Description:\", wrong_user_description)"
   ]
  },
  {
   "cell_type": "code",
   "execution_count": 29,
   "metadata": {},
   "outputs": [
    {
     "name": "stdout",
     "output_type": "stream",
     "text": [
      "Generated Description: This code is a simple implementation of a recursive function to calculate the factorial of a number. The factorial of a number is the product of all positive integers less than or equal to that number. For example, the factorial of 5 (5!) is 5*4*3*2*1 = 120.\n",
      "\n",
      "The `factorial` method is a recursive function that calculates the factorial of a given number. It uses a base case to handle the case where the number is 0, in which case it returns 1. For all other numbers, it recursively calls itself with the number decremented by 1 and multiplies the result with the current number.\n",
      "\n",
      "The `main` method demonstrates the use of the `factorial` method with different inputs to illustrate its functionality. It also demonstrates how the method can handle large numbers and potential overflow issues.\n",
      "\n",
      "The `factorialBig` method is a more advanced version of the `factorial` method that uses the `BigInteger` class to handle larger numbers and avoid overflow. It uses the same recursive approach as the `factorial` method, but it uses the `multiply` and `subtract` methods of the `BigInteger` class to perform the multiplication and subtraction operations.\n",
      "\n"
     ]
    }
   ],
   "source": [
    "print(\"Generated Description:\", result[\"generated_description\"])"
   ]
  },
  {
   "cell_type": "code",
   "execution_count": 30,
   "metadata": {},
   "outputs": [
    {
     "name": "stdout",
     "output_type": "stream",
     "text": [
      "Similarity Score: 0.6844414472579956\n"
     ]
    }
   ],
   "source": [
    "print(\"Similarity Score:\", result[\"similarity_score\"])"
   ]
  },
  {
   "cell_type": "code",
   "execution_count": 31,
   "metadata": {},
   "outputs": [
    {
     "name": "stdout",
     "output_type": "stream",
     "text": [
      "Matches Expectation: False\n"
     ]
    }
   ],
   "source": [
    "print(\"Matches Expectation:\", result[\"matches_expectation\"])"
   ]
  }
 ],
 "metadata": {
  "kernelspec": {
   "display_name": "malcodeai",
   "language": "python",
   "name": "python3"
  },
  "language_info": {
   "codemirror_mode": {
    "name": "ipython",
    "version": 3
   },
   "file_extension": ".py",
   "mimetype": "text/x-python",
   "name": "python",
   "nbconvert_exporter": "python",
   "pygments_lexer": "ipython3",
   "version": "3.11.11"
  }
 },
 "nbformat": 4,
 "nbformat_minor": 2
}
