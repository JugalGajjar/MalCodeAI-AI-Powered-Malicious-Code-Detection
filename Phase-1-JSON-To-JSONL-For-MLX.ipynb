{
 "cells": [
  {
   "cell_type": "code",
   "execution_count": 1,
   "id": "a46f727b",
   "metadata": {},
   "outputs": [],
   "source": [
    "import json"
   ]
  },
  {
   "cell_type": "code",
   "execution_count": 2,
   "id": "d4059769",
   "metadata": {},
   "outputs": [],
   "source": [
    "input_file = \"Phase-1-Data/Final_aggregated_output.json\""
   ]
  },
  {
   "cell_type": "code",
   "execution_count": 3,
   "id": "74f28e35",
   "metadata": {},
   "outputs": [],
   "source": [
    "try:\n",
    "    with open(input_file, 'r') as f:\n",
    "        data = json.load(f)\n",
    "except FileNotFoundError:\n",
    "    print(f\"Error: Input file '{input_file}' not found.\")\n",
    "except json.JSONDecodeError:\n",
    "    print(f\"Error: Could not decode JSON from '{input_file}'.\")"
   ]
  },
  {
   "cell_type": "code",
   "execution_count": 4,
   "id": "e86729c7",
   "metadata": {},
   "outputs": [],
   "source": [
    "def update_keys(data):\n",
    "    transformed_data = []\n",
    "\n",
    "    if not isinstance(data, list):\n",
    "        print(\"Error: Input data is not a list.\")\n",
    "        return transformed_data\n",
    "    \n",
    "    for item in data:\n",
    "        transformed_item = {}\n",
    "\n",
    "        if \"instruction\" in item:\n",
    "            transformed_item[\"prompt\"] = item.pop(\"instruction\")\n",
    "        if \"output\" in item:\n",
    "            transformed_item[\"completion\"] = item.pop(\"output\")\n",
    "        \n",
    "        transformed_data.append(transformed_item)\n",
    "    \n",
    "    return transformed_data"
   ]
  },
  {
   "cell_type": "code",
   "execution_count": 5,
   "id": "605eaf70",
   "metadata": {},
   "outputs": [],
   "source": [
    "updated_data = update_keys(data)"
   ]
  },
  {
   "cell_type": "code",
   "execution_count": 6,
   "id": "3188b779",
   "metadata": {},
   "outputs": [
    {
     "name": "stdout",
     "output_type": "stream",
     "text": [
      "Updated data item 0:\n",
      "{\n",
      "    \"prompt\": \"\\nYou are an expert C++ code analyst. Your task is to dissect a given C++ code snippet and provide a structured JSON response detailing all of its components and overall functionality. You must strictly adhere to the following JSON format:\\n{\\n  \\\"output\\\": {\\n    \\\"programming_language\\\": \\\"C++\\\",\\n    \\\"components\\\": [\\n      {\\n        \\\"component_type\\\": \\\"<TYPE_OF_CPP_COMPONENT>\\\",\\n        \\\"component_name\\\": \\\"<NAME_OF_COMPONENT_IF_APPLICABLE>\\\",\\n        \\\"component_code\\\": \\\"<THE_ACTUAL_CPP_CODE_OF_THE_COMPONENT>\\\",\\n        \\\"component_description\\\": \\\"<DETAILED_DESCRIPTION_OF_COMPONENT_FUNCTIONALITY>\\\"\\n      },\\n      { /* ... more components ... */ }\\n    ],\\n    \\\"overall_description\\\": \\\"<DETAILED_SUMMARY/DESCRIPTION_OF_THE_ENTIRE_CPP_CODE_FUNCTIONALITY>\\\"\\n  }\\n}\\n\\n**Instructions:**\\n1. Identify the Programming Language: The script is written in C++.\\n2. Component Types: Use appropriate component types, for example, HEADER_INCLUDE, MACRO_DEFINITION, GLOBAL_VARIABLE, FUNCTION_DEFINITION, CLASS_DEFINITION, STRUCT_DEFINITION, CONSTRUCTOR, DESTRUCTOR, MAIN_FUNCTION, LOOP, CONDITIONAL_STATEMENT, TEMPLATE_DEFINITION, NAMESPACE_DECLARATION.\\n3. Component Names: Provide the correct identifier for each component (function name, class name, variable name, etc.), or NULL if not applicable.\\n4. Component Code: Include the complete, unmodified C++ code for each component.\\n5. Component Descriptions: Provide a detailed, technical explanation of what each component does, including object-oriented features, memory management, template usage, and function interactions.\\n6. Overall Description: Provide a detailed summary of the entire C++ code, explaining its purpose, architecture, and how components interact.\\n7. Strict JSON Output: Your ENTIRE response must be ONLY the valid JSON object. Do not include any explanations, introductions, or additional text outside the JSON structure.\\n\\nAnalyze the following C++ code properly and return ONLY the JSON response with no additional text:\\n\\n<filename>tensorflow/c/tf_shape.cc<gh_stars>1000+\\n/* Copyright 2019 The TensorFlow Authors. All Rights Reserved.\\n\\nLicensed under the Apache License, Version 2.0 (the \\\"License\\\");\\nyou may not use this file except in compliance with the License.\\nYou may obtain a copy of the License at\\n\\n    http://www.apache.org/licenses/LICENSE-2.0\\n\\nUnless required by applicable law or agreed to in writing, software\\ndistributed under the License is distributed on an \\\"AS IS\\\" BASIS,\\nWITHOUT WARRANTIES OR CONDITIONS OF ANY KIND, either express or implied.\\nSee the License for the specific language governing permissions and\\nlimitations under the License.\\n==============================================================================*/\\n\\n#include \\\"tensorflow/c/tf_shape.h\\\"\\n\\n#include <stdint.h>\\n\\n#include \\\"tensorflow/c/tf_shape_internal.h\\\"\\n#include \\\"tensorflow/core/framework/tensor_shape.h\\\"\\n\\nextern \\\"C\\\" {\\n\\nTF_Shape* TF_NewShape() {\\n  return tensorflow::wrap(new tensorflow::PartialTensorShape());\\n}\\n\\nint TF_ShapeDims(const TF_Shape* shape) {\\n  return tensorflow::unwrap(shape)->dims();\\n}\\n\\nint64_t TF_ShapeDimSize(const TF_Shape* shape, int d) {\\n  return tensorflow::unwrap(shape)->dim_size(d);\\n}\\n\\nvoid TF_DeleteShape(TF_Shape* shape) { delete tensorflow::unwrap(shape); }\\n\\n}  // end extern \\\"C\\\"\\n\",\n",
      "    \"completion\": \"{\\n    \\\"programming_language\\\": \\\"C++\\\",\\n    \\\"components\\\": [\\n      {\\n        \\\"component_type\\\": \\\"HEADER_INCLUDE\\\",\\n        \\\"component_name\\\": NULL,\\n        \\\"component_code\\\": \\\"#include \\\\\\\"tensorflow/c/tf_shape.h\\\\\\\"\\\",\\n        \\\"component_description\\\": \\\"Includes the TensorFlow C API header file for tensor shapes.\\\"\\n      },\\n      {\\n        \\\"component_type\\\": \\\"HEADER_INCLUDE\\\",\\n        \\\"component_name\\\": NULL,\\n        \\\"component_code\\\": \\\"#include <stdint.h>\\\",\\n        \\\"component_description\\\": \\\"Includes the standard integer types header file, providing fixed-width integer types.\\\"\\n      },\\n      {\\n        \\\"component_type\\\": \\\"HEADER_INCLUDE\\\",\\n        \\\"component_name\\\": NULL,\\n        \\\"component_code\\\": \\\"#include \\\\\\\"tensorflow/c/tf_shape_internal.h\\\\\\\"\\\",\\n        \\\"component_description\\\": \\\"Includes an internal TensorFlow C API header file for tensor shape operations.\\\"\\n      },\\n      {\\n        \\\"component_type\\\": \\\"HEADER_INCLUDE\\\",\\n        \\\"component_name\\\": NULL,\\n        \\\"component_code\\\": \\\"#include \\\\\\\"tensorflow/core/framework/tensor_shape.h\\\\\\\"\\\",\\n        \\\"component_description\\\": \\\"Includes the core framework's tensor shape definition from TensorFlow.\\\"\\n      },\\n      {\\n        \\\"component_type\\\": \\\"EXTERNAL_C_LINKAGE\\\",\\n        \\\"component_name\\\": NULL,\\n        \\\"component_code\\\": \\\"extern \\\\\\\"C\\\\\\\" { ... }\\\",\\n        \\\"component_description\\\": \\\"Declares all contained functions with C linkage to ensure they can be called from C code without name mangling.\\\"\\n      },\\n      {\\n        \\\"component_type\\\": \\\"FUNCTION_DEFINITION\\\",\\n        \\\"component_name\\\": \\\"TF_NewShape\\\",\\n        \\\"component_code\\\": \\\"TF_Shape* TF_NewShape() { return tensorflow::wrap(new tensorflow::PartialTensorShape()); }\\\",\\n        \\\"component_description\\\": \\\"Creates a new instance of TensorFlow's PartialTensorShape and returns it wrapped as a TF_Shape pointer, facilitating memory management in C.\\\"\\n      },\\n      {\\n        \\\"component_type\\\": \\\"FUNCTION_DEFINITION\\\",\\n        \\\"component_name\\\": \\\"TF_ShapeDims\\\",\\n        \\\"component_code\\\": \\\"int TF_ShapeDims(const TF_Shape* shape) { return tensorflow::unwrap(shape)->dims(); }\\\",\\n        \\\"component_description\\\": \\\"Returns the number of dimensions in the given tensor shape by unwrapping the TF_Shape pointer to access the underlying PartialTensorShape object.\\\"\\n      },\\n      {\\n        \\\"component_type\\\": \\\"FUNCTION_DEFINITION\\\",\\n        \\\"component_name\\\": \\\"TF_ShapeDimSize\\\",\\n        \\\"component_code\\\": \\\"int64_t TF_ShapeDimSize(const TF_Shape* shape, int d) { return tensorflow::unwrap(shape)->dim_size(d); }\\\",\\n        \\\"component_description\\\": \\\"Returns the size of the specified dimension in the given tensor shape. The function unwraps the TF_Shape pointer to interact with the PartialTensorShape object.\\\"\\n      },\\n      {\\n        \\\"component_type\\\": \\\"FUNCTION_DEFINITION\\\",\\n        \\\"component_name\\\": \\\"TF_DeleteShape\\\",\\n        \\\"component_code\\\": \\\"void TF_DeleteShape(TF_Shape* shape) { delete tensorflow::unwrap(shape); }\\\",\\n        \\\"component_description\\\": \\\"Deletes a tensor shape by unwrapping the TF_Shape pointer to access and destroy the underlying PartialTensorShape object, managing memory appropriately.\\\"\\n      }\\n    ],\\n    \\\"overall_description\\\": \\\"The code provides a C API for TensorFlow's tensor shapes. It includes functions to create and delete shapes, as well as to query their dimensions and sizes. The use of extern \\\\\\\"C\\\\\\\" ensures compatibility with C, and the wrap/unwrap functions manage the conversion between the C and C++ representations of tensor shapes.\\\"\\n  }\"\n",
      "}\n",
      "\n",
      "Updated data item 1:\n",
      "{\n",
      "    \"prompt\": \"\\nYou are an expert C++ code analyst. Your task is to dissect a given C++ code snippet and provide a structured JSON response detailing all of its components and overall functionality. You must strictly adhere to the following JSON format:\\n{\\n  \\\"output\\\": {\\n    \\\"programming_language\\\": \\\"C++\\\",\\n    \\\"components\\\": [\\n      {\\n        \\\"component_type\\\": \\\"<TYPE_OF_CPP_COMPONENT>\\\",\\n        \\\"component_name\\\": \\\"<NAME_OF_COMPONENT_IF_APPLICABLE>\\\",\\n        \\\"component_code\\\": \\\"<THE_ACTUAL_CPP_CODE_OF_THE_COMPONENT>\\\",\\n        \\\"component_description\\\": \\\"<DETAILED_DESCRIPTION_OF_COMPONENT_FUNCTIONALITY>\\\"\\n      },\\n      { /* ... more components ... */ }\\n    ],\\n    \\\"overall_description\\\": \\\"<DETAILED_SUMMARY/DESCRIPTION_OF_THE_ENTIRE_CPP_CODE_FUNCTIONALITY>\\\"\\n  }\\n}\\n\\n**Instructions:**\\n1. Identify the Programming Language: The script is written in C++.\\n2. Component Types: Use appropriate component types, for example, HEADER_INCLUDE, MACRO_DEFINITION, GLOBAL_VARIABLE, FUNCTION_DEFINITION, CLASS_DEFINITION, STRUCT_DEFINITION, CONSTRUCTOR, DESTRUCTOR, MAIN_FUNCTION, LOOP, CONDITIONAL_STATEMENT, TEMPLATE_DEFINITION, NAMESPACE_DECLARATION.\\n3. Component Names: Provide the correct identifier for each component (function name, class name, variable name, etc.), or NULL if not applicable.\\n4. Component Code: Include the complete, unmodified C++ code for each component.\\n5. Component Descriptions: Provide a detailed, technical explanation of what each component does, including object-oriented features, memory management, template usage, and function interactions.\\n6. Overall Description: Provide a detailed summary of the entire C++ code, explaining its purpose, architecture, and how components interact.\\n7. Strict JSON Output: Your ENTIRE response must be ONLY the valid JSON object. Do not include any explanations, introductions, or additional text outside the JSON structure.\\n\\nAnalyze the following C++ code properly and return ONLY the JSON response with no additional text:\\n\\n/* Copyright 2021 The TensorFlow Authors. All Rights Reserved.\\n\\nLicensed under the Apache License, Version 2.0 (the \\\"License\\\");\\nyou may not use this file except in compliance with the License.\\nYou may obtain a copy of the License at\\n\\n    http://www.apache.org/licenses/LICENSE-2.0\\n\\nUnless required by applicable law or agreed to in writing, software\\ndistributed under the License is distributed on an \\\"AS IS\\\" BASIS,\\nWITHOUT WARRANTIES OR CONDITIONS OF ANY KIND, either express or implied.\\nSee the License for the specific language governing permissions and\\nlimitations under the License.\\n==============================================================================*/\\n#include \\\"tensorflow/c/experimental/ops/gen/cpp/renderers/cpp_file_renderer.h\\\"\\n\\n#include \\\"tensorflow/c/experimental/ops/gen/common/view_util.h\\\"\\n#include \\\"tensorflow/c/experimental/ops/gen/cpp/renderers/op_renderer.h\\\"\\n#include \\\"tensorflow/c/experimental/ops/gen/cpp/views/op_view.h\\\"\\n\\nnamespace tensorflow {\\nnamespace generator {\\nnamespace cpp {\\n\\nstatic const char *copyright =\\n    R\\\"(\\n/* Copyright 2021 The TensorFlow Authors. All Rights Reserved.\\n\\nLicensed under the Apache License, Version 2.0 (the \\\"License\\\");\\nyou may not use this file except in compliance with the License.\\nYou may obtain a copy of the License at\\n\\n    http://www.apache.org/licenses/LICENSE-2.0\\n\\nUnless required by applicable law or agreed to in writing, software\\ndistributed under the License is distributed on an \\\"AS IS\\\" BASIS,\\nWITHOUT WARRANTIES OR CONDITIONS OF ANY KIND, either express or implied.\\nSee the License for the specific language governing permissions and\\nlimitations under the License.\\n==============================================================================*/\\n)\\\";\\n\\nstatic const char *machine_generated =\\n    \\\"// This file is MACHINE GENERATED! Do not edit.\\\";\\n\\nCppFileRenderer::CppFileRenderer(RendererContext context,\\n                                 const std::vector<OpView> &ops)\\n    : Renderer(context),\\n      guard_(context),\\n      name_space_(context),\\n      includes_(context),\\n      ops_(ops) {}\\n\\nvoid CppFileRenderer::Render() {\\n  CodeLines(copyright);\\n  BlankLine();\\n  CodeLine(machine_generated);\\n  BlankLine();\\n\\n  if (context_.mode == RendererContext::kHeader) {\\n    guard_.Open();\\n  } else {\\n    includes_.SelfHeader();\\n  }\\n\\n  includes_.Headers();\\n  name_space_.Open();\\n  BlankLine();\\n\\n  for (const OpView &op : ops_) {\\n    OpRenderer(context_, op).Render();\\n  }\\n\\n  name_space_.Close();\\n  if (context_.mode == RendererContext::kHeader) {\\n    guard_.Close();\\n  }\\n}\\n\\n}  // namespace cpp\\n}  // namespace generator\\n}  // namespace tensorflow\\n\",\n",
      "    \"completion\": \"{\\n    \\\"programming_language\\\": \\\"C++\\\",\\n    \\\"components\\\": [\\n      {\\n        \\\"component_type\\\": \\\"HEADER_INCLUDE\\\",\\n        \\\"component_name\\\": NULL,\\n        \\\"component_code\\\": \\\"#include \\\\\\\"tensorflow/c/experimental/ops/gen/cpp/renderers/cpp_file_renderer.h\\\\\\\"\\\",\\n        \\\"component_description\\\": \\\"Includes the header file for the CppFileRenderer class, which is essential for rendering C++ files from operation views.\\\"\\n      },\\n      {\\n        \\\"component_type\\\": \\\"HEADER_INCLUDE\\\",\\n        \\\"component_name\\\": NULL,\\n        \\\"component_code\\\": \\\"#include \\\\\\\"tensorflow/c/experimental/ops/gen/common/view_util.h\\\\\\\"\\\",\\n        \\\"component_description\\\": \\\"Includes utility functions for handling views, which are used to represent operations in a structured way.\\\"\\n      },\\n      {\\n        \\\"component_type\\\": \\\"HEADER_INCLUDE\\\",\\n        \\\"component_name\\\": NULL,\\n        \\\"component_code\\\": \\\"#include \\\\\\\"tensorflow/c/experimental/ops/gen/cpp/renderers/op_renderer.h\\\\\\\"\\\",\\n        \\\"component_description\\\": \\\"Includes the header file for the OpRenderer class, which is responsible for rendering individual operations into C++ code.\\\"\\n      },\\n      {\\n        \\\"component_type\\\": \\\"HEADER_INCLUDE\\\",\\n        \\\"component_name\\\": NULL,\\n        \\\"component_code\\\": \\\"#include \\\\\\\"tensorflow/c/experimental/ops/gen/cpp/views/op_view.h\\\\\\\"\\\",\\n        \\\"component_description\\\": \\\"Includes the header file for the OpView class, which represents a view of an operation in the system.\\\"\\n      },\\n      {\\n        \\\"component_type\\\": \\\"NAMESPACE_DECLARATION\\\",\\n        \\\"component_name\\\": \\\"tensorflow\\\",\\n        \\\"component_code\\\": \\\"namespace tensorflow {\\\",\\n        \\\"component_description\\\": \\\"Declares the 'tensorflow' namespace to encapsulate code related to TensorFlow operations and utilities.\\\"\\n      },\\n      {\\n        \\\"component_type\\\": \\\"NAMESPACE_DECLARATION\\\",\\n        \\\"component_name\\\": \\\"generator\\\",\\n        \\\"component_code\\\": \\\"namespace generator {\\\",\\n        \\\"component_description\\\": \\\"Declares the 'generator' namespace within 'tensorflow', which contains code for generating C++ files from operation views.\\\"\\n      },\\n      {\\n        \\\"component_type\\\": \\\"NAMESPACE_DECLARATION\\\",\\n        \\\"component_name\\\": \\\"cpp\\\",\\n        \\\"component_code\\\": \\\"namespace cpp {\\\",\\n        \\\"component_description\\\": \\\"Declares the 'cpp' namespace within 'generator', which specifically handles rendering operations into C++ code.\\\"\\n      },\\n      {\\n        \\\"component_type\\\": \\\"GLOBAL_VARIABLE\\\",\\n        \\\"component_name\\\": \\\"copyright\\\",\\n        \\\"component_code\\\": \\\"static const char *copyright = R\\\\\\\"( ... )\\\\\\\";\\\",\\n        \\\"component_description\\\": \\\"Defines a static string containing the copyright notice for the generated files, which is included at the top of each file.\\\"\\n      },\\n      {\\n        \\\"component_type\\\": \\\"GLOBAL_VARIABLE\\\",\\n        \\\"component_name\\\": \\\"machine_generated\\\",\\n        \\\"component_code\\\": \\\"static const char *machine_generated = \\\\\\\"// This file is MACHINE GENERATED! Do not edit.\\\\\\\";\\\",\\n        \\\"component_description\\\": \\\"Defines a static string indicating that the file was automatically generated and should not be manually edited.\\\"\\n      },\\n      {\\n        \\\"component_type\\\": \\\"CLASS_DEFINITION\\\",\\n        \\\"component_name\\\": \\\"CppFileRenderer\\\",\\n        \\\"component_code\\\": \\\"class CppFileRenderer : public Renderer { ... };\\\",\\n        \\\"component_description\\\": \\\"Defines the CppFileRenderer class, which inherits from the Renderer class. It is responsible for rendering a complete C++ file based on a set of operation views.\\\"\\n      },\\n      {\\n        \\\"component_type\\\": \\\"CONSTRUCTOR\\\",\\n        \\\"component_name\\\": \\\"CppFileRenderer\\\",\\n        \\\"component_code\\\": \\\"CppFileRenderer(RendererContext context, const std::vector<OpView> &ops);\\\",\\n        \\\"component_description\\\": \\\"Constructor for the CppFileRenderer class that initializes it with a rendering context and a vector of operation views.\\\"\\n      },\\n      {\\n        \\\"component_type\\\": \\\"FUNCTION_DEFINITION\\\",\\n        \\\"component_name\\\": \\\"Render\\\",\\n        \\\"component_code\\\": \\\"void Render() { ... }\\\",\\n        \\\"component_description\\\": \\\"Method to render the C++ file. It writes the copyright notice, machine-generated warning, include guards (for headers), headers, namespace opening tag, individual operations using OpRenderer, and namespace closing tag.\\\"\\n      }\\n    ],\\n    \\\"overall_description\\\": \\\"The provided C++ code defines a component for generating C++ files from operation views in the TensorFlow project. The CppFileRenderer class handles the complete rendering process, including writing copyright notices, machine-generated warnings, include guards (for header files), headers, namespace declarations, and individual operations using the OpRenderer class. This ensures that generated files are correctly formatted and encapsulated within appropriate namespaces.\\\"\\n  }\"\n",
      "}\n",
      "\n"
     ]
    }
   ],
   "source": [
    "for i in range(2):\n",
    "    print(f\"Updated data item {i}:\")\n",
    "    print(json.dumps(updated_data[i], indent=4))\n",
    "    print()"
   ]
  },
  {
   "cell_type": "code",
   "execution_count": 7,
   "id": "10e34d9e",
   "metadata": {},
   "outputs": [],
   "source": [
    "def convert_json_to_jsonl(data, output_file):\n",
    "    try:\n",
    "        with open(output_file, \"w\") as f:\n",
    "            if isinstance(data, list):\n",
    "                for item in data:\n",
    "                    json.dump(item, f) # Write each item as a JSON line\n",
    "                    f.write(\"\\n\") # Add newline character\n",
    "                    \n",
    "        print(f\"Successfully converted to JSONL and saved to '{output_file}'.\")\n",
    "    except IOError:\n",
    "        print(f\"Error: Could not write to output file '{output_file}'.\")"
   ]
  },
  {
   "cell_type": "code",
   "execution_count": 8,
   "id": "ed57f6f5",
   "metadata": {},
   "outputs": [
    {
     "name": "stdout",
     "output_type": "stream",
     "text": [
      "Successfully converted to JSONL and saved to 'Phase-1-Data/Data_for_MLX_fine_tuning.jsonl'.\n"
     ]
    }
   ],
   "source": [
    "convert_json_to_jsonl(updated_data, \"Phase-1-Data/Data_for_MLX_fine_tuning.jsonl\")"
   ]
  },
  {
   "cell_type": "code",
   "execution_count": null,
   "id": "7783aa07",
   "metadata": {},
   "outputs": [],
   "source": []
  }
 ],
 "metadata": {
  "kernelspec": {
   "display_name": "malcodeai",
   "language": "python",
   "name": "python3"
  },
  "language_info": {
   "codemirror_mode": {
    "name": "ipython",
    "version": 3
   },
   "file_extension": ".py",
   "mimetype": "text/x-python",
   "name": "python",
   "nbconvert_exporter": "python",
   "pygments_lexer": "ipython3",
   "version": "3.11.11"
  }
 },
 "nbformat": 4,
 "nbformat_minor": 5
}
