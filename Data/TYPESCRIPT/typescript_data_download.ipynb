{
 "cells": [
  {
   "cell_type": "code",
   "execution_count": 1,
   "metadata": {},
   "outputs": [],
   "source": [
    "from datasets import load_dataset, DownloadMode\n",
    "\n",
    "# First, download the dataset with caching\n",
    "def download_starcoderdata_typescript(save_directory, split=\"train\", download_mode=DownloadMode.REUSE_DATASET_IF_EXISTS):\n",
    "    try:\n",
    "        ds = load_dataset(\n",
    "            \"bigcode/starcoderdata\",\n",
    "            data_dir=\"typescript\",\n",
    "            split=split,\n",
    "            cache_dir=save_directory,\n",
    "            download_mode=download_mode,\n",
    "        )\n",
    "\n",
    "        # Save the dataset properly for later reloading\n",
    "        output_path = f\"{save_directory}/typescript_{split}_dataset\"\n",
    "        ds.save_to_disk(output_path)\n",
    "\n",
    "        print(f\"Dataset 'bigcode/starcoderdata' (TYPESCRIPT, {split}) successfully downloaded and saved to '{output_path}'.\")\n",
    "        return ds\n",
    "\n",
    "    except Exception as e:\n",
    "        print(f\"Error downloading dataset 'bigcode/starcoderdata' (TYPESCRIPT, {split}): {e}\")\n",
    "        return None"
   ]
  },
  {
   "cell_type": "code",
   "execution_count": 2,
   "metadata": {},
   "outputs": [
    {
     "data": {
      "application/vnd.jupyter.widget-view+json": {
       "model_id": "b1130d49d64743bd9a33fa46ea29910d",
       "version_major": 2,
       "version_minor": 0
      },
      "text/plain": [
       "Resolving data files:   0%|          | 0/27 [00:00<?, ?it/s]"
      ]
     },
     "metadata": {},
     "output_type": "display_data"
    },
    {
     "data": {
      "application/vnd.jupyter.widget-view+json": {
       "model_id": "95aa20f019894b68aa08d87104a34d07",
       "version_major": 2,
       "version_minor": 0
      },
      "text/plain": [
       "Downloading data:   0%|          | 0/27 [00:00<?, ?files/s]"
      ]
     },
     "metadata": {},
     "output_type": "display_data"
    },
    {
     "data": {
      "application/vnd.jupyter.widget-view+json": {
       "model_id": "b9ebf590707f44dfba1020a5908ceea5",
       "version_major": 2,
       "version_minor": 0
      },
      "text/plain": [
       "train-00000-of-00027.parquet:   0%|          | 0.00/386M [00:00<?, ?B/s]"
      ]
     },
     "metadata": {},
     "output_type": "display_data"
    },
    {
     "data": {
      "application/vnd.jupyter.widget-view+json": {
       "model_id": "ec4b470d890343d483ec112af2441171",
       "version_major": 2,
       "version_minor": 0
      },
      "text/plain": [
       "train-00001-of-00027.parquet:   0%|          | 0.00/394M [00:00<?, ?B/s]"
      ]
     },
     "metadata": {},
     "output_type": "display_data"
    },
    {
     "data": {
      "application/vnd.jupyter.widget-view+json": {
       "model_id": "66e61bbe92bb475788733dfd23e6950a",
       "version_major": 2,
       "version_minor": 0
      },
      "text/plain": [
       "train-00002-of-00027.parquet:   0%|          | 0.00/388M [00:00<?, ?B/s]"
      ]
     },
     "metadata": {},
     "output_type": "display_data"
    },
    {
     "data": {
      "application/vnd.jupyter.widget-view+json": {
       "model_id": "1353702bb26d4a0db94c5c8b7058583f",
       "version_major": 2,
       "version_minor": 0
      },
      "text/plain": [
       "train-00003-of-00027.parquet:   0%|          | 0.00/391M [00:00<?, ?B/s]"
      ]
     },
     "metadata": {},
     "output_type": "display_data"
    },
    {
     "data": {
      "application/vnd.jupyter.widget-view+json": {
       "model_id": "956b27efb7b446c395f803f35b6d43c6",
       "version_major": 2,
       "version_minor": 0
      },
      "text/plain": [
       "train-00004-of-00027.parquet:   0%|          | 0.00/389M [00:00<?, ?B/s]"
      ]
     },
     "metadata": {},
     "output_type": "display_data"
    },
    {
     "data": {
      "application/vnd.jupyter.widget-view+json": {
       "model_id": "e387ff4b275d4b28a7e0f36ef5a42a0b",
       "version_major": 2,
       "version_minor": 0
      },
      "text/plain": [
       "train-00005-of-00027.parquet:   0%|          | 0.00/388M [00:00<?, ?B/s]"
      ]
     },
     "metadata": {},
     "output_type": "display_data"
    },
    {
     "data": {
      "application/vnd.jupyter.widget-view+json": {
       "model_id": "da7bb7f4795f42298082082ae032362c",
       "version_major": 2,
       "version_minor": 0
      },
      "text/plain": [
       "train-00006-of-00027.parquet:   0%|          | 0.00/388M [00:00<?, ?B/s]"
      ]
     },
     "metadata": {},
     "output_type": "display_data"
    },
    {
     "data": {
      "application/vnd.jupyter.widget-view+json": {
       "model_id": "b724a88597d740dcb3b3f326d0815a03",
       "version_major": 2,
       "version_minor": 0
      },
      "text/plain": [
       "train-00007-of-00027.parquet:   0%|          | 0.00/389M [00:00<?, ?B/s]"
      ]
     },
     "metadata": {},
     "output_type": "display_data"
    },
    {
     "data": {
      "application/vnd.jupyter.widget-view+json": {
       "model_id": "4317e24834d849e2b294967c7b444463",
       "version_major": 2,
       "version_minor": 0
      },
      "text/plain": [
       "train-00008-of-00027.parquet:   0%|          | 0.00/388M [00:00<?, ?B/s]"
      ]
     },
     "metadata": {},
     "output_type": "display_data"
    },
    {
     "data": {
      "application/vnd.jupyter.widget-view+json": {
       "model_id": "0005a0a9022b443383b203d3fca3d1a3",
       "version_major": 2,
       "version_minor": 0
      },
      "text/plain": [
       "train-00009-of-00027.parquet:   0%|          | 0.00/391M [00:00<?, ?B/s]"
      ]
     },
     "metadata": {},
     "output_type": "display_data"
    },
    {
     "data": {
      "application/vnd.jupyter.widget-view+json": {
       "model_id": "5cb2da26a0d44476869b7472b987bf8f",
       "version_major": 2,
       "version_minor": 0
      },
      "text/plain": [
       "train-00010-of-00027.parquet:   0%|          | 0.00/389M [00:00<?, ?B/s]"
      ]
     },
     "metadata": {},
     "output_type": "display_data"
    },
    {
     "data": {
      "application/vnd.jupyter.widget-view+json": {
       "model_id": "20f2b8b9ab314eb88e32aef49dc79267",
       "version_major": 2,
       "version_minor": 0
      },
      "text/plain": [
       "train-00011-of-00027.parquet:   0%|          | 0.00/392M [00:00<?, ?B/s]"
      ]
     },
     "metadata": {},
     "output_type": "display_data"
    },
    {
     "data": {
      "application/vnd.jupyter.widget-view+json": {
       "model_id": "68857e6dd07c4437bda3e16f8f086cb8",
       "version_major": 2,
       "version_minor": 0
      },
      "text/plain": [
       "train-00012-of-00027.parquet:   0%|          | 0.00/389M [00:00<?, ?B/s]"
      ]
     },
     "metadata": {},
     "output_type": "display_data"
    },
    {
     "data": {
      "application/vnd.jupyter.widget-view+json": {
       "model_id": "8d7cf4458824404687f8ec1ffcfd8ee0",
       "version_major": 2,
       "version_minor": 0
      },
      "text/plain": [
       "train-00013-of-00027.parquet:   0%|          | 0.00/386M [00:00<?, ?B/s]"
      ]
     },
     "metadata": {},
     "output_type": "display_data"
    },
    {
     "data": {
      "application/vnd.jupyter.widget-view+json": {
       "model_id": "29d7242a54814c27b4409ed093671cf4",
       "version_major": 2,
       "version_minor": 0
      },
      "text/plain": [
       "train-00014-of-00027.parquet:   0%|          | 0.00/387M [00:00<?, ?B/s]"
      ]
     },
     "metadata": {},
     "output_type": "display_data"
    },
    {
     "data": {
      "application/vnd.jupyter.widget-view+json": {
       "model_id": "06f81e9aebcc4b60a7758da66a60c801",
       "version_major": 2,
       "version_minor": 0
      },
      "text/plain": [
       "train-00015-of-00027.parquet:   0%|          | 0.00/387M [00:00<?, ?B/s]"
      ]
     },
     "metadata": {},
     "output_type": "display_data"
    },
    {
     "data": {
      "application/vnd.jupyter.widget-view+json": {
       "model_id": "bceb9577ee9a4f2b8f45c3b02b56b476",
       "version_major": 2,
       "version_minor": 0
      },
      "text/plain": [
       "train-00016-of-00027.parquet:   0%|          | 0.00/386M [00:00<?, ?B/s]"
      ]
     },
     "metadata": {},
     "output_type": "display_data"
    },
    {
     "data": {
      "application/vnd.jupyter.widget-view+json": {
       "model_id": "a0fc65e043b64f44a4943a85b2b246fa",
       "version_major": 2,
       "version_minor": 0
      },
      "text/plain": [
       "train-00017-of-00027.parquet:   0%|          | 0.00/389M [00:00<?, ?B/s]"
      ]
     },
     "metadata": {},
     "output_type": "display_data"
    },
    {
     "data": {
      "application/vnd.jupyter.widget-view+json": {
       "model_id": "5cfca8f6d1f14d5eafbcaf401efab1cd",
       "version_major": 2,
       "version_minor": 0
      },
      "text/plain": [
       "train-00018-of-00027.parquet:   0%|          | 0.00/386M [00:00<?, ?B/s]"
      ]
     },
     "metadata": {},
     "output_type": "display_data"
    },
    {
     "data": {
      "application/vnd.jupyter.widget-view+json": {
       "model_id": "616fd4305c03428fa8c666e201976a31",
       "version_major": 2,
       "version_minor": 0
      },
      "text/plain": [
       "train-00019-of-00027.parquet:   0%|          | 0.00/387M [00:00<?, ?B/s]"
      ]
     },
     "metadata": {},
     "output_type": "display_data"
    },
    {
     "data": {
      "application/vnd.jupyter.widget-view+json": {
       "model_id": "36399f41c2f74599a55d7bf315e7981b",
       "version_major": 2,
       "version_minor": 0
      },
      "text/plain": [
       "train-00020-of-00027.parquet:   0%|          | 0.00/389M [00:00<?, ?B/s]"
      ]
     },
     "metadata": {},
     "output_type": "display_data"
    },
    {
     "data": {
      "application/vnd.jupyter.widget-view+json": {
       "model_id": "a53c95bf3e924cb4ba0de861aceabfff",
       "version_major": 2,
       "version_minor": 0
      },
      "text/plain": [
       "train-00021-of-00027.parquet:   0%|          | 0.00/391M [00:00<?, ?B/s]"
      ]
     },
     "metadata": {},
     "output_type": "display_data"
    },
    {
     "data": {
      "application/vnd.jupyter.widget-view+json": {
       "model_id": "8d5f4d09b88749e69bc3b35299f089d3",
       "version_major": 2,
       "version_minor": 0
      },
      "text/plain": [
       "train-00022-of-00027.parquet:   0%|          | 0.00/389M [00:00<?, ?B/s]"
      ]
     },
     "metadata": {},
     "output_type": "display_data"
    },
    {
     "data": {
      "application/vnd.jupyter.widget-view+json": {
       "model_id": "e6392d0ae4c3424db6f7b3618aa92fb6",
       "version_major": 2,
       "version_minor": 0
      },
      "text/plain": [
       "train-00023-of-00027.parquet:   0%|          | 0.00/386M [00:00<?, ?B/s]"
      ]
     },
     "metadata": {},
     "output_type": "display_data"
    },
    {
     "data": {
      "application/vnd.jupyter.widget-view+json": {
       "model_id": "faf42b15108347c18afd73c76b45707e",
       "version_major": 2,
       "version_minor": 0
      },
      "text/plain": [
       "train-00024-of-00027.parquet:   0%|          | 0.00/392M [00:00<?, ?B/s]"
      ]
     },
     "metadata": {},
     "output_type": "display_data"
    },
    {
     "data": {
      "application/vnd.jupyter.widget-view+json": {
       "model_id": "195041db60534c958501fbb4ae681442",
       "version_major": 2,
       "version_minor": 0
      },
      "text/plain": [
       "train-00025-of-00027.parquet:   0%|          | 0.00/388M [00:00<?, ?B/s]"
      ]
     },
     "metadata": {},
     "output_type": "display_data"
    },
    {
     "data": {
      "application/vnd.jupyter.widget-view+json": {
       "model_id": "57ef95aff2c24050ba0a81075aa39f9a",
       "version_major": 2,
       "version_minor": 0
      },
      "text/plain": [
       "train-00026-of-00027.parquet:   0%|          | 0.00/390M [00:00<?, ?B/s]"
      ]
     },
     "metadata": {},
     "output_type": "display_data"
    },
    {
     "data": {
      "application/vnd.jupyter.widget-view+json": {
       "model_id": "b1e9a0fb68d84af397f0922bd4fa688b",
       "version_major": 2,
       "version_minor": 0
      },
      "text/plain": [
       "Generating train split: 0 examples [00:00, ? examples/s]"
      ]
     },
     "metadata": {},
     "output_type": "display_data"
    },
    {
     "data": {
      "application/vnd.jupyter.widget-view+json": {
       "model_id": "ab1d451f4f324711863f78e78c42b1bb",
       "version_major": 2,
       "version_minor": 0
      },
      "text/plain": [
       "Loading dataset shards:   0%|          | 0/56 [00:00<?, ?it/s]"
      ]
     },
     "metadata": {},
     "output_type": "display_data"
    },
    {
     "data": {
      "application/vnd.jupyter.widget-view+json": {
       "model_id": "760dec006d0b4a36bd22c0b56069ff22",
       "version_major": 2,
       "version_minor": 0
      },
      "text/plain": [
       "Saving the dataset (0/56 shards):   0%|          | 0/10547331 [00:00<?, ? examples/s]"
      ]
     },
     "metadata": {},
     "output_type": "display_data"
    },
    {
     "name": "stdout",
     "output_type": "stream",
     "text": [
      "Dataset 'bigcode/starcoderdata' (TYPESCRIPT, train) successfully downloaded and saved to './/typescript_train_dataset'.\n"
     ]
    }
   ],
   "source": [
    "ds = download_starcoderdata_typescript(save_directory=\"./\", split=\"train\")"
   ]
  },
  {
   "cell_type": "code",
   "execution_count": 3,
   "metadata": {},
   "outputs": [
    {
     "data": {
      "application/vnd.jupyter.widget-view+json": {
       "model_id": "74bf9ffd7c0e4388ae1d3692ec109848",
       "version_major": 2,
       "version_minor": 0
      },
      "text/plain": [
       "Loading dataset from disk:   0%|          | 0/56 [00:00<?, ?it/s]"
      ]
     },
     "metadata": {},
     "output_type": "display_data"
    }
   ],
   "source": [
    "from datasets import load_from_disk\n",
    "\n",
    "# Later, load the dataset from the saved location\n",
    "dataset = load_from_disk(\"./typescript_train_dataset\")"
   ]
  },
  {
   "cell_type": "code",
   "execution_count": 4,
   "metadata": {},
   "outputs": [
    {
     "data": {
      "text/plain": [
       "Dataset({\n",
       "    features: ['max_stars_repo_path', 'max_stars_repo_name', 'max_stars_count', 'id', 'content'],\n",
       "    num_rows: 10547331\n",
       "})"
      ]
     },
     "execution_count": 4,
     "metadata": {},
     "output_type": "execute_result"
    }
   ],
   "source": [
    "dataset"
   ]
  },
  {
   "cell_type": "code",
   "execution_count": 5,
   "metadata": {},
   "outputs": [
    {
     "data": {
      "text/plain": [
       "datasets.arrow_dataset.Dataset"
      ]
     },
     "execution_count": 5,
     "metadata": {},
     "output_type": "execute_result"
    }
   ],
   "source": [
    "type(dataset)"
   ]
  },
  {
   "cell_type": "code",
   "execution_count": 6,
   "metadata": {},
   "outputs": [
    {
     "name": "stdout",
     "output_type": "stream",
     "text": [
      "{'max_stars_repo_path': 'cypress/support/base.component.ts', 'max_stars_repo_name': 'frederikprijck/ngx-bootstrap', 'max_stars_count': 0, 'id': '0', 'content': '<filename>cypress/support/base.component.ts<gh_stars>0\\nimport { AttrObj } from \\'./interfaces\\';\\n\\nexport abstract class BaseComponent {\\n  titleSel = \\'h1\\';\\n  titleLinkSel = \\'.content-header a\\';\\n  usageExSel = \\'demo-top-section h2\\';\\n  usageExCodeSel = \\'demo-top-section .prettyprint\\';\\n  abstract pageUrl: string;\\n  titleDefaultExample = \\'Usage\\';\\n\\n  navigateTo() {\\n    const bsVersionRoute = Cypress.env(\\'bsVersion\\') ? `?_bsVersion=bs${Cypress.env(\\'bsVersion\\')}` : \\'\\';\\n    cy.visit(`${ this.pageUrl }${bsVersionRoute}`);\\n  }\\n\\n  scrollToMenu(subMenu: string) {\\n    cy.get(\\'examples h3\\').contains(subMenu).scrollIntoView();\\n  }\\n\\n  clickOnDemoMenu(subMenu: string) {\\n    cy.get(\\'add-nav\\').contains(\\'a\\', subMenu).click();\\n  }\\n\\n  clickByText(parent: string, text: string) {\\n    cy.get(parent).contains(text).click();\\n  }\\n\\n  dblClickByText(parent: string, text: string) {\\n    cy.get(parent).contains(text).dblclick();\\n  }\\n\\n  isBtnTxtEqual(baseSelector: string, expectedBtnTxt: string, buttonIndex?: number) {\\n    cy.get(`${ baseSelector } button`).eq(buttonIndex ? buttonIndex : 0).invoke(\\'text\\')\\n      .should(btnTxt => expect(btnTxt).to.equal(expectedBtnTxt));\\n  }\\n\\n  isLabelTxtEqual(baseSelector: string, expectedLabelTxt: string, labelIndex?: number) {\\n    cy.get(`${baseSelector} label`).eq(labelIndex ? labelIndex : 0).invoke(\\'text\\')\\n      .should(labelTxt => expect(labelTxt).to.equal(expectedLabelTxt));\\n  }\\n\\n  clickOnBtn(baseSelector: string, buttonIndex?: number) {\\n    cy.get(`${ baseSelector } button`).eq(buttonIndex ? buttonIndex : 0).click();\\n  }\\n\\n  dblClickOnBtn(baseSelector: string, buttonIndex?: number) {\\n    cy.get(`${ baseSelector } button`).eq(buttonIndex ? buttonIndex : 0).dblclick();\\n  }\\n\\n  clickOnInput(baseSelector: string, inputIndex?: number) {\\n    cy.get(`${ baseSelector } input`).eq(inputIndex ? inputIndex : 0).click();\\n  }\\n\\n  dblClickOnInput(baseSelector: string, inputIndex?: number) {\\n    cy.get(`${ baseSelector } input`).eq(inputIndex ? inputIndex : 0).dblclick();\\n  }\\n\\n  hoverOnBtn(baseSelector: string, buttonIndex?: number) {\\n    cy.get(`${baseSelector} button`).eq(buttonIndex ? buttonIndex : 0).trigger(\\'mouseenter\\');\\n  }\\n\\n  mouseLeave(baseSelector: string, buttonIndex?: number) {\\n    cy.get(`${baseSelector} button`).eq(buttonIndex ? buttonIndex : 0).trigger(\\'mouseleave\\');\\n  }\\n\\n  isInputHaveAttrs(baseSelector: string, attributes: AttrObj[], inputIndex = 0) {\\n    cy.get(`${baseSelector} input`).eq(inputIndex)\\n      .then(input => {\\n        let i = 0;\\n        for (; i < attributes.length; i++) {\\n          expect(input).to.have.attr(attributes[i].attr, attributes[i].value);\\n        }\\n      });\\n  }\\n\\n  isInputValueEqual(baseSelector: string, expectedTxt: string, inputIndex = 0) {\\n    cy.get(`${baseSelector} input`).eq(inputIndex).should(\\'to.have.value\\', expectedTxt);\\n  }\\n\\n  isInputValueContain(baseSelector: string, expectedTxt: string, inputIndex = 0) {\\n    cy.get(`${baseSelector} input`).eq(inputIndex).then(input => {\\n      expect(input.val()).to.contains(expectedTxt);\\n    });\\n  }\\n\\n  clearInputAndSendKeys(baseSelector: string, dataToSend: string, inputIndex = 0) {\\n    cy.get(`${baseSelector} input`).eq(inputIndex).clear().type(dataToSend);\\n  }\\n\\n  clickEnterOnInput(baseSelector: string, inputIndex = 0) {\\n    cy.get(`${baseSelector} input`).eq(inputIndex).type(\\'{enter}\\');\\n  }\\n\\n  isDemoContainsTxt(baseSelector: string, expectedTxt: string, expectedTxtOther?: string) {\\n    cy.get(`${baseSelector}`).invoke(\\'text\\')\\n      .should(blockTxt => {\\n        expect(blockTxt).to.contains(expectedTxt);\\n        expect(blockTxt).to.contains(expectedTxtOther ? expectedTxtOther : expectedTxt);\\n      });\\n  }\\n\\n  isButtonExist(baseSelector: string, buttonName: string, buttonNumber?: number) {\\n    cy.get(`${baseSelector} button`).eq(buttonNumber ? buttonNumber : 0).invoke(\\'text\\')\\n      .should(btnTxt => expect(btnTxt).to.equal(buttonName));\\n  }\\n\\n  isSelectExist(baseSelector: string, selectText: string, selectNumber = 0) {\\n    cy.get(`${baseSelector} select`).eq(selectNumber).invoke(\\'text\\')\\n      .should(btnTxt => expect(btnTxt).to.contain(selectText));\\n  }\\n\\n  selectOne(baseSelector: string, selectToChose: string, selectNumber = 0) {\\n    cy.get(`${baseSelector} select`).eq(selectNumber).select(selectToChose);\\n  }\\n\\n  isPreviewExist(baseSelector: string, previewText: string, previewNumber?: number) {\\n    cy.get(`${baseSelector} .card.card-block`).eq(previewNumber ? previewNumber : 0).invoke(\\'text\\')\\n      .should(btnTxt => expect(btnTxt).to.contain(previewText));\\n  }\\n\\n  isCodePreviewExist(baseSelector: string, previewText: string, exist = true, previewNumber?: number) {\\n    if (exist) {\\n    cy.get(`${baseSelector} .code-preview`).eq(previewNumber ? previewNumber : 0).invoke(\\'text\\')\\n      .should(btnTxt => expect(btnTxt).to.contain(previewText));\\n    } else {\\n      cy.get(`${baseSelector} .code-preview`)\\n        .should(\\'not.exist\\');\\n    }\\n  }\\n\\n  isComponentSrcContain(demoName: string, expectedTxt: string) {\\n    cy.get(\\'examples h3\\')\\n      .contains(demoName)\\n      .parent()\\n      .find(\\'tab[heading*=\"component\"]\\')\\n      .invoke(\\'text\\')\\n      .should(\\'to.contains\\', expectedTxt);\\n  }\\n}\\n'}\n"
     ]
    }
   ],
   "source": [
    "print(dataset[0])"
   ]
  },
  {
   "cell_type": "code",
   "execution_count": 7,
   "metadata": {},
   "outputs": [],
   "source": [
    "dataset = dataset.sort(column_names=[\"max_stars_count\", \"max_stars_repo_name\"], reverse=[True, False])"
   ]
  },
  {
   "cell_type": "code",
   "execution_count": 8,
   "metadata": {},
   "outputs": [
    {
     "name": "stdout",
     "output_type": "stream",
     "text": [
      "Example 0:\n",
      "import { WebpackPlugin } from './types/plugin';\n",
      "declare const Plugin: WebpackPlugin;\n",
      "export = Plugin;\n",
      "\n",
      "\n",
      "\n",
      "Example 1:\n",
      "import Vue from \"../index\";\n",
      "\n",
      "declare module \"../vue\" {\n",
      "  // add instance property and method\n",
      "  interface Vue {\n",
      "    $instanceProperty: string;\n",
      "    $instanceMethod(): void;\n",
      "  }\n",
      "\n",
      "  // add static property and method\n",
      "  interface VueConstructor {\n",
      "    staticProperty: string;\n",
      "    staticMethod(): void;\n",
      "  }\n",
      "}\n",
      "\n",
      "// augment ComponentOptions\n",
      "declare module \"../options\" {\n",
      "  interface ComponentOptions<V extends Vue> {\n",
      "    foo?: string;\n",
      "  }\n",
      "}\n",
      "\n",
      "const vm = new Vue({\n",
      "  props: [\"bar\"],\n",
      "  data: {\n",
      "    a: true\n",
      "  },\n",
      "  foo: \"foo\",\n",
      "  methods: {\n",
      "    foo() {\n",
      "      this.a = false;\n",
      "    }\n",
      "  },\n",
      "  computed: {\n",
      "    BAR(): string {\n",
      "      return this.bar.toUpperCase();\n",
      "    }\n",
      "  }\n",
      "});\n",
      "\n",
      "vm.$instanceProperty;\n",
      "vm.$instanceMethod();\n",
      "\n",
      "Vue.staticProperty;\n",
      "Vue.staticMethod();\n",
      "\n",
      "\n",
      "\n",
      "Example 2:\n",
      "<filename>types/test/umd-test.ts\n",
      "const vm = new Vue({\n",
      "  template: \"<div>hi</div>\"\n",
      "});\n",
      "\n",
      "const options: Vue.ComponentOptions<Vue> = {\n",
      "  template: \"<div>test</div>\"\n",
      "};\n",
      "\n",
      "\n",
      "\n",
      "Example 3:\n",
      "<filename>scripts/jest/typescript/jest.d.ts\n",
      "declare var jasmine: any;\n",
      "declare var __DEV__: boolean;\n",
      "declare var __TEST__: boolean;\n",
      "declare var __EXTENSION__: boolean;\n",
      "\n",
      "declare function afterEach(fn: any): any;\n",
      "declare function beforeEach(fn: any): any;\n",
      "declare function describe(name: string, fn: any): void;\n",
      "declare var it: {\n",
      "  (name: string, fn: any): void;\n",
      "  only: (name: string, fn: any) => void;\n",
      "}\n",
      "declare function expect(val: any): Expect;\n",
      "declare var jest: Jest;\n",
      "declare function pit(name: string, fn: any): void;\n",
      "declare function spyOnDev(obj: any, key: string): any;\n",
      "declare function spyOnDevAndProd(obj: any, key: string): any;\n",
      "declare function spyOnProd(obj: any, key: string): any;\n",
      "declare function xdescribe(name: string, fn: any): void;\n",
      "declare function xit(name: string, fn: any): void;\n",
      "\n",
      "interface Expect {\n",
      "  not: Expect\n",
      "  toThrow(message?: string): void\n",
      "  toThrowError(message?: string): void\n",
      "  toErrorDev(message?: string | Array<string>, options?: any): void\n",
      "  toWarnDev(message?: string | Array<string>, options?: any): void\n",
      "  toBe(value: any): void\n",
      "  toEqual(value: any): void\n",
      "  toBeFalsy(): void\n",
      "  toBeTruthy(): void\n",
      "  toBeNull(): void\n",
      "  toBeUndefined(): void\n",
      "  toBeDefined(): void\n",
      "  toMatch(regexp: RegExp): void\n",
      "  toContain(string: string): void\n",
      "  toBeCloseTo(number: number, delta: number): void\n",
      "  toBeGreaterThan(number: number): void\n",
      "  toBeLessThan(number: number): void\n",
      "  toBeCalled(): void\n",
      "  toBeCalledWith(...arguments): void\n",
      "  lastCalledWith(...arguments): void\n",
      "}\n",
      "\n",
      "interface Jest {\n",
      "  autoMockOff(): void\n",
      "  autoMockOn(): void\n",
      "  clearAllTimers(): void\n",
      "  dontMock(moduleName: string): void\n",
      "  genMockFromModule(moduleObj: Object): Object\n",
      "  genMockFunction(): MockFunction\n",
      "  genMockFn(): MockFunction\n",
      "  mock(moduleName: string): void\n",
      "  runAllTicks(): void\n",
      "  runAllTimers(): void\n",
      "  runOnlyPendingTimers(): void\n",
      "  setMock(moduleName: string, moduleExports: Object): void\n",
      "}\n",
      "\n",
      "interface MockFunction {\n",
      "  (...arguments): any\n",
      "  mock: {\n",
      "    calls: Array<Array<any>>\n",
      "    instances: Array<Object>\n",
      "  }\n",
      "  mockClear(): void\n",
      "  mockImplementation(fn: Function): MockFunction\n",
      "  mockImpl(fn: Function): MockFunction\n",
      "  mockReturnThis(): MockFunction\n",
      "  mockReturnValue(value: any): MockFunction\n",
      "  mockReturnValueOnce(value: any): MockFunction\n",
      "}\n",
      "\n",
      "// Allow importing jasmine-check\n",
      "declare module 'jasmine-check' {\n",
      "  export function install(global?: any): void;\n",
      "}\n",
      "declare var check: any;\n",
      "declare var gen: any;\n",
      "\n",
      "\n",
      "\n",
      "Example 4:\n",
      "'use strict';\n",
      "\n",
      "const path = require('path');\n",
      "const camelcase = require('camelcase');\n",
      "\n",
      "// This is a custom Jest transformer turning file imports into filenames.\n",
      "// http://facebook.github.io/jest/docs/en/webpack.html\n",
      "\n",
      "module.exports = {\n",
      "  process(src, filename) {\n",
      "    const assetFilename = JSON.stringify(path.basename(filename));\n",
      "\n",
      "    if (filename.match(/\\.svg$/)) {\n",
      "      // Based on how SVGR generates a component name:\n",
      "      // https://github.com/smooth-code/svgr/blob/01b194cf967347d43d4cbe6b434404731b87cf27/packages/core/src/state.js#L6\n",
      "      const pascalCaseFilename = camelcase(path.parse(filename).name, {\n",
      "        pascalCase: true,\n",
      "      });\n",
      "      const componentName = `Svg${pascalCaseFilename}`;\n",
      "      return `const React = require('react');\n",
      "      module.exports = {\n",
      "        __esModule: true,\n",
      "        default: ${assetFilename},\n",
      "        ReactComponent: React.forwardRef(function ${componentName}(props, ref) {\n",
      "          return {\n",
      "            $$typeof: Symbol.for('react.element'),\n",
      "            type: 'svg',\n",
      "            ref: ref,\n",
      "            key: null,\n",
      "            props: Object.assign({}, props, {\n",
      "              children: ${assetFilename}\n",
      "            })\n",
      "          };\n",
      "        }),\n",
      "      };`;\n",
      "    }\n",
      "\n",
      "    return `module.exports = ${assetFilename};`;\n",
      "  },\n",
      "};\n",
      "\n",
      "\n",
      "\n",
      "Example 5:\n",
      "/* eslint-disable @typescript-eslint/no-unsafe-assignment */\n",
      "import { Button, Panel } from '@freecodecamp/react-bootstrap';\n",
      "import React, { Component } from 'react';\n",
      "import { TFunction, withTranslation } from 'react-i18next';\n",
      "import { connect } from 'react-redux';\n",
      "import { createSelector } from 'reselect';\n",
      "\n",
      "import {\n",
      "  postWebhookToken,\n",
      "  deleteWebhookToken,\n",
      "  webhookTokenSelector\n",
      "} from '../../redux';\n",
      "import { ButtonSpacer, FullWidthRow, Spacer } from '../helpers';\n",
      "import WebhookDeleteModal from './webhook-delete-modal';\n",
      "\n",
      "import './webhook-token.css';\n",
      "\n",
      "type WebhookTokenProps = {\n",
      "  deleteWebhookToken: () => void;\n",
      "  isSuperBlockPage?: boolean;\n",
      "  postWebhookToken: () => void;\n",
      "  t: TFunction;\n",
      "  webhookToken: string | null;\n",
      "};\n",
      "\n",
      "type WebhookTokenState = {\n",
      "  webhookDeleteModal: boolean;\n",
      "};\n",
      "\n",
      "const mapStateToProps = createSelector(\n",
      "  webhookTokenSelector,\n",
      "  (webhookToken: string | null) => ({\n",
      "    webhookToken\n",
      "  })\n",
      ");\n",
      "\n",
      "const mapDispatchToProps = {\n",
      "  postWebhookToken,\n",
      "  deleteWebhookToken\n",
      "};\n",
      "\n",
      "class WebhookToken extends Component<WebhookTokenProps, WebhookTokenState> {\n",
      "  static displayName: string;\n",
      "  constructor(props: WebhookTokenProps) {\n",
      "    super(props);\n",
      "\n",
      "    this.state = {\n",
      "      webhookDeleteModal: false\n",
      "    };\n",
      "\n",
      "    this.createToken = this.createToken.bind(this);\n",
      "    this.deleteToken = this.deleteToken.bind(this);\n",
      "  }\n",
      "\n",
      "  createToken = () => {\n",
      "    this.props.postWebhookToken();\n",
      "  };\n",
      "\n",
      "  deleteToken = () => {\n",
      "    this.props.deleteWebhookToken();\n",
      "    this.toggleWebhookDeleteModal();\n",
      "  };\n",
      "\n",
      "  toggleWebhookDeleteModal = () => {\n",
      "    return this.setState(state => ({\n",
      "      ...state,\n",
      "      webhookDeleteModal: !state.webhookDeleteModal\n",
      "    }));\n",
      "  };\n",
      "\n",
      "  render() {\n",
      "    const { isSuperBlockPage = false, t, webhookToken = null } = this.props;\n",
      "\n",
      "    return isSuperBlockPage ? (\n",
      "      <>\n",
      "        {!webhookToken && (\n",
      "          <div className='alert alert-info'>\n",
      "            <p>{t('webhook-token.create-p1')}</p>\n",
      "            <Spacer />\n",
      "            <Button\n",
      "              block={true}\n",
      "              bsSize='lg'\n",
      "              onClick={() => this.createToken()}\n",
      "              type='button'\n",
      "            >\n",
      "              {t('webhook-token.create')}\n",
      "            </Button>\n",
      "          </div>\n",
      "        )}\n",
      "      </>\n",
      "    ) : (\n",
      "      <div className='webhook-token text-center'>\n",
      "        <FullWidthRow>\n",
      "          <Panel className='webhook-panel'>\n",
      "            <Panel.Heading>{t('webhook-token.title')}</Panel.Heading>\n",
      "            <Spacer />\n",
      "            {!webhookToken ? (\n",
      "              <p>{t('webhook-token.create-p2')}</p>\n",
      "            ) : (\n",
      "              <p>{t('webhook-token.delete-p1')}</p>\n",
      "            )}\n",
      "            <FullWidthRow>\n",
      "              <input\n",
      "                aria-label='Webhook token'\n",
      "                className='webhook-token-input'\n",
      "                readOnly={true}\n",
      "                type='text'\n",
      "                value={webhookToken || ''}\n",
      "              />\n",
      "              <ButtonSpacer />\n",
      "              {!webhookToken ? (\n",
      "                <Button\n",
      "                  block={true}\n",
      "                  bsSize='lg'\n",
      "                  bsStyle='danger'\n",
      "                  className='btn-info'\n",
      "                  onClick={() => this.createToken()}\n",
      "                  type='button'\n",
      "                >\n",
      "                  {t('webhook-token.create')}\n",
      "                </Button>\n",
      "              ) : (\n",
      "                <Button\n",
      "                  block={true}\n",
      "                  bsSize='lg'\n",
      "                  bsStyle='danger'\n",
      "                  className='btn-info'\n",
      "                  onClick={() => this.toggleWebhookDeleteModal()}\n",
      "                  type='button'\n",
      "                >\n",
      "                  {t('webhook-token.delete')}\n",
      "                </Button>\n",
      "              )}\n",
      "              <Spacer />\n",
      "            </FullWidthRow>\n",
      "          </Panel>\n",
      "\n",
      "          <WebhookDeleteModal\n",
      "            deleteFunction={() => this.deleteToken()}\n",
      "            onHide={() => this.toggleWebhookDeleteModal()}\n",
      "            show={this.state.webhookDeleteModal}\n",
      "          />\n",
      "        </FullWidthRow>\n",
      "      </div>\n",
      "    );\n",
      "  }\n",
      "}\n",
      "\n",
      "WebhookToken.displayName = 'WebhookToken';\n",
      "\n",
      "export default connect(\n",
      "  mapStateToProps,\n",
      "  mapDispatchToProps\n",
      ")(withTranslation()(WebhookToken));\n",
      "\n",
      "\n",
      "\n",
      "Example 6:\n",
      "<filename>tools/ui-components/src/alert/alert.stories.tsx\n",
      "import { Story } from '@storybook/react';\n",
      "import React from 'react';\n",
      "import { Alert, AlertProps } from './alert';\n",
      "\n",
      "const story = {\n",
      "  title: 'Example/Alert',\n",
      "  component: Alert,\n",
      "  argTypes: {\n",
      "    children: { control: { type: 'text' } },\n",
      "    className: { control: { type: 'text' } },\n",
      "    dismissLabel: { control: { type: 'text' } }\n",
      "  }\n",
      "};\n",
      "\n",
      "const Template: Story<AlertProps> = args => <Alert {...args} />;\n",
      "\n",
      "export const Basic = Template.bind({});\n",
      "Basic.args = {\n",
      "  children: 'Hello, Alert!',\n",
      "  className: '',\n",
      "  variant: 'success',\n",
      "  dismissLabel: 'Close alert',\n",
      "  onDismiss: () => console.log('Close alert!')\n",
      "};\n",
      "\n",
      "export const LongText = (): JSX.Element => (\n",
      "  <Alert variant='success'>\n",
      "    Lorem ipsum dolor sit amet, consectetur adipisicing elit. Amet animi commodi\n",
      "    cumque dicta ducimus eum iure, maiores mollitia, odit porro quas quod rerum\n",
      "    soluta sunt tempora unde, vel voluptas voluptates.\n",
      "  </Alert>\n",
      ");\n",
      "\n",
      "export const WithHeadingAndParagraphs = (): JSX.Element => (\n",
      "  <Alert variant='info'>\n",
      "    <h4>\n",
      "      <strong>Some Heading Text</strong>\n",
      "    </h4>\n",
      "    <p>\n",
      "      Lorem ipsum dolor sit amet, consectetur adipisicing elit. Amet animi\n",
      "      commodi cumque dicta ducimus eum iure, maiores mollitia, odit porro quas\n",
      "      quod rerum soluta sunt tempora unde, vel voluptas voluptates.\n",
      "    </p>\n",
      "    <p>\n",
      "      Lorem ipsum dolor sit amet, consectetur adipisicing elit. Amet animi\n",
      "      commodi cumque dicta ducimus eum iure, maiores mollitia, odit porro quas\n",
      "      quod rerum soluta sunt tempora unde, vel voluptas voluptates.\n",
      "    </p>\n",
      "  </Alert>\n",
      ");\n",
      "\n",
      "export const WithCloseButton = (): JSX.Element => (\n",
      "  <Alert onDismiss={() => console.log('Alert closed')} variant='success'>\n",
      "    Hello, Alert!\n",
      "  </Alert>\n",
      ");\n",
      "\n",
      "export const WithoutCloseButton = (): JSX.Element => (\n",
      "  <Alert variant='success'>Hello, Alert without close button!</Alert>\n",
      ");\n",
      "\n",
      "export default story;\n",
      "\n",
      "\n",
      "\n",
      "Example 7:\n",
      "import { render, screen } from '@testing-library/react';\n",
      "import userEvent from '@testing-library/user-event';\n",
      "import React from 'react';\n",
      "import { Button } from './button';\n",
      "\n",
      "const onClick = jest.fn();\n",
      "\n",
      "describe('Button', () => {\n",
      "  it(\"should have the role 'button' and the correct text\", () => {\n",
      "    render(<Button label='Hello world' onClick={onClick} />);\n",
      "    expect(\n",
      "      screen.getByRole('button', { name: /hello world/i })\n",
      "    ).toBeInTheDocument();\n",
      "  });\n",
      "\n",
      "  it('should trigger the onClick prop on click', () => {\n",
      "    render(<Button label='Hello world' onClick={onClick} />);\n",
      "\n",
      "    const button = screen.getByRole('button', { name: /hello world/i });\n",
      "\n",
      "    userEvent.click(button);\n",
      "\n",
      "    expect(onClick).toHaveBeenCalledTimes(1);\n",
      "  });\n",
      "});\n",
      "\n",
      "\n",
      "\n",
      "Example 8:\n",
      "import {\n",
      "  Alert,\n",
      "  Col,\n",
      "  ControlLabel,\n",
      "  FormControl,\n",
      "  FormGroup,\n",
      "  HelpBlock\n",
      "} from '@freecodecamp/react-bootstrap';\n",
      "import { kebabCase } from 'lodash-es';\n",
      "import normalizeUrl from 'normalize-url';\n",
      "import React from 'react';\n",
      "import { Field } from 'react-final-form';\n",
      "import { useTranslation } from 'react-i18next';\n",
      "import { FormOptions } from './form';\n",
      "import {\n",
      "  editorValidator,\n",
      "  localhostValidator,\n",
      "  composeValidators,\n",
      "  fCCValidator,\n",
      "  httpValidator\n",
      "} from './form-validators';\n",
      "\n",
      "type FormFieldsProps = {\n",
      "  formFields: { name: string; label: string }[];\n",
      "  options: FormOptions;\n",
      "};\n",
      "\n",
      "function FormFields(props: FormFieldsProps): JSX.Element {\n",
      "  const { t } = useTranslation();\n",
      "  const { formFields, options = {} }: FormFieldsProps = props;\n",
      "  const {\n",
      "    ignored = [],\n",
      "    placeholders = {},\n",
      "    required = [],\n",
      "    types = {},\n",
      "    isEditorLinkAllowed = false,\n",
      "    isLocalLinkAllowed = false\n",
      "  } = options;\n",
      "\n",
      "  const nullOrWarning = (\n",
      "    value: string,\n",
      "    error: unknown,\n",
      "    isURL: boolean,\n",
      "    name: string\n",
      "  ) => {\n",
      "    let validationError: string | undefined;\n",
      "    if (value && isURL) {\n",
      "      try {\n",
      "        normalizeUrl(value, { stripWWW: false });\n",
      "      } catch (err: unknown) {\n",
      "        validationError = (err as { message?: string })?.message;\n",
      "      }\n",
      "    }\n",
      "    const validationWarning = composeValidators(\n",
      "      name === 'githubLink' || isEditorLinkAllowed ? null : editorValidator,\n",
      "      fCCValidator,\n",
      "      httpValidator,\n",
      "      isLocalLinkAllowed ? null : localhostValidator\n",
      "    )(value);\n",
      "    const message: string = (error ||\n",
      "      validationError ||\n",
      "      validationWarning) as string;\n",
      "    return message ? (\n",
      "      <HelpBlock>\n",
      "        <Alert\n",
      "          bsStyle={error || validationError ? 'danger' : 'info'}\n",
      "          closeLabel={t('buttons.close')}\n",
      "        >\n",
      "          {message}\n",
      "        </Alert>\n",
      "      </HelpBlock>\n",
      "    ) : null;\n",
      "  };\n",
      "  return (\n",
      "    <div>\n",
      "      {formFields\n",
      "        .filter(formField => !ignored.includes(formField.name))\n",
      "        .map(({ name, label }) => (\n",
      "          // TODO: verify if the value is always a string\n",
      "          <Field key={`${kebabCase(name)}-field`} name={name}>\n",
      "            {({ input: { value, onChange }, meta: { pristine, error } }) => {\n",
      "              const key = kebabCase(name);\n",
      "              const type = name in types ? types[name] : 'text';\n",
      "              const placeholder =\n",
      "                name in placeholders ? placeholders[name] : '';\n",
      "              const isURL = types[name] === 'url';\n",
      "              return (\n",
      "                <Col key={key} xs={12}>\n",
      "                  <FormGroup>\n",
      "                    {type === 'hidden' ? null : (\n",
      "                      <ControlLabel htmlFor={key}>{label}</ControlLabel>\n",
      "                    )}\n",
      "                    <FormControl\n",
      "                      componentClass={type === 'textarea' ? type : 'input'}\n",
      "                      id={key}\n",
      "                      name={name}\n",
      "                      onChange={onChange}\n",
      "                      placeholder={placeholder}\n",
      "                      required={required.includes(name)}\n",
      "                      rows={4}\n",
      "                      type={type}\n",
      "                      value={value as string}\n",
      "                    />\n",
      "                    {nullOrWarning(\n",
      "                      value as string,\n",
      "                      !pristine && error,\n",
      "                      isURL,\n",
      "                      name\n",
      "                    )}\n",
      "                  </FormGroup>\n",
      "                </Col>\n",
      "              );\n",
      "            }}\n",
      "          </Field>\n",
      "        ))}\n",
      "    </div>\n",
      "  );\n",
      "}\n",
      "\n",
      "FormFields.displayName = 'FormFields';\n",
      "\n",
      "export default FormFields;\n",
      "\n",
      "\n",
      "\n",
      "Example 9:\n",
      "import React from 'react';\n",
      "import { Trans, useTranslation } from 'react-i18next';\n",
      "\n",
      "import './offline-warning.css';\n",
      "\n",
      "const delayInMilliSeconds = 5000;\n",
      "let id: ReturnType<typeof setTimeout>;\n",
      "\n",
      "interface OfflineWarningProps {\n",
      "  isOnline: boolean;\n",
      "  isServerOnline: boolean;\n",
      "  isSignedIn: boolean;\n",
      "}\n",
      "\n",
      "function OfflineWarning({\n",
      "  isOnline,\n",
      "  isServerOnline,\n",
      "  isSignedIn\n",
      "}: OfflineWarningProps): JSX.Element | null {\n",
      "  const { t } = useTranslation();\n",
      "  const [showWarning, setShowWarning] = React.useState(false);\n",
      "  let message;\n",
      "\n",
      "  if (!isSignedIn || (isOnline && isServerOnline)) {\n",
      "    clearTimeout(id);\n",
      "    if (showWarning) setShowWarning(false);\n",
      "  } else {\n",
      "    message = !isOnline ? (\n",
      "      t('misc.offline')\n",
      "    ) : (\n",
      "      <Trans i18nKey='misc.server-offline'>\n",
      "        <a href={'mailto:<EMAIL>'}>placeholder</a>\n",
      "      </Trans>\n",
      "    );\n",
      "    timeout();\n",
      "  }\n",
      "\n",
      "  function timeout() {\n",
      "    id = setTimeout(function () {\n",
      "      setShowWarning(true);\n",
      "    }, delayInMilliSeconds);\n",
      "  }\n",
      "\n",
      "  return showWarning ? (\n",
      "    <>\n",
      "      <div className='offline-warning alert-info'>{message}</div>\n",
      "      <div style={{ height: `38px` }} />\n",
      "    </>\n",
      "  ) : null;\n",
      "}\n",
      "\n",
      "OfflineWarning.displayName = 'OfflineWarning';\n",
      "\n",
      "export default OfflineWarning;\n",
      "\n",
      "\n",
      "\n"
     ]
    }
   ],
   "source": [
    "# Print the first 10 examples\n",
    "for i, example in enumerate(dataset):\n",
    "    if i < 10:\n",
    "        print(f\"Example {i}:\")\n",
    "        print(example['content'])\n",
    "        print(\"\\n\")\n",
    "    else:\n",
    "        break"
   ]
  },
  {
   "cell_type": "code",
   "execution_count": 9,
   "metadata": {},
   "outputs": [
    {
     "data": {
      "application/vnd.jupyter.widget-view+json": {
       "model_id": "824ecb0859754170b05946e0a42e042d",
       "version_major": 2,
       "version_minor": 0
      },
      "text/plain": [
       "Map:   0%|          | 0/10547331 [00:00<?, ? examples/s]"
      ]
     },
     "metadata": {},
     "output_type": "display_data"
    },
    {
     "name": "stdout",
     "output_type": "stream",
     "text": [
      "Example 0:\n",
      "import { WebpackPlugin } from './types/plugin';\n",
      "declare const Plugin: WebpackPlugin;\n",
      "export = Plugin;\n",
      "\n",
      "Average Line Length: 24.75\n",
      "\n",
      "Example 1:\n",
      "import Vue from \"../index\";\n",
      "\n",
      "declare module \"../vue\" {\n",
      "  // add instance property and method\n",
      "  interface Vue {\n",
      "    $instanceProperty: string;\n",
      "    $instanceMethod(): void;\n",
      "  }\n",
      "\n",
      "  // add static property and method\n",
      "  interface VueConstructor {\n",
      "    staticProperty: string;\n",
      "    staticMethod(): void;\n",
      "  }\n",
      "}\n",
      "\n",
      "// augment ComponentOptions\n",
      "declare module \"../options\" {\n",
      "  interface ComponentOptions<V extends Vue> {\n",
      "    foo?: string;\n",
      "  }\n",
      "}\n",
      "\n",
      "const vm = new Vue({\n",
      "  props: [\"bar\"],\n",
      "  data: {\n",
      "    a: true\n",
      "  },\n",
      "  foo: \"foo\",\n",
      "  methods: {\n",
      "    foo() {\n",
      "      this.a = false;\n",
      "    }\n",
      "  },\n",
      "  computed: {\n",
      "    BAR(): string {\n",
      "      return this.bar.toUpperCase();\n",
      "    }\n",
      "  }\n",
      "});\n",
      "\n",
      "vm.$instanceProperty;\n",
      "vm.$instanceMethod();\n",
      "\n",
      "Vue.staticProperty;\n",
      "Vue.staticMethod();\n",
      "\n",
      "Average Line Length: 14.76595744680851\n",
      "\n",
      "Example 2:\n",
      "<filename>types/test/umd-test.ts\n",
      "const vm = new Vue({\n",
      "  template: \"<div>hi</div>\"\n",
      "});\n",
      "\n",
      "const options: Vue.ComponentOptions<Vue> = {\n",
      "  template: \"<div>test</div>\"\n",
      "};\n",
      "\n",
      "Average Line Length: 17.444444444444443\n",
      "\n",
      "Example 3:\n",
      "<filename>scripts/jest/typescript/jest.d.ts\n",
      "declare var jasmine: any;\n",
      "declare var __DEV__: boolean;\n",
      "declare var __TEST__: boolean;\n",
      "declare var __EXTENSION__: boolean;\n",
      "\n",
      "declare function afterEach(fn: any): any;\n",
      "declare function beforeEach(fn: any): any;\n",
      "declare function describe(name: string, fn: any): void;\n",
      "declare var it: {\n",
      "  (name: string, fn: any): void;\n",
      "  only: (name: string, fn: any) => void;\n",
      "}\n",
      "declare function expect(val: any): Expect;\n",
      "declare var jest: Jest;\n",
      "declare function pit(name: string, fn: any): void;\n",
      "declare function spyOnDev(obj: any, key: string): any;\n",
      "declare function spyOnDevAndProd(obj: any, key: string): any;\n",
      "declare function spyOnProd(obj: any, key: string): any;\n",
      "declare function xdescribe(name: string, fn: any): void;\n",
      "declare function xit(name: string, fn: any): void;\n",
      "\n",
      "interface Expect {\n",
      "  not: Expect\n",
      "  toThrow(message?: string): void\n",
      "  toThrowError(message?: string): void\n",
      "  toErrorDev(message?: string | Array<string>, options?: any): void\n",
      "  toWarnDev(message?: string | Array<string>, options?: any): void\n",
      "  toBe(value: any): void\n",
      "  toEqual(value: any): void\n",
      "  toBeFalsy(): void\n",
      "  toBeTruthy(): void\n",
      "  toBeNull(): void\n",
      "  toBeUndefined(): void\n",
      "  toBeDefined(): void\n",
      "  toMatch(regexp: RegExp): void\n",
      "  toContain(string: string): void\n",
      "  toBeCloseTo(number: number, delta: number): void\n",
      "  toBeGreaterThan(number: number): void\n",
      "  toBeLessThan(number: number): void\n",
      "  toBeCalled(): void\n",
      "  toBeCalledWith(...arguments): void\n",
      "  lastCalledWith(...arguments): void\n",
      "}\n",
      "\n",
      "interface Jest {\n",
      "  autoMockOff(): void\n",
      "  autoMockOn(): void\n",
      "  clearAllTimers(): void\n",
      "  dontMock(moduleName: string): void\n",
      "  genMockFromModule(moduleObj: Object): Object\n",
      "  genMockFunction(): MockFunction\n",
      "  genMockFn(): MockFunction\n",
      "  mock(moduleName: string): void\n",
      "  runAllTicks(): void\n",
      "  runAllTimers(): void\n",
      "  runOnlyPendingTimers(): void\n",
      "  setMock(moduleName: string, moduleExports: Object): void\n",
      "}\n",
      "\n",
      "interface MockFunction {\n",
      "  (...arguments): any\n",
      "  mock: {\n",
      "    calls: Array<Array<any>>\n",
      "    instances: Array<Object>\n",
      "  }\n",
      "  mockClear(): void\n",
      "  mockImplementation(fn: Function): MockFunction\n",
      "  mockImpl(fn: Function): MockFunction\n",
      "  mockReturnThis(): MockFunction\n",
      "  mockReturnValue(value: any): MockFunction\n",
      "  mockReturnValueOnce(value: any): MockFunction\n",
      "}\n",
      "\n",
      "// Allow importing jasmine-check\n",
      "declare module 'jasmine-check' {\n",
      "  export function install(global?: any): void;\n",
      "}\n",
      "declare var check: any;\n",
      "declare var gen: any;\n",
      "\n",
      "Average Line Length: 28.80246913580247\n",
      "\n",
      "Example 4:\n",
      "'use strict';\n",
      "\n",
      "const path = require('path');\n",
      "const camelcase = require('camelcase');\n",
      "\n",
      "// This is a custom Jest transformer turning file imports into filenames.\n",
      "// http://facebook.github.io/jest/docs/en/webpack.html\n",
      "\n",
      "module.exports = {\n",
      "  process(src, filename) {\n",
      "    const assetFilename = JSON.stringify(path.basename(filename));\n",
      "\n",
      "    if (filename.match(/\\.svg$/)) {\n",
      "      // Based on how SVGR generates a component name:\n",
      "      // https://github.com/smooth-code/svgr/blob/01b194cf967347d43d4cbe6b434404731b87cf27/packages/core/src/state.js#L6\n",
      "      const pascalCaseFilename = camelcase(path.parse(filename).name, {\n",
      "        pascalCase: true,\n",
      "      });\n",
      "      const componentName = `Svg${pascalCaseFilename}`;\n",
      "      return `const React = require('react');\n",
      "      module.exports = {\n",
      "        __esModule: true,\n",
      "        default: ${assetFilename},\n",
      "        ReactComponent: React.forwardRef(function ${componentName}(props, ref) {\n",
      "          return {\n",
      "            $$typeof: Symbol.for('react.element'),\n",
      "            type: 'svg',\n",
      "            ref: ref,\n",
      "            key: null,\n",
      "            props: Object.assign({}, props, {\n",
      "              children: ${assetFilename}\n",
      "            })\n",
      "          };\n",
      "        }),\n",
      "      };`;\n",
      "    }\n",
      "\n",
      "    return `module.exports = ${assetFilename};`;\n",
      "  },\n",
      "};\n",
      "\n",
      "Average Line Length: 29.78048780487805\n",
      "\n",
      "Example 5:\n",
      "/* eslint-disable @typescript-eslint/no-unsafe-assignment */\n",
      "import { Button, Panel } from '@freecodecamp/react-bootstrap';\n",
      "import React, { Component } from 'react';\n",
      "import { TFunction, withTranslation } from 'react-i18next';\n",
      "import { connect } from 'react-redux';\n",
      "import { createSelector } from 'reselect';\n",
      "\n",
      "import {\n",
      "  postWebhookToken,\n",
      "  deleteWebhookToken,\n",
      "  webhookTokenSelector\n",
      "} from '../../redux';\n",
      "import { ButtonSpacer, FullWidthRow, Spacer } from '../helpers';\n",
      "import WebhookDeleteModal from './webhook-delete-modal';\n",
      "\n",
      "import './webhook-token.css';\n",
      "\n",
      "type WebhookTokenProps = {\n",
      "  deleteWebhookToken: () => void;\n",
      "  isSuperBlockPage?: boolean;\n",
      "  postWebhookToken: () => void;\n",
      "  t: TFunction;\n",
      "  webhookToken: string | null;\n",
      "};\n",
      "\n",
      "type WebhookTokenState = {\n",
      "  webhookDeleteModal: boolean;\n",
      "};\n",
      "\n",
      "const mapStateToProps = createSelector(\n",
      "  webhookTokenSelector,\n",
      "  (webhookToken: string | null) => ({\n",
      "    webhookToken\n",
      "  })\n",
      ");\n",
      "\n",
      "const mapDispatchToProps = {\n",
      "  postWebhookToken,\n",
      "  deleteWebhookToken\n",
      "};\n",
      "\n",
      "class WebhookToken extends Component<WebhookTokenProps, WebhookTokenState> {\n",
      "  static displayName: string;\n",
      "  constructor(props: WebhookTokenProps) {\n",
      "    super(props);\n",
      "\n",
      "    this.state = {\n",
      "      webhookDeleteModal: false\n",
      "    };\n",
      "\n",
      "    this.createToken = this.createToken.bind(this);\n",
      "    this.deleteToken = this.deleteToken.bind(this);\n",
      "  }\n",
      "\n",
      "  createToken = () => {\n",
      "    this.props.postWebhookToken();\n",
      "  };\n",
      "\n",
      "  deleteToken = () => {\n",
      "    this.props.deleteWebhookToken();\n",
      "    this.toggleWebhookDeleteModal();\n",
      "  };\n",
      "\n",
      "  toggleWebhookDeleteModal = () => {\n",
      "    return this.setState(state => ({\n",
      "      ...state,\n",
      "      webhookDeleteModal: !state.webhookDeleteModal\n",
      "    }));\n",
      "  };\n",
      "\n",
      "  render() {\n",
      "    const { isSuperBlockPage = false, t, webhookToken = null } = this.props;\n",
      "\n",
      "    return isSuperBlockPage ? (\n",
      "      <>\n",
      "        {!webhookToken && (\n",
      "          <div className='alert alert-info'>\n",
      "            <p>{t('webhook-token.create-p1')}</p>\n",
      "            <Spacer />\n",
      "            <Button\n",
      "              block={true}\n",
      "              bsSize='lg'\n",
      "              onClick={() => this.createToken()}\n",
      "              type='button'\n",
      "            >\n",
      "              {t('webhook-token.create')}\n",
      "            </Button>\n",
      "          </div>\n",
      "        )}\n",
      "      </>\n",
      "    ) : (\n",
      "      <div className='webhook-token text-center'>\n",
      "        <FullWidthRow>\n",
      "          <Panel className='webhook-panel'>\n",
      "            <Panel.Heading>{t('webhook-token.title')}</Panel.Heading>\n",
      "            <Spacer />\n",
      "            {!webhookToken ? (\n",
      "              <p>{t('webhook-token.create-p2')}</p>\n",
      "            ) : (\n",
      "              <p>{t('webhook-token.delete-p1')}</p>\n",
      "            )}\n",
      "            <FullWidthRow>\n",
      "              <input\n",
      "                aria-label='Webhook token'\n",
      "                className='webhook-token-input'\n",
      "                readOnly={true}\n",
      "                type='text'\n",
      "                value={webhookToken || ''}\n",
      "              />\n",
      "              <ButtonSpacer />\n",
      "              {!webhookToken ? (\n",
      "                <Button\n",
      "                  block={true}\n",
      "                  bsSize='lg'\n",
      "                  bsStyle='danger'\n",
      "                  className='btn-info'\n",
      "                  onClick={() => this.createToken()}\n",
      "                  type='button'\n",
      "                >\n",
      "                  {t('webhook-token.create')}\n",
      "                </Button>\n",
      "              ) : (\n",
      "                <Button\n",
      "                  block={true}\n",
      "                  bsSize='lg'\n",
      "                  bsStyle='danger'\n",
      "                  className='btn-info'\n",
      "                  onClick={() => this.toggleWebhookDeleteModal()}\n",
      "                  type='button'\n",
      "                >\n",
      "                  {t('webhook-token.delete')}\n",
      "                </Button>\n",
      "              )}\n",
      "              <Spacer />\n",
      "            </FullWidthRow>\n",
      "          </Panel>\n",
      "\n",
      "          <WebhookDeleteModal\n",
      "            deleteFunction={() => this.deleteToken()}\n",
      "            onHide={() => this.toggleWebhookDeleteModal()}\n",
      "            show={this.state.webhookDeleteModal}\n",
      "          />\n",
      "        </FullWidthRow>\n",
      "      </div>\n",
      "    );\n",
      "  }\n",
      "}\n",
      "\n",
      "WebhookToken.displayName = 'WebhookToken';\n",
      "\n",
      "export default connect(\n",
      "  mapStateToProps,\n",
      "  mapDispatchToProps\n",
      ")(withTranslation()(WebhookToken));\n",
      "\n",
      "Average Line Length: 25.490322580645163\n",
      "\n",
      "Example 6:\n",
      "<filename>tools/ui-components/src/alert/alert.stories.tsx\n",
      "import { Story } from '@storybook/react';\n",
      "import React from 'react';\n",
      "import { Alert, AlertProps } from './alert';\n",
      "\n",
      "const story = {\n",
      "  title: 'Example/Alert',\n",
      "  component: Alert,\n",
      "  argTypes: {\n",
      "    children: { control: { type: 'text' } },\n",
      "    className: { control: { type: 'text' } },\n",
      "    dismissLabel: { control: { type: 'text' } }\n",
      "  }\n",
      "};\n",
      "\n",
      "const Template: Story<AlertProps> = args => <Alert {...args} />;\n",
      "\n",
      "export const Basic = Template.bind({});\n",
      "Basic.args = {\n",
      "  children: 'Hello, Alert!',\n",
      "  className: '',\n",
      "  variant: 'success',\n",
      "  dismissLabel: 'Close alert',\n",
      "  onDismiss: () => console.log('Close alert!')\n",
      "};\n",
      "\n",
      "export const LongText = (): JSX.Element => (\n",
      "  <Alert variant='success'>\n",
      "    Lorem ipsum dolor sit amet, consectetur adipisicing elit. Amet animi commodi\n",
      "    cumque dicta ducimus eum iure, maiores mollitia, odit porro quas quod rerum\n",
      "    soluta sunt tempora unde, vel voluptas voluptates.\n",
      "  </Alert>\n",
      ");\n",
      "\n",
      "export const WithHeadingAndParagraphs = (): JSX.Element => (\n",
      "  <Alert variant='info'>\n",
      "    <h4>\n",
      "      <strong>Some Heading Text</strong>\n",
      "    </h4>\n",
      "    <p>\n",
      "      Lorem ipsum dolor sit amet, consectetur adipisicing elit. Amet animi\n",
      "      commodi cumque dicta ducimus eum iure, maiores mollitia, odit porro quas\n",
      "      quod rerum soluta sunt tempora unde, vel voluptas voluptates.\n",
      "    </p>\n",
      "    <p>\n",
      "      Lorem ipsum dolor sit amet, consectetur adipisicing elit. Amet animi\n",
      "      commodi cumque dicta ducimus eum iure, maiores mollitia, odit porro quas\n",
      "      quod rerum soluta sunt tempora unde, vel voluptas voluptates.\n",
      "    </p>\n",
      "  </Alert>\n",
      ");\n",
      "\n",
      "export const WithCloseButton = (): JSX.Element => (\n",
      "  <Alert onDismiss={() => console.log('Alert closed')} variant='success'>\n",
      "    Hello, Alert!\n",
      "  </Alert>\n",
      ");\n",
      "\n",
      "export const WithoutCloseButton = (): JSX.Element => (\n",
      "  <Alert variant='success'>Hello, Alert without close button!</Alert>\n",
      ");\n",
      "\n",
      "export default story;\n",
      "\n",
      "Average Line Length: 29.015625\n",
      "\n",
      "Example 7:\n",
      "import { render, screen } from '@testing-library/react';\n",
      "import userEvent from '@testing-library/user-event';\n",
      "import React from 'react';\n",
      "import { Button } from './button';\n",
      "\n",
      "const onClick = jest.fn();\n",
      "\n",
      "describe('Button', () => {\n",
      "  it(\"should have the role 'button' and the correct text\", () => {\n",
      "    render(<Button label='Hello world' onClick={onClick} />);\n",
      "    expect(\n",
      "      screen.getByRole('button', { name: /hello world/i })\n",
      "    ).toBeInTheDocument();\n",
      "  });\n",
      "\n",
      "  it('should trigger the onClick prop on click', () => {\n",
      "    render(<Button label='Hello world' onClick={onClick} />);\n",
      "\n",
      "    const button = screen.getByRole('button', { name: /hello world/i });\n",
      "\n",
      "    userEvent.click(button);\n",
      "\n",
      "    expect(onClick).toHaveBeenCalledTimes(1);\n",
      "  });\n",
      "});\n",
      "\n",
      "Average Line Length: 27.576923076923077\n",
      "\n",
      "Example 8:\n",
      "import {\n",
      "  Alert,\n",
      "  Col,\n",
      "  ControlLabel,\n",
      "  FormControl,\n",
      "  FormGroup,\n",
      "  HelpBlock\n",
      "} from '@freecodecamp/react-bootstrap';\n",
      "import { kebabCase } from 'lodash-es';\n",
      "import normalizeUrl from 'normalize-url';\n",
      "import React from 'react';\n",
      "import { Field } from 'react-final-form';\n",
      "import { useTranslation } from 'react-i18next';\n",
      "import { FormOptions } from './form';\n",
      "import {\n",
      "  editorValidator,\n",
      "  localhostValidator,\n",
      "  composeValidators,\n",
      "  fCCValidator,\n",
      "  httpValidator\n",
      "} from './form-validators';\n",
      "\n",
      "type FormFieldsProps = {\n",
      "  formFields: { name: string; label: string }[];\n",
      "  options: FormOptions;\n",
      "};\n",
      "\n",
      "function FormFields(props: FormFieldsProps): JSX.Element {\n",
      "  const { t } = useTranslation();\n",
      "  const { formFields, options = {} }: FormFieldsProps = props;\n",
      "  const {\n",
      "    ignored = [],\n",
      "    placeholders = {},\n",
      "    required = [],\n",
      "    types = {},\n",
      "    isEditorLinkAllowed = false,\n",
      "    isLocalLinkAllowed = false\n",
      "  } = options;\n",
      "\n",
      "  const nullOrWarning = (\n",
      "    value: string,\n",
      "    error: unknown,\n",
      "    isURL: boolean,\n",
      "    name: string\n",
      "  ) => {\n",
      "    let validationError: string | undefined;\n",
      "    if (value && isURL) {\n",
      "      try {\n",
      "        normalizeUrl(value, { stripWWW: false });\n",
      "      } catch (err: unknown) {\n",
      "        validationError = (err as { message?: string })?.message;\n",
      "      }\n",
      "    }\n",
      "    const validationWarning = composeValidators(\n",
      "      name === 'githubLink' || isEditorLinkAllowed ? null : editorValidator,\n",
      "      fCCValidator,\n",
      "      httpValidator,\n",
      "      isLocalLinkAllowed ? null : localhostValidator\n",
      "    )(value);\n",
      "    const message: string = (error ||\n",
      "      validationError ||\n",
      "      validationWarning) as string;\n",
      "    return message ? (\n",
      "      <HelpBlock>\n",
      "        <Alert\n",
      "          bsStyle={error || validationError ? 'danger' : 'info'}\n",
      "          closeLabel={t('buttons.close')}\n",
      "        >\n",
      "          {message}\n",
      "        </Alert>\n",
      "      </HelpBlock>\n",
      "    ) : null;\n",
      "  };\n",
      "  return (\n",
      "    <div>\n",
      "      {formFields\n",
      "        .filter(formField => !ignored.includes(formField.name))\n",
      "        .map(({ name, label }) => (\n",
      "          // TODO: verify if the value is always a string\n",
      "          <Field key={`${kebabCase(name)}-field`} name={name}>\n",
      "            {({ input: { value, onChange }, meta: { pristine, error } }) => {\n",
      "              const key = kebabCase(name);\n",
      "              const type = name in types ? types[name] : 'text';\n",
      "              const placeholder =\n",
      "                name in placeholders ? placeholders[name] : '';\n",
      "              const isURL = types[name] === 'url';\n",
      "              return (\n",
      "                <Col key={key} xs={12}>\n",
      "                  <FormGroup>\n",
      "                    {type === 'hidden' ? null : (\n",
      "                      <ControlLabel htmlFor={key}>{label}</ControlLabel>\n",
      "                    )}\n",
      "                    <FormControl\n",
      "                      componentClass={type === 'textarea' ? type : 'input'}\n",
      "                      id={key}\n",
      "                      name={name}\n",
      "                      onChange={onChange}\n",
      "                      placeholder={placeholder}\n",
      "                      required={required.includes(name)}\n",
      "                      rows={4}\n",
      "                      type={type}\n",
      "                      value={value as string}\n",
      "                    />\n",
      "                    {nullOrWarning(\n",
      "                      value as string,\n",
      "                      !pristine && error,\n",
      "                      isURL,\n",
      "                      name\n",
      "                    )}\n",
      "                  </FormGroup>\n",
      "                </Col>\n",
      "              );\n",
      "            }}\n",
      "          </Field>\n",
      "        ))}\n",
      "    </div>\n",
      "  );\n",
      "}\n",
      "\n",
      "FormFields.displayName = 'FormFields';\n",
      "\n",
      "export default FormFields;\n",
      "\n",
      "Average Line Length: 27.764227642276424\n",
      "\n",
      "Example 9:\n",
      "import React from 'react';\n",
      "import { Trans, useTranslation } from 'react-i18next';\n",
      "\n",
      "import './offline-warning.css';\n",
      "\n",
      "const delayInMilliSeconds = 5000;\n",
      "let id: ReturnType<typeof setTimeout>;\n",
      "\n",
      "interface OfflineWarningProps {\n",
      "  isOnline: boolean;\n",
      "  isServerOnline: boolean;\n",
      "  isSignedIn: boolean;\n",
      "}\n",
      "\n",
      "function OfflineWarning({\n",
      "  isOnline,\n",
      "  isServerOnline,\n",
      "  isSignedIn\n",
      "}: OfflineWarningProps): JSX.Element | null {\n",
      "  const { t } = useTranslation();\n",
      "  const [showWarning, setShowWarning] = React.useState(false);\n",
      "  let message;\n",
      "\n",
      "  if (!isSignedIn || (isOnline && isServerOnline)) {\n",
      "    clearTimeout(id);\n",
      "    if (showWarning) setShowWarning(false);\n",
      "  } else {\n",
      "    message = !isOnline ? (\n",
      "      t('misc.offline')\n",
      "    ) : (\n",
      "      <Trans i18nKey='misc.server-offline'>\n",
      "        <a href={'mailto:<EMAIL>'}>placeholder</a>\n",
      "      </Trans>\n",
      "    );\n",
      "    timeout();\n",
      "  }\n",
      "\n",
      "  function timeout() {\n",
      "    id = setTimeout(function () {\n",
      "      setShowWarning(true);\n",
      "    }, delayInMilliSeconds);\n",
      "  }\n",
      "\n",
      "  return showWarning ? (\n",
      "    <>\n",
      "      <div className='offline-warning alert-info'>{message}</div>\n",
      "      <div style={{ height: `38px` }} />\n",
      "    </>\n",
      "  ) : null;\n",
      "}\n",
      "\n",
      "OfflineWarning.displayName = 'OfflineWarning';\n",
      "\n",
      "export default OfflineWarning;\n",
      "\n",
      "Average Line Length: 21.072727272727274\n",
      "\n"
     ]
    }
   ],
   "source": [
    "from datasets import Dataset\n",
    "\n",
    "def calculate_avg_line_length(example):\n",
    "    lines = example['content'].split('\\n')\n",
    "    avg_length = sum(len(line) for line in lines) / len(lines)\n",
    "    example['avg_line_length'] = avg_length\n",
    "    return example\n",
    "\n",
    "dataset = dataset.map(calculate_avg_line_length)\n",
    "\n",
    "for i, example in enumerate(dataset):\n",
    "    if i < 10:\n",
    "        print(f\"Example {i}:\")\n",
    "        print(example['content'])\n",
    "        print(f\"Average Line Length: {example['avg_line_length']}\\n\")\n",
    "    else:\n",
    "        break"
   ]
  },
  {
   "cell_type": "code",
   "execution_count": 10,
   "metadata": {},
   "outputs": [],
   "source": [
    "sliced_dataset = dataset[:2500000]"
   ]
  },
  {
   "cell_type": "code",
   "execution_count": 11,
   "metadata": {},
   "outputs": [],
   "source": [
    "del dataset"
   ]
  },
  {
   "cell_type": "code",
   "execution_count": 12,
   "metadata": {},
   "outputs": [],
   "source": [
    "import pandas as pd\n",
    "\n",
    "df = pd.DataFrame(sliced_dataset)"
   ]
  },
  {
   "cell_type": "code",
   "execution_count": 13,
   "metadata": {},
   "outputs": [
    {
     "name": "stdout",
     "output_type": "stream",
     "text": [
      "Statistics for avg_line_length:\n",
      "count    2.500000e+06\n",
      "mean     2.814000e+01\n",
      "std      8.723625e+00\n",
      "min      1.031707e+00\n",
      "25%      2.260526e+01\n",
      "50%      2.700000e+01\n",
      "75%      3.216667e+01\n",
      "max      1.290000e+02\n",
      "Name: avg_line_length, dtype: float64\n"
     ]
    }
   ],
   "source": [
    "avg_line_length_stats = df['avg_line_length'].describe()\n",
    "print(\"Statistics for avg_line_length:\")\n",
    "print(avg_line_length_stats)"
   ]
  },
  {
   "cell_type": "code",
   "execution_count": 14,
   "metadata": {},
   "outputs": [
    {
     "data": {
      "image/png": "[encoded data removed]",
      "text/plain": [
       "<Figure size 1200x600 with 1 Axes>"
      ]
     },
     "metadata": {},
     "output_type": "display_data"
    }
   ],
   "source": [
    "import matplotlib.pyplot as plt\n",
    "import seaborn as sns\n",
    "\n",
    "plt.figure(figsize=(12, 6))\n",
    "sns.boxplot(x=df['avg_line_length'])\n",
    "plt.title('Boxplot of Average Line Length')\n",
    "plt.xlabel('Average Line Length')\n",
    "plt.show()"
   ]
  },
  {
   "cell_type": "code",
   "execution_count": 15,
   "metadata": {},
   "outputs": [],
   "source": [
    "Q1 = df['avg_line_length'].quantile(0.25)\n",
    "Q3 = df['avg_line_length'].quantile(0.75)\n",
    "IQR = Q3 - Q1\n"
   ]
  },
  {
   "cell_type": "code",
   "execution_count": 16,
   "metadata": {},
   "outputs": [
    {
     "name": "stdout",
     "output_type": "stream",
     "text": [
      "Number of outliers: 84019\n"
     ]
    }
   ],
   "source": [
    "outliers = df[(df['avg_line_length'] < (Q1 - 1.5 * IQR)) | (df['avg_line_length'] > (Q3 + 1.5 * IQR))]\n",
    "print(f\"Number of outliers: {len(outliers)}\")"
   ]
  },
  {
   "cell_type": "code",
   "execution_count": 17,
   "metadata": {},
   "outputs": [
    {
     "data": {
      "text/plain": [
       "count    84019.000000\n",
       "mean        55.159799\n",
       "std         12.151462\n",
       "min          1.031707\n",
       "25%         48.777931\n",
       "50%         52.581395\n",
       "75%         59.666667\n",
       "max        129.000000\n",
       "Name: avg_line_length, dtype: float64"
      ]
     },
     "execution_count": 17,
     "metadata": {},
     "output_type": "execute_result"
    }
   ],
   "source": [
    "outliers['avg_line_length'].describe()"
   ]
  },
  {
   "cell_type": "code",
   "execution_count": 18,
   "metadata": {},
   "outputs": [],
   "source": [
    "df.drop(outliers.index, inplace=True)"
   ]
  },
  {
   "cell_type": "code",
   "execution_count": 19,
   "metadata": {},
   "outputs": [
    {
     "data": {
      "text/plain": [
       "count    2.415981e+06\n",
       "mean     2.720035e+01\n",
       "std      6.880487e+00\n",
       "min      8.266667e+00\n",
       "25%      2.245455e+01\n",
       "50%      2.673846e+01\n",
       "75%      3.152795e+01\n",
       "max      4.650847e+01\n",
       "Name: avg_line_length, dtype: float64"
      ]
     },
     "execution_count": 19,
     "metadata": {},
     "output_type": "execute_result"
    }
   ],
   "source": [
    "df['avg_line_length'].describe()"
   ]
  },
  {
   "cell_type": "code",
   "execution_count": 20,
   "metadata": {},
   "outputs": [
    {
     "data": {
      "text/plain": [
       "32.85"
      ]
     },
     "execution_count": 20,
     "metadata": {},
     "output_type": "execute_result"
    }
   ],
   "source": [
    "import numpy as np\n",
    "\n",
    "np.percentile(df['avg_line_length'], 80)"
   ]
  },
  {
   "cell_type": "code",
   "execution_count": 21,
   "metadata": {},
   "outputs": [
    {
     "data": {
      "text/plain": [
       "count    2.415981e+06\n",
       "mean     8.250730e+01\n",
       "std      2.953171e+02\n",
       "min      1.000000e+00\n",
       "25%      1.600000e+01\n",
       "50%      3.800000e+01\n",
       "75%      8.500000e+01\n",
       "max      6.823100e+04\n",
       "Name: line_count, dtype: float64"
      ]
     },
     "execution_count": 21,
     "metadata": {},
     "output_type": "execute_result"
    }
   ],
   "source": [
    "df['line_count'] = df['content'].apply(lambda x: len(x.split('\\n')))\n",
    "df['line_count'].describe()"
   ]
  },
  {
   "cell_type": "code",
   "execution_count": 22,
   "metadata": {},
   "outputs": [],
   "source": [
    "count_range_dict = {\n",
    "    \"0-100\": 0,\n",
    "    \"101-200\": 0,\n",
    "    \"201-300\": 0,\n",
    "    \"301-400\": 0,\n",
    "    \"401-500\": 0,\n",
    "    \"501-600\": 0,\n",
    "    \"601-700\": 0,\n",
    "    \"701-800\": 0,\n",
    "    \"801-900\": 0,\n",
    "    \"901-1000\": 0,\n",
    "    \"1000+\": 0\n",
    "}\n",
    "\n",
    "for count in df['line_count']:\n",
    "    if count <= 100:\n",
    "        count_range_dict[\"0-100\"] += 1\n",
    "    elif count <= 200:\n",
    "        count_range_dict[\"101-200\"] += 1\n",
    "    elif count <= 300:\n",
    "        count_range_dict[\"201-300\"] += 1\n",
    "    elif count <= 400:\n",
    "        count_range_dict[\"301-400\"] += 1\n",
    "    elif count <= 500:\n",
    "        count_range_dict[\"401-500\"] += 1\n",
    "    elif count <= 600:\n",
    "        count_range_dict[\"501-600\"] += 1\n",
    "    elif count <= 700:\n",
    "        count_range_dict[\"601-700\"] += 1\n",
    "    elif count <= 800:\n",
    "        count_range_dict[\"701-800\"] += 1\n",
    "    elif count <= 900:\n",
    "        count_range_dict[\"801-900\"] += 1\n",
    "    elif count <= 1000:\n",
    "        count_range_dict[\"901-1000\"] += 1\n",
    "    else:\n",
    "        count_range_dict[\"1000+\"] += 1"
   ]
  },
  {
   "cell_type": "code",
   "execution_count": 23,
   "metadata": {},
   "outputs": [
    {
     "name": "stdout",
     "output_type": "stream",
     "text": [
      "Number of examples with line count in range 0-100: 1919015\n",
      "Number of examples with line count in range 101-200: 301799\n",
      "Number of examples with line count in range 201-300: 94348\n",
      "Number of examples with line count in range 301-400: 40772\n",
      "Number of examples with line count in range 401-500: 20193\n",
      "Number of examples with line count in range 501-600: 11643\n",
      "Number of examples with line count in range 601-700: 7017\n",
      "Number of examples with line count in range 701-800: 4818\n",
      "Number of examples with line count in range 801-900: 3243\n",
      "Number of examples with line count in range 901-1000: 2281\n",
      "Number of examples with line count in range 1000+: 10852\n"
     ]
    }
   ],
   "source": [
    "for key, value in count_range_dict.items():\n",
    "    print(f\"Number of examples with line count in range {key}: {value}\")"
   ]
  },
  {
   "cell_type": "code",
   "execution_count": 24,
   "metadata": {},
   "outputs": [
    {
     "data": {
      "image/png": "[encoded data removed]",
      "text/plain": [
       "<Figure size 1200x600 with 1 Axes>"
      ]
     },
     "metadata": {},
     "output_type": "display_data"
    }
   ],
   "source": [
    "import matplotlib.pyplot as plt\n",
    "import seaborn as sns\n",
    "%matplotlib inline\n",
    "\n",
    "plt.figure(figsize=(12, 6))\n",
    "sns.barplot(x=list(count_range_dict.keys()), y=list(count_range_dict.values()))\n",
    "plt.title(\"Distribution of TYPESCRIPT code lengths\")\n",
    "plt.xlabel(\"Length of TYPESCRIPT code\")\n",
    "plt.ylabel(\"Number of examples\")\n",
    "plt.xticks(rotation=45)\n",
    "plt.show()"
   ]
  },
  {
   "cell_type": "code",
   "execution_count": 25,
   "metadata": {},
   "outputs": [
    {
     "data": {
      "text/html": [
       "<div>\n",
       "<style scoped>\n",
       "    .dataframe tbody tr th:only-of-type {\n",
       "        vertical-align: middle;\n",
       "    }\n",
       "\n",
       "    .dataframe tbody tr th {\n",
       "        vertical-align: top;\n",
       "    }\n",
       "\n",
       "    .dataframe thead th {\n",
       "        text-align: right;\n",
       "    }\n",
       "</style>\n",
       "<table border=\"1\" class=\"dataframe\">\n",
       "  <thead>\n",
       "    <tr style=\"text-align: right;\">\n",
       "      <th></th>\n",
       "      <th>Length</th>\n",
       "      <th>Count</th>\n",
       "      <th>Cumulative Count</th>\n",
       "      <th>Percentage</th>\n",
       "      <th>Cumulative Percentage</th>\n",
       "    </tr>\n",
       "  </thead>\n",
       "  <tbody>\n",
       "    <tr>\n",
       "      <th>0</th>\n",
       "      <td>0-100</td>\n",
       "      <td>1919015</td>\n",
       "      <td>1919015</td>\n",
       "      <td>79.430053</td>\n",
       "      <td>79.430053</td>\n",
       "    </tr>\n",
       "    <tr>\n",
       "      <th>1</th>\n",
       "      <td>101-200</td>\n",
       "      <td>301799</td>\n",
       "      <td>2220814</td>\n",
       "      <td>12.491779</td>\n",
       "      <td>91.921832</td>\n",
       "    </tr>\n",
       "    <tr>\n",
       "      <th>2</th>\n",
       "      <td>201-300</td>\n",
       "      <td>94348</td>\n",
       "      <td>2315162</td>\n",
       "      <td>3.905163</td>\n",
       "      <td>95.826995</td>\n",
       "    </tr>\n",
       "    <tr>\n",
       "      <th>3</th>\n",
       "      <td>301-400</td>\n",
       "      <td>40772</td>\n",
       "      <td>2355934</td>\n",
       "      <td>1.687596</td>\n",
       "      <td>97.514591</td>\n",
       "    </tr>\n",
       "    <tr>\n",
       "      <th>4</th>\n",
       "      <td>401-500</td>\n",
       "      <td>20193</td>\n",
       "      <td>2376127</td>\n",
       "      <td>0.835810</td>\n",
       "      <td>98.350401</td>\n",
       "    </tr>\n",
       "    <tr>\n",
       "      <th>5</th>\n",
       "      <td>501-600</td>\n",
       "      <td>11643</td>\n",
       "      <td>2387770</td>\n",
       "      <td>0.481916</td>\n",
       "      <td>98.832317</td>\n",
       "    </tr>\n",
       "    <tr>\n",
       "      <th>6</th>\n",
       "      <td>601-700</td>\n",
       "      <td>7017</td>\n",
       "      <td>2394787</td>\n",
       "      <td>0.290441</td>\n",
       "      <td>99.122758</td>\n",
       "    </tr>\n",
       "    <tr>\n",
       "      <th>7</th>\n",
       "      <td>701-800</td>\n",
       "      <td>4818</td>\n",
       "      <td>2399605</td>\n",
       "      <td>0.199422</td>\n",
       "      <td>99.322180</td>\n",
       "    </tr>\n",
       "    <tr>\n",
       "      <th>8</th>\n",
       "      <td>801-900</td>\n",
       "      <td>3243</td>\n",
       "      <td>2402848</td>\n",
       "      <td>0.134231</td>\n",
       "      <td>99.456411</td>\n",
       "    </tr>\n",
       "    <tr>\n",
       "      <th>9</th>\n",
       "      <td>901-1000</td>\n",
       "      <td>2281</td>\n",
       "      <td>2405129</td>\n",
       "      <td>0.094413</td>\n",
       "      <td>99.550824</td>\n",
       "    </tr>\n",
       "    <tr>\n",
       "      <th>10</th>\n",
       "      <td>1000+</td>\n",
       "      <td>10852</td>\n",
       "      <td>2415981</td>\n",
       "      <td>0.449176</td>\n",
       "      <td>100.000000</td>\n",
       "    </tr>\n",
       "  </tbody>\n",
       "</table>\n",
       "</div>"
      ],
      "text/plain": [
       "      Length    Count  Cumulative Count  Percentage  Cumulative Percentage\n",
       "0      0-100  1919015           1919015   79.430053              79.430053\n",
       "1    101-200   301799           2220814   12.491779              91.921832\n",
       "2    201-300    94348           2315162    3.905163              95.826995\n",
       "3    301-400    40772           2355934    1.687596              97.514591\n",
       "4    401-500    20193           2376127    0.835810              98.350401\n",
       "5    501-600    11643           2387770    0.481916              98.832317\n",
       "6    601-700     7017           2394787    0.290441              99.122758\n",
       "7    701-800     4818           2399605    0.199422              99.322180\n",
       "8    801-900     3243           2402848    0.134231              99.456411\n",
       "9   901-1000     2281           2405129    0.094413              99.550824\n",
       "10     1000+    10852           2415981    0.449176             100.000000"
      ]
     },
     "execution_count": 25,
     "metadata": {},
     "output_type": "execute_result"
    }
   ],
   "source": [
    "df_line = pd.DataFrame(list(count_range_dict.items()), columns=[\"Length\", \"Count\"])\n",
    "df_line[\"Cumulative Count\"] = df_line[\"Count\"].cumsum()\n",
    "df_line[\"Percentage\"] = df_line[\"Count\"] / df_line[\"Count\"].sum() * 100\n",
    "df_line[\"Cumulative Percentage\"] = df_line[\"Percentage\"].cumsum()\n",
    "df_line.head(11)"
   ]
  },
  {
   "cell_type": "code",
   "execution_count": 26,
   "metadata": {},
   "outputs": [
    {
     "data": {
      "text/plain": [
       "174.0"
      ]
     },
     "execution_count": 26,
     "metadata": {},
     "output_type": "execute_result"
    }
   ],
   "source": [
    "np.percentile(df['line_count'], 90)"
   ]
  },
  {
   "cell_type": "code",
   "execution_count": 27,
   "metadata": {},
   "outputs": [
    {
     "data": {
      "text/plain": [
       "Index(['max_stars_repo_path', 'max_stars_repo_name', 'max_stars_count', 'id',\n",
       "       'content', 'avg_line_length', 'line_count'],\n",
       "      dtype='object')"
      ]
     },
     "execution_count": 27,
     "metadata": {},
     "output_type": "execute_result"
    }
   ],
   "source": [
    "df.columns"
   ]
  },
  {
   "cell_type": "code",
   "execution_count": 28,
   "metadata": {},
   "outputs": [
    {
     "data": {
      "text/html": [
       "<div>\n",
       "<style scoped>\n",
       "    .dataframe tbody tr th:only-of-type {\n",
       "        vertical-align: middle;\n",
       "    }\n",
       "\n",
       "    .dataframe tbody tr th {\n",
       "        vertical-align: top;\n",
       "    }\n",
       "\n",
       "    .dataframe thead th {\n",
       "        text-align: right;\n",
       "    }\n",
       "</style>\n",
       "<table border=\"1\" class=\"dataframe\">\n",
       "  <thead>\n",
       "    <tr style=\"text-align: right;\">\n",
       "      <th></th>\n",
       "      <th>content</th>\n",
       "      <th>avg_line_length</th>\n",
       "      <th>line_count</th>\n",
       "    </tr>\n",
       "  </thead>\n",
       "  <tbody>\n",
       "    <tr>\n",
       "      <th>0</th>\n",
       "      <td>import { WebpackPlugin } from './types/plugin'...</td>\n",
       "      <td>24.750000</td>\n",
       "      <td>4</td>\n",
       "    </tr>\n",
       "    <tr>\n",
       "      <th>1</th>\n",
       "      <td>import Vue from \"../index\";\\n\\ndeclare module ...</td>\n",
       "      <td>14.765957</td>\n",
       "      <td>47</td>\n",
       "    </tr>\n",
       "    <tr>\n",
       "      <th>2</th>\n",
       "      <td>&lt;filename&gt;types/test/umd-test.ts\\nconst vm = n...</td>\n",
       "      <td>17.444444</td>\n",
       "      <td>9</td>\n",
       "    </tr>\n",
       "    <tr>\n",
       "      <th>3</th>\n",
       "      <td>&lt;filename&gt;scripts/jest/typescript/jest.d.ts\\nd...</td>\n",
       "      <td>28.802469</td>\n",
       "      <td>81</td>\n",
       "    </tr>\n",
       "    <tr>\n",
       "      <th>4</th>\n",
       "      <td>'use strict';\\n\\nconst path = require('path');...</td>\n",
       "      <td>29.780488</td>\n",
       "      <td>41</td>\n",
       "    </tr>\n",
       "  </tbody>\n",
       "</table>\n",
       "</div>"
      ],
      "text/plain": [
       "                                             content  avg_line_length  \\\n",
       "0  import { WebpackPlugin } from './types/plugin'...        24.750000   \n",
       "1  import Vue from \"../index\";\\n\\ndeclare module ...        14.765957   \n",
       "2  <filename>types/test/umd-test.ts\\nconst vm = n...        17.444444   \n",
       "3  <filename>scripts/jest/typescript/jest.d.ts\\nd...        28.802469   \n",
       "4  'use strict';\\n\\nconst path = require('path');...        29.780488   \n",
       "\n",
       "   line_count  \n",
       "0           4  \n",
       "1          47  \n",
       "2           9  \n",
       "3          81  \n",
       "4          41  "
      ]
     },
     "execution_count": 28,
     "metadata": {},
     "output_type": "execute_result"
    }
   ],
   "source": [
    "df_filtered = df.drop(columns=['max_stars_repo_path', 'max_stars_repo_name', 'max_stars_count', 'id'], axis=1)\n",
    "df_filtered.head()"
   ]
  },
  {
   "cell_type": "code",
   "execution_count": 29,
   "metadata": {},
   "outputs": [
    {
     "data": {
      "text/plain": [
       "(2415981, 3)"
      ]
     },
     "execution_count": 29,
     "metadata": {},
     "output_type": "execute_result"
    }
   ],
   "source": [
    "df_filtered.shape"
   ]
  },
  {
   "cell_type": "code",
   "execution_count": 30,
   "metadata": {},
   "outputs": [
    {
     "data": {
      "text/plain": [
       "(2220814, 3)"
      ]
     },
     "execution_count": 30,
     "metadata": {},
     "output_type": "execute_result"
    }
   ],
   "source": [
    "df_filtered = df_filtered[df_filtered['line_count'] <= 200]\n",
    "df_filtered.shape"
   ]
  },
  {
   "cell_type": "code",
   "execution_count": 31,
   "metadata": {},
   "outputs": [
    {
     "data": {
      "text/plain": [
       "(1772428, 3)"
      ]
     },
     "execution_count": 31,
     "metadata": {},
     "output_type": "execute_result"
    }
   ],
   "source": [
    "df_filtered = df_filtered[df_filtered['avg_line_length'] <= 32.5]\n",
    "df_filtered.shape"
   ]
  },
  {
   "cell_type": "code",
   "execution_count": 32,
   "metadata": {},
   "outputs": [
    {
     "data": {
      "text/html": [
       "<div>\n",
       "<style scoped>\n",
       "    .dataframe tbody tr th:only-of-type {\n",
       "        vertical-align: middle;\n",
       "    }\n",
       "\n",
       "    .dataframe tbody tr th {\n",
       "        vertical-align: top;\n",
       "    }\n",
       "\n",
       "    .dataframe thead th {\n",
       "        text-align: right;\n",
       "    }\n",
       "</style>\n",
       "<table border=\"1\" class=\"dataframe\">\n",
       "  <thead>\n",
       "    <tr style=\"text-align: right;\">\n",
       "      <th></th>\n",
       "      <th>content</th>\n",
       "      <th>avg_line_length</th>\n",
       "      <th>line_count</th>\n",
       "    </tr>\n",
       "  </thead>\n",
       "  <tbody>\n",
       "    <tr>\n",
       "      <th>0</th>\n",
       "      <td>import { WebpackPlugin } from './types/plugin'...</td>\n",
       "      <td>24.750000</td>\n",
       "      <td>4</td>\n",
       "    </tr>\n",
       "    <tr>\n",
       "      <th>1</th>\n",
       "      <td>import Vue from \"../index\";\\n\\ndeclare module ...</td>\n",
       "      <td>14.765957</td>\n",
       "      <td>47</td>\n",
       "    </tr>\n",
       "    <tr>\n",
       "      <th>2</th>\n",
       "      <td>&lt;filename&gt;types/test/umd-test.ts\\nconst vm = n...</td>\n",
       "      <td>17.444444</td>\n",
       "      <td>9</td>\n",
       "    </tr>\n",
       "    <tr>\n",
       "      <th>3</th>\n",
       "      <td>&lt;filename&gt;scripts/jest/typescript/jest.d.ts\\nd...</td>\n",
       "      <td>28.802469</td>\n",
       "      <td>81</td>\n",
       "    </tr>\n",
       "    <tr>\n",
       "      <th>4</th>\n",
       "      <td>'use strict';\\n\\nconst path = require('path');...</td>\n",
       "      <td>29.780488</td>\n",
       "      <td>41</td>\n",
       "    </tr>\n",
       "  </tbody>\n",
       "</table>\n",
       "</div>"
      ],
      "text/plain": [
       "                                             content  avg_line_length  \\\n",
       "0  import { WebpackPlugin } from './types/plugin'...        24.750000   \n",
       "1  import Vue from \"../index\";\\n\\ndeclare module ...        14.765957   \n",
       "2  <filename>types/test/umd-test.ts\\nconst vm = n...        17.444444   \n",
       "3  <filename>scripts/jest/typescript/jest.d.ts\\nd...        28.802469   \n",
       "4  'use strict';\\n\\nconst path = require('path');...        29.780488   \n",
       "\n",
       "   line_count  \n",
       "0           4  \n",
       "1          47  \n",
       "2           9  \n",
       "3          81  \n",
       "4          41  "
      ]
     },
     "execution_count": 32,
     "metadata": {},
     "output_type": "execute_result"
    }
   ],
   "source": [
    "df_filtered.head()"
   ]
  },
  {
   "cell_type": "code",
   "execution_count": 33,
   "metadata": {},
   "outputs": [
    {
     "name": "stdout",
     "output_type": "stream",
     "text": [
      "       avg_line_length    line_count\n",
      "count     2.415981e+06  2.415981e+06\n",
      "mean      2.720035e+01  8.250730e+01\n",
      "std       6.880487e+00  2.953171e+02\n",
      "min       8.266667e+00  1.000000e+00\n",
      "25%       2.245455e+01  1.600000e+01\n",
      "50%       2.673846e+01  3.800000e+01\n",
      "75%       3.152795e+01  8.500000e+01\n",
      "max       4.650847e+01  6.823100e+04\n",
      "\n",
      "       avg_line_length    line_count\n",
      "count     1.772428e+06  1.772428e+06\n",
      "mean      2.437209e+01  4.717744e+01\n",
      "std       4.813771e+00  4.335479e+01\n",
      "min       8.266667e+00  1.000000e+00\n",
      "25%       2.114286e+01  1.500000e+01\n",
      "50%       2.480392e+01  3.200000e+01\n",
      "75%       2.813793e+01  6.600000e+01\n",
      "max       3.250000e+01  2.000000e+02\n"
     ]
    }
   ],
   "source": [
    "print(df[[\"avg_line_length\", \"line_count\"]].describe())\n",
    "print()\n",
    "print(df_filtered.describe())"
   ]
  },
  {
   "cell_type": "code",
   "execution_count": 34,
   "metadata": {},
   "outputs": [],
   "source": [
    "data_dict_ts = {}\n",
    "\n",
    "for i, example in enumerate(df_filtered[\"content\"]):\n",
    "    data_dict_ts[f\"typescript_{i}\"] = example"
   ]
  },
  {
   "cell_type": "code",
   "execution_count": 35,
   "metadata": {},
   "outputs": [],
   "source": [
    "assert len(data_dict_ts) == len(df_filtered), \"Data dictionary length does not match the number of examples in the dataset.\""
   ]
  },
  {
   "cell_type": "code",
   "execution_count": 36,
   "metadata": {},
   "outputs": [
    {
     "name": "stdout",
     "output_type": "stream",
     "text": [
      "Example typescript_0:\n",
      "import { WebpackPlugin } from './types/plugin';\n",
      "declare const Plugin: WebpackPlugin;\n",
      "export = Plugin;\n",
      "\n",
      "\n",
      "\n",
      "Example typescript_1:\n",
      "import Vue from \"../index\";\n",
      "\n",
      "declare module \"../vue\" {\n",
      "  // add instance property and method\n",
      "  interface Vue {\n",
      "    $instanceProperty: string;\n",
      "    $instanceMethod(): void;\n",
      "  }\n",
      "\n",
      "  // add static property and method\n",
      "  interface VueConstructor {\n",
      "    staticProperty: string;\n",
      "    staticMethod(): void;\n",
      "  }\n",
      "}\n",
      "\n",
      "// augment ComponentOptions\n",
      "declare module \"../options\" {\n",
      "  interface ComponentOptions<V extends Vue> {\n",
      "    foo?: string;\n",
      "  }\n",
      "}\n",
      "\n",
      "const vm = new Vue({\n",
      "  props: [\"bar\"],\n",
      "  data: {\n",
      "    a: true\n",
      "  },\n",
      "  foo: \"foo\",\n",
      "  methods: {\n",
      "    foo() {\n",
      "      this.a = false;\n",
      "    }\n",
      "  },\n",
      "  computed: {\n",
      "    BAR(): string {\n",
      "      return this.bar.toUpperCase();\n",
      "    }\n",
      "  }\n",
      "});\n",
      "\n",
      "vm.$instanceProperty;\n",
      "vm.$instanceMethod();\n",
      "\n",
      "Vue.staticProperty;\n",
      "Vue.staticMethod();\n",
      "\n",
      "\n",
      "\n",
      "Example typescript_2:\n",
      "<filename>types/test/umd-test.ts\n",
      "const vm = new Vue({\n",
      "  template: \"<div>hi</div>\"\n",
      "});\n",
      "\n",
      "const options: Vue.ComponentOptions<Vue> = {\n",
      "  template: \"<div>test</div>\"\n",
      "};\n",
      "\n",
      "\n",
      "\n",
      "Example typescript_3:\n",
      "<filename>scripts/jest/typescript/jest.d.ts\n",
      "declare var jasmine: any;\n",
      "declare var __DEV__: boolean;\n",
      "declare var __TEST__: boolean;\n",
      "declare var __EXTENSION__: boolean;\n",
      "\n",
      "declare function afterEach(fn: any): any;\n",
      "declare function beforeEach(fn: any): any;\n",
      "declare function describe(name: string, fn: any): void;\n",
      "declare var it: {\n",
      "  (name: string, fn: any): void;\n",
      "  only: (name: string, fn: any) => void;\n",
      "}\n",
      "declare function expect(val: any): Expect;\n",
      "declare var jest: Jest;\n",
      "declare function pit(name: string, fn: any): void;\n",
      "declare function spyOnDev(obj: any, key: string): any;\n",
      "declare function spyOnDevAndProd(obj: any, key: string): any;\n",
      "declare function spyOnProd(obj: any, key: string): any;\n",
      "declare function xdescribe(name: string, fn: any): void;\n",
      "declare function xit(name: string, fn: any): void;\n",
      "\n",
      "interface Expect {\n",
      "  not: Expect\n",
      "  toThrow(message?: string): void\n",
      "  toThrowError(message?: string): void\n",
      "  toErrorDev(message?: string | Array<string>, options?: any): void\n",
      "  toWarnDev(message?: string | Array<string>, options?: any): void\n",
      "  toBe(value: any): void\n",
      "  toEqual(value: any): void\n",
      "  toBeFalsy(): void\n",
      "  toBeTruthy(): void\n",
      "  toBeNull(): void\n",
      "  toBeUndefined(): void\n",
      "  toBeDefined(): void\n",
      "  toMatch(regexp: RegExp): void\n",
      "  toContain(string: string): void\n",
      "  toBeCloseTo(number: number, delta: number): void\n",
      "  toBeGreaterThan(number: number): void\n",
      "  toBeLessThan(number: number): void\n",
      "  toBeCalled(): void\n",
      "  toBeCalledWith(...arguments): void\n",
      "  lastCalledWith(...arguments): void\n",
      "}\n",
      "\n",
      "interface Jest {\n",
      "  autoMockOff(): void\n",
      "  autoMockOn(): void\n",
      "  clearAllTimers(): void\n",
      "  dontMock(moduleName: string): void\n",
      "  genMockFromModule(moduleObj: Object): Object\n",
      "  genMockFunction(): MockFunction\n",
      "  genMockFn(): MockFunction\n",
      "  mock(moduleName: string): void\n",
      "  runAllTicks(): void\n",
      "  runAllTimers(): void\n",
      "  runOnlyPendingTimers(): void\n",
      "  setMock(moduleName: string, moduleExports: Object): void\n",
      "}\n",
      "\n",
      "interface MockFunction {\n",
      "  (...arguments): any\n",
      "  mock: {\n",
      "    calls: Array<Array<any>>\n",
      "    instances: Array<Object>\n",
      "  }\n",
      "  mockClear(): void\n",
      "  mockImplementation(fn: Function): MockFunction\n",
      "  mockImpl(fn: Function): MockFunction\n",
      "  mockReturnThis(): MockFunction\n",
      "  mockReturnValue(value: any): MockFunction\n",
      "  mockReturnValueOnce(value: any): MockFunction\n",
      "}\n",
      "\n",
      "// Allow importing jasmine-check\n",
      "declare module 'jasmine-check' {\n",
      "  export function install(global?: any): void;\n",
      "}\n",
      "declare var check: any;\n",
      "declare var gen: any;\n",
      "\n",
      "\n",
      "\n",
      "Example typescript_4:\n",
      "'use strict';\n",
      "\n",
      "const path = require('path');\n",
      "const camelcase = require('camelcase');\n",
      "\n",
      "// This is a custom Jest transformer turning file imports into filenames.\n",
      "// http://facebook.github.io/jest/docs/en/webpack.html\n",
      "\n",
      "module.exports = {\n",
      "  process(src, filename) {\n",
      "    const assetFilename = JSON.stringify(path.basename(filename));\n",
      "\n",
      "    if (filename.match(/\\.svg$/)) {\n",
      "      // Based on how SVGR generates a component name:\n",
      "      // https://github.com/smooth-code/svgr/blob/01b194cf967347d43d4cbe6b434404731b87cf27/packages/core/src/state.js#L6\n",
      "      const pascalCaseFilename = camelcase(path.parse(filename).name, {\n",
      "        pascalCase: true,\n",
      "      });\n",
      "      const componentName = `Svg${pascalCaseFilename}`;\n",
      "      return `const React = require('react');\n",
      "      module.exports = {\n",
      "        __esModule: true,\n",
      "        default: ${assetFilename},\n",
      "        ReactComponent: React.forwardRef(function ${componentName}(props, ref) {\n",
      "          return {\n",
      "            $$typeof: Symbol.for('react.element'),\n",
      "            type: 'svg',\n",
      "            ref: ref,\n",
      "            key: null,\n",
      "            props: Object.assign({}, props, {\n",
      "              children: ${assetFilename}\n",
      "            })\n",
      "          };\n",
      "        }),\n",
      "      };`;\n",
      "    }\n",
      "\n",
      "    return `module.exports = ${assetFilename};`;\n",
      "  },\n",
      "};\n",
      "\n",
      "\n",
      "\n"
     ]
    }
   ],
   "source": [
    "for i, (k,v) in enumerate(data_dict_ts.items()):\n",
    "    if i < 5:\n",
    "        print(f\"Example {k}:\")\n",
    "        print(v)\n",
    "        print(\"\\n\")\n",
    "    else:\n",
    "        break"
   ]
  },
  {
   "cell_type": "code",
   "execution_count": 37,
   "metadata": {},
   "outputs": [
    {
     "name": "stdout",
     "output_type": "stream",
     "text": [
      "Saved to 'typescript_train.json'\n"
     ]
    }
   ],
   "source": [
    "import json\n",
    "\n",
    "with open('typescript_train.json', 'w') as f:\n",
    "    json.dump(data_dict_ts, f)\n",
    "    print(\"Saved to 'typescript_train.json'\")"
   ]
  },
  {
   "cell_type": "code",
   "execution_count": null,
   "metadata": {},
   "outputs": [],
   "source": []
  }
 ],
 "metadata": {
  "kernelspec": {
   "display_name": "malcodeai",
   "language": "python",
   "name": "python3"
  },
  "language_info": {
   "codemirror_mode": {
    "name": "ipython",
    "version": 3
   },
   "file_extension": ".py",
   "mimetype": "text/x-python",
   "name": "python",
   "nbconvert_exporter": "python",
   "pygments_lexer": "ipython3",
   "version": "3.11.11"
  }
 },
 "nbformat": 4,
 "nbformat_minor": 2
}
