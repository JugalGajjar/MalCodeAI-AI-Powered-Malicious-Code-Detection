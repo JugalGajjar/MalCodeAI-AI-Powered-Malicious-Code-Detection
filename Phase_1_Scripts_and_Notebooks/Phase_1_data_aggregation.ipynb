{
 "cells": [
  {
   "cell_type": "code",
   "execution_count": 15,
   "metadata": {},
   "outputs": [],
   "source": [
    "import os\n",
    "import json"
   ]
  },
  {
   "cell_type": "code",
   "execution_count": null,
   "metadata": {},
   "outputs": [],
   "source": [
    "def aggregate_json_files(directory, output_file):\n",
    "    # List to hold all json content\n",
    "    aggregated_data = {}\n",
    "    \n",
    "    # Recursively walking through the directory\n",
    "    for root, _, files in os.walk(directory):\n",
    "        for file in files:\n",
    "            if file.startswith(\"final\") and file.endswith(\".json\"):\n",
    "                file_path = os.path.join(root, file)\n",
    "                try:\n",
    "                    with open(file_path, \"r\") as json_file:\n",
    "                        data = json.load(json_file)\n",
    "                        aggregated_data.update(data)\n",
    "                except Exception as e:\n",
    "                    print(f\"Error reading {file_path}: {e}\")\n",
    "    \n",
    "    # Writing all the aggregated data into the output file\n",
    "    with open(output_file, \"w\") as outfile:\n",
    "        json.dump(aggregated_data, outfile, indent=4)\n",
    "    print(f\"Aggregated JSON content has been written to {output_file}\")"
   ]
  },
  {
   "cell_type": "code",
   "execution_count": null,
   "metadata": {},
   "outputs": [
    {
     "name": "stdout",
     "output_type": "stream",
     "text": [
      "Aggregated JSON content has been written to aggregated_output.json\n"
     ]
    }
   ],
   "source": [
    "directory = \"./Phase-1-Data\"\n",
    "output_file = \"./Phase-1-Data/aggregated_output.json\"\n",
    "aggregate_json_files(directory, output_file)"
   ]
  },
  {
   "cell_type": "code",
   "execution_count": null,
   "metadata": {},
   "outputs": [
    {
     "name": "stdout",
     "output_type": "stream",
     "text": [
      "Number of JSON files aggregated: 277\n"
     ]
    }
   ],
   "source": [
    "# Checking the output\n",
    "with open(output_file, \"r\") as f:\n",
    "    content = json.load(f)\n",
    "    print(f\"Number of JSON files aggregated: {len(content)}\")"
   ]
  },
  {
   "cell_type": "code",
   "execution_count": null,
   "metadata": {},
   "outputs": [],
   "source": []
  }
 ],
 "metadata": {
  "kernelspec": {
   "display_name": "malcodeai",
   "language": "python",
   "name": "python3"
  },
  "language_info": {
   "codemirror_mode": {
    "name": "ipython",
    "version": 3
   },
   "file_extension": ".py",
   "mimetype": "text/x-python",
   "name": "python",
   "nbconvert_exporter": "python",
   "pygments_lexer": "ipython3",
   "version": "3.11.11"
  }
 },
 "nbformat": 4,
 "nbformat_minor": 2
}
