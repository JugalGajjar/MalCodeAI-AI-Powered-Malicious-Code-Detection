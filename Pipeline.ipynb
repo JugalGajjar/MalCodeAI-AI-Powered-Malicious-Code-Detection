{
 "cells": [
  {
   "cell_type": "code",
   "execution_count": null,
   "id": "56a40830",
   "metadata": {},
   "outputs": [],
   "source": [
    "import json\n",
    "import torch\n",
    "from mlx_lm.utils import load\n",
    "from mlx_lm.generate import generate\n",
    "from Phase_1_Scripts_and_Notebooks.Phase_1_few_shots import few_shots"
   ]
  },
  {
   "cell_type": "code",
   "execution_count": 2,
   "id": "f9e91d80",
   "metadata": {},
   "outputs": [],
   "source": [
    "def parse_and_print_json(response):\n",
    "    try:\n",
    "        json_response = json.loads(response)\n",
    "        print(\"Parsed JSON Successfully!\")\n",
    "        for key, value in json_response.items():\n",
    "            if isinstance(value, list):\n",
    "                print(f\"{key}:\")\n",
    "                for item in value:\n",
    "                    print(f\" - {item}\")\n",
    "            else:\n",
    "                print(f\"{key}:\\n - {value}\")\n",
    "    except json.JSONDecodeError as e:\n",
    "        print(\"JSON Decode Error:\", e)"
   ]
  },
  {
   "cell_type": "code",
   "execution_count": null,
   "id": "79b74fe9",
   "metadata": {},
   "outputs": [],
   "source": [
    "model, tokenizer = load(path_or_hf_repo=\"Phase_1_MLX_Fine_Tuned\")"
   ]
  },
  {
   "cell_type": "code",
   "execution_count": 50,
   "id": "61dfa2dd",
   "metadata": {},
   "outputs": [],
   "source": [
    "system_prompt = \"\"\"\n",
    "You are an expert code analyzer that outputs ONLY valid and parsable JSON. Strictly follow these rules:\n",
    "1. Analyze the provided code completely, but ONLY for top-level components\n",
    "2. Output MUST be ONLY the JSON object with no extra text, formatting, or characters\n",
    "3. Use this exact structure (including only components that exist in the code):\n",
    "{\n",
    "    \"programming_language\": \"<C|JAVA|PYTHON|SQL|C#|JAVASCRIPT|RUBY|TYPESCRIPT|C++|KOTLIN|RUST|GO|PHP|SCALA>\",\n",
    "    \"components\": [\n",
    "      {\n",
    "        \"component_type\": \"<IMPORT_STATEMENT|INCLUDE_STATEMENT|USING_STATEMENT|FUNCTION_DEFINITION|CLASS_DEFINITION|METHOD_DEFINITION|INTERFACE_DEFINITION|STRUCT_DEFINITION|ENUM_DEFINITION|GLOBAL_CODE|MODULE_DEFINITION|PACKAGE_DEFINITION|SCHEMA_DEFINITION|PROCEDURE_DEFINITION|TRIGGER_DEFINITION|MACRO_DEFINITION>\",\n",
    "        \"component_name\": \"<name>\",\n",
    "        \"component_code\": \"<complete_top_level_code_segment>\",\n",
    "        \"component_description\": \"<technical_description>\"\n",
    "      }\n",
    "    ],\n",
    "    \"overall_description\": \"<complete_code_summary>\"\n",
    "}\n",
    "\n",
    "Requirements:\n",
    "- ONLY analyze top-level components (do NOT break down internal implementation details)\n",
    "- For functions/classes/methods: include the ENTIRE definition (including all nested code)\n",
    "- Never split components into internal blocks (loops, conditionals, variable declarations)\n",
    "- Only include the component types listed above\n",
    "- Skip all other component types completely\n",
    "- Never include null or empty fields\n",
    "- Escape all special characters in JSON values properly\n",
    "- Include complete top-level code segments exactly as they appear\n",
    "- Provide detailed technical descriptions for each extracted component\n",
    "- Describe overall functionality and architecture concisely\n",
    "- Ensure the output is valid JSON that can be parsed directly\n",
    "- Never add comments, notes, or text outside the JSON structure\n",
    "- Never use markdown formatting or code blocks\n",
    "- Maintain consistent JSON structure with proper escaping\n",
    "- Only output the raw JSON object with no additional text\n",
    "\"\"\""
   ]
  },
  {
   "cell_type": "code",
   "execution_count": null,
   "id": "ce28e410",
   "metadata": {},
   "outputs": [],
   "source": [
    "with open(\"Test_Code_Files/GradebookApp.java\", \"r\") as f:\n",
    "    code = f.read()"
   ]
  },
  {
   "cell_type": "code",
   "execution_count": 52,
   "id": "076a62eb",
   "metadata": {},
   "outputs": [],
   "source": [
    "few_shots_prompt = []\n",
    "\n",
    "count = 0\n",
    "\n",
    "for k, v in few_shots.items():\n",
    "    few_shots_prompt.append({\"role\": \"user\", \"content\": v[0].strip()})\n",
    "    few_shots_prompt.append({\"role\": \"assistant\", \"content\": v[1].strip()})\n",
    "    count += len(v[0].strip()) + len(v[1].strip())"
   ]
  },
  {
   "cell_type": "code",
   "execution_count": 53,
   "id": "8fc4d244",
   "metadata": {},
   "outputs": [],
   "source": [
    "messages = []\n",
    "messages.append({\"role\": \"assistant\", \"content\": system_prompt.strip()})\n",
    "messages += few_shots_prompt\n",
    "messages.append({\"role\": \"user\", \"content\": code.strip()})"
   ]
  },
  {
   "cell_type": "code",
   "execution_count": 54,
   "id": "4c55ffb7",
   "metadata": {},
   "outputs": [],
   "source": [
    "prompt = tokenizer.apply_chat_template(messages, add_generation_prompt=True)"
   ]
  },
  {
   "cell_type": "code",
   "execution_count": 55,
   "id": "683c4181",
   "metadata": {},
   "outputs": [],
   "source": [
    "# Assistant response\n",
    "response = generate(\n",
    "    model,\n",
    "    tokenizer,\n",
    "    prompt=prompt,\n",
    "    max_tokens=3072\n",
    ")"
   ]
  },
  {
   "cell_type": "code",
   "execution_count": 56,
   "id": "e34b2d46",
   "metadata": {},
   "outputs": [
    {
     "data": {
      "text/plain": [
       "'{\\n  \"programming_language\": \"JAVA\",\\n  \"components\": [\\n    {\\n      \"component_type\": \"CLASS_DEFINITION\",\\n      \"component_name\": \"Student\",\\n      \"component_code\": \"public class Student {\\\\n    private int id;\\\\n    private String name;\\\\n    private Map<String, Double> grades;\\\\n\\\\n    public Student(int id, String name) {\\\\n        this.id = id;\\\\n        this.name = name;\\\\n        this.grades = new HashMap<>();\\\\n    }\\\\n\\\\n    public int getId() { return id; }\\\\n    public String getName() { return name; }\\\\n\\\\n    public void addGrade(String subject, double grade) {\\\\n        if (grade < 0 || grade > 100) {\\\\n            System.out.println(\\\\\"Invalid grade for \\\\\" + subject + \\\\\". Must be between 0 and 100.\\\\\");\\\\n            return;\\\\n        }\\\\n        grades.put(subject, grade);\\\\n    }\\\\n\\\\n    public Double getGrade(String subject) {\\\\n        return grades.get(subject);\\\\n    }\\\\n\\\\n    public double getAverage() {\\\\n        return grades.values().stream().mapToDouble(Double::doubleValue).average().orElse(0.0);\\\\n    }\\\\n\\\\n    public String generateReport() {\\\\n        StringBuilder sb = new StringBuilder();\\\\n        sb.append(\\\\\"ID: \\\\\").append(id).append(\\\\\" | Name: \\\\\").append(name).append(\\\\\"\\\\\\\\n\\\\\");\\\\n        for (var entry : grades.entrySet()) {\\\\n            sb.append(\\\\\"  \\\\\").append(entry.getKey()).append(\\\\\": \\\\\").append(entry.getValue()).append(\\\\\"\\\\\\\\n\\\\\");\\\\n        }\\\\n        sb.append(String.format(\\\\\"  Average: %.2f\\\\\\\\n\\\\\", getAverage()));\\\\n        return sb.toString();\\\\n    }\\\\n\\\\n    public void printReport() {\\\\n        System.out.print(generateReport());\\\\n    }\\\\n}\",\\n      \"component_description\": \"Represents a student with ID, name, and a map of grades. Includes methods to add grades, retrieve grades, calculate average, generate a report, and print the report.\"\\n    },\\n    {\\n      \"component_type\": \"CLASS_DEFINITION\",\\n      \"component_name\": \"Gradebook\",\\n      \"component_code\": \"public class Gradebook {\\\\n    private List<Student> students;\\\\n\\\\n    public Gradebook() {\\\\n        students = new ArrayList<>();\\\\n    }\\\\n\\\\n    public void addStudent(Student s) {\\\\n        students.add(s);\\\\n    }\\\\n\\\\n    public void printAllReports() {\\\\n        for (Student s : students) {\\\\n            s.printReport();\\\\n            System.out.println(\\\\\"----------------------\\\\\");\\\\n        }\\\\n    }\\\\n\\\\n    public Student findStudentById(int id) {\\\\n        for (Student s : students) {\\\\n            if (s.getId() == id) return s;\\\\n        }\\\\n        return null;\\\\n    }\\\\n\\\\n    public void sortStudentsByAverage() {\\\\n        students.sort((a, b) -> Double.compare(b.getAverage(), a.getAverage()));\\\\n    }\\\\n\\\\n    public void exportReportsToFile(String filename) {\\\\n        try (BufferedWriter writer = new BufferedWriter(new FileWriter(filename))) {\\\\n            for (Student s : students) {\\\\n                writer.write(s.generateReport());\\\\n                writer.write(\\\\\"----------------------\\\\\\\\n\\\\\");\\\\n            }\\\\n            System.out.println(\\\\\"Reports exported to \\\\\" + filename);\\\\n        } catch (IOException e) {\\\\n            System.out.println(\\\\\"Error exporting reports: \\\\\" + e.getMessage());\\\\n        }\\\\n    }\\\\n}\",\\n      \"component_description\": \"Manages a collection of students, providing methods to add students, print all reports, find a student by ID, sort students by average, and export reports to a file.\"\\n    },\\n    {\\n      \"component_type\": \"CLASS_DEFINITION\",\\n      \"component_name\": \"GradebookApp\",\\n      \"component_code\": \"public class GradebookApp {\\\\n    public static void main(String[] args) {\\\\n        Gradebook gradebook = new Gradebook();\\\\n\\\\n        Student s1 = new Student(101, \\\\\"Alice\\\\\");\\\\n        s1.addGrade(\\\\\"Math\\\\\", 88);\\\\n        s1.addGrade(\\\\\"Science\\\\\", 92);\\\\n\\\\n        Student s2 = new Student(102, \\\\\"Bob\\\\\");\\\\n        s2.addGrade(\\\\\"Math\\\\\", 75);\\\\n        s2.addGrade(\\\\\"Science\\\\\", 80);\\\\n        s2.addGrade(\\\\\"History\\\\\", 85);\\\\n\\\\n        Student s3 = new Student(103, \\\\\"Charlie\\\\\");\\\\n        s3.addGrade(\\\\\"Math\\\\\", 95);\\\\n        s3.addGrade(\\\\\"Art\\\\\", 100);\\\\n\\\\n        gradebook.addStudent(s1);\\\\n        gradebook.addStudent(s2);\\\\n        gradebook.addStudent(s3);\\\\n\\\\n        System.out.println(\\\\\"📊 All Reports:\\\\\");\\\\n        gradebook.printAllReports();\\\\n\\\\n        System.out.println(\\\\\"📈 Sorted by Average:\\\\\");\\\\n        gradebook.sortStudentsByAverage();\\\\n        gradebook.printAllReports();\\\\n\\\\n        System.out.println(\\\\\"🔍 Grade Lookup:\\\\\");\\\\n        Student target = gradebook.findStudentById(102);\\\\n        if (target != null) {\\\\n            System.out.println(\\\\\"Bob\\'s History Grade: \\\\\" + target.getGrade(\\\\\"History\\\\\"));\\\\n        }\\\\n\\\\n        gradebook.exportReportsToFile(\\\\\"student_reports.txt\\\\\");\\\\n    }\\\\n}\",\\n      \"component_description\": \"Main application class that initializes a gradebook, adds students with grades, prints all reports, sorts students by average, performs a grade lookup, and exports reports to a file.\"\\n    }\\n  ],\\n  \"overall_description\": \"A complete Java application for managing a gradebook with students, grades, and reports. The system includes classes for student data, gradebook management, and a main application to demonstrate functionality. The architecture emphasizes encapsulation, separation of concerns, and type safety with Java\\'s strong typing system.\"\\n}'"
      ]
     },
     "execution_count": 56,
     "metadata": {},
     "output_type": "execute_result"
    }
   ],
   "source": [
    "response"
   ]
  },
  {
   "cell_type": "code",
   "execution_count": 57,
   "id": "2c9c8948",
   "metadata": {},
   "outputs": [
    {
     "name": "stdout",
     "output_type": "stream",
     "text": [
      "Parsed JSON Successfully!\n",
      "programming_language:\n",
      " - JAVA\n",
      "components:\n",
      " - {'component_type': 'CLASS_DEFINITION', 'component_name': 'Student', 'component_code': 'public class Student {\\n    private int id;\\n    private String name;\\n    private Map<String, Double> grades;\\n\\n    public Student(int id, String name) {\\n        this.id = id;\\n        this.name = name;\\n        this.grades = new HashMap<>();\\n    }\\n\\n    public int getId() { return id; }\\n    public String getName() { return name; }\\n\\n    public void addGrade(String subject, double grade) {\\n        if (grade < 0 || grade > 100) {\\n            System.out.println(\"Invalid grade for \" + subject + \". Must be between 0 and 100.\");\\n            return;\\n        }\\n        grades.put(subject, grade);\\n    }\\n\\n    public Double getGrade(String subject) {\\n        return grades.get(subject);\\n    }\\n\\n    public double getAverage() {\\n        return grades.values().stream().mapToDouble(Double::doubleValue).average().orElse(0.0);\\n    }\\n\\n    public String generateReport() {\\n        StringBuilder sb = new StringBuilder();\\n        sb.append(\"ID: \").append(id).append(\" | Name: \").append(name).append(\"\\\\n\");\\n        for (var entry : grades.entrySet()) {\\n            sb.append(\"  \").append(entry.getKey()).append(\": \").append(entry.getValue()).append(\"\\\\n\");\\n        }\\n        sb.append(String.format(\"  Average: %.2f\\\\n\", getAverage()));\\n        return sb.toString();\\n    }\\n\\n    public void printReport() {\\n        System.out.print(generateReport());\\n    }\\n}', 'component_description': 'Represents a student with ID, name, and a map of grades. Includes methods to add grades, retrieve grades, calculate average, generate a report, and print the report.'}\n",
      " - {'component_type': 'CLASS_DEFINITION', 'component_name': 'Gradebook', 'component_code': 'public class Gradebook {\\n    private List<Student> students;\\n\\n    public Gradebook() {\\n        students = new ArrayList<>();\\n    }\\n\\n    public void addStudent(Student s) {\\n        students.add(s);\\n    }\\n\\n    public void printAllReports() {\\n        for (Student s : students) {\\n            s.printReport();\\n            System.out.println(\"----------------------\");\\n        }\\n    }\\n\\n    public Student findStudentById(int id) {\\n        for (Student s : students) {\\n            if (s.getId() == id) return s;\\n        }\\n        return null;\\n    }\\n\\n    public void sortStudentsByAverage() {\\n        students.sort((a, b) -> Double.compare(b.getAverage(), a.getAverage()));\\n    }\\n\\n    public void exportReportsToFile(String filename) {\\n        try (BufferedWriter writer = new BufferedWriter(new FileWriter(filename))) {\\n            for (Student s : students) {\\n                writer.write(s.generateReport());\\n                writer.write(\"----------------------\\\\n\");\\n            }\\n            System.out.println(\"Reports exported to \" + filename);\\n        } catch (IOException e) {\\n            System.out.println(\"Error exporting reports: \" + e.getMessage());\\n        }\\n    }\\n}', 'component_description': 'Manages a collection of students, providing methods to add students, print all reports, find a student by ID, sort students by average, and export reports to a file.'}\n",
      " - {'component_type': 'CLASS_DEFINITION', 'component_name': 'GradebookApp', 'component_code': 'public class GradebookApp {\\n    public static void main(String[] args) {\\n        Gradebook gradebook = new Gradebook();\\n\\n        Student s1 = new Student(101, \"Alice\");\\n        s1.addGrade(\"Math\", 88);\\n        s1.addGrade(\"Science\", 92);\\n\\n        Student s2 = new Student(102, \"Bob\");\\n        s2.addGrade(\"Math\", 75);\\n        s2.addGrade(\"Science\", 80);\\n        s2.addGrade(\"History\", 85);\\n\\n        Student s3 = new Student(103, \"Charlie\");\\n        s3.addGrade(\"Math\", 95);\\n        s3.addGrade(\"Art\", 100);\\n\\n        gradebook.addStudent(s1);\\n        gradebook.addStudent(s2);\\n        gradebook.addStudent(s3);\\n\\n        System.out.println(\"📊 All Reports:\");\\n        gradebook.printAllReports();\\n\\n        System.out.println(\"📈 Sorted by Average:\");\\n        gradebook.sortStudentsByAverage();\\n        gradebook.printAllReports();\\n\\n        System.out.println(\"🔍 Grade Lookup:\");\\n        Student target = gradebook.findStudentById(102);\\n        if (target != null) {\\n            System.out.println(\"Bob\\'s History Grade: \" + target.getGrade(\"History\"));\\n        }\\n\\n        gradebook.exportReportsToFile(\"student_reports.txt\");\\n    }\\n}', 'component_description': 'Main application class that initializes a gradebook, adds students with grades, prints all reports, sorts students by average, performs a grade lookup, and exports reports to a file.'}\n",
      "overall_description:\n",
      " - A complete Java application for managing a gradebook with students, grades, and reports. The system includes classes for student data, gradebook management, and a main application to demonstrate functionality. The architecture emphasizes encapsulation, separation of concerns, and type safety with Java's strong typing system.\n"
     ]
    }
   ],
   "source": [
    "parse_and_print_json(response)"
   ]
  },
  {
   "cell_type": "code",
   "execution_count": null,
   "id": "a07414e2",
   "metadata": {},
   "outputs": [],
   "source": []
  }
 ],
 "metadata": {
  "kernelspec": {
   "display_name": "malcodeai",
   "language": "python",
   "name": "python3"
  },
  "language_info": {
   "codemirror_mode": {
    "name": "ipython",
    "version": 3
   },
   "file_extension": ".py",
   "mimetype": "text/x-python",
   "name": "python",
   "nbconvert_exporter": "python",
   "pygments_lexer": "ipython3",
   "version": "3.11.11"
  }
 },
 "nbformat": 4,
 "nbformat_minor": 5
}
