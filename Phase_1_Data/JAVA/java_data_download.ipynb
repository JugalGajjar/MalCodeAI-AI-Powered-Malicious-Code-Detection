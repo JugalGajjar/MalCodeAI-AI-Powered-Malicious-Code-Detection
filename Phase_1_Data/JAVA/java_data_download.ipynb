{
 "cells": [
  {
   "cell_type": "code",
   "execution_count": 1,
   "metadata": {},
   "outputs": [],
   "source": [
    "from datasets import load_dataset, DownloadMode\n",
    "\n",
    "# First, download the dataset with caching\n",
    "def download_starcoderdata_java(save_directory, split=\"train\", download_mode=DownloadMode.REUSE_DATASET_IF_EXISTS):\n",
    "    try:\n",
    "        ds = load_dataset(\n",
    "            \"bigcode/starcoderdata\",\n",
    "            data_dir=\"java\",\n",
    "            split=split,\n",
    "            cache_dir=save_directory,\n",
    "            download_mode=download_mode,\n",
    "        )\n",
    "\n",
    "        # Save the dataset properly for later reloading\n",
    "        output_path = f\"{save_directory}/java_{split}_dataset\"\n",
    "        ds.save_to_disk(output_path)\n",
    "\n",
    "        print(f\"Dataset 'bigcode/starcoderdata' (JAVA, {split}) successfully downloaded and saved to '{output_path}'.\")\n",
    "        return ds\n",
    "\n",
    "    except Exception as e:\n",
    "        print(f\"Error downloading dataset 'bigcode/starcoderdata' (JAVA, {split}): {e}\")\n",
    "        return None"
   ]
  },
  {
   "cell_type": "code",
   "execution_count": 2,
   "metadata": {},
   "outputs": [
    {
     "data": {
      "application/vnd.jupyter.widget-view+json": {
       "model_id": "04ab45219b5c46d993d8f814f740ed6d",
       "version_major": 2,
       "version_minor": 0
      },
      "text/plain": [
       "Resolving data files:   0%|          | 0/87 [00:00<?, ?it/s]"
      ]
     },
     "metadata": {},
     "output_type": "display_data"
    },
    {
     "data": {
      "application/vnd.jupyter.widget-view+json": {
       "model_id": "92e71683a29444aaa65049b93aa13d25",
       "version_major": 2,
       "version_minor": 0
      },
      "text/plain": [
       "Downloading data:   0%|          | 0/87 [00:00<?, ?files/s]"
      ]
     },
     "metadata": {},
     "output_type": "display_data"
    },
    {
     "data": {
      "application/vnd.jupyter.widget-view+json": {
       "model_id": "e4feed29ec1b4ddd81848c57edde5f08",
       "version_major": 2,
       "version_minor": 0
      },
      "text/plain": [
       "train-00000-of-00087.parquet:   0%|          | 0.00/349M [00:00<?, ?B/s]"
      ]
     },
     "metadata": {},
     "output_type": "display_data"
    },
    {
     "data": {
      "application/vnd.jupyter.widget-view+json": {
       "model_id": "e2d1c953a8804f8ea81df2e040729a02",
       "version_major": 2,
       "version_minor": 0
      },
      "text/plain": [
       "train-00001-of-00087.parquet:   0%|          | 0.00/335M [00:00<?, ?B/s]"
      ]
     },
     "metadata": {},
     "output_type": "display_data"
    },
    {
     "data": {
      "application/vnd.jupyter.widget-view+json": {
       "model_id": "32a9e5afd0e74d94b45d6ef2dadd802c",
       "version_major": 2,
       "version_minor": 0
      },
      "text/plain": [
       "train-00002-of-00087.parquet:   0%|          | 0.00/351M [00:00<?, ?B/s]"
      ]
     },
     "metadata": {},
     "output_type": "display_data"
    },
    {
     "data": {
      "application/vnd.jupyter.widget-view+json": {
       "model_id": "6ffe95079f384410b1494f12df815553",
       "version_major": 2,
       "version_minor": 0
      },
      "text/plain": [
       "train-00003-of-00087.parquet:   0%|          | 0.00/342M [00:00<?, ?B/s]"
      ]
     },
     "metadata": {},
     "output_type": "display_data"
    },
    {
     "data": {
      "application/vnd.jupyter.widget-view+json": {
       "model_id": "0124dc72524d40c49b88fab42f19eb0a",
       "version_major": 2,
       "version_minor": 0
      },
      "text/plain": [
       "train-00004-of-00087.parquet:   0%|          | 0.00/350M [00:00<?, ?B/s]"
      ]
     },
     "metadata": {},
     "output_type": "display_data"
    },
    {
     "data": {
      "application/vnd.jupyter.widget-view+json": {
       "model_id": "70b0214e23ba467f9ea57ac551d1eb22",
       "version_major": 2,
       "version_minor": 0
      },
      "text/plain": [
       "train-00005-of-00087.parquet:   0%|          | 0.00/343M [00:00<?, ?B/s]"
      ]
     },
     "metadata": {},
     "output_type": "display_data"
    },
    {
     "data": {
      "application/vnd.jupyter.widget-view+json": {
       "model_id": "34b9f02d60a2487992c0d009b0c24b7b",
       "version_major": 2,
       "version_minor": 0
      },
      "text/plain": [
       "train-00006-of-00087.parquet:   0%|          | 0.00/338M [00:00<?, ?B/s]"
      ]
     },
     "metadata": {},
     "output_type": "display_data"
    },
    {
     "data": {
      "application/vnd.jupyter.widget-view+json": {
       "model_id": "bf79d2eba47144f8bfb1d38cde14715a",
       "version_major": 2,
       "version_minor": 0
      },
      "text/plain": [
       "train-00007-of-00087.parquet:   0%|          | 0.00/345M [00:00<?, ?B/s]"
      ]
     },
     "metadata": {},
     "output_type": "display_data"
    },
    {
     "data": {
      "application/vnd.jupyter.widget-view+json": {
       "model_id": "7e836a1060444ae3baa6dd307646bfbc",
       "version_major": 2,
       "version_minor": 0
      },
      "text/plain": [
       "train-00008-of-00087.parquet:   0%|          | 0.00/345M [00:00<?, ?B/s]"
      ]
     },
     "metadata": {},
     "output_type": "display_data"
    },
    {
     "data": {
      "application/vnd.jupyter.widget-view+json": {
       "model_id": "4bb5701b01664d1780ec7e5cdf21376a",
       "version_major": 2,
       "version_minor": 0
      },
      "text/plain": [
       "train-00009-of-00087.parquet:   0%|          | 0.00/346M [00:00<?, ?B/s]"
      ]
     },
     "metadata": {},
     "output_type": "display_data"
    },
    {
     "data": {
      "application/vnd.jupyter.widget-view+json": {
       "model_id": "5208ab4c4fd14a37bad08c1442acf459",
       "version_major": 2,
       "version_minor": 0
      },
      "text/plain": [
       "train-00010-of-00087.parquet:   0%|          | 0.00/345M [00:00<?, ?B/s]"
      ]
     },
     "metadata": {},
     "output_type": "display_data"
    },
    {
     "data": {
      "application/vnd.jupyter.widget-view+json": {
       "model_id": "1555893f6d22486f9760c5b30ec401d3",
       "version_major": 2,
       "version_minor": 0
      },
      "text/plain": [
       "train-00011-of-00087.parquet:   0%|          | 0.00/353M [00:00<?, ?B/s]"
      ]
     },
     "metadata": {},
     "output_type": "display_data"
    },
    {
     "data": {
      "application/vnd.jupyter.widget-view+json": {
       "model_id": "968787dbaf1a4d8abccfe4331afd1db2",
       "version_major": 2,
       "version_minor": 0
      },
      "text/plain": [
       "train-00012-of-00087.parquet:   0%|          | 0.00/340M [00:00<?, ?B/s]"
      ]
     },
     "metadata": {},
     "output_type": "display_data"
    },
    {
     "data": {
      "application/vnd.jupyter.widget-view+json": {
       "model_id": "bb57dcd95bab4ab4863e3ef73f5d7888",
       "version_major": 2,
       "version_minor": 0
      },
      "text/plain": [
       "train-00013-of-00087.parquet:   0%|          | 0.00/343M [00:00<?, ?B/s]"
      ]
     },
     "metadata": {},
     "output_type": "display_data"
    },
    {
     "data": {
      "application/vnd.jupyter.widget-view+json": {
       "model_id": "1a0555402e26403a866f7c92a9f3483f",
       "version_major": 2,
       "version_minor": 0
      },
      "text/plain": [
       "train-00014-of-00087.parquet:   0%|          | 0.00/341M [00:00<?, ?B/s]"
      ]
     },
     "metadata": {},
     "output_type": "display_data"
    },
    {
     "data": {
      "application/vnd.jupyter.widget-view+json": {
       "model_id": "1a6c76e632d0460d8c1bf5a14f0451b3",
       "version_major": 2,
       "version_minor": 0
      },
      "text/plain": [
       "train-00015-of-00087.parquet:   0%|          | 0.00/350M [00:00<?, ?B/s]"
      ]
     },
     "metadata": {},
     "output_type": "display_data"
    },
    {
     "data": {
      "application/vnd.jupyter.widget-view+json": {
       "model_id": "a5c8deaafee74efcb20613fbb01b18d9",
       "version_major": 2,
       "version_minor": 0
      },
      "text/plain": [
       "train-00016-of-00087.parquet:   0%|          | 0.00/342M [00:00<?, ?B/s]"
      ]
     },
     "metadata": {},
     "output_type": "display_data"
    },
    {
     "data": {
      "application/vnd.jupyter.widget-view+json": {
       "model_id": "339ca89bf3274b3a901fb974fdf26d97",
       "version_major": 2,
       "version_minor": 0
      },
      "text/plain": [
       "train-00017-of-00087.parquet:   0%|          | 0.00/350M [00:00<?, ?B/s]"
      ]
     },
     "metadata": {},
     "output_type": "display_data"
    },
    {
     "data": {
      "application/vnd.jupyter.widget-view+json": {
       "model_id": "e921cc9b6fd54396b15d3ac7815686b3",
       "version_major": 2,
       "version_minor": 0
      },
      "text/plain": [
       "train-00018-of-00087.parquet:   0%|          | 0.00/344M [00:00<?, ?B/s]"
      ]
     },
     "metadata": {},
     "output_type": "display_data"
    },
    {
     "data": {
      "application/vnd.jupyter.widget-view+json": {
       "model_id": "72dd03115624445fa38a8c6b47300f5e",
       "version_major": 2,
       "version_minor": 0
      },
      "text/plain": [
       "train-00019-of-00087.parquet:   0%|          | 0.00/343M [00:00<?, ?B/s]"
      ]
     },
     "metadata": {},
     "output_type": "display_data"
    },
    {
     "data": {
      "application/vnd.jupyter.widget-view+json": {
       "model_id": "198a12a1be624243916c26c680b5a7a1",
       "version_major": 2,
       "version_minor": 0
      },
      "text/plain": [
       "train-00020-of-00087.parquet:   0%|          | 0.00/342M [00:00<?, ?B/s]"
      ]
     },
     "metadata": {},
     "output_type": "display_data"
    },
    {
     "data": {
      "application/vnd.jupyter.widget-view+json": {
       "model_id": "068d77229d834078aca9233a1ddcc072",
       "version_major": 2,
       "version_minor": 0
      },
      "text/plain": [
       "train-00021-of-00087.parquet:   0%|          | 0.00/348M [00:00<?, ?B/s]"
      ]
     },
     "metadata": {},
     "output_type": "display_data"
    },
    {
     "data": {
      "application/vnd.jupyter.widget-view+json": {
       "model_id": "c1cae98211c84505b78ad6a58fad984a",
       "version_major": 2,
       "version_minor": 0
      },
      "text/plain": [
       "train-00022-of-00087.parquet:   0%|          | 0.00/347M [00:00<?, ?B/s]"
      ]
     },
     "metadata": {},
     "output_type": "display_data"
    },
    {
     "data": {
      "application/vnd.jupyter.widget-view+json": {
       "model_id": "4e0865eb51c54a379adf75becae5bc3d",
       "version_major": 2,
       "version_minor": 0
      },
      "text/plain": [
       "train-00023-of-00087.parquet:   0%|          | 0.00/348M [00:00<?, ?B/s]"
      ]
     },
     "metadata": {},
     "output_type": "display_data"
    },
    {
     "data": {
      "application/vnd.jupyter.widget-view+json": {
       "model_id": "6bba32980e134122b19a9d94bdb519fe",
       "version_major": 2,
       "version_minor": 0
      },
      "text/plain": [
       "train-00024-of-00087.parquet:   0%|          | 0.00/338M [00:00<?, ?B/s]"
      ]
     },
     "metadata": {},
     "output_type": "display_data"
    },
    {
     "data": {
      "application/vnd.jupyter.widget-view+json": {
       "model_id": "3e6f7d4b59ce411c8db69fa182f20fae",
       "version_major": 2,
       "version_minor": 0
      },
      "text/plain": [
       "train-00025-of-00087.parquet:   0%|          | 0.00/350M [00:00<?, ?B/s]"
      ]
     },
     "metadata": {},
     "output_type": "display_data"
    },
    {
     "data": {
      "application/vnd.jupyter.widget-view+json": {
       "model_id": "d7a72644c5a2494d988a4f311e3d61bb",
       "version_major": 2,
       "version_minor": 0
      },
      "text/plain": [
       "train-00026-of-00087.parquet:   0%|          | 0.00/348M [00:00<?, ?B/s]"
      ]
     },
     "metadata": {},
     "output_type": "display_data"
    },
    {
     "data": {
      "application/vnd.jupyter.widget-view+json": {
       "model_id": "6cc299c4170a461487c97cc770bdb7bf",
       "version_major": 2,
       "version_minor": 0
      },
      "text/plain": [
       "train-00027-of-00087.parquet:   0%|          | 0.00/343M [00:00<?, ?B/s]"
      ]
     },
     "metadata": {},
     "output_type": "display_data"
    },
    {
     "data": {
      "application/vnd.jupyter.widget-view+json": {
       "model_id": "bf21da399b5e427bbf09e5226d11a7aa",
       "version_major": 2,
       "version_minor": 0
      },
      "text/plain": [
       "train-00028-of-00087.parquet:   0%|          | 0.00/342M [00:00<?, ?B/s]"
      ]
     },
     "metadata": {},
     "output_type": "display_data"
    },
    {
     "data": {
      "application/vnd.jupyter.widget-view+json": {
       "model_id": "19c46c0dc1f44ecd96f4500bbc820cc5",
       "version_major": 2,
       "version_minor": 0
      },
      "text/plain": [
       "train-00029-of-00087.parquet:   0%|          | 0.00/339M [00:00<?, ?B/s]"
      ]
     },
     "metadata": {},
     "output_type": "display_data"
    },
    {
     "data": {
      "application/vnd.jupyter.widget-view+json": {
       "model_id": "25b80438c2e548e2808b5575b9601fee",
       "version_major": 2,
       "version_minor": 0
      },
      "text/plain": [
       "train-00030-of-00087.parquet:   0%|          | 0.00/347M [00:00<?, ?B/s]"
      ]
     },
     "metadata": {},
     "output_type": "display_data"
    },
    {
     "data": {
      "application/vnd.jupyter.widget-view+json": {
       "model_id": "42236851f80f4023b93cb38bcf309098",
       "version_major": 2,
       "version_minor": 0
      },
      "text/plain": [
       "train-00031-of-00087.parquet:   0%|          | 0.00/347M [00:00<?, ?B/s]"
      ]
     },
     "metadata": {},
     "output_type": "display_data"
    },
    {
     "data": {
      "application/vnd.jupyter.widget-view+json": {
       "model_id": "a6ba6c31bfaf438582e8e451f0717b9a",
       "version_major": 2,
       "version_minor": 0
      },
      "text/plain": [
       "train-00032-of-00087.parquet:   0%|          | 0.00/342M [00:00<?, ?B/s]"
      ]
     },
     "metadata": {},
     "output_type": "display_data"
    },
    {
     "data": {
      "application/vnd.jupyter.widget-view+json": {
       "model_id": "abb66698b8494e3fae04b2336e1a025d",
       "version_major": 2,
       "version_minor": 0
      },
      "text/plain": [
       "train-00033-of-00087.parquet:   0%|          | 0.00/350M [00:00<?, ?B/s]"
      ]
     },
     "metadata": {},
     "output_type": "display_data"
    },
    {
     "data": {
      "application/vnd.jupyter.widget-view+json": {
       "model_id": "f2fedc316b7d4f508cad01330c724a6d",
       "version_major": 2,
       "version_minor": 0
      },
      "text/plain": [
       "train-00034-of-00087.parquet:   0%|          | 0.00/345M [00:00<?, ?B/s]"
      ]
     },
     "metadata": {},
     "output_type": "display_data"
    },
    {
     "data": {
      "application/vnd.jupyter.widget-view+json": {
       "model_id": "6ace542287344b828c89c71b07795fa0",
       "version_major": 2,
       "version_minor": 0
      },
      "text/plain": [
       "train-00035-of-00087.parquet:   0%|          | 0.00/341M [00:00<?, ?B/s]"
      ]
     },
     "metadata": {},
     "output_type": "display_data"
    },
    {
     "data": {
      "application/vnd.jupyter.widget-view+json": {
       "model_id": "ac7d56fa644643e5bcc481f23ea14276",
       "version_major": 2,
       "version_minor": 0
      },
      "text/plain": [
       "train-00036-of-00087.parquet:   0%|          | 0.00/343M [00:00<?, ?B/s]"
      ]
     },
     "metadata": {},
     "output_type": "display_data"
    },
    {
     "data": {
      "application/vnd.jupyter.widget-view+json": {
       "model_id": "1c7741d686e44653b95fd01cf67d0573",
       "version_major": 2,
       "version_minor": 0
      },
      "text/plain": [
       "train-00037-of-00087.parquet:   0%|          | 0.00/338M [00:00<?, ?B/s]"
      ]
     },
     "metadata": {},
     "output_type": "display_data"
    },
    {
     "data": {
      "application/vnd.jupyter.widget-view+json": {
       "model_id": "d7796b550f1745fbbe60c41ff12d2e34",
       "version_major": 2,
       "version_minor": 0
      },
      "text/plain": [
       "train-00038-of-00087.parquet:   0%|          | 0.00/354M [00:00<?, ?B/s]"
      ]
     },
     "metadata": {},
     "output_type": "display_data"
    },
    {
     "data": {
      "application/vnd.jupyter.widget-view+json": {
       "model_id": "8c32ec968c33469fa8214eab8c66fe4f",
       "version_major": 2,
       "version_minor": 0
      },
      "text/plain": [
       "train-00039-of-00087.parquet:   0%|          | 0.00/341M [00:00<?, ?B/s]"
      ]
     },
     "metadata": {},
     "output_type": "display_data"
    },
    {
     "data": {
      "application/vnd.jupyter.widget-view+json": {
       "model_id": "e8238847492b4eeba25abc15fcae1cb4",
       "version_major": 2,
       "version_minor": 0
      },
      "text/plain": [
       "train-00040-of-00087.parquet:   0%|          | 0.00/349M [00:00<?, ?B/s]"
      ]
     },
     "metadata": {},
     "output_type": "display_data"
    },
    {
     "data": {
      "application/vnd.jupyter.widget-view+json": {
       "model_id": "afbff245e7eb4557aba26bbf017855a4",
       "version_major": 2,
       "version_minor": 0
      },
      "text/plain": [
       "train-00041-of-00087.parquet:   0%|          | 0.00/345M [00:00<?, ?B/s]"
      ]
     },
     "metadata": {},
     "output_type": "display_data"
    },
    {
     "data": {
      "application/vnd.jupyter.widget-view+json": {
       "model_id": "e7862d8562fd4831894a582ddbcd9d59",
       "version_major": 2,
       "version_minor": 0
      },
      "text/plain": [
       "train-00042-of-00087.parquet:   0%|          | 0.00/344M [00:00<?, ?B/s]"
      ]
     },
     "metadata": {},
     "output_type": "display_data"
    },
    {
     "data": {
      "application/vnd.jupyter.widget-view+json": {
       "model_id": "0d9fc11149514f9a9e9a873fb8077dbf",
       "version_major": 2,
       "version_minor": 0
      },
      "text/plain": [
       "train-00043-of-00087.parquet:   0%|          | 0.00/340M [00:00<?, ?B/s]"
      ]
     },
     "metadata": {},
     "output_type": "display_data"
    },
    {
     "data": {
      "application/vnd.jupyter.widget-view+json": {
       "model_id": "61bbbdb31c904aaf97638e82a59f39d8",
       "version_major": 2,
       "version_minor": 0
      },
      "text/plain": [
       "train-00044-of-00087.parquet:   0%|          | 0.00/348M [00:00<?, ?B/s]"
      ]
     },
     "metadata": {},
     "output_type": "display_data"
    },
    {
     "data": {
      "application/vnd.jupyter.widget-view+json": {
       "model_id": "dce19ce85c3a4c958e31639fe89e9c37",
       "version_major": 2,
       "version_minor": 0
      },
      "text/plain": [
       "train-00045-of-00087.parquet:   0%|          | 0.00/344M [00:00<?, ?B/s]"
      ]
     },
     "metadata": {},
     "output_type": "display_data"
    },
    {
     "data": {
      "application/vnd.jupyter.widget-view+json": {
       "model_id": "5b04eaf9968e45c69d0d6d18c139d84a",
       "version_major": 2,
       "version_minor": 0
      },
      "text/plain": [
       "train-00046-of-00087.parquet:   0%|          | 0.00/339M [00:00<?, ?B/s]"
      ]
     },
     "metadata": {},
     "output_type": "display_data"
    },
    {
     "data": {
      "application/vnd.jupyter.widget-view+json": {
       "model_id": "e7c55370081f44858ee8fa47394f6966",
       "version_major": 2,
       "version_minor": 0
      },
      "text/plain": [
       "train-00047-of-00087.parquet:   0%|          | 0.00/345M [00:00<?, ?B/s]"
      ]
     },
     "metadata": {},
     "output_type": "display_data"
    },
    {
     "data": {
      "application/vnd.jupyter.widget-view+json": {
       "model_id": "7c2bd675d0814b09904f8f054fa7df48",
       "version_major": 2,
       "version_minor": 0
      },
      "text/plain": [
       "train-00048-of-00087.parquet:   0%|          | 0.00/344M [00:00<?, ?B/s]"
      ]
     },
     "metadata": {},
     "output_type": "display_data"
    },
    {
     "data": {
      "application/vnd.jupyter.widget-view+json": {
       "model_id": "38292b7a41b74ec688eb982a447936e6",
       "version_major": 2,
       "version_minor": 0
      },
      "text/plain": [
       "train-00049-of-00087.parquet:   0%|          | 0.00/345M [00:00<?, ?B/s]"
      ]
     },
     "metadata": {},
     "output_type": "display_data"
    },
    {
     "data": {
      "application/vnd.jupyter.widget-view+json": {
       "model_id": "cf7576cbdad340409b476680c2201119",
       "version_major": 2,
       "version_minor": 0
      },
      "text/plain": [
       "train-00050-of-00087.parquet:   0%|          | 0.00/341M [00:00<?, ?B/s]"
      ]
     },
     "metadata": {},
     "output_type": "display_data"
    },
    {
     "data": {
      "application/vnd.jupyter.widget-view+json": {
       "model_id": "07f89f3c252440f9a4be389b205c1743",
       "version_major": 2,
       "version_minor": 0
      },
      "text/plain": [
       "train-00051-of-00087.parquet:   0%|          | 0.00/341M [00:00<?, ?B/s]"
      ]
     },
     "metadata": {},
     "output_type": "display_data"
    },
    {
     "data": {
      "application/vnd.jupyter.widget-view+json": {
       "model_id": "4062f78c6e254323a4ef5c3a37658ae3",
       "version_major": 2,
       "version_minor": 0
      },
      "text/plain": [
       "train-00052-of-00087.parquet:   0%|          | 0.00/349M [00:00<?, ?B/s]"
      ]
     },
     "metadata": {},
     "output_type": "display_data"
    },
    {
     "data": {
      "application/vnd.jupyter.widget-view+json": {
       "model_id": "00594c3d8b034639885f9d0e49eec91d",
       "version_major": 2,
       "version_minor": 0
      },
      "text/plain": [
       "train-00053-of-00087.parquet:   0%|          | 0.00/347M [00:00<?, ?B/s]"
      ]
     },
     "metadata": {},
     "output_type": "display_data"
    },
    {
     "data": {
      "application/vnd.jupyter.widget-view+json": {
       "model_id": "c369ab0d2f104f40aaad2d55dc1466da",
       "version_major": 2,
       "version_minor": 0
      },
      "text/plain": [
       "train-00054-of-00087.parquet:   0%|          | 0.00/344M [00:00<?, ?B/s]"
      ]
     },
     "metadata": {},
     "output_type": "display_data"
    },
    {
     "data": {
      "application/vnd.jupyter.widget-view+json": {
       "model_id": "368a817b0e3a455a9ce58008a4d6d4cc",
       "version_major": 2,
       "version_minor": 0
      },
      "text/plain": [
       "train-00055-of-00087.parquet:   0%|          | 0.00/352M [00:00<?, ?B/s]"
      ]
     },
     "metadata": {},
     "output_type": "display_data"
    },
    {
     "data": {
      "application/vnd.jupyter.widget-view+json": {
       "model_id": "09334fc37e224d51b6ebdfa5d626839b",
       "version_major": 2,
       "version_minor": 0
      },
      "text/plain": [
       "train-00056-of-00087.parquet:   0%|          | 0.00/343M [00:00<?, ?B/s]"
      ]
     },
     "metadata": {},
     "output_type": "display_data"
    },
    {
     "data": {
      "application/vnd.jupyter.widget-view+json": {
       "model_id": "8f96d507d45540b194165fff41328906",
       "version_major": 2,
       "version_minor": 0
      },
      "text/plain": [
       "train-00057-of-00087.parquet:   0%|          | 0.00/342M [00:00<?, ?B/s]"
      ]
     },
     "metadata": {},
     "output_type": "display_data"
    },
    {
     "data": {
      "application/vnd.jupyter.widget-view+json": {
       "model_id": "fda57ef12b71486ab00937d310039402",
       "version_major": 2,
       "version_minor": 0
      },
      "text/plain": [
       "train-00058-of-00087.parquet:   0%|          | 0.00/343M [00:00<?, ?B/s]"
      ]
     },
     "metadata": {},
     "output_type": "display_data"
    },
    {
     "data": {
      "application/vnd.jupyter.widget-view+json": {
       "model_id": "ebeb2c9018dc43789437607a0996c83f",
       "version_major": 2,
       "version_minor": 0
      },
      "text/plain": [
       "train-00059-of-00087.parquet:   0%|          | 0.00/350M [00:00<?, ?B/s]"
      ]
     },
     "metadata": {},
     "output_type": "display_data"
    },
    {
     "data": {
      "application/vnd.jupyter.widget-view+json": {
       "model_id": "3747bac5ec0741f2934871c71953149f",
       "version_major": 2,
       "version_minor": 0
      },
      "text/plain": [
       "train-00060-of-00087.parquet:   0%|          | 0.00/341M [00:00<?, ?B/s]"
      ]
     },
     "metadata": {},
     "output_type": "display_data"
    },
    {
     "data": {
      "application/vnd.jupyter.widget-view+json": {
       "model_id": "46593b569ecb49b5888982bc8e38125d",
       "version_major": 2,
       "version_minor": 0
      },
      "text/plain": [
       "train-00061-of-00087.parquet:   0%|          | 0.00/341M [00:00<?, ?B/s]"
      ]
     },
     "metadata": {},
     "output_type": "display_data"
    },
    {
     "data": {
      "application/vnd.jupyter.widget-view+json": {
       "model_id": "c074c3cb06194736a177cc8b8f1c92e5",
       "version_major": 2,
       "version_minor": 0
      },
      "text/plain": [
       "train-00062-of-00087.parquet:   0%|          | 0.00/348M [00:00<?, ?B/s]"
      ]
     },
     "metadata": {},
     "output_type": "display_data"
    },
    {
     "data": {
      "application/vnd.jupyter.widget-view+json": {
       "model_id": "2ed7101dbe064d989442e89de944cd7c",
       "version_major": 2,
       "version_minor": 0
      },
      "text/plain": [
       "train-00063-of-00087.parquet:   0%|          | 0.00/345M [00:00<?, ?B/s]"
      ]
     },
     "metadata": {},
     "output_type": "display_data"
    },
    {
     "data": {
      "application/vnd.jupyter.widget-view+json": {
       "model_id": "bc5f8cf3a42d4976a237dfed4a33802a",
       "version_major": 2,
       "version_minor": 0
      },
      "text/plain": [
       "train-00064-of-00087.parquet:   0%|          | 0.00/342M [00:00<?, ?B/s]"
      ]
     },
     "metadata": {},
     "output_type": "display_data"
    },
    {
     "data": {
      "application/vnd.jupyter.widget-view+json": {
       "model_id": "fddf9b508f404ec4bf6bcb13aea77980",
       "version_major": 2,
       "version_minor": 0
      },
      "text/plain": [
       "train-00065-of-00087.parquet:   0%|          | 0.00/342M [00:00<?, ?B/s]"
      ]
     },
     "metadata": {},
     "output_type": "display_data"
    },
    {
     "data": {
      "application/vnd.jupyter.widget-view+json": {
       "model_id": "643bafca4b794673b7d02db832787af4",
       "version_major": 2,
       "version_minor": 0
      },
      "text/plain": [
       "train-00066-of-00087.parquet:   0%|          | 0.00/351M [00:00<?, ?B/s]"
      ]
     },
     "metadata": {},
     "output_type": "display_data"
    },
    {
     "data": {
      "application/vnd.jupyter.widget-view+json": {
       "model_id": "f16fbff9e2744e2ca10e1a3c8e6410ff",
       "version_major": 2,
       "version_minor": 0
      },
      "text/plain": [
       "train-00067-of-00087.parquet:   0%|          | 0.00/341M [00:00<?, ?B/s]"
      ]
     },
     "metadata": {},
     "output_type": "display_data"
    },
    {
     "data": {
      "application/vnd.jupyter.widget-view+json": {
       "model_id": "11fede8bf5e649249cb867b6309ae873",
       "version_major": 2,
       "version_minor": 0
      },
      "text/plain": [
       "train-00068-of-00087.parquet:   0%|          | 0.00/345M [00:00<?, ?B/s]"
      ]
     },
     "metadata": {},
     "output_type": "display_data"
    },
    {
     "data": {
      "application/vnd.jupyter.widget-view+json": {
       "model_id": "f441c5338203448db6e9be3ab2d27ee8",
       "version_major": 2,
       "version_minor": 0
      },
      "text/plain": [
       "train-00069-of-00087.parquet:   0%|          | 0.00/349M [00:00<?, ?B/s]"
      ]
     },
     "metadata": {},
     "output_type": "display_data"
    },
    {
     "data": {
      "application/vnd.jupyter.widget-view+json": {
       "model_id": "2dca9e002ecf47619b87a796e7a7a234",
       "version_major": 2,
       "version_minor": 0
      },
      "text/plain": [
       "train-00070-of-00087.parquet:   0%|          | 0.00/340M [00:00<?, ?B/s]"
      ]
     },
     "metadata": {},
     "output_type": "display_data"
    },
    {
     "data": {
      "application/vnd.jupyter.widget-view+json": {
       "model_id": "3955c23229be4544b9d63255e208921c",
       "version_major": 2,
       "version_minor": 0
      },
      "text/plain": [
       "train-00071-of-00087.parquet:   0%|          | 0.00/347M [00:00<?, ?B/s]"
      ]
     },
     "metadata": {},
     "output_type": "display_data"
    },
    {
     "data": {
      "application/vnd.jupyter.widget-view+json": {
       "model_id": "a752c9bb5f1e43aea6a7d86d1e7b141d",
       "version_major": 2,
       "version_minor": 0
      },
      "text/plain": [
       "train-00072-of-00087.parquet:   0%|          | 0.00/349M [00:00<?, ?B/s]"
      ]
     },
     "metadata": {},
     "output_type": "display_data"
    },
    {
     "data": {
      "application/vnd.jupyter.widget-view+json": {
       "model_id": "44d24d5bb0b046af8be7c594068cf83e",
       "version_major": 2,
       "version_minor": 0
      },
      "text/plain": [
       "train-00073-of-00087.parquet:   0%|          | 0.00/344M [00:00<?, ?B/s]"
      ]
     },
     "metadata": {},
     "output_type": "display_data"
    },
    {
     "data": {
      "application/vnd.jupyter.widget-view+json": {
       "model_id": "8ab9464ad1f34ff19ece4a9014ce5962",
       "version_major": 2,
       "version_minor": 0
      },
      "text/plain": [
       "train-00074-of-00087.parquet:   0%|          | 0.00/341M [00:00<?, ?B/s]"
      ]
     },
     "metadata": {},
     "output_type": "display_data"
    },
    {
     "data": {
      "application/vnd.jupyter.widget-view+json": {
       "model_id": "f40ea702f4fe4720903ca882f28cf226",
       "version_major": 2,
       "version_minor": 0
      },
      "text/plain": [
       "train-00075-of-00087.parquet:   0%|          | 0.00/346M [00:00<?, ?B/s]"
      ]
     },
     "metadata": {},
     "output_type": "display_data"
    },
    {
     "data": {
      "application/vnd.jupyter.widget-view+json": {
       "model_id": "7334d443900b4405aba524943ee25cad",
       "version_major": 2,
       "version_minor": 0
      },
      "text/plain": [
       "train-00076-of-00087.parquet:   0%|          | 0.00/349M [00:00<?, ?B/s]"
      ]
     },
     "metadata": {},
     "output_type": "display_data"
    },
    {
     "data": {
      "application/vnd.jupyter.widget-view+json": {
       "model_id": "71e24553417a4b5ea00d15b136991806",
       "version_major": 2,
       "version_minor": 0
      },
      "text/plain": [
       "train-00077-of-00087.parquet:   0%|          | 0.00/347M [00:00<?, ?B/s]"
      ]
     },
     "metadata": {},
     "output_type": "display_data"
    },
    {
     "data": {
      "application/vnd.jupyter.widget-view+json": {
       "model_id": "71d6b6fc1e904717b15434c508a54a79",
       "version_major": 2,
       "version_minor": 0
      },
      "text/plain": [
       "train-00078-of-00087.parquet:   0%|          | 0.00/339M [00:00<?, ?B/s]"
      ]
     },
     "metadata": {},
     "output_type": "display_data"
    },
    {
     "data": {
      "application/vnd.jupyter.widget-view+json": {
       "model_id": "f8e3b618448546fbb8829dcf54066978",
       "version_major": 2,
       "version_minor": 0
      },
      "text/plain": [
       "train-00079-of-00087.parquet:   0%|          | 0.00/348M [00:00<?, ?B/s]"
      ]
     },
     "metadata": {},
     "output_type": "display_data"
    },
    {
     "data": {
      "application/vnd.jupyter.widget-view+json": {
       "model_id": "1cc7fbfe36b54e5586f42deb133af3b1",
       "version_major": 2,
       "version_minor": 0
      },
      "text/plain": [
       "train-00080-of-00087.parquet:   0%|          | 0.00/344M [00:00<?, ?B/s]"
      ]
     },
     "metadata": {},
     "output_type": "display_data"
    },
    {
     "data": {
      "application/vnd.jupyter.widget-view+json": {
       "model_id": "7801b46765f145b8aa392ebddd1d73f2",
       "version_major": 2,
       "version_minor": 0
      },
      "text/plain": [
       "train-00081-of-00087.parquet:   0%|          | 0.00/348M [00:00<?, ?B/s]"
      ]
     },
     "metadata": {},
     "output_type": "display_data"
    },
    {
     "data": {
      "application/vnd.jupyter.widget-view+json": {
       "model_id": "94f30a764f7742d6939bccc17836a676",
       "version_major": 2,
       "version_minor": 0
      },
      "text/plain": [
       "train-00082-of-00087.parquet:   0%|          | 0.00/346M [00:00<?, ?B/s]"
      ]
     },
     "metadata": {},
     "output_type": "display_data"
    },
    {
     "data": {
      "application/vnd.jupyter.widget-view+json": {
       "model_id": "83885850c45740a0b3a5090c0baca10e",
       "version_major": 2,
       "version_minor": 0
      },
      "text/plain": [
       "train-00083-of-00087.parquet:   0%|          | 0.00/343M [00:00<?, ?B/s]"
      ]
     },
     "metadata": {},
     "output_type": "display_data"
    },
    {
     "data": {
      "application/vnd.jupyter.widget-view+json": {
       "model_id": "535e49290c9441e49fafb433dbde6756",
       "version_major": 2,
       "version_minor": 0
      },
      "text/plain": [
       "train-00084-of-00087.parquet:   0%|          | 0.00/343M [00:00<?, ?B/s]"
      ]
     },
     "metadata": {},
     "output_type": "display_data"
    },
    {
     "data": {
      "application/vnd.jupyter.widget-view+json": {
       "model_id": "7d1037b87a624495896f3f9194a03f62",
       "version_major": 2,
       "version_minor": 0
      },
      "text/plain": [
       "train-00085-of-00087.parquet:   0%|          | 0.00/347M [00:00<?, ?B/s]"
      ]
     },
     "metadata": {},
     "output_type": "display_data"
    },
    {
     "data": {
      "application/vnd.jupyter.widget-view+json": {
       "model_id": "8fc207629383443290736edcf9ca6ae7",
       "version_major": 2,
       "version_minor": 0
      },
      "text/plain": [
       "train-00086-of-00087.parquet:   0%|          | 0.00/348M [00:00<?, ?B/s]"
      ]
     },
     "metadata": {},
     "output_type": "display_data"
    },
    {
     "data": {
      "application/vnd.jupyter.widget-view+json": {
       "model_id": "ba07d0e705184494bc5922bdb6101eb2",
       "version_major": 2,
       "version_minor": 0
      },
      "text/plain": [
       "Generating train split: 0 examples [00:00, ? examples/s]"
      ]
     },
     "metadata": {},
     "output_type": "display_data"
    },
    {
     "data": {
      "application/vnd.jupyter.widget-view+json": {
       "model_id": "3e2f74324cb94e6297c410d1c50cd7da",
       "version_major": 2,
       "version_minor": 0
      },
      "text/plain": [
       "Loading dataset shards:   0%|          | 0/181 [00:00<?, ?it/s]"
      ]
     },
     "metadata": {},
     "output_type": "display_data"
    },
    {
     "data": {
      "application/vnd.jupyter.widget-view+json": {
       "model_id": "4ad5ee6110954817837415de2e65bd1b",
       "version_major": 2,
       "version_minor": 0
      },
      "text/plain": [
       "Saving the dataset (0/181 shards):   0%|          | 0/20071773 [00:00<?, ? examples/s]"
      ]
     },
     "metadata": {},
     "output_type": "display_data"
    },
    {
     "name": "stdout",
     "output_type": "stream",
     "text": [
      "Dataset 'bigcode/starcoderdata' (JAVA, train) successfully downloaded and saved to './/java_train_dataset'.\n"
     ]
    }
   ],
   "source": [
    "ds = download_starcoderdata_java(save_directory=\"./\", split=\"train\")"
   ]
  },
  {
   "cell_type": "code",
   "execution_count": 3,
   "metadata": {},
   "outputs": [
    {
     "data": {
      "application/vnd.jupyter.widget-view+json": {
       "model_id": "668a241466fc457ca2b56c173673fe11",
       "version_major": 2,
       "version_minor": 0
      },
      "text/plain": [
       "Loading dataset from disk:   0%|          | 0/181 [00:00<?, ?it/s]"
      ]
     },
     "metadata": {},
     "output_type": "display_data"
    }
   ],
   "source": [
    "from datasets import load_from_disk\n",
    "\n",
    "# Later, load the dataset from the saved location\n",
    "dataset = load_from_disk(\"./java_train_dataset\")"
   ]
  },
  {
   "cell_type": "code",
   "execution_count": 4,
   "metadata": {},
   "outputs": [
    {
     "data": {
      "text/plain": [
       "Dataset({\n",
       "    features: ['max_stars_repo_path', 'max_stars_repo_name', 'max_stars_count', 'id', 'content'],\n",
       "    num_rows: 20071773\n",
       "})"
      ]
     },
     "execution_count": 4,
     "metadata": {},
     "output_type": "execute_result"
    }
   ],
   "source": [
    "dataset"
   ]
  },
  {
   "cell_type": "code",
   "execution_count": 5,
   "metadata": {},
   "outputs": [
    {
     "data": {
      "text/plain": [
       "datasets.arrow_dataset.Dataset"
      ]
     },
     "execution_count": 5,
     "metadata": {},
     "output_type": "execute_result"
    }
   ],
   "source": [
    "type(dataset)"
   ]
  },
  {
   "cell_type": "code",
   "execution_count": 6,
   "metadata": {},
   "outputs": [
    {
     "name": "stdout",
     "output_type": "stream",
     "text": [
      "{'max_stars_repo_path': 'dashbuilder-shared/dashbuilder-dataset-api/src/main/java/org/dashbuilder/dataset/DataSetConstraints.java', 'max_stars_repo_name': 'shanika04/dashbuilder', 'max_stars_count': 0, 'id': '0', 'content': '/*\\n * Copyright 2014 Red Hat, Inc. and/or its affiliates.\\n *\\n * Licensed under the Apache License, Version 2.0 (the \"License\");\\n * you may not use this file except in compliance with the License.\\n * You may obtain a copy of the License at\\n *\\n *       http://www.apache.org/licenses/LICENSE-2.0\\n *\\n * Unless required by applicable law or agreed to in writing, software\\n * distributed under the License is distributed on an \"AS IS\" BASIS,\\n * WITHOUT WARRANTIES OR CONDITIONS OF ANY KIND, either express or implied.\\n * See the License for the specific language governing permissions and\\n * limitations under the License.\\n */\\npackage org.dashbuilder.dataset;\\n\\nimport java.util.List;\\nimport java.util.ArrayList;\\n\\n/**\\n * A set of constraints over the structure of a DataSet instance.\\n */\\npublic class DataSetConstraints<T> {\\n\\n    public static final int ERROR_COLUMN_TYPE = 100;\\n    public static final int ERROR_COLUMN_NUMBER = 101;\\n\\n    protected List<ColumnType[]> columnTypeList = new ArrayList<ColumnType[]>();\\n    protected int minColumns = -1;\\n    protected int maxColumns = -1;\\n    protected boolean extraColumnsAllowed = false;\\n    protected ColumnType extraColumnsType = null;\\n\\n    public ColumnType[] getColumnTypes() {\\n        if (columnTypeList.isEmpty()) return null;\\n        return columnTypeList.get(0);\\n    }\\n\\n    public ColumnType[] getColumnTypes(int numberOfColumns) {\\n        if (columnTypeList.isEmpty()) return null;\\n        for (ColumnType[] types : columnTypeList) {\\n            if (types.length == numberOfColumns) return types;\\n        }\\n        return columnTypeList.get(0);\\n    }\\n\\n    public T setColumnTypes(ColumnType[]... typeList) {\\n        columnTypeList.clear();\\n        if (typeList != null) {\\n            for (ColumnType[] types : typeList) {\\n                _checkSizes(minColumns, maxColumns, types);\\n                this.columnTypeList.add(types);\\n            }\\n        }\\n        return (T) this;\\n    }\\n\\n    public int getMaxColumns() {\\n        return maxColumns;\\n    }\\n\\n    public T setMaxColumns(int maxColumns) {\\n        for (ColumnType[] types : columnTypeList) {\\n            _checkSizes(minColumns, maxColumns, types);\\n        }\\n        this.maxColumns = maxColumns;\\n        return (T) this;\\n    }\\n\\n    public int getMinColumns() {\\n        return minColumns;\\n    }\\n\\n    public T setMinColumns(int minColumns) {\\n        for (ColumnType[] types : columnTypeList) {\\n            _checkSizes(minColumns, maxColumns, types);\\n        }\\n        this.minColumns = minColumns;\\n        return (T) this;\\n    }\\n\\n    public boolean areExtraColumnsAllowed() {\\n        return extraColumnsAllowed;\\n    }\\n\\n    public T setExtraColumnsAllowed(boolean extraColumnsAllowed) {\\n        this.extraColumnsAllowed = extraColumnsAllowed;\\n        return (T) this;\\n    }\\n\\n    public ColumnType getExtraColumnsType() {\\n        return extraColumnsType;\\n    }\\n\\n    public T setExtraColumnsType(ColumnType extraColumnsType) {\\n        this.extraColumnsType = extraColumnsType;\\n        return (T) this;\\n    }\\n\\n    private void _checkSizes(int min, int max, ColumnType[] types) {\\n        if (min == 0) {\\n            throw new IllegalArgumentException(\"Minimum data set columns must be greater than or equal to 1. Actual=\" + min);\\n        }\\n        if (max == 0) {\\n            throw new IllegalArgumentException(\"Maximum data set columns must be greater than or equal to 1. Actual=\" + max);\\n        }\\n        if (min != -1 && max != -1 && min > max) {\\n            throw new IllegalArgumentException(\"Min=\" + min + \" data set columns cannot be greater than the max=\" + max);\\n        }\\n        if (types != null) {\\n            if (min != -1 && types.length < min) {\\n                throw new IllegalArgumentException(\"columnTypes is smaller than \" + min);\\n            }\\n            if (max != -1 && types.length > max) {\\n                throw new IllegalArgumentException(\"columnTypes is greater than \" + max);\\n            }\\n        }\\n    }\\n\\n    public ValidationError check(DataSet dataSet) {\\n\\n        if (minColumns != -1 && dataSet.getColumns().size() < minColumns) {\\n            return createValidationError(ERROR_COLUMN_NUMBER);\\n        }\\n        if (maxColumns != -1 && dataSet.getColumns().size() > maxColumns) {\\n            return createValidationError(ERROR_COLUMN_NUMBER);\\n        }\\n        ValidationError error = null;\\n        boolean ok = false;\\n        int currentColumns  = -1;\\n        for (ColumnType[] types : columnTypeList) {\\n            if (currentColumns < 0 || currentColumns < types.length) currentColumns = types.length;\\n            error = checkTypes(dataSet, types);\\n            if (!ok && error == null) ok = true;\\n        }\\n        if (!ok) return error;\\n\\n        // Check extra columns type\\n        if (currentColumns > 0 && extraColumnsAllowed && extraColumnsType != null && dataSet.getColumns().size() > currentColumns) {\\n            for (int i = currentColumns; i < dataSet.getColumns().size(); i++) {\\n                ColumnType columnType = dataSet.getColumnByIndex(i).getColumnType();\\n                if (!columnType.equals(extraColumnsType)) {\\n                    return createValidationError(ERROR_COLUMN_TYPE, i, extraColumnsType, columnType);\\n                }\\n            }\\n        }\\n        return null;\\n    }\\n\\n    private ValidationError checkTypes(DataSet dataSet, ColumnType[] types) {\\n        for (int i = 0; i < dataSet.getColumns().size(); i++) {\\n            ColumnType columnType = dataSet.getColumnByIndex(i).getColumnType();\\n            if (i < types.length && !columnType.equals(types[i])) {\\n                return createValidationError(ERROR_COLUMN_TYPE, i, types[i], columnType);\\n            }\\n        }\\n        return null;\\n    }\\n\\n    protected ValidationError createValidationError(int error, Object... params) {\\n        switch (error) {\\n            case ERROR_COLUMN_NUMBER:\\n                return new ValidationError(error, \"Number of columns exceeds the limits [\"\\n                        + (minColumns == -1 ? 0 : minColumns) + \", \" + (maxColumns != -1 ? maxColumns : \"unlimited\") + \"]\");\\n            case ERROR_COLUMN_TYPE:\\n                Integer idx = (Integer) params[0];\\n                ColumnType expected = (ColumnType) params[1];\\n                ColumnType found = (ColumnType) params[2];\\n                return new ValidationError(error, \"Column \" + idx + \" type=\" + found + \", expected=\" + expected);\\n        }\\n        return new ValidationError(error);\\n    }\\n}'}\n"
     ]
    }
   ],
   "source": [
    "print(dataset[0])"
   ]
  },
  {
   "cell_type": "code",
   "execution_count": 7,
   "metadata": {},
   "outputs": [],
   "source": [
    "dataset = dataset.sort(column_names=[\"max_stars_count\", \"max_stars_repo_name\"], reverse=[True, False])"
   ]
  },
  {
   "cell_type": "code",
   "execution_count": 8,
   "metadata": {},
   "outputs": [
    {
     "name": "stdout",
     "output_type": "stream",
     "text": [
      "Example 0:\n",
      "<gh_stars>1000+\n",
      "/* Copyright 2016 The TensorFlow Authors. All Rights Reserved.\n",
      "\n",
      "Licensed under the Apache License, Version 2.0 (the \"License\");\n",
      "you may not use this file except in compliance with the License.\n",
      "You may obtain a copy of the License at\n",
      "\n",
      "    http://www.apache.org/licenses/LICENSE-2.0\n",
      "\n",
      "Unless required by applicable law or agreed to in writing, software\n",
      "distributed under the License is distributed on an \"AS IS\" BASIS,\n",
      "WITHOUT WARRANTIES OR CONDITIONS OF ANY KIND, either express or implied.\n",
      "See the License for the specific language governing permissions and\n",
      "limitations under the License.\n",
      "==============================================================================*/\n",
      "\n",
      "/**\n",
      " * Defines classes to build, save, load and execute TensorFlow models.\n",
      " *\n",
      "  *<aside class=\"warning\">\n",
      " * <b>Warning:</b> This API is deprecated and will be removed in a future\n",
      " *       version of TensorFlow after <a href=\"https://tensorflow.org/java\">the replacement</a>\n",
      " *       is stable.\n",
      " *</aside>\n",
      " *\n",
      " * <p>To get started, see the <a href=\"https://tensorflow.org/install/lang_java_legacy\">\n",
      " * installation instructions.</a></p>\n",
      " *\n",
      " * <p>The <a\n",
      " * href=\"https://www.tensorflow.org/code/tensorflow/java/src/main/java/org/tensorflow/examples/LabelImage.java\">LabelImage</a>\n",
      " * example demonstrates use of this API to classify images using a pre-trained <a\n",
      " * href=\"http://arxiv.org/abs/1512.00567\">Inception</a> architecture convolutional neural network.\n",
      " * It demonstrates:\n",
      " *\n",
      " * <ul>\n",
      " *   <li>Graph construction: using the OperationBuilder class to construct a graph to decode, resize\n",
      " *       and normalize a JPEG image.\n",
      " *   <li>Model loading: Using Graph.importGraphDef() to load a pre-trained Inception model.\n",
      " *   <li>Graph execution: Using a Session to execute the graphs and find the best label for an\n",
      " *       image.\n",
      " * </ul>\n",
      " *\n",
      " * <p>Additional examples can be found in the <a\n",
      " * href=\"https://github.com/tensorflow/java\">tensorflow/java</a> GitHub repository.\n",
      " */\n",
      "package org.tensorflow;\n",
      "\n",
      "\n",
      "\n",
      "Example 1:\n",
      "<reponame>EricRemmerswaal/tensorflow<filename>tensorflow/lite/java/src/main/java/org/tensorflow/lite/Tensor.java\n",
      "/* Copyright 2017 The TensorFlow Authors. All Rights Reserved.\n",
      "\n",
      "Licensed under the Apache License, Version 2.0 (the \"License\");\n",
      "you may not use this file except in compliance with the License.\n",
      "You may obtain a copy of the License at\n",
      "\n",
      "    http://www.apache.org/licenses/LICENSE-2.0\n",
      "\n",
      "Unless required by applicable law or agreed to in writing, software\n",
      "distributed under the License is distributed on an \"AS IS\" BASIS,\n",
      "WITHOUT WARRANTIES OR CONDITIONS OF ANY KIND, either express or implied.\n",
      "See the License for the specific language governing permissions and\n",
      "limitations under the License.\n",
      "==============================================================================*/\n",
      "\n",
      "package org.tensorflow.lite;\n",
      "\n",
      "import java.nio.ByteBuffer;\n",
      "\n",
      "/**\n",
      " * A typed multi-dimensional array used in Tensorflow Lite.\n",
      " *\n",
      " * <p>The native handle of a {@code Tensor} is managed by {@code NativeInterpreterWrapper}, and does\n",
      " * not needed to be closed by the client. However, once the {@code NativeInterpreterWrapper} has\n",
      " * been closed, the tensor handle will be invalidated.\n",
      " */\n",
      "public interface Tensor {\n",
      "\n",
      "  /**\n",
      "   * Quantization parameters that corresponds to the table, {@code QuantizationParameters}, in the\n",
      "   * <a\n",
      "   * href=\"https://github.com/tensorflow/tensorflow/blob/master/tensorflow/lite/schema/schema.fbs\">TFLite\n",
      "   * Model schema file.</a>\n",
      "   *\n",
      "   * <p>Since per-channel quantization does not apply to input and output tensors, {@code scale} and\n",
      "   * {@code zero_point} are both single values instead of arrays.\n",
      "   *\n",
      "   * <p>For tensor that are not quantized, the values of scale and zero_point are both 0.\n",
      "   *\n",
      "   * <p>Given a quantized value q, the corresponding float value f should be: <br>\n",
      "   * f = scale * (q - zero_point) <br>\n",
      "   */\n",
      "  class QuantizationParams {\n",
      "    /** The scale value used in quantization. */\n",
      "    private final float scale;\n",
      "    /** The zero point value used in quantization. */\n",
      "    private final int zeroPoint;\n",
      "\n",
      "    /**\n",
      "     * Creates a {@link QuantizationParams} with {@code scale} and {@code zero_point}.\n",
      "     *\n",
      "     * @param scale The scale value used in quantization.\n",
      "     * @param zeroPoint The zero point value used in quantization.\n",
      "     */\n",
      "    public QuantizationParams(final float scale, final int zeroPoint) {\n",
      "      this.scale = scale;\n",
      "      this.zeroPoint = zeroPoint;\n",
      "    }\n",
      "\n",
      "    /** Returns the scale value. */\n",
      "    public float getScale() {\n",
      "      return scale;\n",
      "    }\n",
      "\n",
      "    /** Returns the zero point value. */\n",
      "    public int getZeroPoint() {\n",
      "      return zeroPoint;\n",
      "    }\n",
      "  }\n",
      "\n",
      "  /** Returns the {@link DataType} of elements stored in the Tensor. */\n",
      "  DataType dataType();\n",
      "\n",
      "  /**\n",
      "   * Returns the number of dimensions (sometimes referred to as <a\n",
      "   * href=\"https://www.tensorflow.org/resources/dims_types.html#rank\">rank</a>) of the Tensor.\n",
      "   *\n",
      "   * <p>Will be 0 for a scalar, 1 for a vector, 2 for a matrix, 3 for a 3-dimensional tensor etc.\n",
      "   */\n",
      "  int numDimensions();\n",
      "\n",
      "  /** Returns the size, in bytes, of the tensor data. */\n",
      "  int numBytes();\n",
      "\n",
      "  /** Returns the number of elements in a flattened (1-D) view of the tensor. */\n",
      "  int numElements();\n",
      "\n",
      "  /**\n",
      "   * Returns the <a href=\"https://www.tensorflow.org/resources/dims_types.html#shape\">shape</a> of\n",
      "   * the Tensor, i.e., the sizes of each dimension.\n",
      "   *\n",
      "   * @return an array where the i-th element is the size of the i-th dimension of the tensor.\n",
      "   */\n",
      "  int[] shape();\n",
      "\n",
      "  /**\n",
      "   * Returns the original <a\n",
      "   * href=\"https://www.tensorflow.org/resources/dims_types.html#shape\">shape</a> of the Tensor,\n",
      "   * i.e., the sizes of each dimension - before any resizing was performed. Unknown dimensions are\n",
      "   * designated with a value of -1.\n",
      "   *\n",
      "   * @return an array where the i-th element is the size of the i-th dimension of the tensor.\n",
      "   */\n",
      "  int[] shapeSignature();\n",
      "\n",
      "  /**\n",
      "   * Returns the (global) index of the tensor within the subgraph of the owning interpreter.\n",
      "   *\n",
      "   * @hide\n",
      "   */\n",
      "  int index();\n",
      "\n",
      "  /**\n",
      "   * Returns the name of the tensor within the owning interpreter.\n",
      "   *\n",
      "   * @hide\n",
      "   */\n",
      "  String name();\n",
      "\n",
      "  /**\n",
      "   * Returns the quantization parameters of the tensor within the owning interpreter.\n",
      "   *\n",
      "   * <p>Only quantized tensors have valid {@code QuantizationParameters}. For tensor that are not\n",
      "   * quantized, the values of scale and zero_point are both 0.\n",
      "   */\n",
      "  QuantizationParams quantizationParams();\n",
      "\n",
      "  /**\n",
      "   * Returns a read-only {@code ByteBuffer} view of the tensor data.\n",
      "   *\n",
      "   * <p>In general, this method is most useful for obtaining a read-only view of output tensor data,\n",
      "   * *after* inference has been executed (e.g., via {@link InterpreterApi#run(Object,Object)}). In\n",
      "   * particular, some graphs have dynamically shaped outputs, which can make feeding a predefined\n",
      "   * output buffer to the interpreter awkward. Example usage:\n",
      "   *\n",
      "   * <pre>{@code\n",
      "   * interpreter.run(input, null);\n",
      "   * ByteBuffer outputBuffer = interpreter.getOutputTensor(0).asReadOnlyBuffer();\n",
      "   * // Copy or read from outputBuffer.\n",
      "   * }</pre>\n",
      "   *\n",
      "   * <p>WARNING: If the tensor has not yet been allocated, e.g., before inference has been executed,\n",
      "   * the result is undefined. Note that the underlying tensor pointer may also change when the\n",
      "   * tensor is invalidated in any way (e.g., if inference is executed, or the graph is resized), so\n",
      "   * it is *not* safe to hold a reference to the returned buffer beyond immediate use directly\n",
      "   * following inference. Example *bad* usage:\n",
      "   *\n",
      "   * <pre>{@code\n",
      "   * ByteBuffer outputBuffer = interpreter.getOutputTensor(0).asReadOnlyBuffer();\n",
      "   * interpreter.run(input, null);\n",
      "   * // Copy or read from outputBuffer (which may now be invalid).\n",
      "   * }</pre>\n",
      "   *\n",
      "   * @throws IllegalArgumentException if the tensor data has not been allocated.\n",
      "   */\n",
      "  ByteBuffer asReadOnlyBuffer();\n",
      "}\n",
      "\n",
      "\n",
      "\n",
      "Example 2:\n",
      "<filename>tensorflow/lite/java/src/main/java/org/tensorflow/lite/NativeInterpreterWrapperExperimental.java\n",
      "/* Copyright 2017 The TensorFlow Authors. All Rights Reserved.\n",
      "\n",
      "Licensed under the Apache License, Version 2.0 (the \"License\");\n",
      "you may not use this file except in compliance with the License.\n",
      "You may obtain a copy of the License at\n",
      "\n",
      "    http://www.apache.org/licenses/LICENSE-2.0\n",
      "\n",
      "Unless required by applicable law or agreed to in writing, software\n",
      "distributed under the License is distributed on an \"AS IS\" BASIS,\n",
      "WITHOUT WARRANTIES OR CONDITIONS OF ANY KIND, either express or implied.\n",
      "See the License for the specific language governing permissions and\n",
      "limitations under the License.\n",
      "==============================================================================*/\n",
      "\n",
      "package org.tensorflow.lite;\n",
      "\n",
      "import java.nio.ByteBuffer;\n",
      "\n",
      "/**\n",
      " * Extension of NativeInterpreterWrapper that adds support for experimental methods.\n",
      " *\n",
      " * <p><b>WARNING:</b> Resources consumed by the {@code NativeInterpreterWrapperExperimental} object\n",
      " * must be explicitly freed by invoking the {@link #close()} method when the {@code\n",
      " * NativeInterpreterWrapperExperimental} object is no longer needed.\n",
      " *\n",
      " * <p>Note: This class is not thread safe.\n",
      " */\n",
      "final class NativeInterpreterWrapperExperimental extends NativeInterpreterWrapper {\n",
      "\n",
      "  NativeInterpreterWrapperExperimental(String modelPath) {\n",
      "    super(modelPath);\n",
      "  }\n",
      "\n",
      "  NativeInterpreterWrapperExperimental(ByteBuffer byteBuffer) {\n",
      "    super(byteBuffer);\n",
      "  }\n",
      "\n",
      "  NativeInterpreterWrapperExperimental(String modelPath, InterpreterImpl.Options options) {\n",
      "    super(modelPath, options);\n",
      "  }\n",
      "\n",
      "  NativeInterpreterWrapperExperimental(ByteBuffer buffer, InterpreterImpl.Options options) {\n",
      "    super(buffer, options);\n",
      "  }\n",
      "\n",
      "  void resetVariableTensors() {\n",
      "    resetVariableTensors(interpreterHandle, errorHandle);\n",
      "  }\n",
      "\n",
      "  private static native void resetVariableTensors(long interpreterHandle, long errorHandle);\n",
      "}\n",
      "\n",
      "\n",
      "\n",
      "Example 3:\n",
      "/* Copyright 2021 The TensorFlow Authors. All Rights Reserved.\n",
      "\n",
      "Licensed under the Apache License, Version 2.0 (the \"License\");\n",
      "you may not use this file except in compliance with the License.\n",
      "You may obtain a copy of the License at\n",
      "\n",
      "    http://www.apache.org/licenses/LICENSE-2.0\n",
      "\n",
      "Unless required by applicable law or agreed to in writing, software\n",
      "distributed under the License is distributed on an \"AS IS\" BASIS,\n",
      "WITHOUT WARRANTIES OR CONDITIONS OF ANY KIND, either express or implied.\n",
      "See the License for the specific language governing permissions and\n",
      "limitations under the License.\n",
      "==============================================================================*/\n",
      "\n",
      "package org.tensorflow.lite;\n",
      "\n",
      "/**\n",
      " * This class is used to conditionally enable certain tests that depend on experimental or\n",
      " * deprecated features of TF Lite that may not be univerally portable to all TF Lite\n",
      " * implementations.\n",
      " */\n",
      "public final class SupportedFeatures {\n",
      "\n",
      "  private SupportedFeatures() {}\n",
      "\n",
      "  /**\n",
      "   * True if the TF Lite implementation supports cancellation.\n",
      "   *\n",
      "   * @see Interpreter#setCanceled\n",
      "   */\n",
      "  public static native boolean supportsCancellation();\n",
      "\n",
      "  /**\n",
      "   * True if the TF Lite implementation supports the XNNPACK delegate.\n",
      "   *\n",
      "   * @see Interpreter#setUseXNNPACK\n",
      "   */\n",
      "  public static native boolean supportsXnnpack();\n",
      "\n",
      "  /**\n",
      "   * True if the TF Lite implementation supports using reduced 16-bit floating point precision for\n",
      "   * operations that are specified as 32-bit in the model.\n",
      "   *\n",
      "   * @see Interpreter#setAllowFp16PrecisionForFp32\n",
      "   */\n",
      "  public static native boolean supportsAllowFp16PrecisionForFp32();\n",
      "\n",
      "  /**\n",
      "   * True if the TF Lite implementation supports SignatureDef related methods.\n",
      "   *\n",
      "   * @see Interpreter#runSignature\n",
      "   * @see Interpreter#getSignatureKeys\n",
      "   * @see Interpreter#getSignatureInputs\n",
      "   * @see Interpreter#getSignatureOutputs\n",
      "   * @see Interpreter#getInputTensorFromSignature\n",
      "   * @see Interpreter#getOutputTensorFromSignature\n",
      "   */\n",
      "  public static native boolean supportsSignatures();\n",
      "}\n",
      "\n",
      "\n",
      "\n",
      "Example 4:\n",
      "/* Copyright 2020 The TensorFlow Authors. All Rights Reserved.\n",
      "\n",
      "Licensed under the Apache License, Version 2.0 (the \"License\");\n",
      "you may not use this file except in compliance with the License.\n",
      "You may obtain a copy of the License at\n",
      "\n",
      "    http://www.apache.org/licenses/LICENSE-2.0\n",
      "\n",
      "Unless required by applicable law or agreed to in writing, software\n",
      "distributed under the License is distributed on an \"AS IS\" BASIS,\n",
      "WITHOUT WARRANTIES OR CONDITIONS OF ANY KIND, either express or implied.\n",
      "See the License for the specific language governing permissions and\n",
      "limitations under the License.\n",
      "==============================================================================*/\n",
      "\n",
      "package org.tensorflow.lite;\n",
      "\n",
      "import static com.google.common.truth.Truth.assertThat;\n",
      "\n",
      "import java.nio.ByteBuffer;\n",
      "import org.junit.Test;\n",
      "import org.junit.runner.RunWith;\n",
      "import org.junit.runners.JUnit4;\n",
      "import org.tensorflow.lite.flex.FlexDelegate;\n",
      "\n",
      "/**\n",
      " * Unit tests for {@link org.tensorflow.lite.Interpreter} that validate execution with models that\n",
      " * have user's defined TensorFlow ops.\n",
      " */\n",
      "@RunWith(JUnit4.class)\n",
      "public final class InterpreterFlexWithCustomOpsTest {\n",
      "\n",
      "  private static final ByteBuffer DOUBLE_MODEL_BUFFER =\n",
      "      TestUtils.getTestFileAsBuffer(\"tensorflow/lite/testdata/double_flex.bin\");\n",
      "\n",
      "  /** Smoke test validating that flex model with a user's defined TF op. */\n",
      "  @Test\n",
      "  public void testFlexModelWithUsersDefinedOp() throws Exception {\n",
      "    try (Interpreter interpreter = new Interpreter(DOUBLE_MODEL_BUFFER)) {\n",
      "      int[] oneD = {1, 2, 3, 4};\n",
      "      int[][] twoD = {oneD};\n",
      "      int[][] parsedOutputs = new int[1][4];\n",
      "      interpreter.run(twoD, parsedOutputs);\n",
      "      int[] outputOneD = parsedOutputs[0];\n",
      "      int[] expected = {2, 4, 6, 8};\n",
      "      assertThat(outputOneD).isEqualTo(expected);\n",
      "    }\n",
      "  }\n",
      "\n",
      "  static {\n",
      "    FlexDelegate.initTensorFlowForTesting();\n",
      "  }\n",
      "}\n",
      "\n",
      "\n",
      "\n",
      "Example 5:\n",
      "/* Copyright 2016 The TensorFlow Authors. All Rights Reserved.\n",
      "\n",
      "Licensed under the Apache License, Version 2.0 (the \"License\");\n",
      "you may not use this file except in compliance with the License.\n",
      "You may obtain a copy of the License at\n",
      "\n",
      "    http://www.apache.org/licenses/LICENSE-2.0\n",
      "\n",
      "Unless required by applicable law or agreed to in writing, software\n",
      "distributed under the License is distributed on an \"AS IS\" BASIS,\n",
      "WITHOUT WARRANTIES OR CONDITIONS OF ANY KIND, either express or implied.\n",
      "See the License for the specific language governing permissions and\n",
      "limitations under the License.\n",
      "==============================================================================*/\n",
      "\n",
      "package org.tensorflow;\n",
      "\n",
      "import static org.junit.Assert.assertEquals;\n",
      "import static org.junit.Assert.assertNotEquals;\n",
      "\n",
      "import org.junit.Test;\n",
      "import org.junit.runner.RunWith;\n",
      "import org.junit.runners.JUnit4;\n",
      "\n",
      "/** Unit tests for {@link Shape}. */\n",
      "@RunWith(JUnit4.class)\n",
      "public class ShapeTest {\n",
      "\n",
      "  @Test\n",
      "  public void unknown() {\n",
      "    assertEquals(-1, Shape.unknown().numDimensions());\n",
      "    assertEquals(\"<unknown>\", Shape.unknown().toString());\n",
      "  }\n",
      "\n",
      "  @Test\n",
      "  public void scalar() {\n",
      "    assertEquals(0, Shape.scalar().numDimensions());\n",
      "    assertEquals(\"[]\", Shape.scalar().toString());\n",
      "  }\n",
      "\n",
      "  @Test\n",
      "  public void make() {\n",
      "    Shape s = Shape.make(2);\n",
      "    assertEquals(1, s.numDimensions());\n",
      "    assertEquals(2, s.size(0));\n",
      "    assertEquals(\"[2]\", s.toString());\n",
      "\n",
      "    s = Shape.make(2, 3);\n",
      "    assertEquals(2, s.numDimensions());\n",
      "    assertEquals(2, s.size(0));\n",
      "    assertEquals(3, s.size(1));\n",
      "    assertEquals(\"[2, 3]\", s.toString());\n",
      "\n",
      "    s = Shape.make(-1, 2, 3);\n",
      "    assertEquals(3, s.numDimensions());\n",
      "    assertEquals(-1, s.size(0));\n",
      "    assertEquals(2, s.size(1));\n",
      "    assertEquals(3, s.size(2));\n",
      "    assertEquals(\"[?, 2, 3]\", s.toString());\n",
      "  }\n",
      "\n",
      "  @Test\n",
      "  public void nodesInAGraph() {\n",
      "    try (Graph g = new Graph()) {\n",
      "      Output<Float> n = TestUtil.placeholder(g, \"feed\", Float.class);\n",
      "      assertEquals(-1, n.shape().numDimensions());\n",
      "\n",
      "      n = TestUtil.constant(g, \"scalar\", 3);\n",
      "      assertEquals(0, n.shape().numDimensions());\n",
      "\n",
      "      n = TestUtil.constant(g, \"vector\", new float[2]);\n",
      "      assertEquals(1, n.shape().numDimensions());\n",
      "      assertEquals(2, n.shape().size(0));\n",
      "\n",
      "      n = TestUtil.constant(g, \"matrix\", new float[4][5]);\n",
      "      assertEquals(2, n.shape().numDimensions());\n",
      "      assertEquals(4, n.shape().size(0));\n",
      "      assertEquals(5, n.shape().size(1));\n",
      "    }\n",
      "  }\n",
      "\n",
      "  @Test\n",
      "  public void equalsWorksCorrectly() {\n",
      "    assertEquals(Shape.scalar(), Shape.scalar());\n",
      "    assertEquals(Shape.make(1, 2, 3), Shape.make(1, 2, 3));\n",
      "\n",
      "    assertNotEquals(Shape.make(1, 2), null);\n",
      "    assertNotEquals(Shape.make(1, 2), new Object());\n",
      "    assertNotEquals(Shape.make(1, 2, 3), Shape.make(1, 2, 4));\n",
      "\n",
      "    assertNotEquals(Shape.unknown(), Shape.unknown());\n",
      "    assertNotEquals(Shape.make(-1), Shape.make(-1));\n",
      "    assertNotEquals(Shape.make(1, -1, 3), Shape.make(1, -1, 3));\n",
      "  }\n",
      "\n",
      "  @Test\n",
      "  public void hashCodeIsAsExpected() {\n",
      "    assertEquals(Shape.make(1, 2, 3, 4).hashCode(), Shape.make(1, 2, 3, 4).hashCode());\n",
      "    assertEquals(Shape.scalar().hashCode(), Shape.scalar().hashCode());\n",
      "    assertEquals(Shape.unknown().hashCode(), Shape.unknown().hashCode());\n",
      "\n",
      "    assertNotEquals(Shape.make(1, 2).hashCode(), Shape.make(1, 3).hashCode());\n",
      "  }\n",
      "}\n",
      "\n",
      "\n",
      "\n",
      "Example 6:\n",
      "/* Copyright 2019 The TensorFlow Authors. All Rights Reserved.\n",
      "\n",
      "Licensed under the Apache License, Version 2.0 (the \"License\");\n",
      "you may not use this file except in compliance with the License.\n",
      "You may obtain a copy of the License at\n",
      "\n",
      "    http://www.apache.org/licenses/LICENSE-2.0\n",
      "\n",
      "Unless required by applicable law or agreed to in writing, software\n",
      "distributed under the License is distributed on an \"AS IS\" BASIS,\n",
      "WITHOUT WARRANTIES OR CONDITIONS OF ANY KIND, either express or implied.\n",
      "See the License for the specific language governing permissions and\n",
      "limitations under the License.\n",
      "==============================================================================*/\n",
      "\n",
      "package org.tensorflow;\n",
      "\n",
      "import static org.junit.Assert.assertEquals;\n",
      "import static org.junit.Assert.assertFalse;\n",
      "import static org.junit.Assert.assertNotNull;\n",
      "import static org.junit.Assert.assertTrue;\n",
      "import static org.junit.Assert.fail;\n",
      "\n",
      "import java.lang.ref.Reference;\n",
      "import java.lang.ref.ReferenceQueue;\n",
      "import java.util.concurrent.BlockingQueue;\n",
      "import java.util.concurrent.LinkedBlockingQueue;\n",
      "import java.util.concurrent.TimeUnit;\n",
      "import java.util.concurrent.atomic.AtomicBoolean;\n",
      "\n",
      "import org.junit.Test;\n",
      "import org.junit.runner.RunWith;\n",
      "import org.junit.runners.JUnit4;\n",
      "import org.tensorflow.EagerSession.ResourceCleanupStrategy;\n",
      "\n",
      "@RunWith(JUnit4.class)\n",
      "public class EagerSessionTest {\n",
      "\n",
      "  @Test\n",
      "  public void closeSessionTwiceDoesNotFail() {\n",
      "    try (EagerSession s = EagerSession.create()) {\n",
      "      s.close();\n",
      "    }\n",
      "  }\n",
      "\n",
      "  @Test\n",
      "  public void cleanupResourceOnSessionClose() {\n",
      "    TestReference ref;\n",
      "    try (EagerSession s =\n",
      "        EagerSession.options()\n",
      "            .resourceCleanupStrategy(ResourceCleanupStrategy.ON_SESSION_CLOSE)\n",
      "            .build()) {\n",
      "      ref = new TestReference(s, new Object());\n",
      "      assertFalse(ref.isDeleted());\n",
      "\n",
      "      // check that reaching safe point did not release resources\n",
      "      buildOp(s);\n",
      "      assertFalse(ref.isDeleted());\n",
      "    }\n",
      "    assertTrue(ref.isDeleted());\n",
      "  }\n",
      "\n",
      "  @Test\n",
      "  public void cleanupResourceOnSafePoints() {\n",
      "    TestGarbageCollectorQueue gcQueue = new TestGarbageCollectorQueue();\n",
      "    try (EagerSession s =\n",
      "        EagerSession.options()\n",
      "            .resourceCleanupStrategy(ResourceCleanupStrategy.ON_SAFE_POINTS)\n",
      "            .buildForGcTest(gcQueue)) {\n",
      "\n",
      "      TestReference ref = new TestReference(s, new Object());\n",
      "      assertFalse(ref.isDeleted());\n",
      "\n",
      "      // garbage collecting the reference won't release until we reached safe point\n",
      "      gcQueue.collect(ref);\n",
      "      assertFalse(ref.isDeleted());\n",
      "      buildOp(s); // safe point\n",
      "      assertTrue(ref.isDeleted());\n",
      "      assertTrue(gcQueue.isEmpty());\n",
      "    }\n",
      "  }\n",
      "\n",
      "  @Test\n",
      "  public void cleanupResourceInBackground() {\n",
      "    TestGarbageCollectorQueue gcQueue = new TestGarbageCollectorQueue();\n",
      "    try (EagerSession s =\n",
      "        EagerSession.options()\n",
      "            .resourceCleanupStrategy(ResourceCleanupStrategy.IN_BACKGROUND)\n",
      "            .buildForGcTest(gcQueue)) {\n",
      "\n",
      "      TestReference ref = new TestReference(s, new Object());\n",
      "      assertFalse(ref.isDeleted());\n",
      "\n",
      "      gcQueue.collect(ref);\n",
      "      sleep(50); // allow some time to the background thread for cleaning up resources\n",
      "      assertTrue(ref.isDeleted());\n",
      "      assertTrue(gcQueue.isEmpty());\n",
      "    }\n",
      "  }\n",
      "\n",
      "  @Test\n",
      "  public void clearedResourcesAreNotCleanedUp() {\n",
      "    TestReference ref;\n",
      "    try (EagerSession s = EagerSession.create()) {\n",
      "      ref = new TestReference(s, new Object());\n",
      "      ref.clear();\n",
      "    }\n",
      "    assertFalse(ref.isDeleted());\n",
      "  }\n",
      "\n",
      "  @Test\n",
      "  public void buildingOpWithClosedSessionFails() {\n",
      "    EagerSession s = EagerSession.create();\n",
      "    s.close();\n",
      "    try {\n",
      "      buildOp(s);\n",
      "      fail();\n",
      "    } catch (IllegalStateException e) {\n",
      "      // ok\n",
      "    }\n",
      "  }\n",
      "\n",
      "  @Test\n",
      "  public void addingReferenceToClosedSessionFails() {\n",
      "    EagerSession s = EagerSession.create();\n",
      "    s.close();\n",
      "    try {\n",
      "      new TestReference(s, new Object());\n",
      "      fail();\n",
      "    } catch (IllegalStateException e) {\n",
      "      // ok\n",
      "    }\n",
      "  }\n",
      "\n",
      "  @Test\n",
      "  public void defaultSession() throws Exception {\n",
      "    EagerSession.Options options =\n",
      "        EagerSession.options().resourceCleanupStrategy(ResourceCleanupStrategy.ON_SESSION_CLOSE);\n",
      "    EagerSession.initDefault(options);\n",
      "    EagerSession session = EagerSession.getDefault();\n",
      "    assertNotNull(session);\n",
      "    assertEquals(ResourceCleanupStrategy.ON_SESSION_CLOSE, session.resourceCleanupStrategy());\n",
      "    try {\n",
      "      EagerSession.initDefault(options);\n",
      "      fail();\n",
      "    } catch (IllegalStateException e) {\n",
      "      // expected\n",
      "    }\n",
      "    try {\n",
      "      session.close();\n",
      "      fail();\n",
      "    } catch (IllegalStateException e) {\n",
      "      // expected\n",
      "    }\n",
      "  }\n",
      "\n",
      "  private static class TestReference extends EagerSession.NativeReference {\n",
      "\n",
      "    TestReference(EagerSession session, Object referent) {\n",
      "      super(session, referent);\n",
      "    }\n",
      "\n",
      "    @Override\n",
      "    void delete() {\n",
      "      if (!deleted.compareAndSet(false, true)) {\n",
      "        fail(\"Reference was deleted more than once\");\n",
      "      }\n",
      "    }\n",
      "\n",
      "    boolean isDeleted() {\n",
      "      return deleted.get();\n",
      "    }\n",
      "\n",
      "    private final AtomicBoolean deleted = new AtomicBoolean();\n",
      "  }\n",
      "\n",
      "  private static class TestGarbageCollectorQueue extends ReferenceQueue<Object> {\n",
      "\n",
      "    @Override\n",
      "    public Reference<? extends Object> poll() {\n",
      "      return garbage.poll();\n",
      "    }\n",
      "\n",
      "    @Override\n",
      "    public Reference<? extends Object> remove() throws InterruptedException {\n",
      "      return garbage.take();\n",
      "    }\n",
      "\n",
      "    @Override\n",
      "    public Reference<? extends Object> remove(long timeout)\n",
      "        throws IllegalArgumentException, InterruptedException {\n",
      "      return garbage.poll(timeout, TimeUnit.MILLISECONDS);\n",
      "    }\n",
      "\n",
      "    void collect(TestReference ref) {\n",
      "      garbage.add(ref);\n",
      "    }\n",
      "\n",
      "    boolean isEmpty() {\n",
      "      return garbage.isEmpty();\n",
      "    }\n",
      "\n",
      "    private final BlockingQueue<TestReference> garbage = new LinkedBlockingQueue<>();\n",
      "  }\n",
      "\n",
      "  private static void buildOp(EagerSession s) {\n",
      "    // Creating an operation is a safe point for resource cleanup\n",
      "    try {\n",
      "      s.opBuilder(\"Const\", \"Const\");\n",
      "    } catch (UnsupportedOperationException e) {\n",
      "      // TODO (karlllessard) remove this exception catch when EagerOperationBuilder is implemented\n",
      "    }\n",
      "  }\n",
      "\n",
      "  private static void sleep(int millis) {\n",
      "    try {\n",
      "      Thread.sleep(millis);\n",
      "    } catch (InterruptedException e) {\n",
      "    }\n",
      "  }\n",
      "}\n",
      "\n",
      "\n",
      "\n",
      "Example 7:\n",
      "<reponame>abhaikollara/tensorflow\n",
      "/* Copyright 2019 The TensorFlow Authors. All Rights Reserved.\n",
      "\n",
      "Licensed under the Apache License, Version 2.0 (the \"License\");\n",
      "you may not use this file except in compliance with the License.\n",
      "You may obtain a copy of the License at\n",
      "\n",
      "    http://www.apache.org/licenses/LICENSE-2.0\n",
      "\n",
      "Unless required by applicable law or agreed to in writing, software\n",
      "distributed under the License is distributed on an \"AS IS\" BASIS,\n",
      "WITHOUT WARRANTIES OR CONDITIONS OF ANY KIND, either express or implied.\n",
      "See the License for the specific language governing permissions and\n",
      "limitations under the License.\n",
      "==============================================================================*/\n",
      "\n",
      "package org.tensorflow.lite.flex;\n",
      "\n",
      "import java.io.Closeable;\n",
      "import org.tensorflow.lite.Delegate;\n",
      "import org.tensorflow.lite.annotations.UsedByReflection;\n",
      "\n",
      "/** {@link Delegate} for using select TensorFlow ops. */\n",
      "@UsedByReflection(\"Interpreter\")\n",
      "public class FlexDelegate implements Delegate, Closeable {\n",
      "\n",
      "  private static final long INVALID_DELEGATE_HANDLE = 0;\n",
      "  private static final String TFLITE_FLEX_LIB = \"tensorflowlite_flex_jni\";\n",
      "\n",
      "  private long delegateHandle;\n",
      "\n",
      "  @UsedByReflection(\"Interpreter\")\n",
      "  public FlexDelegate() {\n",
      "    delegateHandle = nativeCreateDelegate();\n",
      "  }\n",
      "\n",
      "  @Override\n",
      "  @UsedByReflection(\"Interpreter\")\n",
      "  public long getNativeHandle() {\n",
      "    return delegateHandle;\n",
      "  }\n",
      "\n",
      "  /**\n",
      "   * Releases native resources held by the delegate.\n",
      "   *\n",
      "   * <p>User is expected to call this method explicitly.\n",
      "   */\n",
      "  @Override\n",
      "  @UsedByReflection(\"Interpreter\")\n",
      "  public void close() {\n",
      "    if (delegateHandle != INVALID_DELEGATE_HANDLE) {\n",
      "      nativeDeleteDelegate(delegateHandle);\n",
      "      delegateHandle = INVALID_DELEGATE_HANDLE;\n",
      "    }\n",
      "  }\n",
      "\n",
      "  public static void initTensorFlowForTesting() {\n",
      "    nativeInitTensorFlow();\n",
      "  }\n",
      "\n",
      "  static {\n",
      "    System.loadLibrary(TFLITE_FLEX_LIB);\n",
      "  }\n",
      "\n",
      "  private static native long nativeInitTensorFlow();\n",
      "\n",
      "  private static native long nativeCreateDelegate();\n",
      "\n",
      "  private static native void nativeDeleteDelegate(long delegateHandle);\n",
      "}\n",
      "\n",
      "\n",
      "\n",
      "Example 8:\n",
      "/* Copyright 2017 The TensorFlow Authors. All Rights Reserved.\n",
      "\n",
      "Licensed under the Apache License, Version 2.0 (the \"License\");\n",
      "you may not use this file except in compliance with the License.\n",
      "You may obtain a copy of the License at\n",
      "\n",
      "    http://www.apache.org/licenses/LICENSE-2.0\n",
      "\n",
      "Unless required by applicable law or agreed to in writing, software\n",
      "distributed under the License is distributed on an \"AS IS\" BASIS,\n",
      "WITHOUT WARRANTIES OR CONDITIONS OF ANY KIND, either express or implied.\n",
      "See the License for the specific language governing permissions and\n",
      "limitations under the License.\n",
      "==============================================================================*/\n",
      "\n",
      "package org.tensorflow.op;\n",
      "\n",
      "import org.tensorflow.Operation;\n",
      "\n",
      "/**\n",
      " * A base class for {@link Op} implementations that are backed by a single {@link Operation}.\n",
      " *\n",
      " * <p>Each operation registered in the TensorFlow core is a primitive and is provided as a {@code\n",
      " * PrimitiveOp}. Custom operations working with only one primitive may also derive from this class.\n",
      " */\n",
      "public abstract class PrimitiveOp implements Op {\n",
      "\n",
      "  /** Returns the underlying {@link Operation} */\n",
      "  public Operation op() {\n",
      "    return operation;\n",
      "  }\n",
      "\n",
      "  @Override\n",
      "  public final int hashCode() {\n",
      "    return operation.hashCode();\n",
      "  }\n",
      "\n",
      "  @Override\n",
      "  public final boolean equals(Object obj) {\n",
      "    if (this == obj) {\n",
      "      return true;\n",
      "    }\n",
      "    // Note: we consider that all objects wrapping the same operation are equal, no matter their\n",
      "    // implementation\n",
      "    if (!(obj instanceof PrimitiveOp)) {\n",
      "      return false;\n",
      "    }\n",
      "    return operation.equals(((PrimitiveOp) obj).operation);\n",
      "  }\n",
      "\n",
      "  @Override\n",
      "  public final String toString() {\n",
      "    return String.format(\"<%s '%s'>\", operation.type(), operation.name());\n",
      "  }\n",
      "\n",
      "  protected final Operation operation;\n",
      "\n",
      "  /**\n",
      "   * Constructor.\n",
      "   *\n",
      "   * @param operation the underlying operation\n",
      "   */\n",
      "  protected PrimitiveOp(Operation operation) {\n",
      "    this.operation = operation;\n",
      "  }\n",
      "}\n",
      "\n",
      "\n",
      "\n",
      "Example 9:\n",
      "<gh_stars>1000+\n",
      "/* Copyright 2017 The TensorFlow Authors. All Rights Reserved.\n",
      "\n",
      "Licensed under the Apache License, Version 2.0 (the \"License\");\n",
      "you may not use this file except in compliance with the License.\n",
      "You may obtain a copy of the License at\n",
      "\n",
      "    http://www.apache.org/licenses/LICENSE-2.0\n",
      "\n",
      "Unless required by applicable law or agreed to in writing, software\n",
      "distributed under the License is distributed on an \"AS IS\" BASIS,\n",
      "WITHOUT WARRANTIES OR CONDITIONS OF ANY KIND, either express or implied.\n",
      "See the License for the specific language governing permissions and\n",
      "limitations under the License.\n",
      "==============================================================================*/\n",
      "\n",
      "package org.tensorflow.op;\n",
      "\n",
      "import static org.junit.Assert.assertEquals;\n",
      "import static org.junit.Assert.assertFalse;\n",
      "import static org.junit.Assert.assertNotEquals;\n",
      "import static org.junit.Assert.assertTrue;\n",
      "\n",
      "import java.util.HashSet;\n",
      "import java.util.Set;\n",
      "import org.junit.Test;\n",
      "import org.junit.runner.RunWith;\n",
      "import org.junit.runners.JUnit4;\n",
      "import org.tensorflow.Graph;\n",
      "import org.tensorflow.Output;\n",
      "import org.tensorflow.TestUtil;\n",
      "\n",
      "/** Unit tests for {@link org.tensorflow.op.PrimitiveOp} */\n",
      "@RunWith(JUnit4.class)\n",
      "public class PrimitiveOpTest {\n",
      "\n",
      "  @Test\n",
      "  public void equalsHashcode() {\n",
      "    try (Graph g = new Graph()) {\n",
      "      Output<Integer> array = TestUtil.constant(g, \"array\", new int[2]);\n",
      "\n",
      "      PrimitiveOp test1 =\n",
      "          new PrimitiveOp(g.opBuilder(\"Shape\", \"shape1\").addInput(array).build()) {};\n",
      "      PrimitiveOp test2 =\n",
      "          new PrimitiveOp(g.opBuilder(\"Shape\", \"shape2\").addInput(array).build()) {};\n",
      "      PrimitiveOp test3 = new PrimitiveOp(test1.operation) {};\n",
      "\n",
      "      // equals() tests\n",
      "      assertNotEquals(test1, test2);\n",
      "      assertEquals(test1, test3);\n",
      "      assertEquals(test3, test1);\n",
      "      assertNotEquals(test2, test3);\n",
      "\n",
      "      // hashcode() tests\n",
      "      Set<PrimitiveOp> ops = new HashSet<>();\n",
      "      assertTrue(ops.add(test1));\n",
      "      assertTrue(ops.add(test2));\n",
      "      assertFalse(ops.add(test3));\n",
      "    }\n",
      "  }\n",
      "}\n",
      "\n",
      "\n",
      "\n"
     ]
    }
   ],
   "source": [
    "# Print the first 10 examples\n",
    "for i, example in enumerate(dataset):\n",
    "    if i < 10:\n",
    "        print(f\"Example {i}:\")\n",
    "        print(example['content'])\n",
    "        print(\"\\n\")\n",
    "    else:\n",
    "        break"
   ]
  },
  {
   "cell_type": "code",
   "execution_count": 9,
   "metadata": {},
   "outputs": [
    {
     "data": {
      "application/vnd.jupyter.widget-view+json": {
       "model_id": "fd8b4df4624a492f849a6826a60ddf6c",
       "version_major": 2,
       "version_minor": 0
      },
      "text/plain": [
       "Map:   0%|          | 0/20071773 [00:00<?, ? examples/s]"
      ]
     },
     "metadata": {},
     "output_type": "display_data"
    },
    {
     "name": "stdout",
     "output_type": "stream",
     "text": [
      "Example 0:\n",
      "<gh_stars>1000+\n",
      "/* Copyright 2016 The TensorFlow Authors. All Rights Reserved.\n",
      "\n",
      "Licensed under the Apache License, Version 2.0 (the \"License\");\n",
      "you may not use this file except in compliance with the License.\n",
      "You may obtain a copy of the License at\n",
      "\n",
      "    http://www.apache.org/licenses/LICENSE-2.0\n",
      "\n",
      "Unless required by applicable law or agreed to in writing, software\n",
      "distributed under the License is distributed on an \"AS IS\" BASIS,\n",
      "WITHOUT WARRANTIES OR CONDITIONS OF ANY KIND, either express or implied.\n",
      "See the License for the specific language governing permissions and\n",
      "limitations under the License.\n",
      "==============================================================================*/\n",
      "\n",
      "/**\n",
      " * Defines classes to build, save, load and execute TensorFlow models.\n",
      " *\n",
      "  *<aside class=\"warning\">\n",
      " * <b>Warning:</b> This API is deprecated and will be removed in a future\n",
      " *       version of TensorFlow after <a href=\"https://tensorflow.org/java\">the replacement</a>\n",
      " *       is stable.\n",
      " *</aside>\n",
      " *\n",
      " * <p>To get started, see the <a href=\"https://tensorflow.org/install/lang_java_legacy\">\n",
      " * installation instructions.</a></p>\n",
      " *\n",
      " * <p>The <a\n",
      " * href=\"https://www.tensorflow.org/code/tensorflow/java/src/main/java/org/tensorflow/examples/LabelImage.java\">LabelImage</a>\n",
      " * example demonstrates use of this API to classify images using a pre-trained <a\n",
      " * href=\"http://arxiv.org/abs/1512.00567\">Inception</a> architecture convolutional neural network.\n",
      " * It demonstrates:\n",
      " *\n",
      " * <ul>\n",
      " *   <li>Graph construction: using the OperationBuilder class to construct a graph to decode, resize\n",
      " *       and normalize a JPEG image.\n",
      " *   <li>Model loading: Using Graph.importGraphDef() to load a pre-trained Inception model.\n",
      " *   <li>Graph execution: Using a Session to execute the graphs and find the best label for an\n",
      " *       image.\n",
      " * </ul>\n",
      " *\n",
      " * <p>Additional examples can be found in the <a\n",
      " * href=\"https://github.com/tensorflow/java\">tensorflow/java</a> GitHub repository.\n",
      " */\n",
      "package org.tensorflow;\n",
      "\n",
      "Average Line Length: 41.361702127659576\n",
      "\n",
      "Example 1:\n",
      "<reponame>EricRemmerswaal/tensorflow<filename>tensorflow/lite/java/src/main/java/org/tensorflow/lite/Tensor.java\n",
      "/* Copyright 2017 The TensorFlow Authors. All Rights Reserved.\n",
      "\n",
      "Licensed under the Apache License, Version 2.0 (the \"License\");\n",
      "you may not use this file except in compliance with the License.\n",
      "You may obtain a copy of the License at\n",
      "\n",
      "    http://www.apache.org/licenses/LICENSE-2.0\n",
      "\n",
      "Unless required by applicable law or agreed to in writing, software\n",
      "distributed under the License is distributed on an \"AS IS\" BASIS,\n",
      "WITHOUT WARRANTIES OR CONDITIONS OF ANY KIND, either express or implied.\n",
      "See the License for the specific language governing permissions and\n",
      "limitations under the License.\n",
      "==============================================================================*/\n",
      "\n",
      "package org.tensorflow.lite;\n",
      "\n",
      "import java.nio.ByteBuffer;\n",
      "\n",
      "/**\n",
      " * A typed multi-dimensional array used in Tensorflow Lite.\n",
      " *\n",
      " * <p>The native handle of a {@code Tensor} is managed by {@code NativeInterpreterWrapper}, and does\n",
      " * not needed to be closed by the client. However, once the {@code NativeInterpreterWrapper} has\n",
      " * been closed, the tensor handle will be invalidated.\n",
      " */\n",
      "public interface Tensor {\n",
      "\n",
      "  /**\n",
      "   * Quantization parameters that corresponds to the table, {@code QuantizationParameters}, in the\n",
      "   * <a\n",
      "   * href=\"https://github.com/tensorflow/tensorflow/blob/master/tensorflow/lite/schema/schema.fbs\">TFLite\n",
      "   * Model schema file.</a>\n",
      "   *\n",
      "   * <p>Since per-channel quantization does not apply to input and output tensors, {@code scale} and\n",
      "   * {@code zero_point} are both single values instead of arrays.\n",
      "   *\n",
      "   * <p>For tensor that are not quantized, the values of scale and zero_point are both 0.\n",
      "   *\n",
      "   * <p>Given a quantized value q, the corresponding float value f should be: <br>\n",
      "   * f = scale * (q - zero_point) <br>\n",
      "   */\n",
      "  class QuantizationParams {\n",
      "    /** The scale value used in quantization. */\n",
      "    private final float scale;\n",
      "    /** The zero point value used in quantization. */\n",
      "    private final int zeroPoint;\n",
      "\n",
      "    /**\n",
      "     * Creates a {@link QuantizationParams} with {@code scale} and {@code zero_point}.\n",
      "     *\n",
      "     * @param scale The scale value used in quantization.\n",
      "     * @param zeroPoint The zero point value used in quantization.\n",
      "     */\n",
      "    public QuantizationParams(final float scale, final int zeroPoint) {\n",
      "      this.scale = scale;\n",
      "      this.zeroPoint = zeroPoint;\n",
      "    }\n",
      "\n",
      "    /** Returns the scale value. */\n",
      "    public float getScale() {\n",
      "      return scale;\n",
      "    }\n",
      "\n",
      "    /** Returns the zero point value. */\n",
      "    public int getZeroPoint() {\n",
      "      return zeroPoint;\n",
      "    }\n",
      "  }\n",
      "\n",
      "  /** Returns the {@link DataType} of elements stored in the Tensor. */\n",
      "  DataType dataType();\n",
      "\n",
      "  /**\n",
      "   * Returns the number of dimensions (sometimes referred to as <a\n",
      "   * href=\"https://www.tensorflow.org/resources/dims_types.html#rank\">rank</a>) of the Tensor.\n",
      "   *\n",
      "   * <p>Will be 0 for a scalar, 1 for a vector, 2 for a matrix, 3 for a 3-dimensional tensor etc.\n",
      "   */\n",
      "  int numDimensions();\n",
      "\n",
      "  /** Returns the size, in bytes, of the tensor data. */\n",
      "  int numBytes();\n",
      "\n",
      "  /** Returns the number of elements in a flattened (1-D) view of the tensor. */\n",
      "  int numElements();\n",
      "\n",
      "  /**\n",
      "   * Returns the <a href=\"https://www.tensorflow.org/resources/dims_types.html#shape\">shape</a> of\n",
      "   * the Tensor, i.e., the sizes of each dimension.\n",
      "   *\n",
      "   * @return an array where the i-th element is the size of the i-th dimension of the tensor.\n",
      "   */\n",
      "  int[] shape();\n",
      "\n",
      "  /**\n",
      "   * Returns the original <a\n",
      "   * href=\"https://www.tensorflow.org/resources/dims_types.html#shape\">shape</a> of the Tensor,\n",
      "   * i.e., the sizes of each dimension - before any resizing was performed. Unknown dimensions are\n",
      "   * designated with a value of -1.\n",
      "   *\n",
      "   * @return an array where the i-th element is the size of the i-th dimension of the tensor.\n",
      "   */\n",
      "  int[] shapeSignature();\n",
      "\n",
      "  /**\n",
      "   * Returns the (global) index of the tensor within the subgraph of the owning interpreter.\n",
      "   *\n",
      "   * @hide\n",
      "   */\n",
      "  int index();\n",
      "\n",
      "  /**\n",
      "   * Returns the name of the tensor within the owning interpreter.\n",
      "   *\n",
      "   * @hide\n",
      "   */\n",
      "  String name();\n",
      "\n",
      "  /**\n",
      "   * Returns the quantization parameters of the tensor within the owning interpreter.\n",
      "   *\n",
      "   * <p>Only quantized tensors have valid {@code QuantizationParameters}. For tensor that are not\n",
      "   * quantized, the values of scale and zero_point are both 0.\n",
      "   */\n",
      "  QuantizationParams quantizationParams();\n",
      "\n",
      "  /**\n",
      "   * Returns a read-only {@code ByteBuffer} view of the tensor data.\n",
      "   *\n",
      "   * <p>In general, this method is most useful for obtaining a read-only view of output tensor data,\n",
      "   * *after* inference has been executed (e.g., via {@link InterpreterApi#run(Object,Object)}). In\n",
      "   * particular, some graphs have dynamically shaped outputs, which can make feeding a predefined\n",
      "   * output buffer to the interpreter awkward. Example usage:\n",
      "   *\n",
      "   * <pre>{@code\n",
      "   * interpreter.run(input, null);\n",
      "   * ByteBuffer outputBuffer = interpreter.getOutputTensor(0).asReadOnlyBuffer();\n",
      "   * // Copy or read from outputBuffer.\n",
      "   * }</pre>\n",
      "   *\n",
      "   * <p>WARNING: If the tensor has not yet been allocated, e.g., before inference has been executed,\n",
      "   * the result is undefined. Note that the underlying tensor pointer may also change when the\n",
      "   * tensor is invalidated in any way (e.g., if inference is executed, or the graph is resized), so\n",
      "   * it is *not* safe to hold a reference to the returned buffer beyond immediate use directly\n",
      "   * following inference. Example *bad* usage:\n",
      "   *\n",
      "   * <pre>{@code\n",
      "   * ByteBuffer outputBuffer = interpreter.getOutputTensor(0).asReadOnlyBuffer();\n",
      "   * interpreter.run(input, null);\n",
      "   * // Copy or read from outputBuffer (which may now be invalid).\n",
      "   * }</pre>\n",
      "   *\n",
      "   * @throws IllegalArgumentException if the tensor data has not been allocated.\n",
      "   */\n",
      "  ByteBuffer asReadOnlyBuffer();\n",
      "}\n",
      "\n",
      "Average Line Length: 35.76729559748428\n",
      "\n",
      "Example 2:\n",
      "<filename>tensorflow/lite/java/src/main/java/org/tensorflow/lite/NativeInterpreterWrapperExperimental.java\n",
      "/* Copyright 2017 The TensorFlow Authors. All Rights Reserved.\n",
      "\n",
      "Licensed under the Apache License, Version 2.0 (the \"License\");\n",
      "you may not use this file except in compliance with the License.\n",
      "You may obtain a copy of the License at\n",
      "\n",
      "    http://www.apache.org/licenses/LICENSE-2.0\n",
      "\n",
      "Unless required by applicable law or agreed to in writing, software\n",
      "distributed under the License is distributed on an \"AS IS\" BASIS,\n",
      "WITHOUT WARRANTIES OR CONDITIONS OF ANY KIND, either express or implied.\n",
      "See the License for the specific language governing permissions and\n",
      "limitations under the License.\n",
      "==============================================================================*/\n",
      "\n",
      "package org.tensorflow.lite;\n",
      "\n",
      "import java.nio.ByteBuffer;\n",
      "\n",
      "/**\n",
      " * Extension of NativeInterpreterWrapper that adds support for experimental methods.\n",
      " *\n",
      " * <p><b>WARNING:</b> Resources consumed by the {@code NativeInterpreterWrapperExperimental} object\n",
      " * must be explicitly freed by invoking the {@link #close()} method when the {@code\n",
      " * NativeInterpreterWrapperExperimental} object is no longer needed.\n",
      " *\n",
      " * <p>Note: This class is not thread safe.\n",
      " */\n",
      "final class NativeInterpreterWrapperExperimental extends NativeInterpreterWrapper {\n",
      "\n",
      "  NativeInterpreterWrapperExperimental(String modelPath) {\n",
      "    super(modelPath);\n",
      "  }\n",
      "\n",
      "  NativeInterpreterWrapperExperimental(ByteBuffer byteBuffer) {\n",
      "    super(byteBuffer);\n",
      "  }\n",
      "\n",
      "  NativeInterpreterWrapperExperimental(String modelPath, InterpreterImpl.Options options) {\n",
      "    super(modelPath, options);\n",
      "  }\n",
      "\n",
      "  NativeInterpreterWrapperExperimental(ByteBuffer buffer, InterpreterImpl.Options options) {\n",
      "    super(buffer, options);\n",
      "  }\n",
      "\n",
      "  void resetVariableTensors() {\n",
      "    resetVariableTensors(interpreterHandle, errorHandle);\n",
      "  }\n",
      "\n",
      "  private static native void resetVariableTensors(long interpreterHandle, long errorHandle);\n",
      "}\n",
      "\n",
      "Average Line Length: 34.907407407407405\n",
      "\n",
      "Example 3:\n",
      "/* Copyright 2021 The TensorFlow Authors. All Rights Reserved.\n",
      "\n",
      "Licensed under the Apache License, Version 2.0 (the \"License\");\n",
      "you may not use this file except in compliance with the License.\n",
      "You may obtain a copy of the License at\n",
      "\n",
      "    http://www.apache.org/licenses/LICENSE-2.0\n",
      "\n",
      "Unless required by applicable law or agreed to in writing, software\n",
      "distributed under the License is distributed on an \"AS IS\" BASIS,\n",
      "WITHOUT WARRANTIES OR CONDITIONS OF ANY KIND, either express or implied.\n",
      "See the License for the specific language governing permissions and\n",
      "limitations under the License.\n",
      "==============================================================================*/\n",
      "\n",
      "package org.tensorflow.lite;\n",
      "\n",
      "/**\n",
      " * This class is used to conditionally enable certain tests that depend on experimental or\n",
      " * deprecated features of TF Lite that may not be univerally portable to all TF Lite\n",
      " * implementations.\n",
      " */\n",
      "public final class SupportedFeatures {\n",
      "\n",
      "  private SupportedFeatures() {}\n",
      "\n",
      "  /**\n",
      "   * True if the TF Lite implementation supports cancellation.\n",
      "   *\n",
      "   * @see Interpreter#setCanceled\n",
      "   */\n",
      "  public static native boolean supportsCancellation();\n",
      "\n",
      "  /**\n",
      "   * True if the TF Lite implementation supports the XNNPACK delegate.\n",
      "   *\n",
      "   * @see Interpreter#setUseXNNPACK\n",
      "   */\n",
      "  public static native boolean supportsXnnpack();\n",
      "\n",
      "  /**\n",
      "   * True if the TF Lite implementation supports using reduced 16-bit floating point precision for\n",
      "   * operations that are specified as 32-bit in the model.\n",
      "   *\n",
      "   * @see Interpreter#setAllowFp16PrecisionForFp32\n",
      "   */\n",
      "  public static native boolean supportsAllowFp16PrecisionForFp32();\n",
      "\n",
      "  /**\n",
      "   * True if the TF Lite implementation supports SignatureDef related methods.\n",
      "   *\n",
      "   * @see Interpreter#runSignature\n",
      "   * @see Interpreter#getSignatureKeys\n",
      "   * @see Interpreter#getSignatureInputs\n",
      "   * @see Interpreter#getSignatureOutputs\n",
      "   * @see Interpreter#getInputTensorFromSignature\n",
      "   * @see Interpreter#getOutputTensorFromSignature\n",
      "   */\n",
      "  public static native boolean supportsSignatures();\n",
      "}\n",
      "\n",
      "Average Line Length: 32.24590163934426\n",
      "\n",
      "Example 4:\n",
      "/* Copyright 2020 The TensorFlow Authors. All Rights Reserved.\n",
      "\n",
      "Licensed under the Apache License, Version 2.0 (the \"License\");\n",
      "you may not use this file except in compliance with the License.\n",
      "You may obtain a copy of the License at\n",
      "\n",
      "    http://www.apache.org/licenses/LICENSE-2.0\n",
      "\n",
      "Unless required by applicable law or agreed to in writing, software\n",
      "distributed under the License is distributed on an \"AS IS\" BASIS,\n",
      "WITHOUT WARRANTIES OR CONDITIONS OF ANY KIND, either express or implied.\n",
      "See the License for the specific language governing permissions and\n",
      "limitations under the License.\n",
      "==============================================================================*/\n",
      "\n",
      "package org.tensorflow.lite;\n",
      "\n",
      "import static com.google.common.truth.Truth.assertThat;\n",
      "\n",
      "import java.nio.ByteBuffer;\n",
      "import org.junit.Test;\n",
      "import org.junit.runner.RunWith;\n",
      "import org.junit.runners.JUnit4;\n",
      "import org.tensorflow.lite.flex.FlexDelegate;\n",
      "\n",
      "/**\n",
      " * Unit tests for {@link org.tensorflow.lite.Interpreter} that validate execution with models that\n",
      " * have user's defined TensorFlow ops.\n",
      " */\n",
      "@RunWith(JUnit4.class)\n",
      "public final class InterpreterFlexWithCustomOpsTest {\n",
      "\n",
      "  private static final ByteBuffer DOUBLE_MODEL_BUFFER =\n",
      "      TestUtils.getTestFileAsBuffer(\"tensorflow/lite/testdata/double_flex.bin\");\n",
      "\n",
      "  /** Smoke test validating that flex model with a user's defined TF op. */\n",
      "  @Test\n",
      "  public void testFlexModelWithUsersDefinedOp() throws Exception {\n",
      "    try (Interpreter interpreter = new Interpreter(DOUBLE_MODEL_BUFFER)) {\n",
      "      int[] oneD = {1, 2, 3, 4};\n",
      "      int[][] twoD = {oneD};\n",
      "      int[][] parsedOutputs = new int[1][4];\n",
      "      interpreter.run(twoD, parsedOutputs);\n",
      "      int[] outputOneD = parsedOutputs[0];\n",
      "      int[] expected = {2, 4, 6, 8};\n",
      "      assertThat(outputOneD).isEqualTo(expected);\n",
      "    }\n",
      "  }\n",
      "\n",
      "  static {\n",
      "    FlexDelegate.initTensorFlowForTesting();\n",
      "  }\n",
      "}\n",
      "\n",
      "Average Line Length: 33.51851851851852\n",
      "\n",
      "Example 5:\n",
      "/* Copyright 2016 The TensorFlow Authors. All Rights Reserved.\n",
      "\n",
      "Licensed under the Apache License, Version 2.0 (the \"License\");\n",
      "you may not use this file except in compliance with the License.\n",
      "You may obtain a copy of the License at\n",
      "\n",
      "    http://www.apache.org/licenses/LICENSE-2.0\n",
      "\n",
      "Unless required by applicable law or agreed to in writing, software\n",
      "distributed under the License is distributed on an \"AS IS\" BASIS,\n",
      "WITHOUT WARRANTIES OR CONDITIONS OF ANY KIND, either express or implied.\n",
      "See the License for the specific language governing permissions and\n",
      "limitations under the License.\n",
      "==============================================================================*/\n",
      "\n",
      "package org.tensorflow;\n",
      "\n",
      "import static org.junit.Assert.assertEquals;\n",
      "import static org.junit.Assert.assertNotEquals;\n",
      "\n",
      "import org.junit.Test;\n",
      "import org.junit.runner.RunWith;\n",
      "import org.junit.runners.JUnit4;\n",
      "\n",
      "/** Unit tests for {@link Shape}. */\n",
      "@RunWith(JUnit4.class)\n",
      "public class ShapeTest {\n",
      "\n",
      "  @Test\n",
      "  public void unknown() {\n",
      "    assertEquals(-1, Shape.unknown().numDimensions());\n",
      "    assertEquals(\"<unknown>\", Shape.unknown().toString());\n",
      "  }\n",
      "\n",
      "  @Test\n",
      "  public void scalar() {\n",
      "    assertEquals(0, Shape.scalar().numDimensions());\n",
      "    assertEquals(\"[]\", Shape.scalar().toString());\n",
      "  }\n",
      "\n",
      "  @Test\n",
      "  public void make() {\n",
      "    Shape s = Shape.make(2);\n",
      "    assertEquals(1, s.numDimensions());\n",
      "    assertEquals(2, s.size(0));\n",
      "    assertEquals(\"[2]\", s.toString());\n",
      "\n",
      "    s = Shape.make(2, 3);\n",
      "    assertEquals(2, s.numDimensions());\n",
      "    assertEquals(2, s.size(0));\n",
      "    assertEquals(3, s.size(1));\n",
      "    assertEquals(\"[2, 3]\", s.toString());\n",
      "\n",
      "    s = Shape.make(-1, 2, 3);\n",
      "    assertEquals(3, s.numDimensions());\n",
      "    assertEquals(-1, s.size(0));\n",
      "    assertEquals(2, s.size(1));\n",
      "    assertEquals(3, s.size(2));\n",
      "    assertEquals(\"[?, 2, 3]\", s.toString());\n",
      "  }\n",
      "\n",
      "  @Test\n",
      "  public void nodesInAGraph() {\n",
      "    try (Graph g = new Graph()) {\n",
      "      Output<Float> n = TestUtil.placeholder(g, \"feed\", Float.class);\n",
      "      assertEquals(-1, n.shape().numDimensions());\n",
      "\n",
      "      n = TestUtil.constant(g, \"scalar\", 3);\n",
      "      assertEquals(0, n.shape().numDimensions());\n",
      "\n",
      "      n = TestUtil.constant(g, \"vector\", new float[2]);\n",
      "      assertEquals(1, n.shape().numDimensions());\n",
      "      assertEquals(2, n.shape().size(0));\n",
      "\n",
      "      n = TestUtil.constant(g, \"matrix\", new float[4][5]);\n",
      "      assertEquals(2, n.shape().numDimensions());\n",
      "      assertEquals(4, n.shape().size(0));\n",
      "      assertEquals(5, n.shape().size(1));\n",
      "    }\n",
      "  }\n",
      "\n",
      "  @Test\n",
      "  public void equalsWorksCorrectly() {\n",
      "    assertEquals(Shape.scalar(), Shape.scalar());\n",
      "    assertEquals(Shape.make(1, 2, 3), Shape.make(1, 2, 3));\n",
      "\n",
      "    assertNotEquals(Shape.make(1, 2), null);\n",
      "    assertNotEquals(Shape.make(1, 2), new Object());\n",
      "    assertNotEquals(Shape.make(1, 2, 3), Shape.make(1, 2, 4));\n",
      "\n",
      "    assertNotEquals(Shape.unknown(), Shape.unknown());\n",
      "    assertNotEquals(Shape.make(-1), Shape.make(-1));\n",
      "    assertNotEquals(Shape.make(1, -1, 3), Shape.make(1, -1, 3));\n",
      "  }\n",
      "\n",
      "  @Test\n",
      "  public void hashCodeIsAsExpected() {\n",
      "    assertEquals(Shape.make(1, 2, 3, 4).hashCode(), Shape.make(1, 2, 3, 4).hashCode());\n",
      "    assertEquals(Shape.scalar().hashCode(), Shape.scalar().hashCode());\n",
      "    assertEquals(Shape.unknown().hashCode(), Shape.unknown().hashCode());\n",
      "\n",
      "    assertNotEquals(Shape.make(1, 2).hashCode(), Shape.make(1, 3).hashCode());\n",
      "  }\n",
      "}\n",
      "\n",
      "Average Line Length: 30.742857142857144\n",
      "\n",
      "Example 6:\n",
      "/* Copyright 2019 The TensorFlow Authors. All Rights Reserved.\n",
      "\n",
      "Licensed under the Apache License, Version 2.0 (the \"License\");\n",
      "you may not use this file except in compliance with the License.\n",
      "You may obtain a copy of the License at\n",
      "\n",
      "    http://www.apache.org/licenses/LICENSE-2.0\n",
      "\n",
      "Unless required by applicable law or agreed to in writing, software\n",
      "distributed under the License is distributed on an \"AS IS\" BASIS,\n",
      "WITHOUT WARRANTIES OR CONDITIONS OF ANY KIND, either express or implied.\n",
      "See the License for the specific language governing permissions and\n",
      "limitations under the License.\n",
      "==============================================================================*/\n",
      "\n",
      "package org.tensorflow;\n",
      "\n",
      "import static org.junit.Assert.assertEquals;\n",
      "import static org.junit.Assert.assertFalse;\n",
      "import static org.junit.Assert.assertNotNull;\n",
      "import static org.junit.Assert.assertTrue;\n",
      "import static org.junit.Assert.fail;\n",
      "\n",
      "import java.lang.ref.Reference;\n",
      "import java.lang.ref.ReferenceQueue;\n",
      "import java.util.concurrent.BlockingQueue;\n",
      "import java.util.concurrent.LinkedBlockingQueue;\n",
      "import java.util.concurrent.TimeUnit;\n",
      "import java.util.concurrent.atomic.AtomicBoolean;\n",
      "\n",
      "import org.junit.Test;\n",
      "import org.junit.runner.RunWith;\n",
      "import org.junit.runners.JUnit4;\n",
      "import org.tensorflow.EagerSession.ResourceCleanupStrategy;\n",
      "\n",
      "@RunWith(JUnit4.class)\n",
      "public class EagerSessionTest {\n",
      "\n",
      "  @Test\n",
      "  public void closeSessionTwiceDoesNotFail() {\n",
      "    try (EagerSession s = EagerSession.create()) {\n",
      "      s.close();\n",
      "    }\n",
      "  }\n",
      "\n",
      "  @Test\n",
      "  public void cleanupResourceOnSessionClose() {\n",
      "    TestReference ref;\n",
      "    try (EagerSession s =\n",
      "        EagerSession.options()\n",
      "            .resourceCleanupStrategy(ResourceCleanupStrategy.ON_SESSION_CLOSE)\n",
      "            .build()) {\n",
      "      ref = new TestReference(s, new Object());\n",
      "      assertFalse(ref.isDeleted());\n",
      "\n",
      "      // check that reaching safe point did not release resources\n",
      "      buildOp(s);\n",
      "      assertFalse(ref.isDeleted());\n",
      "    }\n",
      "    assertTrue(ref.isDeleted());\n",
      "  }\n",
      "\n",
      "  @Test\n",
      "  public void cleanupResourceOnSafePoints() {\n",
      "    TestGarbageCollectorQueue gcQueue = new TestGarbageCollectorQueue();\n",
      "    try (EagerSession s =\n",
      "        EagerSession.options()\n",
      "            .resourceCleanupStrategy(ResourceCleanupStrategy.ON_SAFE_POINTS)\n",
      "            .buildForGcTest(gcQueue)) {\n",
      "\n",
      "      TestReference ref = new TestReference(s, new Object());\n",
      "      assertFalse(ref.isDeleted());\n",
      "\n",
      "      // garbage collecting the reference won't release until we reached safe point\n",
      "      gcQueue.collect(ref);\n",
      "      assertFalse(ref.isDeleted());\n",
      "      buildOp(s); // safe point\n",
      "      assertTrue(ref.isDeleted());\n",
      "      assertTrue(gcQueue.isEmpty());\n",
      "    }\n",
      "  }\n",
      "\n",
      "  @Test\n",
      "  public void cleanupResourceInBackground() {\n",
      "    TestGarbageCollectorQueue gcQueue = new TestGarbageCollectorQueue();\n",
      "    try (EagerSession s =\n",
      "        EagerSession.options()\n",
      "            .resourceCleanupStrategy(ResourceCleanupStrategy.IN_BACKGROUND)\n",
      "            .buildForGcTest(gcQueue)) {\n",
      "\n",
      "      TestReference ref = new TestReference(s, new Object());\n",
      "      assertFalse(ref.isDeleted());\n",
      "\n",
      "      gcQueue.collect(ref);\n",
      "      sleep(50); // allow some time to the background thread for cleaning up resources\n",
      "      assertTrue(ref.isDeleted());\n",
      "      assertTrue(gcQueue.isEmpty());\n",
      "    }\n",
      "  }\n",
      "\n",
      "  @Test\n",
      "  public void clearedResourcesAreNotCleanedUp() {\n",
      "    TestReference ref;\n",
      "    try (EagerSession s = EagerSession.create()) {\n",
      "      ref = new TestReference(s, new Object());\n",
      "      ref.clear();\n",
      "    }\n",
      "    assertFalse(ref.isDeleted());\n",
      "  }\n",
      "\n",
      "  @Test\n",
      "  public void buildingOpWithClosedSessionFails() {\n",
      "    EagerSession s = EagerSession.create();\n",
      "    s.close();\n",
      "    try {\n",
      "      buildOp(s);\n",
      "      fail();\n",
      "    } catch (IllegalStateException e) {\n",
      "      // ok\n",
      "    }\n",
      "  }\n",
      "\n",
      "  @Test\n",
      "  public void addingReferenceToClosedSessionFails() {\n",
      "    EagerSession s = EagerSession.create();\n",
      "    s.close();\n",
      "    try {\n",
      "      new TestReference(s, new Object());\n",
      "      fail();\n",
      "    } catch (IllegalStateException e) {\n",
      "      // ok\n",
      "    }\n",
      "  }\n",
      "\n",
      "  @Test\n",
      "  public void defaultSession() throws Exception {\n",
      "    EagerSession.Options options =\n",
      "        EagerSession.options().resourceCleanupStrategy(ResourceCleanupStrategy.ON_SESSION_CLOSE);\n",
      "    EagerSession.initDefault(options);\n",
      "    EagerSession session = EagerSession.getDefault();\n",
      "    assertNotNull(session);\n",
      "    assertEquals(ResourceCleanupStrategy.ON_SESSION_CLOSE, session.resourceCleanupStrategy());\n",
      "    try {\n",
      "      EagerSession.initDefault(options);\n",
      "      fail();\n",
      "    } catch (IllegalStateException e) {\n",
      "      // expected\n",
      "    }\n",
      "    try {\n",
      "      session.close();\n",
      "      fail();\n",
      "    } catch (IllegalStateException e) {\n",
      "      // expected\n",
      "    }\n",
      "  }\n",
      "\n",
      "  private static class TestReference extends EagerSession.NativeReference {\n",
      "\n",
      "    TestReference(EagerSession session, Object referent) {\n",
      "      super(session, referent);\n",
      "    }\n",
      "\n",
      "    @Override\n",
      "    void delete() {\n",
      "      if (!deleted.compareAndSet(false, true)) {\n",
      "        fail(\"Reference was deleted more than once\");\n",
      "      }\n",
      "    }\n",
      "\n",
      "    boolean isDeleted() {\n",
      "      return deleted.get();\n",
      "    }\n",
      "\n",
      "    private final AtomicBoolean deleted = new AtomicBoolean();\n",
      "  }\n",
      "\n",
      "  private static class TestGarbageCollectorQueue extends ReferenceQueue<Object> {\n",
      "\n",
      "    @Override\n",
      "    public Reference<? extends Object> poll() {\n",
      "      return garbage.poll();\n",
      "    }\n",
      "\n",
      "    @Override\n",
      "    public Reference<? extends Object> remove() throws InterruptedException {\n",
      "      return garbage.take();\n",
      "    }\n",
      "\n",
      "    @Override\n",
      "    public Reference<? extends Object> remove(long timeout)\n",
      "        throws IllegalArgumentException, InterruptedException {\n",
      "      return garbage.poll(timeout, TimeUnit.MILLISECONDS);\n",
      "    }\n",
      "\n",
      "    void collect(TestReference ref) {\n",
      "      garbage.add(ref);\n",
      "    }\n",
      "\n",
      "    boolean isEmpty() {\n",
      "      return garbage.isEmpty();\n",
      "    }\n",
      "\n",
      "    private final BlockingQueue<TestReference> garbage = new LinkedBlockingQueue<>();\n",
      "  }\n",
      "\n",
      "  private static void buildOp(EagerSession s) {\n",
      "    // Creating an operation is a safe point for resource cleanup\n",
      "    try {\n",
      "      s.opBuilder(\"Const\", \"Const\");\n",
      "    } catch (UnsupportedOperationException e) {\n",
      "      // TODO (karlllessard) remove this exception catch when EagerOperationBuilder is implemented\n",
      "    }\n",
      "  }\n",
      "\n",
      "  private static void sleep(int millis) {\n",
      "    try {\n",
      "      Thread.sleep(millis);\n",
      "    } catch (InterruptedException e) {\n",
      "    }\n",
      "  }\n",
      "}\n",
      "\n",
      "Average Line Length: 27.21171171171171\n",
      "\n",
      "Example 7:\n",
      "<reponame>abhaikollara/tensorflow\n",
      "/* Copyright 2019 The TensorFlow Authors. All Rights Reserved.\n",
      "\n",
      "Licensed under the Apache License, Version 2.0 (the \"License\");\n",
      "you may not use this file except in compliance with the License.\n",
      "You may obtain a copy of the License at\n",
      "\n",
      "    http://www.apache.org/licenses/LICENSE-2.0\n",
      "\n",
      "Unless required by applicable law or agreed to in writing, software\n",
      "distributed under the License is distributed on an \"AS IS\" BASIS,\n",
      "WITHOUT WARRANTIES OR CONDITIONS OF ANY KIND, either express or implied.\n",
      "See the License for the specific language governing permissions and\n",
      "limitations under the License.\n",
      "==============================================================================*/\n",
      "\n",
      "package org.tensorflow.lite.flex;\n",
      "\n",
      "import java.io.Closeable;\n",
      "import org.tensorflow.lite.Delegate;\n",
      "import org.tensorflow.lite.annotations.UsedByReflection;\n",
      "\n",
      "/** {@link Delegate} for using select TensorFlow ops. */\n",
      "@UsedByReflection(\"Interpreter\")\n",
      "public class FlexDelegate implements Delegate, Closeable {\n",
      "\n",
      "  private static final long INVALID_DELEGATE_HANDLE = 0;\n",
      "  private static final String TFLITE_FLEX_LIB = \"tensorflowlite_flex_jni\";\n",
      "\n",
      "  private long delegateHandle;\n",
      "\n",
      "  @UsedByReflection(\"Interpreter\")\n",
      "  public FlexDelegate() {\n",
      "    delegateHandle = nativeCreateDelegate();\n",
      "  }\n",
      "\n",
      "  @Override\n",
      "  @UsedByReflection(\"Interpreter\")\n",
      "  public long getNativeHandle() {\n",
      "    return delegateHandle;\n",
      "  }\n",
      "\n",
      "  /**\n",
      "   * Releases native resources held by the delegate.\n",
      "   *\n",
      "   * <p>User is expected to call this method explicitly.\n",
      "   */\n",
      "  @Override\n",
      "  @UsedByReflection(\"Interpreter\")\n",
      "  public void close() {\n",
      "    if (delegateHandle != INVALID_DELEGATE_HANDLE) {\n",
      "      nativeDeleteDelegate(delegateHandle);\n",
      "      delegateHandle = INVALID_DELEGATE_HANDLE;\n",
      "    }\n",
      "  }\n",
      "\n",
      "  public static void initTensorFlowForTesting() {\n",
      "    nativeInitTensorFlow();\n",
      "  }\n",
      "\n",
      "  static {\n",
      "    System.loadLibrary(TFLITE_FLEX_LIB);\n",
      "  }\n",
      "\n",
      "  private static native long nativeInitTensorFlow();\n",
      "\n",
      "  private static native long nativeCreateDelegate();\n",
      "\n",
      "  private static native void nativeDeleteDelegate(long delegateHandle);\n",
      "}\n",
      "\n",
      "Average Line Length: 28.239436619718308\n",
      "\n",
      "Example 8:\n",
      "/* Copyright 2017 The TensorFlow Authors. All Rights Reserved.\n",
      "\n",
      "Licensed under the Apache License, Version 2.0 (the \"License\");\n",
      "you may not use this file except in compliance with the License.\n",
      "You may obtain a copy of the License at\n",
      "\n",
      "    http://www.apache.org/licenses/LICENSE-2.0\n",
      "\n",
      "Unless required by applicable law or agreed to in writing, software\n",
      "distributed under the License is distributed on an \"AS IS\" BASIS,\n",
      "WITHOUT WARRANTIES OR CONDITIONS OF ANY KIND, either express or implied.\n",
      "See the License for the specific language governing permissions and\n",
      "limitations under the License.\n",
      "==============================================================================*/\n",
      "\n",
      "package org.tensorflow.op;\n",
      "\n",
      "import org.tensorflow.Operation;\n",
      "\n",
      "/**\n",
      " * A base class for {@link Op} implementations that are backed by a single {@link Operation}.\n",
      " *\n",
      " * <p>Each operation registered in the TensorFlow core is a primitive and is provided as a {@code\n",
      " * PrimitiveOp}. Custom operations working with only one primitive may also derive from this class.\n",
      " */\n",
      "public abstract class PrimitiveOp implements Op {\n",
      "\n",
      "  /** Returns the underlying {@link Operation} */\n",
      "  public Operation op() {\n",
      "    return operation;\n",
      "  }\n",
      "\n",
      "  @Override\n",
      "  public final int hashCode() {\n",
      "    return operation.hashCode();\n",
      "  }\n",
      "\n",
      "  @Override\n",
      "  public final boolean equals(Object obj) {\n",
      "    if (this == obj) {\n",
      "      return true;\n",
      "    }\n",
      "    // Note: we consider that all objects wrapping the same operation are equal, no matter their\n",
      "    // implementation\n",
      "    if (!(obj instanceof PrimitiveOp)) {\n",
      "      return false;\n",
      "    }\n",
      "    return operation.equals(((PrimitiveOp) obj).operation);\n",
      "  }\n",
      "\n",
      "  @Override\n",
      "  public final String toString() {\n",
      "    return String.format(\"<%s '%s'>\", operation.type(), operation.name());\n",
      "  }\n",
      "\n",
      "  protected final Operation operation;\n",
      "\n",
      "  /**\n",
      "   * Constructor.\n",
      "   *\n",
      "   * @param operation the underlying operation\n",
      "   */\n",
      "  protected PrimitiveOp(Operation operation) {\n",
      "    this.operation = operation;\n",
      "  }\n",
      "}\n",
      "\n",
      "Average Line Length: 28.26865671641791\n",
      "\n",
      "Example 9:\n",
      "<gh_stars>1000+\n",
      "/* Copyright 2017 The TensorFlow Authors. All Rights Reserved.\n",
      "\n",
      "Licensed under the Apache License, Version 2.0 (the \"License\");\n",
      "you may not use this file except in compliance with the License.\n",
      "You may obtain a copy of the License at\n",
      "\n",
      "    http://www.apache.org/licenses/LICENSE-2.0\n",
      "\n",
      "Unless required by applicable law or agreed to in writing, software\n",
      "distributed under the License is distributed on an \"AS IS\" BASIS,\n",
      "WITHOUT WARRANTIES OR CONDITIONS OF ANY KIND, either express or implied.\n",
      "See the License for the specific language governing permissions and\n",
      "limitations under the License.\n",
      "==============================================================================*/\n",
      "\n",
      "package org.tensorflow.op;\n",
      "\n",
      "import static org.junit.Assert.assertEquals;\n",
      "import static org.junit.Assert.assertFalse;\n",
      "import static org.junit.Assert.assertNotEquals;\n",
      "import static org.junit.Assert.assertTrue;\n",
      "\n",
      "import java.util.HashSet;\n",
      "import java.util.Set;\n",
      "import org.junit.Test;\n",
      "import org.junit.runner.RunWith;\n",
      "import org.junit.runners.JUnit4;\n",
      "import org.tensorflow.Graph;\n",
      "import org.tensorflow.Output;\n",
      "import org.tensorflow.TestUtil;\n",
      "\n",
      "/** Unit tests for {@link org.tensorflow.op.PrimitiveOp} */\n",
      "@RunWith(JUnit4.class)\n",
      "public class PrimitiveOpTest {\n",
      "\n",
      "  @Test\n",
      "  public void equalsHashcode() {\n",
      "    try (Graph g = new Graph()) {\n",
      "      Output<Integer> array = TestUtil.constant(g, \"array\", new int[2]);\n",
      "\n",
      "      PrimitiveOp test1 =\n",
      "          new PrimitiveOp(g.opBuilder(\"Shape\", \"shape1\").addInput(array).build()) {};\n",
      "      PrimitiveOp test2 =\n",
      "          new PrimitiveOp(g.opBuilder(\"Shape\", \"shape2\").addInput(array).build()) {};\n",
      "      PrimitiveOp test3 = new PrimitiveOp(test1.operation) {};\n",
      "\n",
      "      // equals() tests\n",
      "      assertNotEquals(test1, test2);\n",
      "      assertEquals(test1, test3);\n",
      "      assertEquals(test3, test1);\n",
      "      assertNotEquals(test2, test3);\n",
      "\n",
      "      // hashcode() tests\n",
      "      Set<PrimitiveOp> ops = new HashSet<>();\n",
      "      assertTrue(ops.add(test1));\n",
      "      assertTrue(ops.add(test2));\n",
      "      assertFalse(ops.add(test3));\n",
      "    }\n",
      "  }\n",
      "}\n",
      "\n",
      "Average Line Length: 31.758064516129032\n",
      "\n"
     ]
    }
   ],
   "source": [
    "from datasets import Dataset\n",
    "\n",
    "def calculate_avg_line_length(example):\n",
    "    lines = example['content'].split('\\n')\n",
    "    avg_length = sum(len(line) for line in lines) / len(lines)\n",
    "    example['avg_line_length'] = avg_length\n",
    "    return example\n",
    "\n",
    "dataset = dataset.map(calculate_avg_line_length)\n",
    "\n",
    "for i, example in enumerate(dataset):\n",
    "    if i < 10:\n",
    "        print(f\"Example {i}:\")\n",
    "        print(example['content'])\n",
    "        print(f\"Average Line Length: {example['avg_line_length']}\\n\")\n",
    "    else:\n",
    "        break"
   ]
  },
  {
   "cell_type": "code",
   "execution_count": 10,
   "metadata": {},
   "outputs": [],
   "source": [
    "sliced_dataset = dataset[:2500000]"
   ]
  },
  {
   "cell_type": "code",
   "execution_count": 11,
   "metadata": {},
   "outputs": [],
   "source": [
    "del dataset"
   ]
  },
  {
   "cell_type": "code",
   "execution_count": 12,
   "metadata": {},
   "outputs": [],
   "source": [
    "import pandas as pd\n",
    "\n",
    "df = pd.DataFrame(sliced_dataset)"
   ]
  },
  {
   "cell_type": "code",
   "execution_count": 13,
   "metadata": {},
   "outputs": [
    {
     "name": "stdout",
     "output_type": "stream",
     "text": [
      "Statistics for avg_line_length:\n",
      "count    2.500000e+06\n",
      "mean     3.072941e+01\n",
      "std      8.495033e+00\n",
      "min      1.594862e+00\n",
      "25%      2.492857e+01\n",
      "50%      3.052941e+01\n",
      "75%      3.595946e+01\n",
      "max      1.090000e+02\n",
      "Name: avg_line_length, dtype: float64\n"
     ]
    }
   ],
   "source": [
    "avg_line_length_stats = df['avg_line_length'].describe()\n",
    "print(\"Statistics for avg_line_length:\")\n",
    "print(avg_line_length_stats)"
   ]
  },
  {
   "cell_type": "code",
   "execution_count": 14,
   "metadata": {},
   "outputs": [
    {
     "data": {
      "image/png": "[encoded data removed]",
      "text/plain": [
       "<Figure size 1200x600 with 1 Axes>"
      ]
     },
     "metadata": {},
     "output_type": "display_data"
    }
   ],
   "source": [
    "import matplotlib.pyplot as plt\n",
    "import seaborn as sns\n",
    "\n",
    "plt.figure(figsize=(12, 6))\n",
    "sns.boxplot(x=df['avg_line_length'])\n",
    "plt.title('Boxplot of Average Line Length')\n",
    "plt.xlabel('Average Line Length')\n",
    "plt.show()"
   ]
  },
  {
   "cell_type": "code",
   "execution_count": 15,
   "metadata": {},
   "outputs": [],
   "source": [
    "Q1 = df['avg_line_length'].quantile(0.25)\n",
    "Q3 = df['avg_line_length'].quantile(0.75)\n",
    "IQR = Q3 - Q1\n"
   ]
  },
  {
   "cell_type": "code",
   "execution_count": 16,
   "metadata": {},
   "outputs": [
    {
     "name": "stdout",
     "output_type": "stream",
     "text": [
      "Number of outliers: 30077\n"
     ]
    }
   ],
   "source": [
    "outliers = df[(df['avg_line_length'] < (Q1 - 1.5 * IQR)) | (df['avg_line_length'] > (Q3 + 1.5 * IQR))]\n",
    "print(f\"Number of outliers: {len(outliers)}\")"
   ]
  },
  {
   "cell_type": "code",
   "execution_count": 17,
   "metadata": {},
   "outputs": [
    {
     "data": {
      "text/plain": [
       "count    30077.000000\n",
       "mean        57.863190\n",
       "std         12.247266\n",
       "min          1.594862\n",
       "25%         54.050000\n",
       "50%         56.668367\n",
       "75%         61.560000\n",
       "max        109.000000\n",
       "Name: avg_line_length, dtype: float64"
      ]
     },
     "execution_count": 17,
     "metadata": {},
     "output_type": "execute_result"
    }
   ],
   "source": [
    "outliers['avg_line_length'].describe()"
   ]
  },
  {
   "cell_type": "code",
   "execution_count": 18,
   "metadata": {},
   "outputs": [],
   "source": [
    "df.drop(outliers.index, inplace=True)"
   ]
  },
  {
   "cell_type": "code",
   "execution_count": 19,
   "metadata": {},
   "outputs": [
    {
     "data": {
      "text/plain": [
       "count    2.469923e+06\n",
       "mean     3.039899e+01\n",
       "std      7.883100e+00\n",
       "min      8.384615e+00\n",
       "25%      2.485929e+01\n",
       "50%      3.041553e+01\n",
       "75%      3.574105e+01\n",
       "max      5.250543e+01\n",
       "Name: avg_line_length, dtype: float64"
      ]
     },
     "execution_count": 19,
     "metadata": {},
     "output_type": "execute_result"
    }
   ],
   "source": [
    "df['avg_line_length'].describe()"
   ]
  },
  {
   "cell_type": "code",
   "execution_count": 20,
   "metadata": {},
   "outputs": [
    {
     "data": {
      "text/plain": [
       "37.06512697139802"
      ]
     },
     "execution_count": 20,
     "metadata": {},
     "output_type": "execute_result"
    }
   ],
   "source": [
    "import numpy as np\n",
    "\n",
    "np.percentile(df['avg_line_length'], 80)"
   ]
  },
  {
   "cell_type": "code",
   "execution_count": 21,
   "metadata": {},
   "outputs": [
    {
     "data": {
      "text/plain": [
       "count    2.469923e+06\n",
       "mean     1.275949e+02\n",
       "std      2.969333e+02\n",
       "min      1.000000e+00\n",
       "25%      3.700000e+01\n",
       "50%      7.100000e+01\n",
       "75%      1.360000e+02\n",
       "max      3.557900e+04\n",
       "Name: line_count, dtype: float64"
      ]
     },
     "execution_count": 21,
     "metadata": {},
     "output_type": "execute_result"
    }
   ],
   "source": [
    "df['line_count'] = df['content'].apply(lambda x: len(x.split('\\n')))\n",
    "df['line_count'].describe()"
   ]
  },
  {
   "cell_type": "code",
   "execution_count": 22,
   "metadata": {},
   "outputs": [],
   "source": [
    "count_range_dict = {\n",
    "    \"0-100\": 0,\n",
    "    \"101-200\": 0,\n",
    "    \"201-300\": 0,\n",
    "    \"301-400\": 0,\n",
    "    \"401-500\": 0,\n",
    "    \"501-600\": 0,\n",
    "    \"601-700\": 0,\n",
    "    \"701-800\": 0,\n",
    "    \"801-900\": 0,\n",
    "    \"901-1000\": 0,\n",
    "    \"1000+\": 0\n",
    "}\n",
    "\n",
    "for count in df['line_count']:\n",
    "    if count <= 100:\n",
    "        count_range_dict[\"0-100\"] += 1\n",
    "    elif count <= 200:\n",
    "        count_range_dict[\"101-200\"] += 1\n",
    "    elif count <= 300:\n",
    "        count_range_dict[\"201-300\"] += 1\n",
    "    elif count <= 400:\n",
    "        count_range_dict[\"301-400\"] += 1\n",
    "    elif count <= 500:\n",
    "        count_range_dict[\"401-500\"] += 1\n",
    "    elif count <= 600:\n",
    "        count_range_dict[\"501-600\"] += 1\n",
    "    elif count <= 700:\n",
    "        count_range_dict[\"601-700\"] += 1\n",
    "    elif count <= 800:\n",
    "        count_range_dict[\"701-800\"] += 1\n",
    "    elif count <= 900:\n",
    "        count_range_dict[\"801-900\"] += 1\n",
    "    elif count <= 1000:\n",
    "        count_range_dict[\"901-1000\"] += 1\n",
    "    else:\n",
    "        count_range_dict[\"1000+\"] += 1"
   ]
  },
  {
   "cell_type": "code",
   "execution_count": 23,
   "metadata": {},
   "outputs": [
    {
     "name": "stdout",
     "output_type": "stream",
     "text": [
      "Number of examples with line count in range 0-100: 1591546\n",
      "Number of examples with line count in range 101-200: 514700\n",
      "Number of examples with line count in range 201-300: 169879\n",
      "Number of examples with line count in range 301-400: 75083\n",
      "Number of examples with line count in range 401-500: 39195\n",
      "Number of examples with line count in range 501-600: 22844\n",
      "Number of examples with line count in range 601-700: 14389\n",
      "Number of examples with line count in range 701-800: 9578\n",
      "Number of examples with line count in range 801-900: 6856\n",
      "Number of examples with line count in range 901-1000: 4776\n",
      "Number of examples with line count in range 1000+: 21077\n"
     ]
    }
   ],
   "source": [
    "for key, value in count_range_dict.items():\n",
    "    print(f\"Number of examples with line count in range {key}: {value}\")"
   ]
  },
  {
   "cell_type": "code",
   "execution_count": 24,
   "metadata": {},
   "outputs": [
    {
     "data": {
      "image/png": "[encoded data removed]",
      "text/plain": [
       "<Figure size 1200x600 with 1 Axes>"
      ]
     },
     "metadata": {},
     "output_type": "display_data"
    }
   ],
   "source": [
    "import matplotlib.pyplot as plt\n",
    "import seaborn as sns\n",
    "%matplotlib inline\n",
    "\n",
    "plt.figure(figsize=(12, 6))\n",
    "sns.barplot(x=list(count_range_dict.keys()), y=list(count_range_dict.values()))\n",
    "plt.title(\"Distribution of Java code lengths\")\n",
    "plt.xlabel(\"Length of Java code\")\n",
    "plt.ylabel(\"Number of examples\")\n",
    "plt.xticks(rotation=45)\n",
    "plt.show()"
   ]
  },
  {
   "cell_type": "code",
   "execution_count": 25,
   "metadata": {},
   "outputs": [
    {
     "data": {
      "text/html": [
       "<div>\n",
       "<style scoped>\n",
       "    .dataframe tbody tr th:only-of-type {\n",
       "        vertical-align: middle;\n",
       "    }\n",
       "\n",
       "    .dataframe tbody tr th {\n",
       "        vertical-align: top;\n",
       "    }\n",
       "\n",
       "    .dataframe thead th {\n",
       "        text-align: right;\n",
       "    }\n",
       "</style>\n",
       "<table border=\"1\" class=\"dataframe\">\n",
       "  <thead>\n",
       "    <tr style=\"text-align: right;\">\n",
       "      <th></th>\n",
       "      <th>Length</th>\n",
       "      <th>Count</th>\n",
       "      <th>Cumulative Count</th>\n",
       "      <th>Percentage</th>\n",
       "      <th>Cumulative Percentage</th>\n",
       "    </tr>\n",
       "  </thead>\n",
       "  <tbody>\n",
       "    <tr>\n",
       "      <th>0</th>\n",
       "      <td>0-100</td>\n",
       "      <td>1591546</td>\n",
       "      <td>1591546</td>\n",
       "      <td>64.437069</td>\n",
       "      <td>64.437069</td>\n",
       "    </tr>\n",
       "    <tr>\n",
       "      <th>1</th>\n",
       "      <td>101-200</td>\n",
       "      <td>514700</td>\n",
       "      <td>2106246</td>\n",
       "      <td>20.838706</td>\n",
       "      <td>85.275776</td>\n",
       "    </tr>\n",
       "    <tr>\n",
       "      <th>2</th>\n",
       "      <td>201-300</td>\n",
       "      <td>169879</td>\n",
       "      <td>2276125</td>\n",
       "      <td>6.877907</td>\n",
       "      <td>92.153683</td>\n",
       "    </tr>\n",
       "    <tr>\n",
       "      <th>3</th>\n",
       "      <td>301-400</td>\n",
       "      <td>75083</td>\n",
       "      <td>2351208</td>\n",
       "      <td>3.039892</td>\n",
       "      <td>95.193575</td>\n",
       "    </tr>\n",
       "    <tr>\n",
       "      <th>4</th>\n",
       "      <td>401-500</td>\n",
       "      <td>39195</td>\n",
       "      <td>2390403</td>\n",
       "      <td>1.586892</td>\n",
       "      <td>96.780466</td>\n",
       "    </tr>\n",
       "    <tr>\n",
       "      <th>5</th>\n",
       "      <td>501-600</td>\n",
       "      <td>22844</td>\n",
       "      <td>2413247</td>\n",
       "      <td>0.924887</td>\n",
       "      <td>97.705354</td>\n",
       "    </tr>\n",
       "    <tr>\n",
       "      <th>6</th>\n",
       "      <td>601-700</td>\n",
       "      <td>14389</td>\n",
       "      <td>2427636</td>\n",
       "      <td>0.582569</td>\n",
       "      <td>98.287922</td>\n",
       "    </tr>\n",
       "    <tr>\n",
       "      <th>7</th>\n",
       "      <td>701-800</td>\n",
       "      <td>9578</td>\n",
       "      <td>2437214</td>\n",
       "      <td>0.387785</td>\n",
       "      <td>98.675708</td>\n",
       "    </tr>\n",
       "    <tr>\n",
       "      <th>8</th>\n",
       "      <td>801-900</td>\n",
       "      <td>6856</td>\n",
       "      <td>2444070</td>\n",
       "      <td>0.277580</td>\n",
       "      <td>98.953287</td>\n",
       "    </tr>\n",
       "    <tr>\n",
       "      <th>9</th>\n",
       "      <td>901-1000</td>\n",
       "      <td>4776</td>\n",
       "      <td>2448846</td>\n",
       "      <td>0.193366</td>\n",
       "      <td>99.146654</td>\n",
       "    </tr>\n",
       "    <tr>\n",
       "      <th>10</th>\n",
       "      <td>1000+</td>\n",
       "      <td>21077</td>\n",
       "      <td>2469923</td>\n",
       "      <td>0.853346</td>\n",
       "      <td>100.000000</td>\n",
       "    </tr>\n",
       "  </tbody>\n",
       "</table>\n",
       "</div>"
      ],
      "text/plain": [
       "      Length    Count  Cumulative Count  Percentage  Cumulative Percentage\n",
       "0      0-100  1591546           1591546   64.437069              64.437069\n",
       "1    101-200   514700           2106246   20.838706              85.275776\n",
       "2    201-300   169879           2276125    6.877907              92.153683\n",
       "3    301-400    75083           2351208    3.039892              95.193575\n",
       "4    401-500    39195           2390403    1.586892              96.780466\n",
       "5    501-600    22844           2413247    0.924887              97.705354\n",
       "6    601-700    14389           2427636    0.582569              98.287922\n",
       "7    701-800     9578           2437214    0.387785              98.675708\n",
       "8    801-900     6856           2444070    0.277580              98.953287\n",
       "9   901-1000     4776           2448846    0.193366              99.146654\n",
       "10     1000+    21077           2469923    0.853346             100.000000"
      ]
     },
     "execution_count": 25,
     "metadata": {},
     "output_type": "execute_result"
    }
   ],
   "source": [
    "df_line = pd.DataFrame(list(count_range_dict.items()), columns=[\"Length\", \"Count\"])\n",
    "df_line[\"Cumulative Count\"] = df_line[\"Count\"].cumsum()\n",
    "df_line[\"Percentage\"] = df_line[\"Count\"] / df_line[\"Count\"].sum() * 100\n",
    "df_line[\"Cumulative Percentage\"] = df_line[\"Percentage\"].cumsum()\n",
    "df_line.head(11)"
   ]
  },
  {
   "cell_type": "code",
   "execution_count": 26,
   "metadata": {},
   "outputs": [
    {
     "data": {
      "text/plain": [
       "Index(['max_stars_repo_path', 'max_stars_repo_name', 'max_stars_count', 'id',\n",
       "       'content', 'avg_line_length', 'line_count'],\n",
       "      dtype='object')"
      ]
     },
     "execution_count": 26,
     "metadata": {},
     "output_type": "execute_result"
    }
   ],
   "source": [
    "df.columns"
   ]
  },
  {
   "cell_type": "code",
   "execution_count": 27,
   "metadata": {},
   "outputs": [
    {
     "data": {
      "text/html": [
       "<div>\n",
       "<style scoped>\n",
       "    .dataframe tbody tr th:only-of-type {\n",
       "        vertical-align: middle;\n",
       "    }\n",
       "\n",
       "    .dataframe tbody tr th {\n",
       "        vertical-align: top;\n",
       "    }\n",
       "\n",
       "    .dataframe thead th {\n",
       "        text-align: right;\n",
       "    }\n",
       "</style>\n",
       "<table border=\"1\" class=\"dataframe\">\n",
       "  <thead>\n",
       "    <tr style=\"text-align: right;\">\n",
       "      <th></th>\n",
       "      <th>content</th>\n",
       "      <th>avg_line_length</th>\n",
       "      <th>line_count</th>\n",
       "    </tr>\n",
       "  </thead>\n",
       "  <tbody>\n",
       "    <tr>\n",
       "      <th>0</th>\n",
       "      <td>&lt;gh_stars&gt;1000+\\n/* Copyright 2016 The TensorF...</td>\n",
       "      <td>41.361702</td>\n",
       "      <td>47</td>\n",
       "    </tr>\n",
       "    <tr>\n",
       "      <th>1</th>\n",
       "      <td>&lt;reponame&gt;EricRemmerswaal/tensorflow&lt;filename&gt;...</td>\n",
       "      <td>35.767296</td>\n",
       "      <td>159</td>\n",
       "    </tr>\n",
       "    <tr>\n",
       "      <th>2</th>\n",
       "      <td>&lt;filename&gt;tensorflow/lite/java/src/main/java/o...</td>\n",
       "      <td>34.907407</td>\n",
       "      <td>54</td>\n",
       "    </tr>\n",
       "    <tr>\n",
       "      <th>3</th>\n",
       "      <td>/* Copyright 2021 The TensorFlow Authors. All ...</td>\n",
       "      <td>32.245902</td>\n",
       "      <td>61</td>\n",
       "    </tr>\n",
       "    <tr>\n",
       "      <th>4</th>\n",
       "      <td>/* Copyright 2020 The TensorFlow Authors. All ...</td>\n",
       "      <td>33.518519</td>\n",
       "      <td>54</td>\n",
       "    </tr>\n",
       "  </tbody>\n",
       "</table>\n",
       "</div>"
      ],
      "text/plain": [
       "                                             content  avg_line_length  \\\n",
       "0  <gh_stars>1000+\\n/* Copyright 2016 The TensorF...        41.361702   \n",
       "1  <reponame>EricRemmerswaal/tensorflow<filename>...        35.767296   \n",
       "2  <filename>tensorflow/lite/java/src/main/java/o...        34.907407   \n",
       "3  /* Copyright 2021 The TensorFlow Authors. All ...        32.245902   \n",
       "4  /* Copyright 2020 The TensorFlow Authors. All ...        33.518519   \n",
       "\n",
       "   line_count  \n",
       "0          47  \n",
       "1         159  \n",
       "2          54  \n",
       "3          61  \n",
       "4          54  "
      ]
     },
     "execution_count": 27,
     "metadata": {},
     "output_type": "execute_result"
    }
   ],
   "source": [
    "df_filtered = df.drop(columns=['max_stars_repo_path', 'max_stars_repo_name', 'max_stars_count', 'id'], axis=1)\n",
    "df_filtered.head()"
   ]
  },
  {
   "cell_type": "code",
   "execution_count": 28,
   "metadata": {},
   "outputs": [
    {
     "data": {
      "text/plain": [
       "(2469923, 3)"
      ]
     },
     "execution_count": 28,
     "metadata": {},
     "output_type": "execute_result"
    }
   ],
   "source": [
    "df_filtered.shape"
   ]
  },
  {
   "cell_type": "code",
   "execution_count": 30,
   "metadata": {},
   "outputs": [
    {
     "data": {
      "text/plain": [
       "(2225756, 3)"
      ]
     },
     "execution_count": 30,
     "metadata": {},
     "output_type": "execute_result"
    }
   ],
   "source": [
    "df_filtered = df_filtered[df_filtered['line_count'] <= 260]\n",
    "df_filtered.shape"
   ]
  },
  {
   "cell_type": "code",
   "execution_count": 31,
   "metadata": {},
   "outputs": [
    {
     "data": {
      "text/plain": [
       "(1817975, 3)"
      ]
     },
     "execution_count": 31,
     "metadata": {},
     "output_type": "execute_result"
    }
   ],
   "source": [
    "df_filtered = df_filtered[df_filtered['avg_line_length'] <= 37]\n",
    "df_filtered.shape"
   ]
  },
  {
   "cell_type": "code",
   "execution_count": 32,
   "metadata": {},
   "outputs": [
    {
     "data": {
      "text/html": [
       "<div>\n",
       "<style scoped>\n",
       "    .dataframe tbody tr th:only-of-type {\n",
       "        vertical-align: middle;\n",
       "    }\n",
       "\n",
       "    .dataframe tbody tr th {\n",
       "        vertical-align: top;\n",
       "    }\n",
       "\n",
       "    .dataframe thead th {\n",
       "        text-align: right;\n",
       "    }\n",
       "</style>\n",
       "<table border=\"1\" class=\"dataframe\">\n",
       "  <thead>\n",
       "    <tr style=\"text-align: right;\">\n",
       "      <th></th>\n",
       "      <th>content</th>\n",
       "      <th>avg_line_length</th>\n",
       "      <th>line_count</th>\n",
       "    </tr>\n",
       "  </thead>\n",
       "  <tbody>\n",
       "    <tr>\n",
       "      <th>1</th>\n",
       "      <td>&lt;reponame&gt;EricRemmerswaal/tensorflow&lt;filename&gt;...</td>\n",
       "      <td>35.767296</td>\n",
       "      <td>159</td>\n",
       "    </tr>\n",
       "    <tr>\n",
       "      <th>2</th>\n",
       "      <td>&lt;filename&gt;tensorflow/lite/java/src/main/java/o...</td>\n",
       "      <td>34.907407</td>\n",
       "      <td>54</td>\n",
       "    </tr>\n",
       "    <tr>\n",
       "      <th>3</th>\n",
       "      <td>/* Copyright 2021 The TensorFlow Authors. All ...</td>\n",
       "      <td>32.245902</td>\n",
       "      <td>61</td>\n",
       "    </tr>\n",
       "    <tr>\n",
       "      <th>4</th>\n",
       "      <td>/* Copyright 2020 The TensorFlow Authors. All ...</td>\n",
       "      <td>33.518519</td>\n",
       "      <td>54</td>\n",
       "    </tr>\n",
       "    <tr>\n",
       "      <th>5</th>\n",
       "      <td>/* Copyright 2016 The TensorFlow Authors. All ...</td>\n",
       "      <td>30.742857</td>\n",
       "      <td>105</td>\n",
       "    </tr>\n",
       "  </tbody>\n",
       "</table>\n",
       "</div>"
      ],
      "text/plain": [
       "                                             content  avg_line_length  \\\n",
       "1  <reponame>EricRemmerswaal/tensorflow<filename>...        35.767296   \n",
       "2  <filename>tensorflow/lite/java/src/main/java/o...        34.907407   \n",
       "3  /* Copyright 2021 The TensorFlow Authors. All ...        32.245902   \n",
       "4  /* Copyright 2020 The TensorFlow Authors. All ...        33.518519   \n",
       "5  /* Copyright 2016 The TensorFlow Authors. All ...        30.742857   \n",
       "\n",
       "   line_count  \n",
       "1         159  \n",
       "2          54  \n",
       "3          61  \n",
       "4          54  \n",
       "5         105  "
      ]
     },
     "execution_count": 32,
     "metadata": {},
     "output_type": "execute_result"
    }
   ],
   "source": [
    "df_filtered.head()"
   ]
  },
  {
   "cell_type": "code",
   "execution_count": 33,
   "metadata": {},
   "outputs": [
    {
     "name": "stdout",
     "output_type": "stream",
     "text": [
      "       avg_line_length    line_count\n",
      "count     2.469923e+06  2.469923e+06\n",
      "mean      3.039899e+01  1.275949e+02\n",
      "std       7.883100e+00  2.969333e+02\n",
      "min       8.384615e+00  1.000000e+00\n",
      "25%       2.485929e+01  3.700000e+01\n",
      "50%       3.041553e+01  7.100000e+01\n",
      "75%       3.574105e+01  1.360000e+02\n",
      "max       5.250543e+01  3.557900e+04\n",
      "\n",
      "       avg_line_length    line_count\n",
      "count     1.817975e+06  1.817975e+06\n",
      "mean      2.733485e+01  7.331197e+01\n",
      "std       5.986701e+00  5.638592e+01\n",
      "min       8.384615e+00  1.000000e+00\n",
      "25%       2.312500e+01  3.000000e+01\n",
      "50%       2.803125e+01  5.700000e+01\n",
      "75%       3.217770e+01  1.010000e+02\n",
      "max       3.700000e+01  2.600000e+02\n"
     ]
    }
   ],
   "source": [
    "print(df[[\"avg_line_length\", \"line_count\"]].describe())\n",
    "print()\n",
    "print(df_filtered.describe())"
   ]
  },
  {
   "cell_type": "code",
   "execution_count": 34,
   "metadata": {},
   "outputs": [],
   "source": [
    "data_dict_java = {}\n",
    "\n",
    "for i, example in enumerate(df_filtered[\"content\"]):\n",
    "    data_dict_java[f\"java_{i}\"] = example"
   ]
  },
  {
   "cell_type": "code",
   "execution_count": 35,
   "metadata": {},
   "outputs": [],
   "source": [
    "assert len(data_dict_java) == len(df_filtered), \"Data dictionary length does not match the number of examples in the dataset.\""
   ]
  },
  {
   "cell_type": "code",
   "execution_count": 36,
   "metadata": {},
   "outputs": [
    {
     "name": "stdout",
     "output_type": "stream",
     "text": [
      "Example java_0:\n",
      "<reponame>EricRemmerswaal/tensorflow<filename>tensorflow/lite/java/src/main/java/org/tensorflow/lite/Tensor.java\n",
      "/* Copyright 2017 The TensorFlow Authors. All Rights Reserved.\n",
      "\n",
      "Licensed under the Apache License, Version 2.0 (the \"License\");\n",
      "you may not use this file except in compliance with the License.\n",
      "You may obtain a copy of the License at\n",
      "\n",
      "    http://www.apache.org/licenses/LICENSE-2.0\n",
      "\n",
      "Unless required by applicable law or agreed to in writing, software\n",
      "distributed under the License is distributed on an \"AS IS\" BASIS,\n",
      "WITHOUT WARRANTIES OR CONDITIONS OF ANY KIND, either express or implied.\n",
      "See the License for the specific language governing permissions and\n",
      "limitations under the License.\n",
      "==============================================================================*/\n",
      "\n",
      "package org.tensorflow.lite;\n",
      "\n",
      "import java.nio.ByteBuffer;\n",
      "\n",
      "/**\n",
      " * A typed multi-dimensional array used in Tensorflow Lite.\n",
      " *\n",
      " * <p>The native handle of a {@code Tensor} is managed by {@code NativeInterpreterWrapper}, and does\n",
      " * not needed to be closed by the client. However, once the {@code NativeInterpreterWrapper} has\n",
      " * been closed, the tensor handle will be invalidated.\n",
      " */\n",
      "public interface Tensor {\n",
      "\n",
      "  /**\n",
      "   * Quantization parameters that corresponds to the table, {@code QuantizationParameters}, in the\n",
      "   * <a\n",
      "   * href=\"https://github.com/tensorflow/tensorflow/blob/master/tensorflow/lite/schema/schema.fbs\">TFLite\n",
      "   * Model schema file.</a>\n",
      "   *\n",
      "   * <p>Since per-channel quantization does not apply to input and output tensors, {@code scale} and\n",
      "   * {@code zero_point} are both single values instead of arrays.\n",
      "   *\n",
      "   * <p>For tensor that are not quantized, the values of scale and zero_point are both 0.\n",
      "   *\n",
      "   * <p>Given a quantized value q, the corresponding float value f should be: <br>\n",
      "   * f = scale * (q - zero_point) <br>\n",
      "   */\n",
      "  class QuantizationParams {\n",
      "    /** The scale value used in quantization. */\n",
      "    private final float scale;\n",
      "    /** The zero point value used in quantization. */\n",
      "    private final int zeroPoint;\n",
      "\n",
      "    /**\n",
      "     * Creates a {@link QuantizationParams} with {@code scale} and {@code zero_point}.\n",
      "     *\n",
      "     * @param scale The scale value used in quantization.\n",
      "     * @param zeroPoint The zero point value used in quantization.\n",
      "     */\n",
      "    public QuantizationParams(final float scale, final int zeroPoint) {\n",
      "      this.scale = scale;\n",
      "      this.zeroPoint = zeroPoint;\n",
      "    }\n",
      "\n",
      "    /** Returns the scale value. */\n",
      "    public float getScale() {\n",
      "      return scale;\n",
      "    }\n",
      "\n",
      "    /** Returns the zero point value. */\n",
      "    public int getZeroPoint() {\n",
      "      return zeroPoint;\n",
      "    }\n",
      "  }\n",
      "\n",
      "  /** Returns the {@link DataType} of elements stored in the Tensor. */\n",
      "  DataType dataType();\n",
      "\n",
      "  /**\n",
      "   * Returns the number of dimensions (sometimes referred to as <a\n",
      "   * href=\"https://www.tensorflow.org/resources/dims_types.html#rank\">rank</a>) of the Tensor.\n",
      "   *\n",
      "   * <p>Will be 0 for a scalar, 1 for a vector, 2 for a matrix, 3 for a 3-dimensional tensor etc.\n",
      "   */\n",
      "  int numDimensions();\n",
      "\n",
      "  /** Returns the size, in bytes, of the tensor data. */\n",
      "  int numBytes();\n",
      "\n",
      "  /** Returns the number of elements in a flattened (1-D) view of the tensor. */\n",
      "  int numElements();\n",
      "\n",
      "  /**\n",
      "   * Returns the <a href=\"https://www.tensorflow.org/resources/dims_types.html#shape\">shape</a> of\n",
      "   * the Tensor, i.e., the sizes of each dimension.\n",
      "   *\n",
      "   * @return an array where the i-th element is the size of the i-th dimension of the tensor.\n",
      "   */\n",
      "  int[] shape();\n",
      "\n",
      "  /**\n",
      "   * Returns the original <a\n",
      "   * href=\"https://www.tensorflow.org/resources/dims_types.html#shape\">shape</a> of the Tensor,\n",
      "   * i.e., the sizes of each dimension - before any resizing was performed. Unknown dimensions are\n",
      "   * designated with a value of -1.\n",
      "   *\n",
      "   * @return an array where the i-th element is the size of the i-th dimension of the tensor.\n",
      "   */\n",
      "  int[] shapeSignature();\n",
      "\n",
      "  /**\n",
      "   * Returns the (global) index of the tensor within the subgraph of the owning interpreter.\n",
      "   *\n",
      "   * @hide\n",
      "   */\n",
      "  int index();\n",
      "\n",
      "  /**\n",
      "   * Returns the name of the tensor within the owning interpreter.\n",
      "   *\n",
      "   * @hide\n",
      "   */\n",
      "  String name();\n",
      "\n",
      "  /**\n",
      "   * Returns the quantization parameters of the tensor within the owning interpreter.\n",
      "   *\n",
      "   * <p>Only quantized tensors have valid {@code QuantizationParameters}. For tensor that are not\n",
      "   * quantized, the values of scale and zero_point are both 0.\n",
      "   */\n",
      "  QuantizationParams quantizationParams();\n",
      "\n",
      "  /**\n",
      "   * Returns a read-only {@code ByteBuffer} view of the tensor data.\n",
      "   *\n",
      "   * <p>In general, this method is most useful for obtaining a read-only view of output tensor data,\n",
      "   * *after* inference has been executed (e.g., via {@link InterpreterApi#run(Object,Object)}). In\n",
      "   * particular, some graphs have dynamically shaped outputs, which can make feeding a predefined\n",
      "   * output buffer to the interpreter awkward. Example usage:\n",
      "   *\n",
      "   * <pre>{@code\n",
      "   * interpreter.run(input, null);\n",
      "   * ByteBuffer outputBuffer = interpreter.getOutputTensor(0).asReadOnlyBuffer();\n",
      "   * // Copy or read from outputBuffer.\n",
      "   * }</pre>\n",
      "   *\n",
      "   * <p>WARNING: If the tensor has not yet been allocated, e.g., before inference has been executed,\n",
      "   * the result is undefined. Note that the underlying tensor pointer may also change when the\n",
      "   * tensor is invalidated in any way (e.g., if inference is executed, or the graph is resized), so\n",
      "   * it is *not* safe to hold a reference to the returned buffer beyond immediate use directly\n",
      "   * following inference. Example *bad* usage:\n",
      "   *\n",
      "   * <pre>{@code\n",
      "   * ByteBuffer outputBuffer = interpreter.getOutputTensor(0).asReadOnlyBuffer();\n",
      "   * interpreter.run(input, null);\n",
      "   * // Copy or read from outputBuffer (which may now be invalid).\n",
      "   * }</pre>\n",
      "   *\n",
      "   * @throws IllegalArgumentException if the tensor data has not been allocated.\n",
      "   */\n",
      "  ByteBuffer asReadOnlyBuffer();\n",
      "}\n",
      "\n",
      "\n",
      "\n",
      "Example java_1:\n",
      "<filename>tensorflow/lite/java/src/main/java/org/tensorflow/lite/NativeInterpreterWrapperExperimental.java\n",
      "/* Copyright 2017 The TensorFlow Authors. All Rights Reserved.\n",
      "\n",
      "Licensed under the Apache License, Version 2.0 (the \"License\");\n",
      "you may not use this file except in compliance with the License.\n",
      "You may obtain a copy of the License at\n",
      "\n",
      "    http://www.apache.org/licenses/LICENSE-2.0\n",
      "\n",
      "Unless required by applicable law or agreed to in writing, software\n",
      "distributed under the License is distributed on an \"AS IS\" BASIS,\n",
      "WITHOUT WARRANTIES OR CONDITIONS OF ANY KIND, either express or implied.\n",
      "See the License for the specific language governing permissions and\n",
      "limitations under the License.\n",
      "==============================================================================*/\n",
      "\n",
      "package org.tensorflow.lite;\n",
      "\n",
      "import java.nio.ByteBuffer;\n",
      "\n",
      "/**\n",
      " * Extension of NativeInterpreterWrapper that adds support for experimental methods.\n",
      " *\n",
      " * <p><b>WARNING:</b> Resources consumed by the {@code NativeInterpreterWrapperExperimental} object\n",
      " * must be explicitly freed by invoking the {@link #close()} method when the {@code\n",
      " * NativeInterpreterWrapperExperimental} object is no longer needed.\n",
      " *\n",
      " * <p>Note: This class is not thread safe.\n",
      " */\n",
      "final class NativeInterpreterWrapperExperimental extends NativeInterpreterWrapper {\n",
      "\n",
      "  NativeInterpreterWrapperExperimental(String modelPath) {\n",
      "    super(modelPath);\n",
      "  }\n",
      "\n",
      "  NativeInterpreterWrapperExperimental(ByteBuffer byteBuffer) {\n",
      "    super(byteBuffer);\n",
      "  }\n",
      "\n",
      "  NativeInterpreterWrapperExperimental(String modelPath, InterpreterImpl.Options options) {\n",
      "    super(modelPath, options);\n",
      "  }\n",
      "\n",
      "  NativeInterpreterWrapperExperimental(ByteBuffer buffer, InterpreterImpl.Options options) {\n",
      "    super(buffer, options);\n",
      "  }\n",
      "\n",
      "  void resetVariableTensors() {\n",
      "    resetVariableTensors(interpreterHandle, errorHandle);\n",
      "  }\n",
      "\n",
      "  private static native void resetVariableTensors(long interpreterHandle, long errorHandle);\n",
      "}\n",
      "\n",
      "\n",
      "\n",
      "Example java_2:\n",
      "/* Copyright 2021 The TensorFlow Authors. All Rights Reserved.\n",
      "\n",
      "Licensed under the Apache License, Version 2.0 (the \"License\");\n",
      "you may not use this file except in compliance with the License.\n",
      "You may obtain a copy of the License at\n",
      "\n",
      "    http://www.apache.org/licenses/LICENSE-2.0\n",
      "\n",
      "Unless required by applicable law or agreed to in writing, software\n",
      "distributed under the License is distributed on an \"AS IS\" BASIS,\n",
      "WITHOUT WARRANTIES OR CONDITIONS OF ANY KIND, either express or implied.\n",
      "See the License for the specific language governing permissions and\n",
      "limitations under the License.\n",
      "==============================================================================*/\n",
      "\n",
      "package org.tensorflow.lite;\n",
      "\n",
      "/**\n",
      " * This class is used to conditionally enable certain tests that depend on experimental or\n",
      " * deprecated features of TF Lite that may not be univerally portable to all TF Lite\n",
      " * implementations.\n",
      " */\n",
      "public final class SupportedFeatures {\n",
      "\n",
      "  private SupportedFeatures() {}\n",
      "\n",
      "  /**\n",
      "   * True if the TF Lite implementation supports cancellation.\n",
      "   *\n",
      "   * @see Interpreter#setCanceled\n",
      "   */\n",
      "  public static native boolean supportsCancellation();\n",
      "\n",
      "  /**\n",
      "   * True if the TF Lite implementation supports the XNNPACK delegate.\n",
      "   *\n",
      "   * @see Interpreter#setUseXNNPACK\n",
      "   */\n",
      "  public static native boolean supportsXnnpack();\n",
      "\n",
      "  /**\n",
      "   * True if the TF Lite implementation supports using reduced 16-bit floating point precision for\n",
      "   * operations that are specified as 32-bit in the model.\n",
      "   *\n",
      "   * @see Interpreter#setAllowFp16PrecisionForFp32\n",
      "   */\n",
      "  public static native boolean supportsAllowFp16PrecisionForFp32();\n",
      "\n",
      "  /**\n",
      "   * True if the TF Lite implementation supports SignatureDef related methods.\n",
      "   *\n",
      "   * @see Interpreter#runSignature\n",
      "   * @see Interpreter#getSignatureKeys\n",
      "   * @see Interpreter#getSignatureInputs\n",
      "   * @see Interpreter#getSignatureOutputs\n",
      "   * @see Interpreter#getInputTensorFromSignature\n",
      "   * @see Interpreter#getOutputTensorFromSignature\n",
      "   */\n",
      "  public static native boolean supportsSignatures();\n",
      "}\n",
      "\n",
      "\n",
      "\n",
      "Example java_3:\n",
      "/* Copyright 2020 The TensorFlow Authors. All Rights Reserved.\n",
      "\n",
      "Licensed under the Apache License, Version 2.0 (the \"License\");\n",
      "you may not use this file except in compliance with the License.\n",
      "You may obtain a copy of the License at\n",
      "\n",
      "    http://www.apache.org/licenses/LICENSE-2.0\n",
      "\n",
      "Unless required by applicable law or agreed to in writing, software\n",
      "distributed under the License is distributed on an \"AS IS\" BASIS,\n",
      "WITHOUT WARRANTIES OR CONDITIONS OF ANY KIND, either express or implied.\n",
      "See the License for the specific language governing permissions and\n",
      "limitations under the License.\n",
      "==============================================================================*/\n",
      "\n",
      "package org.tensorflow.lite;\n",
      "\n",
      "import static com.google.common.truth.Truth.assertThat;\n",
      "\n",
      "import java.nio.ByteBuffer;\n",
      "import org.junit.Test;\n",
      "import org.junit.runner.RunWith;\n",
      "import org.junit.runners.JUnit4;\n",
      "import org.tensorflow.lite.flex.FlexDelegate;\n",
      "\n",
      "/**\n",
      " * Unit tests for {@link org.tensorflow.lite.Interpreter} that validate execution with models that\n",
      " * have user's defined TensorFlow ops.\n",
      " */\n",
      "@RunWith(JUnit4.class)\n",
      "public final class InterpreterFlexWithCustomOpsTest {\n",
      "\n",
      "  private static final ByteBuffer DOUBLE_MODEL_BUFFER =\n",
      "      TestUtils.getTestFileAsBuffer(\"tensorflow/lite/testdata/double_flex.bin\");\n",
      "\n",
      "  /** Smoke test validating that flex model with a user's defined TF op. */\n",
      "  @Test\n",
      "  public void testFlexModelWithUsersDefinedOp() throws Exception {\n",
      "    try (Interpreter interpreter = new Interpreter(DOUBLE_MODEL_BUFFER)) {\n",
      "      int[] oneD = {1, 2, 3, 4};\n",
      "      int[][] twoD = {oneD};\n",
      "      int[][] parsedOutputs = new int[1][4];\n",
      "      interpreter.run(twoD, parsedOutputs);\n",
      "      int[] outputOneD = parsedOutputs[0];\n",
      "      int[] expected = {2, 4, 6, 8};\n",
      "      assertThat(outputOneD).isEqualTo(expected);\n",
      "    }\n",
      "  }\n",
      "\n",
      "  static {\n",
      "    FlexDelegate.initTensorFlowForTesting();\n",
      "  }\n",
      "}\n",
      "\n",
      "\n",
      "\n",
      "Example java_4:\n",
      "/* Copyright 2016 The TensorFlow Authors. All Rights Reserved.\n",
      "\n",
      "Licensed under the Apache License, Version 2.0 (the \"License\");\n",
      "you may not use this file except in compliance with the License.\n",
      "You may obtain a copy of the License at\n",
      "\n",
      "    http://www.apache.org/licenses/LICENSE-2.0\n",
      "\n",
      "Unless required by applicable law or agreed to in writing, software\n",
      "distributed under the License is distributed on an \"AS IS\" BASIS,\n",
      "WITHOUT WARRANTIES OR CONDITIONS OF ANY KIND, either express or implied.\n",
      "See the License for the specific language governing permissions and\n",
      "limitations under the License.\n",
      "==============================================================================*/\n",
      "\n",
      "package org.tensorflow;\n",
      "\n",
      "import static org.junit.Assert.assertEquals;\n",
      "import static org.junit.Assert.assertNotEquals;\n",
      "\n",
      "import org.junit.Test;\n",
      "import org.junit.runner.RunWith;\n",
      "import org.junit.runners.JUnit4;\n",
      "\n",
      "/** Unit tests for {@link Shape}. */\n",
      "@RunWith(JUnit4.class)\n",
      "public class ShapeTest {\n",
      "\n",
      "  @Test\n",
      "  public void unknown() {\n",
      "    assertEquals(-1, Shape.unknown().numDimensions());\n",
      "    assertEquals(\"<unknown>\", Shape.unknown().toString());\n",
      "  }\n",
      "\n",
      "  @Test\n",
      "  public void scalar() {\n",
      "    assertEquals(0, Shape.scalar().numDimensions());\n",
      "    assertEquals(\"[]\", Shape.scalar().toString());\n",
      "  }\n",
      "\n",
      "  @Test\n",
      "  public void make() {\n",
      "    Shape s = Shape.make(2);\n",
      "    assertEquals(1, s.numDimensions());\n",
      "    assertEquals(2, s.size(0));\n",
      "    assertEquals(\"[2]\", s.toString());\n",
      "\n",
      "    s = Shape.make(2, 3);\n",
      "    assertEquals(2, s.numDimensions());\n",
      "    assertEquals(2, s.size(0));\n",
      "    assertEquals(3, s.size(1));\n",
      "    assertEquals(\"[2, 3]\", s.toString());\n",
      "\n",
      "    s = Shape.make(-1, 2, 3);\n",
      "    assertEquals(3, s.numDimensions());\n",
      "    assertEquals(-1, s.size(0));\n",
      "    assertEquals(2, s.size(1));\n",
      "    assertEquals(3, s.size(2));\n",
      "    assertEquals(\"[?, 2, 3]\", s.toString());\n",
      "  }\n",
      "\n",
      "  @Test\n",
      "  public void nodesInAGraph() {\n",
      "    try (Graph g = new Graph()) {\n",
      "      Output<Float> n = TestUtil.placeholder(g, \"feed\", Float.class);\n",
      "      assertEquals(-1, n.shape().numDimensions());\n",
      "\n",
      "      n = TestUtil.constant(g, \"scalar\", 3);\n",
      "      assertEquals(0, n.shape().numDimensions());\n",
      "\n",
      "      n = TestUtil.constant(g, \"vector\", new float[2]);\n",
      "      assertEquals(1, n.shape().numDimensions());\n",
      "      assertEquals(2, n.shape().size(0));\n",
      "\n",
      "      n = TestUtil.constant(g, \"matrix\", new float[4][5]);\n",
      "      assertEquals(2, n.shape().numDimensions());\n",
      "      assertEquals(4, n.shape().size(0));\n",
      "      assertEquals(5, n.shape().size(1));\n",
      "    }\n",
      "  }\n",
      "\n",
      "  @Test\n",
      "  public void equalsWorksCorrectly() {\n",
      "    assertEquals(Shape.scalar(), Shape.scalar());\n",
      "    assertEquals(Shape.make(1, 2, 3), Shape.make(1, 2, 3));\n",
      "\n",
      "    assertNotEquals(Shape.make(1, 2), null);\n",
      "    assertNotEquals(Shape.make(1, 2), new Object());\n",
      "    assertNotEquals(Shape.make(1, 2, 3), Shape.make(1, 2, 4));\n",
      "\n",
      "    assertNotEquals(Shape.unknown(), Shape.unknown());\n",
      "    assertNotEquals(Shape.make(-1), Shape.make(-1));\n",
      "    assertNotEquals(Shape.make(1, -1, 3), Shape.make(1, -1, 3));\n",
      "  }\n",
      "\n",
      "  @Test\n",
      "  public void hashCodeIsAsExpected() {\n",
      "    assertEquals(Shape.make(1, 2, 3, 4).hashCode(), Shape.make(1, 2, 3, 4).hashCode());\n",
      "    assertEquals(Shape.scalar().hashCode(), Shape.scalar().hashCode());\n",
      "    assertEquals(Shape.unknown().hashCode(), Shape.unknown().hashCode());\n",
      "\n",
      "    assertNotEquals(Shape.make(1, 2).hashCode(), Shape.make(1, 3).hashCode());\n",
      "  }\n",
      "}\n",
      "\n",
      "\n",
      "\n"
     ]
    }
   ],
   "source": [
    "for i, (k,v) in enumerate(data_dict_java.items()):\n",
    "    if i < 5:\n",
    "        print(f\"Example {k}:\")\n",
    "        print(v)\n",
    "        print(\"\\n\")\n",
    "    else:\n",
    "        break"
   ]
  },
  {
   "cell_type": "code",
   "execution_count": 37,
   "metadata": {},
   "outputs": [
    {
     "name": "stdout",
     "output_type": "stream",
     "text": [
      "Saved to 'java_train.json'\n"
     ]
    }
   ],
   "source": [
    "import json\n",
    "\n",
    "with open('java_train.json', 'w') as f:\n",
    "    json.dump(data_dict_java, f)\n",
    "    print(\"Saved to 'java_train.json'\")"
   ]
  },
  {
   "cell_type": "code",
   "execution_count": null,
   "metadata": {},
   "outputs": [],
   "source": []
  }
 ],
 "metadata": {
  "kernelspec": {
   "display_name": "malcodeai",
   "language": "python",
   "name": "python3"
  },
  "language_info": {
   "codemirror_mode": {
    "name": "ipython",
    "version": 3
   },
   "file_extension": ".py",
   "mimetype": "text/x-python",
   "name": "python",
   "nbconvert_exporter": "python",
   "pygments_lexer": "ipython3",
   "version": "3.11.11"
  }
 },
 "nbformat": 4,
 "nbformat_minor": 2
}
