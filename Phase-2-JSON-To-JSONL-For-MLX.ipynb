{
 "cells": [
  {
   "cell_type": "code",
   "execution_count": 1,
   "id": "a46f727b",
   "metadata": {},
   "outputs": [],
   "source": [
    "import json"
   ]
  },
  {
   "cell_type": "code",
   "execution_count": 2,
   "id": "d4059769",
   "metadata": {},
   "outputs": [],
   "source": [
    "input_file = \"Phase-2-Data/Final_aggregated_output.json\""
   ]
  },
  {
   "cell_type": "code",
   "execution_count": 3,
   "id": "74f28e35",
   "metadata": {},
   "outputs": [],
   "source": [
    "try:\n",
    "    with open(input_file, 'r') as f:\n",
    "        data = json.load(f)\n",
    "except FileNotFoundError:\n",
    "    print(f\"Error: Input file '{input_file}' not found.\")\n",
    "except json.JSONDecodeError:\n",
    "    print(f\"Error: Could not decode JSON from '{input_file}'.\")"
   ]
  },
  {
   "cell_type": "code",
   "execution_count": 4,
   "id": "e86729c7",
   "metadata": {},
   "outputs": [],
   "source": [
    "def update_keys(data):\n",
    "    transformed_data = []\n",
    "\n",
    "    if not isinstance(data, list):\n",
    "        print(\"Error: Input data is not a list.\")\n",
    "        return transformed_data\n",
    "    \n",
    "    for item in data:\n",
    "        transformed_item = {}\n",
    "\n",
    "        if \"instruction\" in item:\n",
    "            transformed_item[\"prompt\"] = item.pop(\"instruction\")\n",
    "        if \"output\" in item:\n",
    "            transformed_item[\"completion\"] = item.pop(\"output\")\n",
    "        \n",
    "        transformed_data.append(transformed_item)\n",
    "    \n",
    "    return transformed_data"
   ]
  },
  {
   "cell_type": "code",
   "execution_count": 5,
   "id": "605eaf70",
   "metadata": {},
   "outputs": [],
   "source": [
    "updated_data = update_keys(data)"
   ]
  },
  {
   "cell_type": "code",
   "execution_count": 6,
   "id": "3188b779",
   "metadata": {},
   "outputs": [
    {
     "name": "stdout",
     "output_type": "stream",
     "text": [
      "Updated data item 0:\n",
      "{\n",
      "    \"prompt\": \"Given the following inputs:\\n- Attack Type: Remote Code Execution (RCE)\\n- Programming Language: JAVA\\n- Code Type: complete code file\\n- Vulnerability Detection Difficulty: very hard\\n\\nYour task is to:\\n1. Generate a complete code file in the given language that contains a vulnerability matching the described attack type and identification difficulty level.\\n2. Evaluate the vulnerability and provide a realistic CVSS score as a float (e.g., 7.5).\\n\\nVERY IMPORTANT:\\n- Output ONLY a valid JSON object.\\n- Do NOT add any explanation, markdown, comments, or additional text.\\n- Escape all double quotes correctly.\\n- The code must go inside the \\\"input\\\" key as a string.\\n- The CVSS score must go inside the \\\"output\\\" key and should be a float number only.\\n- The attack type must go inside the \\\"output\\\" key and should be a string only.\\n\\nJSON FORMAT EXAMPLE:\\n{\\n    \\\"input\\\": \\\"# Python example\\\\ndef unsafe():\\\\n    eval(input(\\\\\\\"Enter command: \\\\\\\"))\\\",\\n    \\\"output\\\": {\\n        \\\"score\\\": 8.2,\\n        \\\"type\\\": \\\"Remote Code Execution (RCE)\\\"\\n    }\\n}\\n\\nNow generate a similar JSON for:\\n- Attack Type: Remote Code Execution (RCE)\\n- Programming Language: JAVA\\n- Difficulty Level: very hard\\n- Code Type: complete code file\",\n",
      "    \"completion\": \"{\\\"score\\\": 9.8, \\\"type\\\": \\\"Remote Code Execution (RCE)\\\"}\"\n",
      "}\n",
      "\n",
      "Updated data item 1:\n",
      "{\n",
      "    \"prompt\": \"Given the following inputs:\\n- Attack Type: Cross-Site Scripting (XSS)\\n- Programming Language: JAVA\\n- Code Type: complete code file\\n- Vulnerability Detection Difficulty: hard\\n\\nYour task is to:\\n1. Generate a complete code file in the given language that contains a vulnerability matching the described attack type and identification difficulty level.\\n2. Evaluate the vulnerability and provide a realistic CVSS score as a float (e.g., 7.5).\\n\\nVERY IMPORTANT:\\n- Output ONLY a valid JSON object.\\n- Do NOT add any explanation, markdown, comments, or additional text.\\n- Escape all double quotes correctly.\\n- The code must go inside the \\\"input\\\" key as a string.\\n- The CVSS score must go inside the \\\"output\\\" key and should be a float number only.\\n- The attack type must go inside the \\\"output\\\" key and should be a string only.\\n\\nJSON FORMAT EXAMPLE:\\n{\\n    \\\"input\\\": \\\"# Python example\\\\ndef unsafe():\\\\n    eval(input(\\\\\\\"Enter command: \\\\\\\"))\\\",\\n    \\\"output\\\": {\\n        \\\"score\\\": 8.2,\\n        \\\"type\\\": \\\"Cross-Site Scripting (XSS)\\\"\\n    }\\n}\\n\\nNow generate a similar JSON for:\\n- Attack Type: Cross-Site Scripting (XSS)\\n- Programming Language: JAVA\\n- Difficulty Level: hard\\n- Code Type: complete code file\",\n",
      "    \"completion\": \"{\\\"score\\\": 6.1, \\\"type\\\": \\\"Cross-Site Scripting (XSS)\\\"}\"\n",
      "}\n",
      "\n"
     ]
    }
   ],
   "source": [
    "for i in range(2):\n",
    "    print(f\"Updated data item {i}:\")\n",
    "    print(json.dumps(updated_data[i], indent=4))\n",
    "    print()"
   ]
  },
  {
   "cell_type": "code",
   "execution_count": 7,
   "id": "10e34d9e",
   "metadata": {},
   "outputs": [],
   "source": [
    "def convert_json_to_jsonl(data, output_file):\n",
    "    try:\n",
    "        with open(output_file, \"w\") as f:\n",
    "            if isinstance(data, list):\n",
    "                for item in data:\n",
    "                    json.dump(item, f) # Write each item as a JSON line\n",
    "                    f.write(\"\\n\") # Add newline character\n",
    "                    \n",
    "        print(f\"Successfully converted to JSONL and saved to '{output_file}'.\")\n",
    "    except IOError:\n",
    "        print(f\"Error: Could not write to output file '{output_file}'.\")"
   ]
  },
  {
   "cell_type": "code",
   "execution_count": 8,
   "id": "ed57f6f5",
   "metadata": {},
   "outputs": [
    {
     "name": "stdout",
     "output_type": "stream",
     "text": [
      "Successfully converted to JSONL and saved to 'Phase-2-Data/Data_for_MLX_fine_tuning.jsonl'.\n"
     ]
    }
   ],
   "source": [
    "convert_json_to_jsonl(updated_data, \"Phase-2-Data/Data_for_MLX_fine_tuning.jsonl\")"
   ]
  },
  {
   "cell_type": "code",
   "execution_count": null,
   "id": "7783aa07",
   "metadata": {},
   "outputs": [],
   "source": []
  }
 ],
 "metadata": {
  "kernelspec": {
   "display_name": "malcodeai",
   "language": "python",
   "name": "python3"
  },
  "language_info": {
   "codemirror_mode": {
    "name": "ipython",
    "version": 3
   },
   "file_extension": ".py",
   "mimetype": "text/x-python",
   "name": "python",
   "nbconvert_exporter": "python",
   "pygments_lexer": "ipython3",
   "version": "3.11.11"
  }
 },
 "nbformat": 4,
 "nbformat_minor": 5
}
