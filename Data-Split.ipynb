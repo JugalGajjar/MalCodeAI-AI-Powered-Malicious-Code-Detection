{
 "cells": [
  {
   "cell_type": "code",
   "execution_count": 1,
   "id": "fbab3a04",
   "metadata": {},
   "outputs": [],
   "source": [
    "import json\n",
    "import random"
   ]
  },
  {
   "cell_type": "code",
   "execution_count": 3,
   "id": "16954155",
   "metadata": {},
   "outputs": [],
   "source": [
    "def split_jsonl(input_file, train_proportion=0.8, val_proportion=0.1, test_proportion=0.1):\n",
    "    if not (train_proportion + val_proportion + test_proportion) == 1:\n",
    "        raise ValueError(\"Train, validation, and test proportions must sum to 1.\")\n",
    "\n",
    "    data = []\n",
    "    with open(input_file, 'r') as f:\n",
    "        for line in f:\n",
    "            try:\n",
    "                data.append(json.loads(line.strip()))\n",
    "            except json.JSONDecodeError as e:\n",
    "                print(f\"Error decoding JSON line: {line.strip()} - {e}\")\n",
    "\n",
    "    random.shuffle(data)\n",
    "\n",
    "    total_samples = len(data)\n",
    "    train_split = int(train_proportion * total_samples)\n",
    "    val_split_end = train_split + int(val_proportion * total_samples)\n",
    "\n",
    "    train_data = data[:train_split]\n",
    "    val_data = data[train_split:val_split_end]\n",
    "    test_data = data[val_split_end:]\n",
    "\n",
    "    base_name, ext = input_file.rsplit('.', 1)\n",
    "    train_file = f\"{base_name.split('/')[0]}/train.{ext}\"\n",
    "    val_file = f\"{base_name.split('/')[0]}/valid.{ext}\"\n",
    "    test_file = f\"{base_name.split('/')[0]}/test.{ext}\"\n",
    "\n",
    "    with open(train_file, 'w') as f:\n",
    "        for item in train_data:\n",
    "            f.write(json.dumps(item) + '\\n')\n",
    "\n",
    "    with open(val_file, 'w') as f:\n",
    "        for item in val_data:\n",
    "            f.write(json.dumps(item) + '\\n')\n",
    "\n",
    "    with open(test_file, 'w') as f:\n",
    "        for item in test_data:\n",
    "            f.write(json.dumps(item) + '\\n')\n",
    "\n",
    "    return train_file, val_file, test_file"
   ]
  },
  {
   "cell_type": "code",
   "execution_count": 4,
   "id": "fbf320dd",
   "metadata": {},
   "outputs": [
    {
     "data": {
      "text/plain": [
       "('Phase-1-Data/train.jsonl',\n",
       " 'Phase-1-Data/valid.jsonl',\n",
       " 'Phase-1-Data/test.jsonl')"
      ]
     },
     "execution_count": 4,
     "metadata": {},
     "output_type": "execute_result"
    }
   ],
   "source": [
    "split_jsonl(\"Phase-1-Data/Data_for_MLX_fine_tuning.jsonl\")"
   ]
  },
  {
   "cell_type": "code",
   "execution_count": 5,
   "id": "5bdf3f78",
   "metadata": {},
   "outputs": [
    {
     "data": {
      "text/plain": [
       "('Phase-2-Data/train.jsonl',\n",
       " 'Phase-2-Data/valid.jsonl',\n",
       " 'Phase-2-Data/test.jsonl')"
      ]
     },
     "execution_count": 5,
     "metadata": {},
     "output_type": "execute_result"
    }
   ],
   "source": [
    "split_jsonl(\"Phase-2-Data/Data_for_MLX_fine_tuning.jsonl\")"
   ]
  },
  {
   "cell_type": "code",
   "execution_count": 6,
   "id": "04bb26c3",
   "metadata": {},
   "outputs": [
    {
     "data": {
      "text/plain": [
       "('Phase-3-Data/train.jsonl',\n",
       " 'Phase-3-Data/valid.jsonl',\n",
       " 'Phase-3-Data/test.jsonl')"
      ]
     },
     "execution_count": 6,
     "metadata": {},
     "output_type": "execute_result"
    }
   ],
   "source": [
    "split_jsonl(\"Phase-3-Data/Data_for_MLX_fine_tuning.jsonl\")"
   ]
  },
  {
   "cell_type": "code",
   "execution_count": null,
   "id": "39395802",
   "metadata": {},
   "outputs": [],
   "source": []
  }
 ],
 "metadata": {
  "kernelspec": {
   "display_name": "malcodeai",
   "language": "python",
   "name": "python3"
  },
  "language_info": {
   "codemirror_mode": {
    "name": "ipython",
    "version": 3
   },
   "file_extension": ".py",
   "mimetype": "text/x-python",
   "name": "python",
   "nbconvert_exporter": "python",
   "pygments_lexer": "ipython3",
   "version": "3.11.11"
  }
 },
 "nbformat": 4,
 "nbformat_minor": 5
}
